{
 "cells": [
  {
   "cell_type": "code",
   "execution_count": 1,
   "id": "27cf8675",
   "metadata": {},
   "outputs": [],
   "source": [
    "#Q1: Write a python program to scrape data for “Data Analyst” Job position in \n",
    "#“Bangalore” location. You have to scrape the job-title, job-location, company_name,\n",
    "#experience_required. You have to scrape first 10 jobs data."
   ]
  },
  {
   "cell_type": "code",
   "execution_count": 104,
   "id": "b926d9f4",
   "metadata": {},
   "outputs": [
    {
     "ename": "WebDriverException",
     "evalue": "Message: unknown error: net::ERR_INTERNET_DISCONNECTED\n  (Session info: chrome=92.0.4515.131)\n",
     "output_type": "error",
     "traceback": [
      "\u001b[1;31m---------------------------------------------------------------------------\u001b[0m",
      "\u001b[1;31mWebDriverException\u001b[0m                        Traceback (most recent call last)",
      "\u001b[1;32m<ipython-input-104-a1ff6b9ab197>\u001b[0m in \u001b[0;36m<module>\u001b[1;34m\u001b[0m\n\u001b[0;32m      7\u001b[0m \u001b[0mdriver\u001b[0m\u001b[1;33m=\u001b[0m\u001b[0mwebdriver\u001b[0m\u001b[1;33m.\u001b[0m\u001b[0mChrome\u001b[0m\u001b[1;33m(\u001b[0m\u001b[1;34m'C:/Users/LENOVO/Downloads/chromedriver_win32/chromedriver'\u001b[0m\u001b[1;33m)\u001b[0m\u001b[1;33m\u001b[0m\u001b[1;33m\u001b[0m\u001b[0m\n\u001b[0;32m      8\u001b[0m \u001b[0murl\u001b[0m\u001b[1;33m=\u001b[0m\u001b[1;34m'https://www.naukri.com/'\u001b[0m\u001b[1;33m\u001b[0m\u001b[1;33m\u001b[0m\u001b[0m\n\u001b[1;32m----> 9\u001b[1;33m \u001b[0mdriver\u001b[0m\u001b[1;33m.\u001b[0m\u001b[0mget\u001b[0m\u001b[1;33m(\u001b[0m\u001b[0murl\u001b[0m\u001b[1;33m)\u001b[0m\u001b[1;33m\u001b[0m\u001b[1;33m\u001b[0m\u001b[0m\n\u001b[0m",
      "\u001b[1;32mE:\\anaconda\\lib\\site-packages\\selenium\\webdriver\\remote\\webdriver.py\u001b[0m in \u001b[0;36mget\u001b[1;34m(self, url)\u001b[0m\n\u001b[0;32m    331\u001b[0m         \u001b[0mLoads\u001b[0m \u001b[0ma\u001b[0m \u001b[0mweb\u001b[0m \u001b[0mpage\u001b[0m \u001b[1;32min\u001b[0m \u001b[0mthe\u001b[0m \u001b[0mcurrent\u001b[0m \u001b[0mbrowser\u001b[0m \u001b[0msession\u001b[0m\u001b[1;33m.\u001b[0m\u001b[1;33m\u001b[0m\u001b[1;33m\u001b[0m\u001b[0m\n\u001b[0;32m    332\u001b[0m         \"\"\"\n\u001b[1;32m--> 333\u001b[1;33m         \u001b[0mself\u001b[0m\u001b[1;33m.\u001b[0m\u001b[0mexecute\u001b[0m\u001b[1;33m(\u001b[0m\u001b[0mCommand\u001b[0m\u001b[1;33m.\u001b[0m\u001b[0mGET\u001b[0m\u001b[1;33m,\u001b[0m \u001b[1;33m{\u001b[0m\u001b[1;34m'url'\u001b[0m\u001b[1;33m:\u001b[0m \u001b[0murl\u001b[0m\u001b[1;33m}\u001b[0m\u001b[1;33m)\u001b[0m\u001b[1;33m\u001b[0m\u001b[1;33m\u001b[0m\u001b[0m\n\u001b[0m\u001b[0;32m    334\u001b[0m \u001b[1;33m\u001b[0m\u001b[0m\n\u001b[0;32m    335\u001b[0m     \u001b[1;33m@\u001b[0m\u001b[0mproperty\u001b[0m\u001b[1;33m\u001b[0m\u001b[1;33m\u001b[0m\u001b[0m\n",
      "\u001b[1;32mE:\\anaconda\\lib\\site-packages\\selenium\\webdriver\\remote\\webdriver.py\u001b[0m in \u001b[0;36mexecute\u001b[1;34m(self, driver_command, params)\u001b[0m\n\u001b[0;32m    319\u001b[0m         \u001b[0mresponse\u001b[0m \u001b[1;33m=\u001b[0m \u001b[0mself\u001b[0m\u001b[1;33m.\u001b[0m\u001b[0mcommand_executor\u001b[0m\u001b[1;33m.\u001b[0m\u001b[0mexecute\u001b[0m\u001b[1;33m(\u001b[0m\u001b[0mdriver_command\u001b[0m\u001b[1;33m,\u001b[0m \u001b[0mparams\u001b[0m\u001b[1;33m)\u001b[0m\u001b[1;33m\u001b[0m\u001b[1;33m\u001b[0m\u001b[0m\n\u001b[0;32m    320\u001b[0m         \u001b[1;32mif\u001b[0m \u001b[0mresponse\u001b[0m\u001b[1;33m:\u001b[0m\u001b[1;33m\u001b[0m\u001b[1;33m\u001b[0m\u001b[0m\n\u001b[1;32m--> 321\u001b[1;33m             \u001b[0mself\u001b[0m\u001b[1;33m.\u001b[0m\u001b[0merror_handler\u001b[0m\u001b[1;33m.\u001b[0m\u001b[0mcheck_response\u001b[0m\u001b[1;33m(\u001b[0m\u001b[0mresponse\u001b[0m\u001b[1;33m)\u001b[0m\u001b[1;33m\u001b[0m\u001b[1;33m\u001b[0m\u001b[0m\n\u001b[0m\u001b[0;32m    322\u001b[0m             response['value'] = self._unwrap_value(\n\u001b[0;32m    323\u001b[0m                 response.get('value', None))\n",
      "\u001b[1;32mE:\\anaconda\\lib\\site-packages\\selenium\\webdriver\\remote\\errorhandler.py\u001b[0m in \u001b[0;36mcheck_response\u001b[1;34m(self, response)\u001b[0m\n\u001b[0;32m    240\u001b[0m                 \u001b[0malert_text\u001b[0m \u001b[1;33m=\u001b[0m \u001b[0mvalue\u001b[0m\u001b[1;33m[\u001b[0m\u001b[1;34m'alert'\u001b[0m\u001b[1;33m]\u001b[0m\u001b[1;33m.\u001b[0m\u001b[0mget\u001b[0m\u001b[1;33m(\u001b[0m\u001b[1;34m'text'\u001b[0m\u001b[1;33m)\u001b[0m\u001b[1;33m\u001b[0m\u001b[1;33m\u001b[0m\u001b[0m\n\u001b[0;32m    241\u001b[0m             \u001b[1;32mraise\u001b[0m \u001b[0mexception_class\u001b[0m\u001b[1;33m(\u001b[0m\u001b[0mmessage\u001b[0m\u001b[1;33m,\u001b[0m \u001b[0mscreen\u001b[0m\u001b[1;33m,\u001b[0m \u001b[0mstacktrace\u001b[0m\u001b[1;33m,\u001b[0m \u001b[0malert_text\u001b[0m\u001b[1;33m)\u001b[0m\u001b[1;33m\u001b[0m\u001b[1;33m\u001b[0m\u001b[0m\n\u001b[1;32m--> 242\u001b[1;33m         \u001b[1;32mraise\u001b[0m \u001b[0mexception_class\u001b[0m\u001b[1;33m(\u001b[0m\u001b[0mmessage\u001b[0m\u001b[1;33m,\u001b[0m \u001b[0mscreen\u001b[0m\u001b[1;33m,\u001b[0m \u001b[0mstacktrace\u001b[0m\u001b[1;33m)\u001b[0m\u001b[1;33m\u001b[0m\u001b[1;33m\u001b[0m\u001b[0m\n\u001b[0m\u001b[0;32m    243\u001b[0m \u001b[1;33m\u001b[0m\u001b[0m\n\u001b[0;32m    244\u001b[0m     \u001b[1;32mdef\u001b[0m \u001b[0m_value_or_default\u001b[0m\u001b[1;33m(\u001b[0m\u001b[0mself\u001b[0m\u001b[1;33m,\u001b[0m \u001b[0mobj\u001b[0m\u001b[1;33m,\u001b[0m \u001b[0mkey\u001b[0m\u001b[1;33m,\u001b[0m \u001b[0mdefault\u001b[0m\u001b[1;33m)\u001b[0m\u001b[1;33m:\u001b[0m\u001b[1;33m\u001b[0m\u001b[1;33m\u001b[0m\u001b[0m\n",
      "\u001b[1;31mWebDriverException\u001b[0m: Message: unknown error: net::ERR_INTERNET_DISCONNECTED\n  (Session info: chrome=92.0.4515.131)\n"
     ]
    }
   ],
   "source": [
    "import requests\n",
    "import pandas as pd\n",
    "import numpy as np\n",
    "from bs4 import BeautifulSoup\n",
    "import selenium\n",
    "from selenium import webdriver\n",
    "driver=webdriver.Chrome('C:/Users/LENOVO/Downloads/chromedriver_win32/chromedriver')\n",
    "url='https://www.naukri.com/'\n",
    "driver.get(url)"
   ]
  },
  {
   "cell_type": "code",
   "execution_count": null,
   "id": "d388d6c7",
   "metadata": {},
   "outputs": [],
   "source": [
    "search_job=driver.find_element_by_id(\"qsb-keyword-sugg\")\n",
    "search_job"
   ]
  },
  {
   "cell_type": "code",
   "execution_count": 4,
   "id": "f5d7f7d7",
   "metadata": {},
   "outputs": [],
   "source": [
    "search_job.send_keys('Data Analyst')"
   ]
  },
  {
   "cell_type": "code",
   "execution_count": 5,
   "id": "bcf2d21b",
   "metadata": {},
   "outputs": [
    {
     "data": {
      "text/plain": [
       "<selenium.webdriver.remote.webelement.WebElement (session=\"ceefb58ef8f85a892d23153c93a29f4a\", element=\"9f321b7c-e45a-495a-952a-d3d77a88155a\")>"
      ]
     },
     "execution_count": 5,
     "metadata": {},
     "output_type": "execute_result"
    }
   ],
   "source": [
    "search_loc=driver.find_element_by_id(\"qsb-location-sugg\")\n",
    "search_loc"
   ]
  },
  {
   "cell_type": "code",
   "execution_count": 6,
   "id": "bc783c7f",
   "metadata": {},
   "outputs": [],
   "source": [
    "search_loc.send_keys('Bangalore')"
   ]
  },
  {
   "cell_type": "code",
   "execution_count": 7,
   "id": "0ec940b4",
   "metadata": {},
   "outputs": [
    {
     "data": {
      "text/plain": [
       "<selenium.webdriver.remote.webelement.WebElement (session=\"ceefb58ef8f85a892d23153c93a29f4a\", element=\"ea079148-00d5-4d8d-9dcb-ee7d741b3e99\")>"
      ]
     },
     "execution_count": 7,
     "metadata": {},
     "output_type": "execute_result"
    }
   ],
   "source": [
    "search_btn=driver.find_element_by_xpath(\"//button[@class='btn']\")\n",
    "search_btn"
   ]
  },
  {
   "cell_type": "code",
   "execution_count": 8,
   "id": "92b477b8",
   "metadata": {},
   "outputs": [],
   "source": [
    "search_btn.click()"
   ]
  },
  {
   "cell_type": "code",
   "execution_count": 9,
   "id": "022be4e0",
   "metadata": {},
   "outputs": [
    {
     "name": "stdout",
     "output_type": "stream",
     "text": [
      "[<selenium.webdriver.remote.webelement.WebElement (session=\"ceefb58ef8f85a892d23153c93a29f4a\", element=\"48fd3e33-91e0-41bb-ab05-9193666176ba\")>, <selenium.webdriver.remote.webelement.WebElement (session=\"ceefb58ef8f85a892d23153c93a29f4a\", element=\"0cd0bb08-3b02-46c2-b500-1a898997572d\")>, <selenium.webdriver.remote.webelement.WebElement (session=\"ceefb58ef8f85a892d23153c93a29f4a\", element=\"57b09b53-5ea3-4a79-a307-5424ca28d2ef\")>, <selenium.webdriver.remote.webelement.WebElement (session=\"ceefb58ef8f85a892d23153c93a29f4a\", element=\"2d9db0e6-a3f6-4fea-a3dc-c92dad13ceda\")>, <selenium.webdriver.remote.webelement.WebElement (session=\"ceefb58ef8f85a892d23153c93a29f4a\", element=\"87191d2d-a162-494b-a6cc-3ff9e6f99291\")>, <selenium.webdriver.remote.webelement.WebElement (session=\"ceefb58ef8f85a892d23153c93a29f4a\", element=\"ac13369d-b4e5-4eae-8f19-3db2af32075c\")>, <selenium.webdriver.remote.webelement.WebElement (session=\"ceefb58ef8f85a892d23153c93a29f4a\", element=\"ebab6bff-f6e3-4eed-a2e7-790a7346f2be\")>, <selenium.webdriver.remote.webelement.WebElement (session=\"ceefb58ef8f85a892d23153c93a29f4a\", element=\"020f6a13-4900-4f52-b533-fc18878416cf\")>, <selenium.webdriver.remote.webelement.WebElement (session=\"ceefb58ef8f85a892d23153c93a29f4a\", element=\"cee8a3d1-941f-4a41-bab7-28ce0efe65ec\")>, <selenium.webdriver.remote.webelement.WebElement (session=\"ceefb58ef8f85a892d23153c93a29f4a\", element=\"87c66a63-ebbf-41e7-92ec-ef69b7ed390f\")>, <selenium.webdriver.remote.webelement.WebElement (session=\"ceefb58ef8f85a892d23153c93a29f4a\", element=\"b4cfe166-0f2e-4637-9c01-e54b7a8bc387\")>, <selenium.webdriver.remote.webelement.WebElement (session=\"ceefb58ef8f85a892d23153c93a29f4a\", element=\"63d1a037-b695-4afa-8c19-1ae1d6be42d5\")>, <selenium.webdriver.remote.webelement.WebElement (session=\"ceefb58ef8f85a892d23153c93a29f4a\", element=\"c8ed3251-c47a-478d-8557-f04b7e1ba63e\")>, <selenium.webdriver.remote.webelement.WebElement (session=\"ceefb58ef8f85a892d23153c93a29f4a\", element=\"55b85e6f-a4d6-4c56-802d-127172703947\")>, <selenium.webdriver.remote.webelement.WebElement (session=\"ceefb58ef8f85a892d23153c93a29f4a\", element=\"d5e8215b-71d1-4ca8-b63f-31a7d22c8511\")>, <selenium.webdriver.remote.webelement.WebElement (session=\"ceefb58ef8f85a892d23153c93a29f4a\", element=\"5944fa75-dc79-44f0-a9ee-ac9edff67f2c\")>, <selenium.webdriver.remote.webelement.WebElement (session=\"ceefb58ef8f85a892d23153c93a29f4a\", element=\"c4ee41b6-d086-496f-af80-b70f5d0a80b0\")>, <selenium.webdriver.remote.webelement.WebElement (session=\"ceefb58ef8f85a892d23153c93a29f4a\", element=\"a85b33f4-2abb-4401-80bd-209a7f05ac49\")>, <selenium.webdriver.remote.webelement.WebElement (session=\"ceefb58ef8f85a892d23153c93a29f4a\", element=\"e46f3db1-0953-4832-930b-6cb918be994d\")>, <selenium.webdriver.remote.webelement.WebElement (session=\"ceefb58ef8f85a892d23153c93a29f4a\", element=\"273af72b-f709-4aa0-b270-a763b959a812\")>]\n"
     ]
    }
   ],
   "source": [
    "job_titles=driver.find_elements_by_xpath(\"//a[@class='title fw500 ellipsis']\")\n",
    "print(job_titles)"
   ]
  },
  {
   "cell_type": "code",
   "execution_count": 10,
   "id": "166022a7",
   "metadata": {},
   "outputs": [
    {
     "data": {
      "text/plain": [
       "['Data Analyst',\n",
       " 'Data Analyst',\n",
       " 'Senior Data Analyst',\n",
       " 'Senior Business Analyst- Data Science',\n",
       " 'Business/Data Analyst - Colleague Experience & Technology',\n",
       " 'Senior Data Analyst',\n",
       " 'Senior Data Analyst - Einstein Analytics',\n",
       " 'Senior Specialist - Data Analyst',\n",
       " 'Data Analyst - Python',\n",
       " 'Data Analyst - 0-2 years (6 month contract)',\n",
       " 'Business/Data Analyst - SSE/LA',\n",
       " 'Senior Data Analyst',\n",
       " 'SQL Data Analyst',\n",
       " 'Business Data Analyst',\n",
       " 'Business Data Analyst',\n",
       " 'Data Analyst',\n",
       " 'Immediate Hiring For Data Analyst - Bangalore location',\n",
       " 'Data Analyst - Transportation',\n",
       " 'DMI Hiring Data Analyst in Bangalore',\n",
       " 'Data Analyst/Business Analyst-Gurgaon/Bangalore/Mumbai (only Females)']"
      ]
     },
     "execution_count": 10,
     "metadata": {},
     "output_type": "execute_result"
    }
   ],
   "source": [
    "titles_job=[]\n",
    "for i in job_titles:\n",
    "    titles_job.append(i.text)\n",
    "titles_job"
   ]
  },
  {
   "cell_type": "code",
   "execution_count": 11,
   "id": "7a820862",
   "metadata": {},
   "outputs": [
    {
     "name": "stdout",
     "output_type": "stream",
     "text": [
      "[<selenium.webdriver.remote.webelement.WebElement (session=\"ceefb58ef8f85a892d23153c93a29f4a\", element=\"b8c51354-7a20-4106-8af2-8900b2406e6c\")>, <selenium.webdriver.remote.webelement.WebElement (session=\"ceefb58ef8f85a892d23153c93a29f4a\", element=\"d86b44ba-72b4-4858-b288-ddd214574582\")>, <selenium.webdriver.remote.webelement.WebElement (session=\"ceefb58ef8f85a892d23153c93a29f4a\", element=\"02ea3dba-cf4a-455b-a6ed-6802ec3679ca\")>, <selenium.webdriver.remote.webelement.WebElement (session=\"ceefb58ef8f85a892d23153c93a29f4a\", element=\"06fcf7a1-047e-44bf-8301-c8866975984c\")>, <selenium.webdriver.remote.webelement.WebElement (session=\"ceefb58ef8f85a892d23153c93a29f4a\", element=\"e2c8242d-1f7f-492a-8a15-6b1725a96fba\")>, <selenium.webdriver.remote.webelement.WebElement (session=\"ceefb58ef8f85a892d23153c93a29f4a\", element=\"19ddad33-fd5c-4dd5-b681-1301865f9500\")>, <selenium.webdriver.remote.webelement.WebElement (session=\"ceefb58ef8f85a892d23153c93a29f4a\", element=\"6b662d60-74e1-42dd-a2e9-a95b3e34b9f2\")>, <selenium.webdriver.remote.webelement.WebElement (session=\"ceefb58ef8f85a892d23153c93a29f4a\", element=\"c37b6101-6c0b-4367-8282-ed7e3d8e4c9b\")>, <selenium.webdriver.remote.webelement.WebElement (session=\"ceefb58ef8f85a892d23153c93a29f4a\", element=\"f43515bd-7fec-4c41-aa5e-8440bdd59367\")>, <selenium.webdriver.remote.webelement.WebElement (session=\"ceefb58ef8f85a892d23153c93a29f4a\", element=\"c818f78f-af6e-442d-bc06-95656446e951\")>, <selenium.webdriver.remote.webelement.WebElement (session=\"ceefb58ef8f85a892d23153c93a29f4a\", element=\"d67e4724-77c8-4b8e-8857-d14e8cf7eb81\")>, <selenium.webdriver.remote.webelement.WebElement (session=\"ceefb58ef8f85a892d23153c93a29f4a\", element=\"52186bcc-9da2-47e1-bc92-fed03b96338a\")>, <selenium.webdriver.remote.webelement.WebElement (session=\"ceefb58ef8f85a892d23153c93a29f4a\", element=\"cc2a253a-eca2-4350-9cb9-58a2e1b298d3\")>, <selenium.webdriver.remote.webelement.WebElement (session=\"ceefb58ef8f85a892d23153c93a29f4a\", element=\"b446e4ef-240a-46d7-bb60-309a7f31f337\")>, <selenium.webdriver.remote.webelement.WebElement (session=\"ceefb58ef8f85a892d23153c93a29f4a\", element=\"89d18f09-af5a-4762-aeaf-2bd34ca9a8cf\")>, <selenium.webdriver.remote.webelement.WebElement (session=\"ceefb58ef8f85a892d23153c93a29f4a\", element=\"5d60165a-23fc-47f3-82a4-fa3bbd822dc0\")>, <selenium.webdriver.remote.webelement.WebElement (session=\"ceefb58ef8f85a892d23153c93a29f4a\", element=\"818867ca-04e3-4f01-ae52-b9a51fbe62cf\")>, <selenium.webdriver.remote.webelement.WebElement (session=\"ceefb58ef8f85a892d23153c93a29f4a\", element=\"90be7d99-dad3-4e93-b97e-4d6a64b28738\")>, <selenium.webdriver.remote.webelement.WebElement (session=\"ceefb58ef8f85a892d23153c93a29f4a\", element=\"f585375b-a1ea-466b-92e2-cc54b487a4de\")>, <selenium.webdriver.remote.webelement.WebElement (session=\"ceefb58ef8f85a892d23153c93a29f4a\", element=\"24d89f4b-3105-47a2-8b36-6e0740f9f779\")>, <selenium.webdriver.remote.webelement.WebElement (session=\"ceefb58ef8f85a892d23153c93a29f4a\", element=\"b0e7bebe-c56f-4c2d-91ed-8cd1d6fedb92\")>, <selenium.webdriver.remote.webelement.WebElement (session=\"ceefb58ef8f85a892d23153c93a29f4a\", element=\"68adae9e-8239-4ce0-8914-82b9930dc201\")>, <selenium.webdriver.remote.webelement.WebElement (session=\"ceefb58ef8f85a892d23153c93a29f4a\", element=\"dbcae716-5ad1-42ac-860e-7de8caa29ddc\")>]\n"
     ]
    }
   ],
   "source": [
    "job_locations=driver.find_elements_by_xpath(\"//li[@class='fleft grey-text br2 placeHolderLi location']//span\")\n",
    "print(job_locations)"
   ]
  },
  {
   "cell_type": "code",
   "execution_count": 12,
   "id": "dae7366b",
   "metadata": {},
   "outputs": [
    {
     "data": {
      "text/plain": [
       "['Bangalore/Bengaluru',\n",
       " '(WFH during Covid)',\n",
       " 'Pune, Chennai, Bangalore/Bengaluru',\n",
       " 'Hyderabad/Secunderabad, Pune, Bangalore/Bengaluru',\n",
       " '(WFH during Covid)',\n",
       " 'Bangalore/Bengaluru(Whitefield)',\n",
       " 'Bangalore/Bengaluru',\n",
       " 'Bangalore/Bengaluru',\n",
       " 'Hyderabad/Secunderabad, Bangalore/Bengaluru',\n",
       " 'Bangalore/Bengaluru',\n",
       " 'Kochi/Cochin, Bangalore/Bengaluru',\n",
       " 'New Delhi, Gurgaon/Gurugram, Chennai, Bangalore/Bengaluru, Mumbai (All Areas)',\n",
       " '(WFH during Covid)',\n",
       " 'Bangalore/Bengaluru',\n",
       " 'Bangalore/Bengaluru(2nd Phase JP Nagar)',\n",
       " 'Bangalore/Bengaluru',\n",
       " 'Bangalore/Bengaluru',\n",
       " 'Bangalore/Bengaluru',\n",
       " 'Bangalore/Bengaluru',\n",
       " 'Bangalore/Bengaluru',\n",
       " 'Bangalore/Bengaluru',\n",
       " 'Bangalore/Bengaluru',\n",
       " 'Gurgaon/Gurugram, Bangalore/Bengaluru, Mumbai (All Areas)']"
      ]
     },
     "execution_count": 12,
     "metadata": {},
     "output_type": "execute_result"
    }
   ],
   "source": [
    "locations_job=[]\n",
    "for i in job_locations:\n",
    "    locations_job.append(i.text)\n",
    "locations_job"
   ]
  },
  {
   "cell_type": "code",
   "execution_count": 13,
   "id": "44cde226",
   "metadata": {},
   "outputs": [
    {
     "name": "stdout",
     "output_type": "stream",
     "text": [
      "[<selenium.webdriver.remote.webelement.WebElement (session=\"ceefb58ef8f85a892d23153c93a29f4a\", element=\"1693ee60-0f20-4507-b7ed-3a3fc98adec0\")>, <selenium.webdriver.remote.webelement.WebElement (session=\"ceefb58ef8f85a892d23153c93a29f4a\", element=\"af039cbe-3361-437a-9371-e8235b11854e\")>, <selenium.webdriver.remote.webelement.WebElement (session=\"ceefb58ef8f85a892d23153c93a29f4a\", element=\"3f7dd39b-4df5-47cf-b749-1fcedd8a9e3b\")>, <selenium.webdriver.remote.webelement.WebElement (session=\"ceefb58ef8f85a892d23153c93a29f4a\", element=\"53828e9f-f4a2-4f65-a7e9-e388c4284d3c\")>, <selenium.webdriver.remote.webelement.WebElement (session=\"ceefb58ef8f85a892d23153c93a29f4a\", element=\"f9d69ee1-c496-4757-b5e4-92d3ed934c53\")>, <selenium.webdriver.remote.webelement.WebElement (session=\"ceefb58ef8f85a892d23153c93a29f4a\", element=\"5f52fc7a-57a1-4346-b121-7875fa1ce7fd\")>, <selenium.webdriver.remote.webelement.WebElement (session=\"ceefb58ef8f85a892d23153c93a29f4a\", element=\"cd03e80c-ac1f-43f1-92ad-42b4bb78dd0f\")>, <selenium.webdriver.remote.webelement.WebElement (session=\"ceefb58ef8f85a892d23153c93a29f4a\", element=\"a087d388-e8f9-451c-b3fa-b7718434d137\")>, <selenium.webdriver.remote.webelement.WebElement (session=\"ceefb58ef8f85a892d23153c93a29f4a\", element=\"c797331e-f181-489c-874b-990feba08c3e\")>, <selenium.webdriver.remote.webelement.WebElement (session=\"ceefb58ef8f85a892d23153c93a29f4a\", element=\"0b01f511-ad76-4853-865d-97a0c0313dbb\")>, <selenium.webdriver.remote.webelement.WebElement (session=\"ceefb58ef8f85a892d23153c93a29f4a\", element=\"f57507d5-efe8-4ce8-a5b7-7690457692af\")>, <selenium.webdriver.remote.webelement.WebElement (session=\"ceefb58ef8f85a892d23153c93a29f4a\", element=\"0ffff093-5d72-4e0c-b508-0b24cfe29aef\")>, <selenium.webdriver.remote.webelement.WebElement (session=\"ceefb58ef8f85a892d23153c93a29f4a\", element=\"f5141cc3-a3ec-4092-9774-4dfeefe7e13d\")>, <selenium.webdriver.remote.webelement.WebElement (session=\"ceefb58ef8f85a892d23153c93a29f4a\", element=\"5e539af4-765d-4168-8f04-ba9333b9152b\")>, <selenium.webdriver.remote.webelement.WebElement (session=\"ceefb58ef8f85a892d23153c93a29f4a\", element=\"a46dd1dd-5ce4-456a-8fa0-a533c7c95975\")>, <selenium.webdriver.remote.webelement.WebElement (session=\"ceefb58ef8f85a892d23153c93a29f4a\", element=\"25d2b2c6-5226-40bc-9e4b-bfbb3fd49611\")>, <selenium.webdriver.remote.webelement.WebElement (session=\"ceefb58ef8f85a892d23153c93a29f4a\", element=\"f2ba8bb8-dbe2-4dc2-a992-ba66ef7a8022\")>, <selenium.webdriver.remote.webelement.WebElement (session=\"ceefb58ef8f85a892d23153c93a29f4a\", element=\"e8ad8a3f-1f51-4853-9249-20f5c52d80f2\")>, <selenium.webdriver.remote.webelement.WebElement (session=\"ceefb58ef8f85a892d23153c93a29f4a\", element=\"38b988d4-ed38-4fa6-bd76-3db9f4998be9\")>, <selenium.webdriver.remote.webelement.WebElement (session=\"ceefb58ef8f85a892d23153c93a29f4a\", element=\"fc04b58b-4981-4764-9eea-25dd9cd35eee\")>]\n"
     ]
    }
   ],
   "source": [
    "company_name=driver.find_elements_by_xpath(\"//div[@class='mt-7 companyInfo subheading lh16']\")\n",
    "print(company_name)"
   ]
  },
  {
   "cell_type": "code",
   "execution_count": 14,
   "id": "6b6e108d",
   "metadata": {},
   "outputs": [
    {
     "data": {
      "text/plain": [
       "['CAREERLABS TECHNOLOGIES PRIVATE LIMITED',\n",
       " 'Tata Consultancy Services Ltd.\\n4.0\\n(22996 Reviews)',\n",
       " 'Nx-DT',\n",
       " 'Evalueserve.com Pvt. Ltd\\n3.4\\n(412 Reviews)',\n",
       " 'Vmware\\n4.3\\n(256 Reviews)',\n",
       " 'Telstra India Pvt Ltd\\n3.3\\n(33 Reviews)',\n",
       " 'Enquero\\n3.9\\n(24 Reviews)',\n",
       " 'Philips India Limited\\n4.0\\n(510 Reviews)',\n",
       " 'Suyati Technologies Pvt Ltd\\n4.4\\n(22 Reviews)',\n",
       " 'NIUM INDIA PRIVATE LIMITED\\n3.6\\n(21 Reviews)',\n",
       " 'CGI Information Systems and Management Consultants\\n4.2\\n(264 Reviews)',\n",
       " 'Liventus, Inc.\\n4.2\\n(6 Reviews)',\n",
       " 'NetApp\\n4.2\\n(118 Reviews)',\n",
       " 'Trigent Software\\n3.8\\n(158 Reviews)',\n",
       " 'Trigent Software\\n3.8\\n(158 Reviews)',\n",
       " 'ENCORA INNOVATION LABS INDIA PRIVATE LIMITED\\n4.3\\n(10 Reviews)',\n",
       " 'Wissen Technology\\n4.5\\n(74 Reviews)',\n",
       " 'Gojek Tech',\n",
       " 'DMI Innovations Pvt. Ltd',\n",
       " 'India Medtronic Pvt. Ltd,.\\n3.8\\n(213 Reviews)']"
      ]
     },
     "execution_count": 14,
     "metadata": {},
     "output_type": "execute_result"
    }
   ],
   "source": [
    "name_company=[]\n",
    "for i in company_name:\n",
    "    name_company.append(i.text)\n",
    "name_company"
   ]
  },
  {
   "cell_type": "code",
   "execution_count": 15,
   "id": "7b58798e",
   "metadata": {},
   "outputs": [
    {
     "name": "stdout",
     "output_type": "stream",
     "text": [
      "[<selenium.webdriver.remote.webelement.WebElement (session=\"ceefb58ef8f85a892d23153c93a29f4a\", element=\"86479a79-70d2-4e60-8cc2-4570fb8cb8f0\")>, <selenium.webdriver.remote.webelement.WebElement (session=\"ceefb58ef8f85a892d23153c93a29f4a\", element=\"ad6978fd-24d2-4f75-8fcb-f67937e4d4e0\")>, <selenium.webdriver.remote.webelement.WebElement (session=\"ceefb58ef8f85a892d23153c93a29f4a\", element=\"f91aa640-c733-4213-856f-174b38631fee\")>, <selenium.webdriver.remote.webelement.WebElement (session=\"ceefb58ef8f85a892d23153c93a29f4a\", element=\"090060e3-d836-41b4-9da3-b247f9e0ac75\")>, <selenium.webdriver.remote.webelement.WebElement (session=\"ceefb58ef8f85a892d23153c93a29f4a\", element=\"43403f8c-0fcf-4862-bf2b-27b2735e4cdb\")>, <selenium.webdriver.remote.webelement.WebElement (session=\"ceefb58ef8f85a892d23153c93a29f4a\", element=\"10c8b9a2-d8b5-4a08-87b9-23161e59da30\")>, <selenium.webdriver.remote.webelement.WebElement (session=\"ceefb58ef8f85a892d23153c93a29f4a\", element=\"32c1c654-fbac-42fc-aec1-a53725a5d43c\")>, <selenium.webdriver.remote.webelement.WebElement (session=\"ceefb58ef8f85a892d23153c93a29f4a\", element=\"13103609-bc51-4c55-94e8-6603dec25eac\")>, <selenium.webdriver.remote.webelement.WebElement (session=\"ceefb58ef8f85a892d23153c93a29f4a\", element=\"ccf07517-4ad7-4567-b026-60f2bac383a9\")>, <selenium.webdriver.remote.webelement.WebElement (session=\"ceefb58ef8f85a892d23153c93a29f4a\", element=\"3d5e00a3-273f-4cf3-94cd-73b116ac2fda\")>, <selenium.webdriver.remote.webelement.WebElement (session=\"ceefb58ef8f85a892d23153c93a29f4a\", element=\"f108429c-7ff7-4e4d-af4e-91d4ad1a2f7c\")>, <selenium.webdriver.remote.webelement.WebElement (session=\"ceefb58ef8f85a892d23153c93a29f4a\", element=\"97b5fcca-6eb0-46a3-bb52-225c987e58cb\")>, <selenium.webdriver.remote.webelement.WebElement (session=\"ceefb58ef8f85a892d23153c93a29f4a\", element=\"c30e636e-51f3-49e8-a0bf-cf231a0b040a\")>, <selenium.webdriver.remote.webelement.WebElement (session=\"ceefb58ef8f85a892d23153c93a29f4a\", element=\"4aad22d4-5a6d-46e5-95e7-237467ecf0af\")>, <selenium.webdriver.remote.webelement.WebElement (session=\"ceefb58ef8f85a892d23153c93a29f4a\", element=\"a05a7b01-7c00-4b32-b293-e1111c076608\")>, <selenium.webdriver.remote.webelement.WebElement (session=\"ceefb58ef8f85a892d23153c93a29f4a\", element=\"68031710-7305-42c2-9bf4-4af8fbe396ba\")>, <selenium.webdriver.remote.webelement.WebElement (session=\"ceefb58ef8f85a892d23153c93a29f4a\", element=\"c7c2df19-5e34-4082-b364-93fe7999f7a0\")>, <selenium.webdriver.remote.webelement.WebElement (session=\"ceefb58ef8f85a892d23153c93a29f4a\", element=\"538a36d8-6089-4b53-ab4e-ea0179a0c2b5\")>, <selenium.webdriver.remote.webelement.WebElement (session=\"ceefb58ef8f85a892d23153c93a29f4a\", element=\"ec17f83a-5fdf-4ea8-bc3b-3be203c0c0b5\")>, <selenium.webdriver.remote.webelement.WebElement (session=\"ceefb58ef8f85a892d23153c93a29f4a\", element=\"987f1afb-a70b-47d9-aef1-93adaf95fef5\")>]\n"
     ]
    }
   ],
   "source": [
    "expereince_req=driver.find_elements_by_xpath(\"//li[@class='fleft grey-text br2 placeHolderLi experience']//span\")\n",
    "print(expereince_req)"
   ]
  },
  {
   "cell_type": "code",
   "execution_count": 16,
   "id": "d635e5ea",
   "metadata": {},
   "outputs": [
    {
     "data": {
      "text/plain": [
       "['0-3 Yrs',\n",
       " '4-8 Yrs',\n",
       " '10-16 Yrs',\n",
       " '2-7 Yrs',\n",
       " '3-8 Yrs',\n",
       " '7-8 Yrs',\n",
       " '3-5 Yrs',\n",
       " '4-8 Yrs',\n",
       " '4-6 Yrs',\n",
       " '0-2 Yrs',\n",
       " '2-5 Yrs',\n",
       " '5-8 Yrs',\n",
       " '3-7 Yrs',\n",
       " '3-5 Yrs',\n",
       " '3-5 Yrs',\n",
       " '5-8 Yrs',\n",
       " '1-6 Yrs',\n",
       " '2-5 Yrs',\n",
       " '4-8 Yrs',\n",
       " '1-4 Yrs']"
      ]
     },
     "execution_count": 16,
     "metadata": {},
     "output_type": "execute_result"
    }
   ],
   "source": [
    "req_experience=[]\n",
    "for i in expereince_req:\n",
    "    req_experience.append(i.text)\n",
    "req_experience"
   ]
  },
  {
   "cell_type": "code",
   "execution_count": 17,
   "id": "c2c67b08",
   "metadata": {},
   "outputs": [
    {
     "data": {
      "text/html": [
       "<div>\n",
       "<style scoped>\n",
       "    .dataframe tbody tr th:only-of-type {\n",
       "        vertical-align: middle;\n",
       "    }\n",
       "\n",
       "    .dataframe tbody tr th {\n",
       "        vertical-align: top;\n",
       "    }\n",
       "\n",
       "    .dataframe thead th {\n",
       "        text-align: right;\n",
       "    }\n",
       "</style>\n",
       "<table border=\"1\" class=\"dataframe\">\n",
       "  <thead>\n",
       "    <tr style=\"text-align: right;\">\n",
       "      <th></th>\n",
       "      <th>job_title</th>\n",
       "      <th>job_locations</th>\n",
       "      <th>company_name</th>\n",
       "      <th>expereince_req</th>\n",
       "    </tr>\n",
       "  </thead>\n",
       "  <tbody>\n",
       "    <tr>\n",
       "      <th>0</th>\n",
       "      <td>Data Analyst</td>\n",
       "      <td>Bangalore/Bengaluru</td>\n",
       "      <td>CAREERLABS TECHNOLOGIES PRIVATE LIMITED</td>\n",
       "      <td>0-3 Yrs</td>\n",
       "    </tr>\n",
       "    <tr>\n",
       "      <th>1</th>\n",
       "      <td>Data Analyst</td>\n",
       "      <td>(WFH during Covid)</td>\n",
       "      <td>Tata Consultancy Services Ltd.\\n4.0\\n(22996 Re...</td>\n",
       "      <td>4-8 Yrs</td>\n",
       "    </tr>\n",
       "    <tr>\n",
       "      <th>2</th>\n",
       "      <td>Senior Data Analyst</td>\n",
       "      <td>Pune, Chennai, Bangalore/Bengaluru</td>\n",
       "      <td>Nx-DT</td>\n",
       "      <td>10-16 Yrs</td>\n",
       "    </tr>\n",
       "    <tr>\n",
       "      <th>3</th>\n",
       "      <td>Senior Business Analyst- Data Science</td>\n",
       "      <td>Hyderabad/Secunderabad, Pune, Bangalore/Bengaluru</td>\n",
       "      <td>Evalueserve.com Pvt. Ltd\\n3.4\\n(412 Reviews)</td>\n",
       "      <td>2-7 Yrs</td>\n",
       "    </tr>\n",
       "    <tr>\n",
       "      <th>4</th>\n",
       "      <td>Business/Data Analyst - Colleague Experience &amp;...</td>\n",
       "      <td>(WFH during Covid)</td>\n",
       "      <td>Vmware\\n4.3\\n(256 Reviews)</td>\n",
       "      <td>3-8 Yrs</td>\n",
       "    </tr>\n",
       "    <tr>\n",
       "      <th>5</th>\n",
       "      <td>Senior Data Analyst</td>\n",
       "      <td>Bangalore/Bengaluru(Whitefield)</td>\n",
       "      <td>Telstra India Pvt Ltd\\n3.3\\n(33 Reviews)</td>\n",
       "      <td>7-8 Yrs</td>\n",
       "    </tr>\n",
       "    <tr>\n",
       "      <th>6</th>\n",
       "      <td>Senior Data Analyst - Einstein Analytics</td>\n",
       "      <td>Bangalore/Bengaluru</td>\n",
       "      <td>Enquero\\n3.9\\n(24 Reviews)</td>\n",
       "      <td>3-5 Yrs</td>\n",
       "    </tr>\n",
       "    <tr>\n",
       "      <th>7</th>\n",
       "      <td>Senior Specialist - Data Analyst</td>\n",
       "      <td>Bangalore/Bengaluru</td>\n",
       "      <td>Philips India Limited\\n4.0\\n(510 Reviews)</td>\n",
       "      <td>4-8 Yrs</td>\n",
       "    </tr>\n",
       "    <tr>\n",
       "      <th>8</th>\n",
       "      <td>Data Analyst - Python</td>\n",
       "      <td>Hyderabad/Secunderabad, Bangalore/Bengaluru</td>\n",
       "      <td>Suyati Technologies Pvt Ltd\\n4.4\\n(22 Reviews)</td>\n",
       "      <td>4-6 Yrs</td>\n",
       "    </tr>\n",
       "    <tr>\n",
       "      <th>9</th>\n",
       "      <td>Data Analyst - 0-2 years (6 month contract)</td>\n",
       "      <td>Bangalore/Bengaluru</td>\n",
       "      <td>NIUM INDIA PRIVATE LIMITED\\n3.6\\n(21 Reviews)</td>\n",
       "      <td>0-2 Yrs</td>\n",
       "    </tr>\n",
       "  </tbody>\n",
       "</table>\n",
       "</div>"
      ],
      "text/plain": [
       "                                           job_title  \\\n",
       "0                                       Data Analyst   \n",
       "1                                       Data Analyst   \n",
       "2                                Senior Data Analyst   \n",
       "3              Senior Business Analyst- Data Science   \n",
       "4  Business/Data Analyst - Colleague Experience &...   \n",
       "5                                Senior Data Analyst   \n",
       "6           Senior Data Analyst - Einstein Analytics   \n",
       "7                   Senior Specialist - Data Analyst   \n",
       "8                              Data Analyst - Python   \n",
       "9        Data Analyst - 0-2 years (6 month contract)   \n",
       "\n",
       "                                       job_locations  \\\n",
       "0                                Bangalore/Bengaluru   \n",
       "1                                 (WFH during Covid)   \n",
       "2                 Pune, Chennai, Bangalore/Bengaluru   \n",
       "3  Hyderabad/Secunderabad, Pune, Bangalore/Bengaluru   \n",
       "4                                 (WFH during Covid)   \n",
       "5                    Bangalore/Bengaluru(Whitefield)   \n",
       "6                                Bangalore/Bengaluru   \n",
       "7                                Bangalore/Bengaluru   \n",
       "8        Hyderabad/Secunderabad, Bangalore/Bengaluru   \n",
       "9                                Bangalore/Bengaluru   \n",
       "\n",
       "                                        company_name expereince_req  \n",
       "0            CAREERLABS TECHNOLOGIES PRIVATE LIMITED        0-3 Yrs  \n",
       "1  Tata Consultancy Services Ltd.\\n4.0\\n(22996 Re...        4-8 Yrs  \n",
       "2                                              Nx-DT      10-16 Yrs  \n",
       "3       Evalueserve.com Pvt. Ltd\\n3.4\\n(412 Reviews)        2-7 Yrs  \n",
       "4                         Vmware\\n4.3\\n(256 Reviews)        3-8 Yrs  \n",
       "5           Telstra India Pvt Ltd\\n3.3\\n(33 Reviews)        7-8 Yrs  \n",
       "6                         Enquero\\n3.9\\n(24 Reviews)        3-5 Yrs  \n",
       "7          Philips India Limited\\n4.0\\n(510 Reviews)        4-8 Yrs  \n",
       "8     Suyati Technologies Pvt Ltd\\n4.4\\n(22 Reviews)        4-6 Yrs  \n",
       "9      NIUM INDIA PRIVATE LIMITED\\n3.6\\n(21 Reviews)        0-2 Yrs  "
      ]
     },
     "execution_count": 17,
     "metadata": {},
     "output_type": "execute_result"
    }
   ],
   "source": [
    "bgr_job_search=pd.DataFrame({'job_title':titles_job[:10],\n",
    "                            'job_locations':locations_job[:10],\n",
    "                            'company_name':name_company[:10],\n",
    "                             'expereince_req':req_experience[:10] })\n",
    "bgr_job_search"
   ]
  },
  {
   "cell_type": "code",
   "execution_count": 18,
   "id": "7696d4c9",
   "metadata": {},
   "outputs": [],
   "source": [
    "#Q2: Write a python program to scrape data for “Data Scientist” Job position in \n",
    "#“Bangalore” location. You have to scrape the job-title, job-location,\n",
    "#company_name, full job-description. You have to scrape first 10 jobs data."
   ]
  },
  {
   "cell_type": "code",
   "execution_count": 19,
   "id": "89c7590b",
   "metadata": {},
   "outputs": [],
   "source": [
    "import requests\n",
    "import pandas as pd\n",
    "import numpy as np\n",
    "from bs4 import BeautifulSoup\n",
    "import selenium\n",
    "from selenium import webdriver\n",
    "driver=webdriver.Chrome('C:/Users/LENOVO/Downloads/chromedriver_win32/chromedriver')\n",
    "url='https://www.naukri.com/'\n",
    "driver.get(url)"
   ]
  },
  {
   "cell_type": "code",
   "execution_count": 20,
   "id": "a92064f1",
   "metadata": {},
   "outputs": [
    {
     "data": {
      "text/plain": [
       "<selenium.webdriver.remote.webelement.WebElement (session=\"08d3753b155157f054288ce22b70266c\", element=\"d00ad8b8-521b-4d20-8264-04d3e05bfe38\")>"
      ]
     },
     "execution_count": 20,
     "metadata": {},
     "output_type": "execute_result"
    }
   ],
   "source": [
    "search_job=driver.find_element_by_id(\"qsb-keyword-sugg\")\n",
    "search_job"
   ]
  },
  {
   "cell_type": "code",
   "execution_count": 21,
   "id": "c8b908a6",
   "metadata": {},
   "outputs": [],
   "source": [
    "search_job.send_keys('Data Scientist')"
   ]
  },
  {
   "cell_type": "code",
   "execution_count": 22,
   "id": "6a2464ad",
   "metadata": {},
   "outputs": [
    {
     "data": {
      "text/plain": [
       "<selenium.webdriver.remote.webelement.WebElement (session=\"08d3753b155157f054288ce22b70266c\", element=\"948d9488-77a4-48fc-b6ff-d34ae6a24604\")>"
      ]
     },
     "execution_count": 22,
     "metadata": {},
     "output_type": "execute_result"
    }
   ],
   "source": [
    "search_loc=driver.find_element_by_id(\"qsb-location-sugg\")\n",
    "search_loc"
   ]
  },
  {
   "cell_type": "code",
   "execution_count": 23,
   "id": "a185c4be",
   "metadata": {},
   "outputs": [],
   "source": [
    "search_loc.send_keys('Bangalore')"
   ]
  },
  {
   "cell_type": "code",
   "execution_count": 24,
   "id": "6e23efa2",
   "metadata": {},
   "outputs": [
    {
     "data": {
      "text/plain": [
       "<selenium.webdriver.remote.webelement.WebElement (session=\"08d3753b155157f054288ce22b70266c\", element=\"bfa8f767-72ef-42cd-bdda-6b029f6939fa\")>"
      ]
     },
     "execution_count": 24,
     "metadata": {},
     "output_type": "execute_result"
    }
   ],
   "source": [
    "search_btn=driver.find_element_by_xpath(\"//button[@class='btn']\")\n",
    "search_btn"
   ]
  },
  {
   "cell_type": "code",
   "execution_count": 25,
   "id": "391e646b",
   "metadata": {},
   "outputs": [],
   "source": [
    "search_btn.click()"
   ]
  },
  {
   "cell_type": "code",
   "execution_count": 26,
   "id": "46482f09",
   "metadata": {},
   "outputs": [
    {
     "name": "stdout",
     "output_type": "stream",
     "text": [
      "[<selenium.webdriver.remote.webelement.WebElement (session=\"08d3753b155157f054288ce22b70266c\", element=\"350efd4b-f909-47cc-9000-12171b2a1209\")>, <selenium.webdriver.remote.webelement.WebElement (session=\"08d3753b155157f054288ce22b70266c\", element=\"61ec872b-5ed4-4dc4-a86b-91bf5f7c1224\")>, <selenium.webdriver.remote.webelement.WebElement (session=\"08d3753b155157f054288ce22b70266c\", element=\"e30b6333-668a-4201-8816-ef24429dae5b\")>, <selenium.webdriver.remote.webelement.WebElement (session=\"08d3753b155157f054288ce22b70266c\", element=\"4cbae4e0-0445-40a0-a2f7-b8ab919c9e6c\")>, <selenium.webdriver.remote.webelement.WebElement (session=\"08d3753b155157f054288ce22b70266c\", element=\"3addd41c-b5b9-42ee-b059-186f5b19d73f\")>, <selenium.webdriver.remote.webelement.WebElement (session=\"08d3753b155157f054288ce22b70266c\", element=\"82badc4e-2be9-45ec-bc55-758ebf0ee846\")>, <selenium.webdriver.remote.webelement.WebElement (session=\"08d3753b155157f054288ce22b70266c\", element=\"7f823f02-b7f6-4e3a-911c-8303ddd7ee8e\")>, <selenium.webdriver.remote.webelement.WebElement (session=\"08d3753b155157f054288ce22b70266c\", element=\"709c4c3b-634b-4bee-bb19-9453fbbd0137\")>, <selenium.webdriver.remote.webelement.WebElement (session=\"08d3753b155157f054288ce22b70266c\", element=\"d80c9d8c-faac-423c-a99f-4e3a4ae37f58\")>, <selenium.webdriver.remote.webelement.WebElement (session=\"08d3753b155157f054288ce22b70266c\", element=\"04945132-5566-43ec-958a-6d004777f7f1\")>, <selenium.webdriver.remote.webelement.WebElement (session=\"08d3753b155157f054288ce22b70266c\", element=\"245fe5d2-98c7-40ae-96b5-a240f6ea884d\")>, <selenium.webdriver.remote.webelement.WebElement (session=\"08d3753b155157f054288ce22b70266c\", element=\"e3d2c5dd-7110-4d04-bce2-eca0bfd58f27\")>, <selenium.webdriver.remote.webelement.WebElement (session=\"08d3753b155157f054288ce22b70266c\", element=\"ed22e828-701c-4896-93a1-4bf92bc1d709\")>, <selenium.webdriver.remote.webelement.WebElement (session=\"08d3753b155157f054288ce22b70266c\", element=\"2993f8b7-33a5-44bc-8bdd-dcc73f744cf7\")>, <selenium.webdriver.remote.webelement.WebElement (session=\"08d3753b155157f054288ce22b70266c\", element=\"96429d4a-e63a-42ff-bfaa-92d2fccaa323\")>, <selenium.webdriver.remote.webelement.WebElement (session=\"08d3753b155157f054288ce22b70266c\", element=\"221bfe0c-3cc3-45f7-944a-88da4e32e580\")>, <selenium.webdriver.remote.webelement.WebElement (session=\"08d3753b155157f054288ce22b70266c\", element=\"e050bd18-459d-4729-b197-6c0cccd6ebc5\")>, <selenium.webdriver.remote.webelement.WebElement (session=\"08d3753b155157f054288ce22b70266c\", element=\"b248704a-50d5-4362-a8d0-f4b005877316\")>, <selenium.webdriver.remote.webelement.WebElement (session=\"08d3753b155157f054288ce22b70266c\", element=\"249af032-6454-42be-866e-ae44820febc0\")>, <selenium.webdriver.remote.webelement.WebElement (session=\"08d3753b155157f054288ce22b70266c\", element=\"1d901529-c5ec-4d4c-8daf-23a523182ba8\")>]\n"
     ]
    }
   ],
   "source": [
    "job_titles=driver.find_elements_by_xpath(\"//a[@class='title fw500 ellipsis']\")\n",
    "print(job_titles)"
   ]
  },
  {
   "cell_type": "code",
   "execution_count": 27,
   "id": "88ec88fb",
   "metadata": {},
   "outputs": [
    {
     "data": {
      "text/plain": [
       "['Data Scientist- Senior Business Analyst/Lead Analyst',\n",
       " 'Senior Data Scientist',\n",
       " 'Senior Data Scientist (Analytics),',\n",
       " 'Data Scientist: Advanced Analytics',\n",
       " 'Data Scientist',\n",
       " 'Senior Data Scientist',\n",
       " 'Lead Data Scientist',\n",
       " 'Senior Data Scientist',\n",
       " 'Senior Data Scientist - KPO',\n",
       " 'Senior Data Scientist',\n",
       " 'Lead Data Scientist - Retail Industry',\n",
       " 'Senior/ Lead Data Scientist',\n",
       " 'Advanced Data Scientist',\n",
       " 'Data Scientist',\n",
       " 'Data Scientist with SAS',\n",
       " 'Data Scientist',\n",
       " 'Data Scientist- Natural Language Processing (Hyderabad Location)',\n",
       " 'Looking For Data Scientist For Chennai Location',\n",
       " 'Data Scientist',\n",
       " 'Data Scientist']"
      ]
     },
     "execution_count": 27,
     "metadata": {},
     "output_type": "execute_result"
    }
   ],
   "source": [
    "titles_job=[]\n",
    "for i in job_titles:\n",
    "    titles_job.append(i.text)\n",
    "titles_job"
   ]
  },
  {
   "cell_type": "code",
   "execution_count": 28,
   "id": "6daeec19",
   "metadata": {},
   "outputs": [
    {
     "name": "stdout",
     "output_type": "stream",
     "text": [
      "[<selenium.webdriver.remote.webelement.WebElement (session=\"08d3753b155157f054288ce22b70266c\", element=\"55191bf6-9b11-4ba3-9368-e566765b2912\")>, <selenium.webdriver.remote.webelement.WebElement (session=\"08d3753b155157f054288ce22b70266c\", element=\"f2024ba9-9e8e-4ad9-a797-af30d596c87a\")>, <selenium.webdriver.remote.webelement.WebElement (session=\"08d3753b155157f054288ce22b70266c\", element=\"f9fb342f-b715-4dea-9c83-8b92356747b7\")>, <selenium.webdriver.remote.webelement.WebElement (session=\"08d3753b155157f054288ce22b70266c\", element=\"8486a800-500b-4bdc-9b18-57d7fe01c0ce\")>, <selenium.webdriver.remote.webelement.WebElement (session=\"08d3753b155157f054288ce22b70266c\", element=\"d100de43-7db0-4734-99ea-d7fe696ca76a\")>, <selenium.webdriver.remote.webelement.WebElement (session=\"08d3753b155157f054288ce22b70266c\", element=\"eb5e59d3-e496-4768-ae57-e4c68d74cef7\")>, <selenium.webdriver.remote.webelement.WebElement (session=\"08d3753b155157f054288ce22b70266c\", element=\"300d40f7-ce9f-4c64-a2be-fd4491a42770\")>, <selenium.webdriver.remote.webelement.WebElement (session=\"08d3753b155157f054288ce22b70266c\", element=\"257f8efe-9605-4bfd-a333-ae345aedf09b\")>, <selenium.webdriver.remote.webelement.WebElement (session=\"08d3753b155157f054288ce22b70266c\", element=\"52650ea2-4364-426b-8413-c52451b9cf47\")>, <selenium.webdriver.remote.webelement.WebElement (session=\"08d3753b155157f054288ce22b70266c\", element=\"4bf82e60-6917-4bf8-b773-be3e41d993f5\")>, <selenium.webdriver.remote.webelement.WebElement (session=\"08d3753b155157f054288ce22b70266c\", element=\"087ab4d7-a679-4782-a71a-765bfeb9eea2\")>, <selenium.webdriver.remote.webelement.WebElement (session=\"08d3753b155157f054288ce22b70266c\", element=\"83af1a10-63ab-4d75-87cc-362a3e4c94d1\")>, <selenium.webdriver.remote.webelement.WebElement (session=\"08d3753b155157f054288ce22b70266c\", element=\"451fa0c3-bf1c-4b1b-a3b8-22ef76524427\")>, <selenium.webdriver.remote.webelement.WebElement (session=\"08d3753b155157f054288ce22b70266c\", element=\"90fc1396-bd69-4527-ae1d-4755db572d72\")>, <selenium.webdriver.remote.webelement.WebElement (session=\"08d3753b155157f054288ce22b70266c\", element=\"395e8da3-0cbb-4852-b687-8c166cfb18e9\")>, <selenium.webdriver.remote.webelement.WebElement (session=\"08d3753b155157f054288ce22b70266c\", element=\"35261424-2b63-4d07-b44d-345325d31237\")>, <selenium.webdriver.remote.webelement.WebElement (session=\"08d3753b155157f054288ce22b70266c\", element=\"ab63efe3-fe06-4844-bc1d-ff3a43dcf773\")>, <selenium.webdriver.remote.webelement.WebElement (session=\"08d3753b155157f054288ce22b70266c\", element=\"5c822328-a9a2-4099-876d-56d4bca9826b\")>, <selenium.webdriver.remote.webelement.WebElement (session=\"08d3753b155157f054288ce22b70266c\", element=\"97388c44-196d-4157-be30-6d8d029faa56\")>, <selenium.webdriver.remote.webelement.WebElement (session=\"08d3753b155157f054288ce22b70266c\", element=\"f56ed3a2-77dd-47f6-b484-64726f7df551\")>, <selenium.webdriver.remote.webelement.WebElement (session=\"08d3753b155157f054288ce22b70266c\", element=\"a94d223c-c6de-4414-b325-408aad3a6514\")>]\n"
     ]
    }
   ],
   "source": [
    "job_locations=driver.find_elements_by_xpath(\"//li[@class='fleft grey-text br2 placeHolderLi location']//span\")\n",
    "print(job_locations)"
   ]
  },
  {
   "cell_type": "code",
   "execution_count": 29,
   "id": "6ddc8508",
   "metadata": {},
   "outputs": [
    {
     "data": {
      "text/plain": [
       "['Gurgaon/Gurugram, Bangalore/Bengaluru',\n",
       " 'Bangalore/Bengaluru',\n",
       " 'Bangalore/Bengaluru',\n",
       " 'Bangalore/Bengaluru',\n",
       " 'Bangalore/Bengaluru',\n",
       " 'Bangalore/Bengaluru',\n",
       " 'Bangalore/Bengaluru, Delhi / NCR, Mumbai (All Areas)',\n",
       " '(WFH during Covid)',\n",
       " 'Bangalore/Bengaluru',\n",
       " 'Mumbai, Bangalore/Bengaluru, Delhi / NCR',\n",
       " 'Mumbai, Delhi / NCR, Bangalore/Bengaluru',\n",
       " 'Bangalore/Bengaluru',\n",
       " 'Bangalore/Bengaluru',\n",
       " 'Bangalore/Bengaluru',\n",
       " 'Bangalore/Bengaluru',\n",
       " 'Bangalore/Bengaluru',\n",
       " 'Bangalore/Bengaluru',\n",
       " 'Hyderabad/Secunderabad, Pune, Chennai, Bangalore/Bengaluru',\n",
       " 'Hyderabad/Secunderabad, Chennai, Bangalore/Bengaluru',\n",
       " 'Bangalore/Bengaluru',\n",
       " 'Chennai, Bangalore/Bengaluru']"
      ]
     },
     "execution_count": 29,
     "metadata": {},
     "output_type": "execute_result"
    }
   ],
   "source": [
    "locations_job=[]\n",
    "for i in job_locations:\n",
    "    locations_job.append(i.text)\n",
    "locations_job"
   ]
  },
  {
   "cell_type": "code",
   "execution_count": 30,
   "id": "3c1a4fa8",
   "metadata": {},
   "outputs": [
    {
     "name": "stdout",
     "output_type": "stream",
     "text": [
      "[<selenium.webdriver.remote.webelement.WebElement (session=\"08d3753b155157f054288ce22b70266c\", element=\"290c854c-7885-45b1-a8b5-d72c75c8f743\")>, <selenium.webdriver.remote.webelement.WebElement (session=\"08d3753b155157f054288ce22b70266c\", element=\"e195423d-af8c-4c45-9914-e3f599e5cb1c\")>, <selenium.webdriver.remote.webelement.WebElement (session=\"08d3753b155157f054288ce22b70266c\", element=\"ea27e5ba-d247-4ac0-85ca-34abc1243a82\")>, <selenium.webdriver.remote.webelement.WebElement (session=\"08d3753b155157f054288ce22b70266c\", element=\"047e1bbc-cc08-4e62-a42f-cd4383e2d5a9\")>, <selenium.webdriver.remote.webelement.WebElement (session=\"08d3753b155157f054288ce22b70266c\", element=\"654cb3be-d91d-4bb8-b1d6-6734debfb899\")>, <selenium.webdriver.remote.webelement.WebElement (session=\"08d3753b155157f054288ce22b70266c\", element=\"4ee151fd-b622-4889-b105-0504e4db39af\")>, <selenium.webdriver.remote.webelement.WebElement (session=\"08d3753b155157f054288ce22b70266c\", element=\"b6ee5503-c117-4ac4-911e-64137f2af1bb\")>, <selenium.webdriver.remote.webelement.WebElement (session=\"08d3753b155157f054288ce22b70266c\", element=\"0f3611ad-dd49-49ad-b6eb-a9c35052ed9d\")>, <selenium.webdriver.remote.webelement.WebElement (session=\"08d3753b155157f054288ce22b70266c\", element=\"2f0cc172-3dc9-4928-8c6a-24c968e95b6f\")>, <selenium.webdriver.remote.webelement.WebElement (session=\"08d3753b155157f054288ce22b70266c\", element=\"32310ac9-65e7-4160-b039-75ce97d4304e\")>, <selenium.webdriver.remote.webelement.WebElement (session=\"08d3753b155157f054288ce22b70266c\", element=\"e683b6a8-6947-40af-8fb5-d4842ebbe98d\")>, <selenium.webdriver.remote.webelement.WebElement (session=\"08d3753b155157f054288ce22b70266c\", element=\"c5aeda79-43a5-4593-bae6-ecfe3ee4169b\")>, <selenium.webdriver.remote.webelement.WebElement (session=\"08d3753b155157f054288ce22b70266c\", element=\"550057fb-1b2c-4564-ade3-568e516e28e1\")>, <selenium.webdriver.remote.webelement.WebElement (session=\"08d3753b155157f054288ce22b70266c\", element=\"462f6686-8878-4557-b654-60d9171cf8dc\")>, <selenium.webdriver.remote.webelement.WebElement (session=\"08d3753b155157f054288ce22b70266c\", element=\"6ed121f2-9400-42e0-ad0e-a7d3f0b4e08b\")>, <selenium.webdriver.remote.webelement.WebElement (session=\"08d3753b155157f054288ce22b70266c\", element=\"abb4010c-2a4e-4c4f-b16b-9e57069976d0\")>, <selenium.webdriver.remote.webelement.WebElement (session=\"08d3753b155157f054288ce22b70266c\", element=\"d2f82c7a-a690-4d01-9a4b-7502e858847f\")>, <selenium.webdriver.remote.webelement.WebElement (session=\"08d3753b155157f054288ce22b70266c\", element=\"391eff70-1478-4f2b-a7c1-14ef61779cd1\")>, <selenium.webdriver.remote.webelement.WebElement (session=\"08d3753b155157f054288ce22b70266c\", element=\"98eeff95-36bf-4fb5-9105-b90cd2ae156d\")>, <selenium.webdriver.remote.webelement.WebElement (session=\"08d3753b155157f054288ce22b70266c\", element=\"1e6d86dc-f4f1-4b40-85a1-2cb3459e50d1\")>]\n"
     ]
    }
   ],
   "source": [
    "company_name=driver.find_elements_by_xpath(\"//a[@class='subTitle ellipsis fleft']\")\n",
    "print(company_name)"
   ]
  },
  {
   "cell_type": "code",
   "execution_count": 31,
   "id": "f9c5935c",
   "metadata": {},
   "outputs": [
    {
     "data": {
      "text/plain": [
       "['Evalueserve.com Pvt. Ltd',\n",
       " 'Signify',\n",
       " 'Luxoft',\n",
       " 'IBM India Pvt. Limited',\n",
       " 'IBM India Pvt. Limited',\n",
       " 'SMITHS DETECTION SYSTEMS PRIVATE LIMITED',\n",
       " 'TransOrg Solutions Services (P) Ltd.',\n",
       " 'Philips India Limited',\n",
       " 'TalentCo Search Pvt Ltd',\n",
       " 'TalentCo Search Pvt Ltd',\n",
       " 'IBM India Pvt. Limited',\n",
       " 'Superior Group',\n",
       " 'Exxon Mobil Corporation',\n",
       " 'Travel Centric Technology',\n",
       " 'Mu Sigma',\n",
       " 'Cignex Datamatics Technologies Limited',\n",
       " 'Clifford Chance Business Services Private Limited',\n",
       " 'Intelizign Engineering Services Pvt Ltd',\n",
       " 'ELPIS IT SOLUTIONS PVT LTD',\n",
       " 'Cognizant Technology Solutions India Pvt Ltd']"
      ]
     },
     "execution_count": 31,
     "metadata": {},
     "output_type": "execute_result"
    }
   ],
   "source": [
    "name_company=[]\n",
    "for i in company_name:\n",
    "    name_company.append(i.text)\n",
    "name_company"
   ]
  },
  {
   "cell_type": "code",
   "execution_count": 32,
   "id": "05d3f240",
   "metadata": {},
   "outputs": [
    {
     "name": "stdout",
     "output_type": "stream",
     "text": [
      "[<selenium.webdriver.remote.webelement.WebElement (session=\"08d3753b155157f054288ce22b70266c\", element=\"9bd7b50a-e17e-4927-9d18-1089ab7818f3\")>, <selenium.webdriver.remote.webelement.WebElement (session=\"08d3753b155157f054288ce22b70266c\", element=\"d3955764-0d8d-4886-bf60-48220f17e53f\")>, <selenium.webdriver.remote.webelement.WebElement (session=\"08d3753b155157f054288ce22b70266c\", element=\"eb8241cb-b7e3-4054-ac58-96ab46d06d57\")>, <selenium.webdriver.remote.webelement.WebElement (session=\"08d3753b155157f054288ce22b70266c\", element=\"abf7b446-9c0e-4852-a17d-edd72322a1ed\")>, <selenium.webdriver.remote.webelement.WebElement (session=\"08d3753b155157f054288ce22b70266c\", element=\"12f79f6b-3b0d-4161-8d6e-a6a3073cd65e\")>, <selenium.webdriver.remote.webelement.WebElement (session=\"08d3753b155157f054288ce22b70266c\", element=\"a375f69e-8255-4360-b171-66192ae01a04\")>, <selenium.webdriver.remote.webelement.WebElement (session=\"08d3753b155157f054288ce22b70266c\", element=\"1703e889-93b9-405a-aabe-498c9ea7a03b\")>, <selenium.webdriver.remote.webelement.WebElement (session=\"08d3753b155157f054288ce22b70266c\", element=\"81a723e3-dcd2-47ef-a04c-1aaf2a8b1556\")>, <selenium.webdriver.remote.webelement.WebElement (session=\"08d3753b155157f054288ce22b70266c\", element=\"dfcea38d-3a85-493d-8f0c-c2405e0b80df\")>, <selenium.webdriver.remote.webelement.WebElement (session=\"08d3753b155157f054288ce22b70266c\", element=\"b9ac1a18-28e4-4bb8-8e88-b76289966bda\")>, <selenium.webdriver.remote.webelement.WebElement (session=\"08d3753b155157f054288ce22b70266c\", element=\"6c2eeb55-7fa0-4fc9-88e5-42438e624f19\")>, <selenium.webdriver.remote.webelement.WebElement (session=\"08d3753b155157f054288ce22b70266c\", element=\"b310f096-3591-4c67-988a-cd920336000f\")>, <selenium.webdriver.remote.webelement.WebElement (session=\"08d3753b155157f054288ce22b70266c\", element=\"aa55c8bd-849f-4cf3-a27c-520282515d33\")>, <selenium.webdriver.remote.webelement.WebElement (session=\"08d3753b155157f054288ce22b70266c\", element=\"9c7e6591-8bbc-44a8-b05a-9a12437354c7\")>, <selenium.webdriver.remote.webelement.WebElement (session=\"08d3753b155157f054288ce22b70266c\", element=\"52203491-7dc6-489a-b94e-59efa2ea223e\")>, <selenium.webdriver.remote.webelement.WebElement (session=\"08d3753b155157f054288ce22b70266c\", element=\"6343b94a-1948-4742-a36e-74fa3734a97c\")>, <selenium.webdriver.remote.webelement.WebElement (session=\"08d3753b155157f054288ce22b70266c\", element=\"346cece3-00f0-4620-8c64-621bb6187ec4\")>, <selenium.webdriver.remote.webelement.WebElement (session=\"08d3753b155157f054288ce22b70266c\", element=\"7c39e195-cb21-49e2-9207-d5f5fdf1aea7\")>, <selenium.webdriver.remote.webelement.WebElement (session=\"08d3753b155157f054288ce22b70266c\", element=\"be3476f4-cef7-4ed2-b333-8942f3553f07\")>, <selenium.webdriver.remote.webelement.WebElement (session=\"08d3753b155157f054288ce22b70266c\", element=\"be6ecc63-d5e8-46fb-a5b2-7f8b7c49957a\")>]\n"
     ]
    }
   ],
   "source": [
    "expereince_req=driver.find_elements_by_xpath(\"//li[@class='fleft grey-text br2 placeHolderLi experience']//span\")\n",
    "print(expereince_req)"
   ]
  },
  {
   "cell_type": "code",
   "execution_count": 33,
   "id": "2cd89ba7",
   "metadata": {},
   "outputs": [
    {
     "data": {
      "text/plain": [
       "['2-7 Yrs',\n",
       " '4-9 Yrs',\n",
       " '5-10 Yrs',\n",
       " '5-10 Yrs',\n",
       " '3-6 Yrs',\n",
       " '8-10 Yrs',\n",
       " '4-6 Yrs',\n",
       " '8-10 Yrs',\n",
       " '6-10 Yrs',\n",
       " '6-10 Yrs',\n",
       " '7-10 Yrs',\n",
       " '6-11 Yrs',\n",
       " '10-15 Yrs',\n",
       " '6-11 Yrs',\n",
       " '3-8 Yrs',\n",
       " '7-12 Yrs',\n",
       " '5-10 Yrs',\n",
       " '3-7 Yrs',\n",
       " '3-8 Yrs',\n",
       " '10-12 Yrs']"
      ]
     },
     "execution_count": 33,
     "metadata": {},
     "output_type": "execute_result"
    }
   ],
   "source": [
    "req_experience=[]\n",
    "for i in expereince_req:\n",
    "    req_experience.append(i.text)\n",
    "req_experience"
   ]
  },
  {
   "cell_type": "code",
   "execution_count": 34,
   "id": "74043db7",
   "metadata": {},
   "outputs": [
    {
     "name": "stdout",
     "output_type": "stream",
     "text": [
      "[<selenium.webdriver.remote.webelement.WebElement (session=\"08d3753b155157f054288ce22b70266c\", element=\"66350aa7-fa3f-4fb4-924b-c364d609ac46\")>, <selenium.webdriver.remote.webelement.WebElement (session=\"08d3753b155157f054288ce22b70266c\", element=\"d7ab91fe-fa28-42f0-9f46-68caff2d1c35\")>, <selenium.webdriver.remote.webelement.WebElement (session=\"08d3753b155157f054288ce22b70266c\", element=\"5a2447e6-ee89-424c-b8cc-97c399247354\")>, <selenium.webdriver.remote.webelement.WebElement (session=\"08d3753b155157f054288ce22b70266c\", element=\"c40d51ed-38f5-46ce-9ee6-6451543dcf26\")>, <selenium.webdriver.remote.webelement.WebElement (session=\"08d3753b155157f054288ce22b70266c\", element=\"4e44a75d-55f3-47f5-b12b-53977d7591a4\")>, <selenium.webdriver.remote.webelement.WebElement (session=\"08d3753b155157f054288ce22b70266c\", element=\"40e5570b-cd9f-4254-8676-ff2b94c6a9f6\")>, <selenium.webdriver.remote.webelement.WebElement (session=\"08d3753b155157f054288ce22b70266c\", element=\"f35647ec-5d59-4bbd-9efb-557e4a53ab88\")>, <selenium.webdriver.remote.webelement.WebElement (session=\"08d3753b155157f054288ce22b70266c\", element=\"ab84f3e4-fdc6-444a-8541-68191d277c85\")>, <selenium.webdriver.remote.webelement.WebElement (session=\"08d3753b155157f054288ce22b70266c\", element=\"a3bbf85c-203a-401e-8d42-1e99877b0da1\")>, <selenium.webdriver.remote.webelement.WebElement (session=\"08d3753b155157f054288ce22b70266c\", element=\"0416c727-39cf-4dca-85c1-7812f3760a23\")>, <selenium.webdriver.remote.webelement.WebElement (session=\"08d3753b155157f054288ce22b70266c\", element=\"9141129a-b0f9-4742-a503-4870c4d2686a\")>, <selenium.webdriver.remote.webelement.WebElement (session=\"08d3753b155157f054288ce22b70266c\", element=\"9d431973-d9f8-42ab-9b55-96f537d6d148\")>, <selenium.webdriver.remote.webelement.WebElement (session=\"08d3753b155157f054288ce22b70266c\", element=\"15db44b9-5c78-4159-ab1c-eaeae6995e2b\")>, <selenium.webdriver.remote.webelement.WebElement (session=\"08d3753b155157f054288ce22b70266c\", element=\"3b306852-c90b-4c0e-b4e0-5a5d4bacb118\")>, <selenium.webdriver.remote.webelement.WebElement (session=\"08d3753b155157f054288ce22b70266c\", element=\"002f651c-f2b9-4a19-8164-561acfadac2a\")>, <selenium.webdriver.remote.webelement.WebElement (session=\"08d3753b155157f054288ce22b70266c\", element=\"22b4f89b-be7f-45aa-ae12-bf15291f921e\")>, <selenium.webdriver.remote.webelement.WebElement (session=\"08d3753b155157f054288ce22b70266c\", element=\"033bbbcd-cc52-4346-80a9-6e9f1e3123cb\")>, <selenium.webdriver.remote.webelement.WebElement (session=\"08d3753b155157f054288ce22b70266c\", element=\"22b1e044-8dc4-451c-a534-1c502e9d04ce\")>, <selenium.webdriver.remote.webelement.WebElement (session=\"08d3753b155157f054288ce22b70266c\", element=\"6366ef13-6201-476d-a46d-7220d52adda2\")>, <selenium.webdriver.remote.webelement.WebElement (session=\"08d3753b155157f054288ce22b70266c\", element=\"75a1d65a-98bb-4575-8b72-9fb521262103\")>]\n"
     ]
    }
   ],
   "source": [
    "job_descriptions=driver.find_elements_by_xpath(\"//div[@class='job-description fs12 grey-text']\")\n",
    "print(job_descriptions)"
   ]
  },
  {
   "cell_type": "code",
   "execution_count": 35,
   "id": "5e1b692c",
   "metadata": {},
   "outputs": [
    {
     "data": {
      "text/plain": [
       "['from a reputed institute Experience with cloud computing infrastructure, such as AWS / ...',\n",
       " 'PhD / Masters / BTech in computer science, computer engineering with 7+ years of demons...',\n",
       " 'Data and Analytics Proposal Responses for Cross Industry Solutions. The position is for...',\n",
       " 'As a Data Scientist at IBM, you will help transform our clients data into tangible busi...',\n",
       " 'Experience in creating and using advanced machine learning algorithms and statistics su...',\n",
       " 'Must possess at least a Bachelors degree in Electrical / Electronics Engineering and / ...',\n",
       " 'Bachelors in Computer Science, Engineering, Statistics, Maths or related quantitative d...',\n",
       " 'A Master s Degree or PhD in Computer Science, Econometrics, Artificial Intelligence, Ap...',\n",
       " 'Experience of working on end-to-end data science pipeline: problem scoping, data gather...',\n",
       " 'Experience of working on end-to-end data science pipeline: problem scoping, data gather...',\n",
       " 'As a Senior Data Scientist you will be at the forefront of this ride and get to work wi...',\n",
       " '3 years of experience performing predictive analytics at a large scale enterprise 3 yea...',\n",
       " 'Job Role Responsibilities Be a part of a growing organization comprising computational,...',\n",
       " 'We are looking for a Data Scientist with 6+ years of experience who will support our pr...',\n",
       " 'Good understanding of SAS platform, software, base SAS, macros and CRON',\n",
       " 'We have an urgent requirement for Data Scientist - Advanced Analytics',\n",
       " 'Previous experience with analysing and quantifying data from public and private reposit...',\n",
       " 'Preferrable Looking for Female Candidates3+ years of experience working on Data science...',\n",
       " 'Job Skills Required: Expert data science skills using supervised and unsupervised learn...',\n",
       " 'Shift : Day JobProven experience with below toolkits & technologies is a must: Statisti...']"
      ]
     },
     "execution_count": 35,
     "metadata": {},
     "output_type": "execute_result"
    }
   ],
   "source": [
    "job_desc=[]\n",
    "for i in job_descriptions:\n",
    "    job_desc.append(i.text)\n",
    "job_desc"
   ]
  },
  {
   "cell_type": "code",
   "execution_count": 36,
   "id": "8f1d275e",
   "metadata": {},
   "outputs": [
    {
     "data": {
      "text/html": [
       "<div>\n",
       "<style scoped>\n",
       "    .dataframe tbody tr th:only-of-type {\n",
       "        vertical-align: middle;\n",
       "    }\n",
       "\n",
       "    .dataframe tbody tr th {\n",
       "        vertical-align: top;\n",
       "    }\n",
       "\n",
       "    .dataframe thead th {\n",
       "        text-align: right;\n",
       "    }\n",
       "</style>\n",
       "<table border=\"1\" class=\"dataframe\">\n",
       "  <thead>\n",
       "    <tr style=\"text-align: right;\">\n",
       "      <th></th>\n",
       "      <th>job_title</th>\n",
       "      <th>job_locations</th>\n",
       "      <th>company_name</th>\n",
       "      <th>job_descriptions</th>\n",
       "    </tr>\n",
       "  </thead>\n",
       "  <tbody>\n",
       "    <tr>\n",
       "      <th>0</th>\n",
       "      <td>Data Scientist- Senior Business Analyst/Lead A...</td>\n",
       "      <td>Gurgaon/Gurugram, Bangalore/Bengaluru</td>\n",
       "      <td>Evalueserve.com Pvt. Ltd</td>\n",
       "      <td>from a reputed institute Experience with cloud...</td>\n",
       "    </tr>\n",
       "    <tr>\n",
       "      <th>1</th>\n",
       "      <td>Senior Data Scientist</td>\n",
       "      <td>Bangalore/Bengaluru</td>\n",
       "      <td>Signify</td>\n",
       "      <td>PhD / Masters / BTech in computer science, com...</td>\n",
       "    </tr>\n",
       "    <tr>\n",
       "      <th>2</th>\n",
       "      <td>Senior Data Scientist (Analytics),</td>\n",
       "      <td>Bangalore/Bengaluru</td>\n",
       "      <td>Luxoft</td>\n",
       "      <td>Data and Analytics Proposal Responses for Cros...</td>\n",
       "    </tr>\n",
       "    <tr>\n",
       "      <th>3</th>\n",
       "      <td>Data Scientist: Advanced Analytics</td>\n",
       "      <td>Bangalore/Bengaluru</td>\n",
       "      <td>IBM India Pvt. Limited</td>\n",
       "      <td>As a Data Scientist at IBM, you will help tran...</td>\n",
       "    </tr>\n",
       "    <tr>\n",
       "      <th>4</th>\n",
       "      <td>Data Scientist</td>\n",
       "      <td>Bangalore/Bengaluru</td>\n",
       "      <td>IBM India Pvt. Limited</td>\n",
       "      <td>Experience in creating and using advanced mach...</td>\n",
       "    </tr>\n",
       "    <tr>\n",
       "      <th>5</th>\n",
       "      <td>Senior Data Scientist</td>\n",
       "      <td>Bangalore/Bengaluru</td>\n",
       "      <td>SMITHS DETECTION SYSTEMS PRIVATE LIMITED</td>\n",
       "      <td>Must possess at least a Bachelors degree in El...</td>\n",
       "    </tr>\n",
       "    <tr>\n",
       "      <th>6</th>\n",
       "      <td>Lead Data Scientist</td>\n",
       "      <td>Bangalore/Bengaluru, Delhi / NCR, Mumbai (All ...</td>\n",
       "      <td>TransOrg Solutions Services (P) Ltd.</td>\n",
       "      <td>Bachelors in Computer Science, Engineering, St...</td>\n",
       "    </tr>\n",
       "    <tr>\n",
       "      <th>7</th>\n",
       "      <td>Senior Data Scientist</td>\n",
       "      <td>(WFH during Covid)</td>\n",
       "      <td>Philips India Limited</td>\n",
       "      <td>A Master s Degree or PhD in Computer Science, ...</td>\n",
       "    </tr>\n",
       "    <tr>\n",
       "      <th>8</th>\n",
       "      <td>Senior Data Scientist - KPO</td>\n",
       "      <td>Bangalore/Bengaluru</td>\n",
       "      <td>TalentCo Search Pvt Ltd</td>\n",
       "      <td>Experience of working on end-to-end data scien...</td>\n",
       "    </tr>\n",
       "    <tr>\n",
       "      <th>9</th>\n",
       "      <td>Senior Data Scientist</td>\n",
       "      <td>Mumbai, Bangalore/Bengaluru, Delhi / NCR</td>\n",
       "      <td>TalentCo Search Pvt Ltd</td>\n",
       "      <td>Experience of working on end-to-end data scien...</td>\n",
       "    </tr>\n",
       "  </tbody>\n",
       "</table>\n",
       "</div>"
      ],
      "text/plain": [
       "                                           job_title  \\\n",
       "0  Data Scientist- Senior Business Analyst/Lead A...   \n",
       "1                              Senior Data Scientist   \n",
       "2                 Senior Data Scientist (Analytics),   \n",
       "3                 Data Scientist: Advanced Analytics   \n",
       "4                                     Data Scientist   \n",
       "5                              Senior Data Scientist   \n",
       "6                                Lead Data Scientist   \n",
       "7                              Senior Data Scientist   \n",
       "8                        Senior Data Scientist - KPO   \n",
       "9                              Senior Data Scientist   \n",
       "\n",
       "                                       job_locations  \\\n",
       "0              Gurgaon/Gurugram, Bangalore/Bengaluru   \n",
       "1                                Bangalore/Bengaluru   \n",
       "2                                Bangalore/Bengaluru   \n",
       "3                                Bangalore/Bengaluru   \n",
       "4                                Bangalore/Bengaluru   \n",
       "5                                Bangalore/Bengaluru   \n",
       "6  Bangalore/Bengaluru, Delhi / NCR, Mumbai (All ...   \n",
       "7                                 (WFH during Covid)   \n",
       "8                                Bangalore/Bengaluru   \n",
       "9           Mumbai, Bangalore/Bengaluru, Delhi / NCR   \n",
       "\n",
       "                               company_name  \\\n",
       "0                  Evalueserve.com Pvt. Ltd   \n",
       "1                                   Signify   \n",
       "2                                    Luxoft   \n",
       "3                    IBM India Pvt. Limited   \n",
       "4                    IBM India Pvt. Limited   \n",
       "5  SMITHS DETECTION SYSTEMS PRIVATE LIMITED   \n",
       "6      TransOrg Solutions Services (P) Ltd.   \n",
       "7                     Philips India Limited   \n",
       "8                   TalentCo Search Pvt Ltd   \n",
       "9                   TalentCo Search Pvt Ltd   \n",
       "\n",
       "                                    job_descriptions  \n",
       "0  from a reputed institute Experience with cloud...  \n",
       "1  PhD / Masters / BTech in computer science, com...  \n",
       "2  Data and Analytics Proposal Responses for Cros...  \n",
       "3  As a Data Scientist at IBM, you will help tran...  \n",
       "4  Experience in creating and using advanced mach...  \n",
       "5  Must possess at least a Bachelors degree in El...  \n",
       "6  Bachelors in Computer Science, Engineering, St...  \n",
       "7  A Master s Degree or PhD in Computer Science, ...  \n",
       "8  Experience of working on end-to-end data scien...  \n",
       "9  Experience of working on end-to-end data scien...  "
      ]
     },
     "execution_count": 36,
     "metadata": {},
     "output_type": "execute_result"
    }
   ],
   "source": [
    "bgr_job_search=pd.DataFrame({'job_title':titles_job[:10],\n",
    "                            'job_locations':locations_job[:10],\n",
    "                            'company_name':name_company[:10],\n",
    "                             'job_descriptions':job_desc[:10] })\n",
    "bgr_job_search"
   ]
  },
  {
   "cell_type": "code",
   "execution_count": 37,
   "id": "23820104",
   "metadata": {},
   "outputs": [],
   "source": [
    "#Q3: In this question you have to scrape data using the filters available on the \n",
    "#webpage as shown below:"
   ]
  },
  {
   "cell_type": "code",
   "execution_count": 38,
   "id": "272508c8",
   "metadata": {},
   "outputs": [],
   "source": [
    "import requests\n",
    "import pandas as pd\n",
    "import numpy as np\n",
    "from bs4 import BeautifulSoup\n",
    "import selenium\n",
    "from selenium import webdriver\n",
    "driver=webdriver.Chrome('C:/Users/LENOVO/Downloads/chromedriver_win32/chromedriver')\n",
    "url='https://www.naukri.com/'\n",
    "driver.get(url)"
   ]
  },
  {
   "cell_type": "code",
   "execution_count": 39,
   "id": "bd566b4e",
   "metadata": {},
   "outputs": [
    {
     "data": {
      "text/plain": [
       "<selenium.webdriver.remote.webelement.WebElement (session=\"12b0bc604becf5dc4bc46a9dccb7eb7d\", element=\"2337eab3-3266-4157-bf2e-eb43c414333d\")>"
      ]
     },
     "execution_count": 39,
     "metadata": {},
     "output_type": "execute_result"
    }
   ],
   "source": [
    "search_desg=driver.find_element_by_id(\"qsb-keyword-sugg\")\n",
    "search_desg"
   ]
  },
  {
   "cell_type": "code",
   "execution_count": 40,
   "id": "14b91cdf",
   "metadata": {},
   "outputs": [],
   "source": [
    "search_desg.send_keys('Data Scientist')"
   ]
  },
  {
   "cell_type": "code",
   "execution_count": 41,
   "id": "2cdc7b24",
   "metadata": {},
   "outputs": [
    {
     "data": {
      "text/plain": [
       "<selenium.webdriver.remote.webelement.WebElement (session=\"12b0bc604becf5dc4bc46a9dccb7eb7d\", element=\"cb741065-efa1-40d7-90b8-8bcb95131dd2\")>"
      ]
     },
     "execution_count": 41,
     "metadata": {},
     "output_type": "execute_result"
    }
   ],
   "source": [
    "search_location=driver.find_element_by_id(\"qsb-location-sugg\")\n",
    "search_location"
   ]
  },
  {
   "cell_type": "code",
   "execution_count": 42,
   "id": "e2c35669",
   "metadata": {},
   "outputs": [],
   "source": [
    "search_location.send_keys('Delhi/NCR')"
   ]
  },
  {
   "cell_type": "code",
   "execution_count": 43,
   "id": "50174363",
   "metadata": {},
   "outputs": [
    {
     "data": {
      "text/plain": [
       "<selenium.webdriver.remote.webelement.WebElement (session=\"12b0bc604becf5dc4bc46a9dccb7eb7d\", element=\"b7b14627-e102-411f-88f1-65c721b7ff0b\")>"
      ]
     },
     "execution_count": 43,
     "metadata": {},
     "output_type": "execute_result"
    }
   ],
   "source": [
    "search_btn=driver.find_element_by_xpath(\"//button[@class='btn']\")\n",
    "search_btn"
   ]
  },
  {
   "cell_type": "code",
   "execution_count": 44,
   "id": "fcec81e2",
   "metadata": {},
   "outputs": [],
   "source": [
    "search_btn.click()"
   ]
  },
  {
   "cell_type": "code",
   "execution_count": 45,
   "id": "029b950c",
   "metadata": {},
   "outputs": [],
   "source": [
    "search_salary=driver.find_element_by_xpath('/html/body/div[1]/div[3]/div[2]/section[1]/div[2]/div[4]/div[2]/div[2]/label/i')\n",
    "search_salary.click()"
   ]
  },
  {
   "cell_type": "code",
   "execution_count": 46,
   "id": "61684ccb",
   "metadata": {},
   "outputs": [
    {
     "data": {
      "text/plain": [
       "[<selenium.webdriver.remote.webelement.WebElement (session=\"12b0bc604becf5dc4bc46a9dccb7eb7d\", element=\"76cd0c62-3af1-4585-a335-96dcb301c9bb\")>,\n",
       " <selenium.webdriver.remote.webelement.WebElement (session=\"12b0bc604becf5dc4bc46a9dccb7eb7d\", element=\"572e0229-1b4b-4e87-8349-2c961036b90d\")>,\n",
       " <selenium.webdriver.remote.webelement.WebElement (session=\"12b0bc604becf5dc4bc46a9dccb7eb7d\", element=\"7058fef2-5b26-422c-9594-7bfdf9ab0e93\")>,\n",
       " <selenium.webdriver.remote.webelement.WebElement (session=\"12b0bc604becf5dc4bc46a9dccb7eb7d\", element=\"44594864-99d7-4596-831e-7326c37eb9d1\")>,\n",
       " <selenium.webdriver.remote.webelement.WebElement (session=\"12b0bc604becf5dc4bc46a9dccb7eb7d\", element=\"3e4bfe10-4dd2-4fc8-b554-7f37d81b1108\")>,\n",
       " <selenium.webdriver.remote.webelement.WebElement (session=\"12b0bc604becf5dc4bc46a9dccb7eb7d\", element=\"c965411d-61c9-4db6-a179-557527c4719a\")>,\n",
       " <selenium.webdriver.remote.webelement.WebElement (session=\"12b0bc604becf5dc4bc46a9dccb7eb7d\", element=\"27a1246e-3ddd-46b9-95ce-39265983e922\")>,\n",
       " <selenium.webdriver.remote.webelement.WebElement (session=\"12b0bc604becf5dc4bc46a9dccb7eb7d\", element=\"3e9c321f-656c-4826-8797-072ffba87209\")>,\n",
       " <selenium.webdriver.remote.webelement.WebElement (session=\"12b0bc604becf5dc4bc46a9dccb7eb7d\", element=\"e217847d-c6ba-4263-8682-a04945693ca6\")>,\n",
       " <selenium.webdriver.remote.webelement.WebElement (session=\"12b0bc604becf5dc4bc46a9dccb7eb7d\", element=\"b2ab96a2-fb04-44da-b003-93c6c21beb09\")>,\n",
       " <selenium.webdriver.remote.webelement.WebElement (session=\"12b0bc604becf5dc4bc46a9dccb7eb7d\", element=\"94adee47-5d1f-4138-ab03-c2d4ececc26d\")>,\n",
       " <selenium.webdriver.remote.webelement.WebElement (session=\"12b0bc604becf5dc4bc46a9dccb7eb7d\", element=\"b8891592-8c65-4b42-af2f-b4f1b7ac6d1e\")>,\n",
       " <selenium.webdriver.remote.webelement.WebElement (session=\"12b0bc604becf5dc4bc46a9dccb7eb7d\", element=\"b6e6df37-b42d-4c02-a4e0-9ccf6d2a2601\")>,\n",
       " <selenium.webdriver.remote.webelement.WebElement (session=\"12b0bc604becf5dc4bc46a9dccb7eb7d\", element=\"34bbdc7f-e39a-42bf-b6e3-857a7d39a531\")>,\n",
       " <selenium.webdriver.remote.webelement.WebElement (session=\"12b0bc604becf5dc4bc46a9dccb7eb7d\", element=\"87198e15-5f5c-4b7b-a3c5-3260d1da097e\")>,\n",
       " <selenium.webdriver.remote.webelement.WebElement (session=\"12b0bc604becf5dc4bc46a9dccb7eb7d\", element=\"b5dd858d-c395-4574-ac66-3104bb057436\")>,\n",
       " <selenium.webdriver.remote.webelement.WebElement (session=\"12b0bc604becf5dc4bc46a9dccb7eb7d\", element=\"07e4e948-9d47-40cd-9de5-1a4f3cf0c615\")>,\n",
       " <selenium.webdriver.remote.webelement.WebElement (session=\"12b0bc604becf5dc4bc46a9dccb7eb7d\", element=\"4baaf539-91e5-4286-875f-db24750dd422\")>,\n",
       " <selenium.webdriver.remote.webelement.WebElement (session=\"12b0bc604becf5dc4bc46a9dccb7eb7d\", element=\"45018c63-d052-4e16-afd7-01b8ab928618\")>,\n",
       " <selenium.webdriver.remote.webelement.WebElement (session=\"12b0bc604becf5dc4bc46a9dccb7eb7d\", element=\"f1e26c29-3136-4823-bbc5-d25afe7cf339\")>]"
      ]
     },
     "execution_count": 46,
     "metadata": {},
     "output_type": "execute_result"
    }
   ],
   "source": [
    "job_title=driver.find_elements_by_xpath(\"//a[@class='title fw500 ellipsis']\")\n",
    "job_title"
   ]
  },
  {
   "cell_type": "code",
   "execution_count": 47,
   "id": "26b6974b",
   "metadata": {},
   "outputs": [
    {
     "data": {
      "text/plain": [
       "['Data Scientist- Senior Business Analyst/Lead Analyst',\n",
       " 'Senior Data Scientist Engineer (AI/ML)',\n",
       " 'Lead Data Scientist',\n",
       " 'Senior Data Scientist - KPO',\n",
       " 'Senior Data Scientist',\n",
       " 'Data Scientist: Advanced Analytics',\n",
       " 'Sr. Data Scientist/Data Scientist- IOT',\n",
       " 'Senior Data Scientist',\n",
       " 'Data Scientist',\n",
       " 'Data Scientist Internship',\n",
       " 'Senior Data Scientist / Tech Lead - Data Science',\n",
       " 'Data Scientist: Artificial Intelligence',\n",
       " 'Data Scientist',\n",
       " 'Data Scientist: Advanced Analytics',\n",
       " 'Data Scientist (Energy/ Power industry)',\n",
       " 'Data Scientist / Data Analytics _ BFSI _ Delhi',\n",
       " 'Data Scientist (Energy/Power industry)',\n",
       " 'Acon / Con - Data Scientist',\n",
       " 'Data Scientist',\n",
       " 'Data Scientist']"
      ]
     },
     "execution_count": 47,
     "metadata": {},
     "output_type": "execute_result"
    }
   ],
   "source": [
    "titles_job=[]\n",
    "for i in job_title:\n",
    "    titles_job.append(i.text)\n",
    "titles_job"
   ]
  },
  {
   "cell_type": "code",
   "execution_count": 48,
   "id": "a36d52ea",
   "metadata": {},
   "outputs": [
    {
     "data": {
      "text/plain": [
       "[<selenium.webdriver.remote.webelement.WebElement (session=\"12b0bc604becf5dc4bc46a9dccb7eb7d\", element=\"3fb60795-8e0e-4ec4-82ec-bf2dda20a16f\")>,\n",
       " <selenium.webdriver.remote.webelement.WebElement (session=\"12b0bc604becf5dc4bc46a9dccb7eb7d\", element=\"5a343c8d-0f04-4b73-863d-eff348f1e949\")>,\n",
       " <selenium.webdriver.remote.webelement.WebElement (session=\"12b0bc604becf5dc4bc46a9dccb7eb7d\", element=\"3c326da3-68c2-4996-9dd7-5f2e33ea40ab\")>,\n",
       " <selenium.webdriver.remote.webelement.WebElement (session=\"12b0bc604becf5dc4bc46a9dccb7eb7d\", element=\"3e5edf58-f29d-4f20-8726-9b5d1768690e\")>,\n",
       " <selenium.webdriver.remote.webelement.WebElement (session=\"12b0bc604becf5dc4bc46a9dccb7eb7d\", element=\"ab02035d-855b-4a61-8663-ca82a3d7beab\")>,\n",
       " <selenium.webdriver.remote.webelement.WebElement (session=\"12b0bc604becf5dc4bc46a9dccb7eb7d\", element=\"00b3d69e-9c21-450e-bf7a-901f50119a47\")>,\n",
       " <selenium.webdriver.remote.webelement.WebElement (session=\"12b0bc604becf5dc4bc46a9dccb7eb7d\", element=\"b258aa07-4be3-4a9b-b6c0-265f3dc6acf4\")>,\n",
       " <selenium.webdriver.remote.webelement.WebElement (session=\"12b0bc604becf5dc4bc46a9dccb7eb7d\", element=\"034e41db-18f9-452d-b2e7-ed1841f4d505\")>,\n",
       " <selenium.webdriver.remote.webelement.WebElement (session=\"12b0bc604becf5dc4bc46a9dccb7eb7d\", element=\"0becfc10-eb2a-4197-a510-963357203699\")>,\n",
       " <selenium.webdriver.remote.webelement.WebElement (session=\"12b0bc604becf5dc4bc46a9dccb7eb7d\", element=\"5611d578-67a8-4fee-b383-16d8b6ddcc48\")>,\n",
       " <selenium.webdriver.remote.webelement.WebElement (session=\"12b0bc604becf5dc4bc46a9dccb7eb7d\", element=\"9bb4f8cd-0148-41c3-9ffe-79ac0ffe0192\")>,\n",
       " <selenium.webdriver.remote.webelement.WebElement (session=\"12b0bc604becf5dc4bc46a9dccb7eb7d\", element=\"30180d0e-a1c4-4def-9ff4-3bb542e08e0b\")>,\n",
       " <selenium.webdriver.remote.webelement.WebElement (session=\"12b0bc604becf5dc4bc46a9dccb7eb7d\", element=\"0903c2e5-535f-43ae-9466-90a890fc0a12\")>,\n",
       " <selenium.webdriver.remote.webelement.WebElement (session=\"12b0bc604becf5dc4bc46a9dccb7eb7d\", element=\"3c24c953-7995-413a-922d-be4aa03c818f\")>,\n",
       " <selenium.webdriver.remote.webelement.WebElement (session=\"12b0bc604becf5dc4bc46a9dccb7eb7d\", element=\"305bbecc-6a1a-422a-a395-6c69006aec45\")>,\n",
       " <selenium.webdriver.remote.webelement.WebElement (session=\"12b0bc604becf5dc4bc46a9dccb7eb7d\", element=\"4a9eecff-19a6-46af-8091-5d5fa4ebe716\")>,\n",
       " <selenium.webdriver.remote.webelement.WebElement (session=\"12b0bc604becf5dc4bc46a9dccb7eb7d\", element=\"a30677e2-639d-44bf-a245-6c10f6224031\")>,\n",
       " <selenium.webdriver.remote.webelement.WebElement (session=\"12b0bc604becf5dc4bc46a9dccb7eb7d\", element=\"2ba60904-0057-43de-9c4a-3d696cbac818\")>,\n",
       " <selenium.webdriver.remote.webelement.WebElement (session=\"12b0bc604becf5dc4bc46a9dccb7eb7d\", element=\"371ec3f7-b902-469b-9da9-88599efffb3e\")>,\n",
       " <selenium.webdriver.remote.webelement.WebElement (session=\"12b0bc604becf5dc4bc46a9dccb7eb7d\", element=\"b6c26db7-a014-4646-8a35-cba3ffd336e6\")>,\n",
       " <selenium.webdriver.remote.webelement.WebElement (session=\"12b0bc604becf5dc4bc46a9dccb7eb7d\", element=\"462dab66-ced9-4b90-91d0-02b351bf9973\")>,\n",
       " <selenium.webdriver.remote.webelement.WebElement (session=\"12b0bc604becf5dc4bc46a9dccb7eb7d\", element=\"e44776ab-d0e9-4b19-b0a7-5da0a02bf104\")>]"
      ]
     },
     "execution_count": 48,
     "metadata": {},
     "output_type": "execute_result"
    }
   ],
   "source": [
    "job_locations=driver.find_elements_by_xpath(\"//li[@class='fleft grey-text br2 placeHolderLi location']//span\")\n",
    "job_locations"
   ]
  },
  {
   "cell_type": "code",
   "execution_count": 49,
   "id": "a96d45a6",
   "metadata": {},
   "outputs": [
    {
     "data": {
      "text/plain": [
       "['Gurgaon/Gurugram, Bangalore/Bengaluru',\n",
       " 'Gurgaon/Gurugram',\n",
       " 'Bangalore/Bengaluru, Delhi / NCR, Mumbai (All Areas)',\n",
       " '(WFH during Covid)',\n",
       " 'Mumbai, Bangalore/Bengaluru, Delhi / NCR',\n",
       " 'Mumbai, Delhi / NCR, Bangalore/Bengaluru',\n",
       " 'Delhi / NCR',\n",
       " 'Noida',\n",
       " 'Gurgaon/Gurugram',\n",
       " 'Noida, Gurgaon/Gurugram, Delhi / NCR',\n",
       " 'New Delhi',\n",
       " 'Bangalore/Bengaluru, Delhi / NCR',\n",
       " 'Gurgaon/Gurugram',\n",
       " 'Gurgaon/Gurugram',\n",
       " 'Delhi / NCR',\n",
       " 'Gurgaon/Gurugram, Delhi / NCR',\n",
       " 'New Delhi',\n",
       " 'Gurgaon/Gurugram, Delhi / NCR',\n",
       " 'Noida, Gurgaon/Gurugram, Bangalore/Bengaluru',\n",
       " 'Delhi / NCR',\n",
       " 'Kolkata, Hyderabad/Secunderabad, Ahmedabad, Bangalore/Bengaluru, Delhi / NCR, jharkhand, odisha, west bengal',\n",
       " '(WFH during Covid)']"
      ]
     },
     "execution_count": 49,
     "metadata": {},
     "output_type": "execute_result"
    }
   ],
   "source": [
    "locations_job=[]\n",
    "for i in job_locations:\n",
    "    locations_job.append(i.text)\n",
    "locations_job"
   ]
  },
  {
   "cell_type": "code",
   "execution_count": 50,
   "id": "ce470a11",
   "metadata": {},
   "outputs": [
    {
     "data": {
      "text/plain": [
       "[<selenium.webdriver.remote.webelement.WebElement (session=\"12b0bc604becf5dc4bc46a9dccb7eb7d\", element=\"92992cbe-70eb-4a23-95c9-e53aecd864bf\")>,\n",
       " <selenium.webdriver.remote.webelement.WebElement (session=\"12b0bc604becf5dc4bc46a9dccb7eb7d\", element=\"4db5b766-fa8d-48ca-b8f0-36fc6c30bad6\")>,\n",
       " <selenium.webdriver.remote.webelement.WebElement (session=\"12b0bc604becf5dc4bc46a9dccb7eb7d\", element=\"cd1b2d83-f8e7-4234-8d73-1d9a7bd90f94\")>,\n",
       " <selenium.webdriver.remote.webelement.WebElement (session=\"12b0bc604becf5dc4bc46a9dccb7eb7d\", element=\"70ca0037-8aeb-4a39-b8ae-2e44563cae96\")>,\n",
       " <selenium.webdriver.remote.webelement.WebElement (session=\"12b0bc604becf5dc4bc46a9dccb7eb7d\", element=\"bf27db1e-451d-4209-bdbd-bedc498796d6\")>,\n",
       " <selenium.webdriver.remote.webelement.WebElement (session=\"12b0bc604becf5dc4bc46a9dccb7eb7d\", element=\"05195142-8474-4ec9-9b8f-71432e1a2768\")>,\n",
       " <selenium.webdriver.remote.webelement.WebElement (session=\"12b0bc604becf5dc4bc46a9dccb7eb7d\", element=\"7a9ef5c8-d508-433b-885f-d7920b8ea2b7\")>,\n",
       " <selenium.webdriver.remote.webelement.WebElement (session=\"12b0bc604becf5dc4bc46a9dccb7eb7d\", element=\"affe397d-6846-45d9-a926-b54b7dd3bc87\")>,\n",
       " <selenium.webdriver.remote.webelement.WebElement (session=\"12b0bc604becf5dc4bc46a9dccb7eb7d\", element=\"6e641f8a-cb8c-4dba-8fc3-6a48d24d0a47\")>,\n",
       " <selenium.webdriver.remote.webelement.WebElement (session=\"12b0bc604becf5dc4bc46a9dccb7eb7d\", element=\"20ba324a-89b9-4729-b6d6-61abd5df33c9\")>,\n",
       " <selenium.webdriver.remote.webelement.WebElement (session=\"12b0bc604becf5dc4bc46a9dccb7eb7d\", element=\"96aea5b1-4244-4cae-a758-732197fa301c\")>,\n",
       " <selenium.webdriver.remote.webelement.WebElement (session=\"12b0bc604becf5dc4bc46a9dccb7eb7d\", element=\"10d875f3-b6f3-40c3-8147-cd81bff44765\")>,\n",
       " <selenium.webdriver.remote.webelement.WebElement (session=\"12b0bc604becf5dc4bc46a9dccb7eb7d\", element=\"bad78713-0b93-435a-8826-eaffb3e43c78\")>,\n",
       " <selenium.webdriver.remote.webelement.WebElement (session=\"12b0bc604becf5dc4bc46a9dccb7eb7d\", element=\"a582f784-805e-43b1-aa31-dada15412082\")>,\n",
       " <selenium.webdriver.remote.webelement.WebElement (session=\"12b0bc604becf5dc4bc46a9dccb7eb7d\", element=\"edee4d49-bd41-4cc5-8cfc-e537666e3f3e\")>,\n",
       " <selenium.webdriver.remote.webelement.WebElement (session=\"12b0bc604becf5dc4bc46a9dccb7eb7d\", element=\"317e2fab-e716-440f-a343-997f86739946\")>,\n",
       " <selenium.webdriver.remote.webelement.WebElement (session=\"12b0bc604becf5dc4bc46a9dccb7eb7d\", element=\"999aa901-0324-4552-a588-0a0368200ad6\")>,\n",
       " <selenium.webdriver.remote.webelement.WebElement (session=\"12b0bc604becf5dc4bc46a9dccb7eb7d\", element=\"21221b6b-1752-4823-897b-81b4aa185ace\")>,\n",
       " <selenium.webdriver.remote.webelement.WebElement (session=\"12b0bc604becf5dc4bc46a9dccb7eb7d\", element=\"18ca1003-d5a7-43d9-8ba0-60ef932bfa31\")>,\n",
       " <selenium.webdriver.remote.webelement.WebElement (session=\"12b0bc604becf5dc4bc46a9dccb7eb7d\", element=\"7a3d39a1-7068-46f2-9dd6-00074a17be9d\")>]"
      ]
     },
     "execution_count": 50,
     "metadata": {},
     "output_type": "execute_result"
    }
   ],
   "source": [
    "company_name=driver.find_elements_by_xpath(\"//a[@class='subTitle ellipsis fleft']\")\n",
    "company_name"
   ]
  },
  {
   "cell_type": "code",
   "execution_count": 51,
   "id": "0ba9d6e6",
   "metadata": {},
   "outputs": [
    {
     "data": {
      "text/plain": [
       "['Evalueserve.com Pvt. Ltd',\n",
       " 'WM UNIVERSAL SOLUTIONS PRIVATE LIMITED',\n",
       " 'TransOrg Solutions Services (P) Ltd.',\n",
       " 'TalentCo Search Pvt Ltd',\n",
       " 'TalentCo Search Pvt Ltd',\n",
       " 'IBM India Pvt. Limited',\n",
       " 'Pentair Water India Pvt Ltd',\n",
       " 'AARDE TECHNOSOFT',\n",
       " 'Agreeya',\n",
       " 'iHackers Inc',\n",
       " 'Confidential',\n",
       " 'IBM India Pvt. Limited',\n",
       " 'CBRE South Asia Pvt Ltd',\n",
       " 'IBM India Pvt. Limited',\n",
       " 'First Employer',\n",
       " 'V- Konnect Associates',\n",
       " 'First Employer',\n",
       " 'Pylon Management Consulting Pvt Ltd',\n",
       " 'Wattmonk Technologies Pvt. Ltd.',\n",
       " 'Experiture']"
      ]
     },
     "execution_count": 51,
     "metadata": {},
     "output_type": "execute_result"
    }
   ],
   "source": [
    "name_company=[]\n",
    "for i in company_name:\n",
    "    name_company.append(i.text)\n",
    "name_company"
   ]
  },
  {
   "cell_type": "code",
   "execution_count": 52,
   "id": "421ee920",
   "metadata": {},
   "outputs": [
    {
     "data": {
      "text/plain": [
       "[<selenium.webdriver.remote.webelement.WebElement (session=\"12b0bc604becf5dc4bc46a9dccb7eb7d\", element=\"7e429f35-5c45-4050-a53d-765fede72938\")>,\n",
       " <selenium.webdriver.remote.webelement.WebElement (session=\"12b0bc604becf5dc4bc46a9dccb7eb7d\", element=\"71b46106-a15f-4f6a-afcc-037ec00c8320\")>,\n",
       " <selenium.webdriver.remote.webelement.WebElement (session=\"12b0bc604becf5dc4bc46a9dccb7eb7d\", element=\"30cf364b-0547-4164-ae71-7a132fa28d26\")>,\n",
       " <selenium.webdriver.remote.webelement.WebElement (session=\"12b0bc604becf5dc4bc46a9dccb7eb7d\", element=\"887eba42-1f64-40ff-9971-96a53c275608\")>,\n",
       " <selenium.webdriver.remote.webelement.WebElement (session=\"12b0bc604becf5dc4bc46a9dccb7eb7d\", element=\"f25901f4-a284-4afc-b9e0-5470a517d3e8\")>,\n",
       " <selenium.webdriver.remote.webelement.WebElement (session=\"12b0bc604becf5dc4bc46a9dccb7eb7d\", element=\"4197cdd1-8230-4320-b766-1bd9285a2cee\")>,\n",
       " <selenium.webdriver.remote.webelement.WebElement (session=\"12b0bc604becf5dc4bc46a9dccb7eb7d\", element=\"19d753a3-f7f4-4ff6-ad62-b1092d040e56\")>,\n",
       " <selenium.webdriver.remote.webelement.WebElement (session=\"12b0bc604becf5dc4bc46a9dccb7eb7d\", element=\"f5fcbeab-ff61-4211-82f3-1c110a92ffc6\")>,\n",
       " <selenium.webdriver.remote.webelement.WebElement (session=\"12b0bc604becf5dc4bc46a9dccb7eb7d\", element=\"89f117d4-ae01-4e7e-99e3-df57bab4c023\")>,\n",
       " <selenium.webdriver.remote.webelement.WebElement (session=\"12b0bc604becf5dc4bc46a9dccb7eb7d\", element=\"068b22c0-2f24-47f7-b96e-7cf2092c242d\")>,\n",
       " <selenium.webdriver.remote.webelement.WebElement (session=\"12b0bc604becf5dc4bc46a9dccb7eb7d\", element=\"72e71482-64ae-4236-a42c-b28e9df62fcc\")>,\n",
       " <selenium.webdriver.remote.webelement.WebElement (session=\"12b0bc604becf5dc4bc46a9dccb7eb7d\", element=\"816f2151-1d33-4369-aaa4-78b52c67ba09\")>,\n",
       " <selenium.webdriver.remote.webelement.WebElement (session=\"12b0bc604becf5dc4bc46a9dccb7eb7d\", element=\"2dfa95a9-d6f3-4560-b726-46495c3102b9\")>,\n",
       " <selenium.webdriver.remote.webelement.WebElement (session=\"12b0bc604becf5dc4bc46a9dccb7eb7d\", element=\"8881b2a2-80c3-4d1d-a0b5-528ddbe32039\")>,\n",
       " <selenium.webdriver.remote.webelement.WebElement (session=\"12b0bc604becf5dc4bc46a9dccb7eb7d\", element=\"16371118-0b65-4aae-83e3-538601883d00\")>,\n",
       " <selenium.webdriver.remote.webelement.WebElement (session=\"12b0bc604becf5dc4bc46a9dccb7eb7d\", element=\"b7b375ef-2ca6-475b-b955-978d1b1d58c5\")>,\n",
       " <selenium.webdriver.remote.webelement.WebElement (session=\"12b0bc604becf5dc4bc46a9dccb7eb7d\", element=\"e14eb9b8-1d73-4dec-b0c4-51edb8ea8f49\")>,\n",
       " <selenium.webdriver.remote.webelement.WebElement (session=\"12b0bc604becf5dc4bc46a9dccb7eb7d\", element=\"0c7ee5d1-6e03-4311-83a0-89ea98f92b66\")>,\n",
       " <selenium.webdriver.remote.webelement.WebElement (session=\"12b0bc604becf5dc4bc46a9dccb7eb7d\", element=\"ffb6ed7c-9680-4827-ae19-2036b78e3690\")>,\n",
       " <selenium.webdriver.remote.webelement.WebElement (session=\"12b0bc604becf5dc4bc46a9dccb7eb7d\", element=\"2bc7ff95-d625-46fb-a7c7-1062975f4b85\")>]"
      ]
     },
     "execution_count": 52,
     "metadata": {},
     "output_type": "execute_result"
    }
   ],
   "source": [
    "exp=driver.find_elements_by_xpath(\"//li[@class='fleft grey-text br2 placeHolderLi experience']//span\")\n",
    "exp"
   ]
  },
  {
   "cell_type": "code",
   "execution_count": 53,
   "id": "5dcb2617",
   "metadata": {},
   "outputs": [
    {
     "data": {
      "text/plain": [
       "['2-7 Yrs',\n",
       " '8-10 Yrs',\n",
       " '4-6 Yrs',\n",
       " '6-10 Yrs',\n",
       " '6-10 Yrs',\n",
       " '3-7 Yrs',\n",
       " '8-13 Yrs',\n",
       " '3-6 Yrs',\n",
       " '3-6 Yrs',\n",
       " '0-1 Yrs',\n",
       " '6-9 Yrs',\n",
       " '4-8 Yrs',\n",
       " '2-4 Yrs',\n",
       " '5-10 Yrs',\n",
       " '2-5 Yrs',\n",
       " '4-9 Yrs',\n",
       " '4-8 Yrs',\n",
       " '2-6 Yrs',\n",
       " '3-5 Yrs',\n",
       " '5-7 Yrs']"
      ]
     },
     "execution_count": 53,
     "metadata": {},
     "output_type": "execute_result"
    }
   ],
   "source": [
    "exp_req=[]\n",
    "for i in exp:\n",
    "    exp_req.append(i.text)\n",
    "exp_req"
   ]
  },
  {
   "cell_type": "code",
   "execution_count": 54,
   "id": "e87a8ac9",
   "metadata": {},
   "outputs": [
    {
     "data": {
      "text/html": [
       "<div>\n",
       "<style scoped>\n",
       "    .dataframe tbody tr th:only-of-type {\n",
       "        vertical-align: middle;\n",
       "    }\n",
       "\n",
       "    .dataframe tbody tr th {\n",
       "        vertical-align: top;\n",
       "    }\n",
       "\n",
       "    .dataframe thead th {\n",
       "        text-align: right;\n",
       "    }\n",
       "</style>\n",
       "<table border=\"1\" class=\"dataframe\">\n",
       "  <thead>\n",
       "    <tr style=\"text-align: right;\">\n",
       "      <th></th>\n",
       "      <th>job_title</th>\n",
       "      <th>job_locations</th>\n",
       "      <th>company_name</th>\n",
       "      <th>exp</th>\n",
       "    </tr>\n",
       "  </thead>\n",
       "  <tbody>\n",
       "    <tr>\n",
       "      <th>0</th>\n",
       "      <td>Data Scientist- Senior Business Analyst/Lead A...</td>\n",
       "      <td>Gurgaon/Gurugram, Bangalore/Bengaluru</td>\n",
       "      <td>Evalueserve.com Pvt. Ltd</td>\n",
       "      <td>2-7 Yrs</td>\n",
       "    </tr>\n",
       "    <tr>\n",
       "      <th>1</th>\n",
       "      <td>Senior Data Scientist Engineer (AI/ML)</td>\n",
       "      <td>Gurgaon/Gurugram</td>\n",
       "      <td>WM UNIVERSAL SOLUTIONS PRIVATE LIMITED</td>\n",
       "      <td>8-10 Yrs</td>\n",
       "    </tr>\n",
       "    <tr>\n",
       "      <th>2</th>\n",
       "      <td>Lead Data Scientist</td>\n",
       "      <td>Bangalore/Bengaluru, Delhi / NCR, Mumbai (All ...</td>\n",
       "      <td>TransOrg Solutions Services (P) Ltd.</td>\n",
       "      <td>4-6 Yrs</td>\n",
       "    </tr>\n",
       "    <tr>\n",
       "      <th>3</th>\n",
       "      <td>Senior Data Scientist - KPO</td>\n",
       "      <td>(WFH during Covid)</td>\n",
       "      <td>TalentCo Search Pvt Ltd</td>\n",
       "      <td>6-10 Yrs</td>\n",
       "    </tr>\n",
       "    <tr>\n",
       "      <th>4</th>\n",
       "      <td>Senior Data Scientist</td>\n",
       "      <td>Mumbai, Bangalore/Bengaluru, Delhi / NCR</td>\n",
       "      <td>TalentCo Search Pvt Ltd</td>\n",
       "      <td>6-10 Yrs</td>\n",
       "    </tr>\n",
       "    <tr>\n",
       "      <th>5</th>\n",
       "      <td>Data Scientist: Advanced Analytics</td>\n",
       "      <td>Mumbai, Delhi / NCR, Bangalore/Bengaluru</td>\n",
       "      <td>IBM India Pvt. Limited</td>\n",
       "      <td>3-7 Yrs</td>\n",
       "    </tr>\n",
       "    <tr>\n",
       "      <th>6</th>\n",
       "      <td>Sr. Data Scientist/Data Scientist- IOT</td>\n",
       "      <td>Delhi / NCR</td>\n",
       "      <td>Pentair Water India Pvt Ltd</td>\n",
       "      <td>8-13 Yrs</td>\n",
       "    </tr>\n",
       "    <tr>\n",
       "      <th>7</th>\n",
       "      <td>Senior Data Scientist</td>\n",
       "      <td>Noida</td>\n",
       "      <td>AARDE TECHNOSOFT</td>\n",
       "      <td>3-6 Yrs</td>\n",
       "    </tr>\n",
       "    <tr>\n",
       "      <th>8</th>\n",
       "      <td>Data Scientist</td>\n",
       "      <td>Gurgaon/Gurugram</td>\n",
       "      <td>Agreeya</td>\n",
       "      <td>3-6 Yrs</td>\n",
       "    </tr>\n",
       "    <tr>\n",
       "      <th>9</th>\n",
       "      <td>Data Scientist Internship</td>\n",
       "      <td>Noida, Gurgaon/Gurugram, Delhi / NCR</td>\n",
       "      <td>iHackers Inc</td>\n",
       "      <td>0-1 Yrs</td>\n",
       "    </tr>\n",
       "  </tbody>\n",
       "</table>\n",
       "</div>"
      ],
      "text/plain": [
       "                                           job_title  \\\n",
       "0  Data Scientist- Senior Business Analyst/Lead A...   \n",
       "1             Senior Data Scientist Engineer (AI/ML)   \n",
       "2                                Lead Data Scientist   \n",
       "3                        Senior Data Scientist - KPO   \n",
       "4                              Senior Data Scientist   \n",
       "5                 Data Scientist: Advanced Analytics   \n",
       "6             Sr. Data Scientist/Data Scientist- IOT   \n",
       "7                              Senior Data Scientist   \n",
       "8                                     Data Scientist   \n",
       "9                          Data Scientist Internship   \n",
       "\n",
       "                                       job_locations  \\\n",
       "0              Gurgaon/Gurugram, Bangalore/Bengaluru   \n",
       "1                                   Gurgaon/Gurugram   \n",
       "2  Bangalore/Bengaluru, Delhi / NCR, Mumbai (All ...   \n",
       "3                                 (WFH during Covid)   \n",
       "4           Mumbai, Bangalore/Bengaluru, Delhi / NCR   \n",
       "5           Mumbai, Delhi / NCR, Bangalore/Bengaluru   \n",
       "6                                        Delhi / NCR   \n",
       "7                                              Noida   \n",
       "8                                   Gurgaon/Gurugram   \n",
       "9               Noida, Gurgaon/Gurugram, Delhi / NCR   \n",
       "\n",
       "                             company_name       exp  \n",
       "0                Evalueserve.com Pvt. Ltd   2-7 Yrs  \n",
       "1  WM UNIVERSAL SOLUTIONS PRIVATE LIMITED  8-10 Yrs  \n",
       "2    TransOrg Solutions Services (P) Ltd.   4-6 Yrs  \n",
       "3                 TalentCo Search Pvt Ltd  6-10 Yrs  \n",
       "4                 TalentCo Search Pvt Ltd  6-10 Yrs  \n",
       "5                  IBM India Pvt. Limited   3-7 Yrs  \n",
       "6             Pentair Water India Pvt Ltd  8-13 Yrs  \n",
       "7                        AARDE TECHNOSOFT   3-6 Yrs  \n",
       "8                                 Agreeya   3-6 Yrs  \n",
       "9                            iHackers Inc   0-1 Yrs  "
      ]
     },
     "execution_count": 54,
     "metadata": {},
     "output_type": "execute_result"
    }
   ],
   "source": [
    "naukari=pd.DataFrame({'job_title':titles_job[:10],\n",
    "                            'job_locations':locations_job[:10],\n",
    "                            'company_name':name_company[:10],\n",
    "                             'exp':exp_req[:10] })\n",
    "naukari"
   ]
  },
  {
   "cell_type": "code",
   "execution_count": 55,
   "id": "ebc3d13d",
   "metadata": {},
   "outputs": [],
   "source": [
    "#Q4: Write a python program to scrape data for first 10 job results for Data scientist \n",
    "#Designation in Noida location. You have to scrape company_name, No. of days \n",
    "#ago when job was posted, Rating of the company."
   ]
  },
  {
   "cell_type": "code",
   "execution_count": 56,
   "id": "381af47d",
   "metadata": {},
   "outputs": [],
   "source": [
    "import requests\n",
    "import pandas as pd\n",
    "\n",
    "from bs4 import BeautifulSoup\n",
    "import selenium\n",
    "from selenium import webdriver\n",
    "driver=webdriver.Chrome('C:/Users/LENOVO/Downloads/chromedriver_win32/chromedriver')\n",
    "url='https://www.glassdoor.co.in/member/home/index.htm'\n",
    "driver.get(url)"
   ]
  },
  {
   "cell_type": "code",
   "execution_count": 58,
   "id": "d78bde37",
   "metadata": {},
   "outputs": [
    {
     "data": {
      "text/plain": [
       "<selenium.webdriver.remote.webelement.WebElement (session=\"e116eb6cc55a3187509ed1dc2a248806\", element=\"cb81a858-1226-4a67-9355-9e0f5311e0c8\")>"
      ]
     },
     "execution_count": 58,
     "metadata": {},
     "output_type": "execute_result"
    }
   ],
   "source": [
    "search_design=driver.find_element_by_id(\"sc.keyword\")\n",
    "search_design"
   ]
  },
  {
   "cell_type": "code",
   "execution_count": 59,
   "id": "dad3fc6d",
   "metadata": {},
   "outputs": [],
   "source": [
    "search_design.send_keys('Data Scientist')"
   ]
  },
  {
   "cell_type": "code",
   "execution_count": 60,
   "id": "dde54a3a",
   "metadata": {},
   "outputs": [
    {
     "data": {
      "text/plain": [
       "<selenium.webdriver.remote.webelement.WebElement (session=\"e116eb6cc55a3187509ed1dc2a248806\", element=\"61de88a7-0174-444c-949b-4cb4e0478c0c\")>"
      ]
     },
     "execution_count": 60,
     "metadata": {},
     "output_type": "execute_result"
    }
   ],
   "source": [
    "search_location=driver.find_element_by_id(\"sc.location\")\n",
    "search_location"
   ]
  },
  {
   "cell_type": "code",
   "execution_count": 69,
   "id": "682788e4",
   "metadata": {},
   "outputs": [
    {
     "ename": "StaleElementReferenceException",
     "evalue": "Message: stale element reference: element is not attached to the page document\n  (Session info: chrome=92.0.4515.131)\n",
     "output_type": "error",
     "traceback": [
      "\u001b[1;31m---------------------------------------------------------------------------\u001b[0m",
      "\u001b[1;31mStaleElementReferenceException\u001b[0m            Traceback (most recent call last)",
      "\u001b[1;32m<ipython-input-69-0b4671e254c8>\u001b[0m in \u001b[0;36m<module>\u001b[1;34m\u001b[0m\n\u001b[1;32m----> 1\u001b[1;33m \u001b[0msearch_location\u001b[0m\u001b[1;33m.\u001b[0m\u001b[0msend_keys\u001b[0m\u001b[1;33m(\u001b[0m\u001b[1;34m'noida'\u001b[0m\u001b[1;33m)\u001b[0m\u001b[1;33m\u001b[0m\u001b[1;33m\u001b[0m\u001b[0m\n\u001b[0m",
      "\u001b[1;32mE:\\anaconda\\lib\\site-packages\\selenium\\webdriver\\remote\\webelement.py\u001b[0m in \u001b[0;36msend_keys\u001b[1;34m(self, *value)\u001b[0m\n\u001b[0;32m    475\u001b[0m                 \u001b[0mvalue\u001b[0m \u001b[1;33m=\u001b[0m \u001b[0mself\u001b[0m\u001b[1;33m.\u001b[0m\u001b[0m_upload\u001b[0m\u001b[1;33m(\u001b[0m\u001b[0mlocal_file\u001b[0m\u001b[1;33m)\u001b[0m\u001b[1;33m\u001b[0m\u001b[1;33m\u001b[0m\u001b[0m\n\u001b[0;32m    476\u001b[0m \u001b[1;33m\u001b[0m\u001b[0m\n\u001b[1;32m--> 477\u001b[1;33m         self._execute(Command.SEND_KEYS_TO_ELEMENT,\n\u001b[0m\u001b[0;32m    478\u001b[0m                       {'text': \"\".join(keys_to_typing(value)),\n\u001b[0;32m    479\u001b[0m                        'value': keys_to_typing(value)})\n",
      "\u001b[1;32mE:\\anaconda\\lib\\site-packages\\selenium\\webdriver\\remote\\webelement.py\u001b[0m in \u001b[0;36m_execute\u001b[1;34m(self, command, params)\u001b[0m\n\u001b[0;32m    631\u001b[0m             \u001b[0mparams\u001b[0m \u001b[1;33m=\u001b[0m \u001b[1;33m{\u001b[0m\u001b[1;33m}\u001b[0m\u001b[1;33m\u001b[0m\u001b[1;33m\u001b[0m\u001b[0m\n\u001b[0;32m    632\u001b[0m         \u001b[0mparams\u001b[0m\u001b[1;33m[\u001b[0m\u001b[1;34m'id'\u001b[0m\u001b[1;33m]\u001b[0m \u001b[1;33m=\u001b[0m \u001b[0mself\u001b[0m\u001b[1;33m.\u001b[0m\u001b[0m_id\u001b[0m\u001b[1;33m\u001b[0m\u001b[1;33m\u001b[0m\u001b[0m\n\u001b[1;32m--> 633\u001b[1;33m         \u001b[1;32mreturn\u001b[0m \u001b[0mself\u001b[0m\u001b[1;33m.\u001b[0m\u001b[0m_parent\u001b[0m\u001b[1;33m.\u001b[0m\u001b[0mexecute\u001b[0m\u001b[1;33m(\u001b[0m\u001b[0mcommand\u001b[0m\u001b[1;33m,\u001b[0m \u001b[0mparams\u001b[0m\u001b[1;33m)\u001b[0m\u001b[1;33m\u001b[0m\u001b[1;33m\u001b[0m\u001b[0m\n\u001b[0m\u001b[0;32m    634\u001b[0m \u001b[1;33m\u001b[0m\u001b[0m\n\u001b[0;32m    635\u001b[0m     \u001b[1;32mdef\u001b[0m \u001b[0mfind_element\u001b[0m\u001b[1;33m(\u001b[0m\u001b[0mself\u001b[0m\u001b[1;33m,\u001b[0m \u001b[0mby\u001b[0m\u001b[1;33m=\u001b[0m\u001b[0mBy\u001b[0m\u001b[1;33m.\u001b[0m\u001b[0mID\u001b[0m\u001b[1;33m,\u001b[0m \u001b[0mvalue\u001b[0m\u001b[1;33m=\u001b[0m\u001b[1;32mNone\u001b[0m\u001b[1;33m)\u001b[0m\u001b[1;33m:\u001b[0m\u001b[1;33m\u001b[0m\u001b[1;33m\u001b[0m\u001b[0m\n",
      "\u001b[1;32mE:\\anaconda\\lib\\site-packages\\selenium\\webdriver\\remote\\webdriver.py\u001b[0m in \u001b[0;36mexecute\u001b[1;34m(self, driver_command, params)\u001b[0m\n\u001b[0;32m    319\u001b[0m         \u001b[0mresponse\u001b[0m \u001b[1;33m=\u001b[0m \u001b[0mself\u001b[0m\u001b[1;33m.\u001b[0m\u001b[0mcommand_executor\u001b[0m\u001b[1;33m.\u001b[0m\u001b[0mexecute\u001b[0m\u001b[1;33m(\u001b[0m\u001b[0mdriver_command\u001b[0m\u001b[1;33m,\u001b[0m \u001b[0mparams\u001b[0m\u001b[1;33m)\u001b[0m\u001b[1;33m\u001b[0m\u001b[1;33m\u001b[0m\u001b[0m\n\u001b[0;32m    320\u001b[0m         \u001b[1;32mif\u001b[0m \u001b[0mresponse\u001b[0m\u001b[1;33m:\u001b[0m\u001b[1;33m\u001b[0m\u001b[1;33m\u001b[0m\u001b[0m\n\u001b[1;32m--> 321\u001b[1;33m             \u001b[0mself\u001b[0m\u001b[1;33m.\u001b[0m\u001b[0merror_handler\u001b[0m\u001b[1;33m.\u001b[0m\u001b[0mcheck_response\u001b[0m\u001b[1;33m(\u001b[0m\u001b[0mresponse\u001b[0m\u001b[1;33m)\u001b[0m\u001b[1;33m\u001b[0m\u001b[1;33m\u001b[0m\u001b[0m\n\u001b[0m\u001b[0;32m    322\u001b[0m             response['value'] = self._unwrap_value(\n\u001b[0;32m    323\u001b[0m                 response.get('value', None))\n",
      "\u001b[1;32mE:\\anaconda\\lib\\site-packages\\selenium\\webdriver\\remote\\errorhandler.py\u001b[0m in \u001b[0;36mcheck_response\u001b[1;34m(self, response)\u001b[0m\n\u001b[0;32m    240\u001b[0m                 \u001b[0malert_text\u001b[0m \u001b[1;33m=\u001b[0m \u001b[0mvalue\u001b[0m\u001b[1;33m[\u001b[0m\u001b[1;34m'alert'\u001b[0m\u001b[1;33m]\u001b[0m\u001b[1;33m.\u001b[0m\u001b[0mget\u001b[0m\u001b[1;33m(\u001b[0m\u001b[1;34m'text'\u001b[0m\u001b[1;33m)\u001b[0m\u001b[1;33m\u001b[0m\u001b[1;33m\u001b[0m\u001b[0m\n\u001b[0;32m    241\u001b[0m             \u001b[1;32mraise\u001b[0m \u001b[0mexception_class\u001b[0m\u001b[1;33m(\u001b[0m\u001b[0mmessage\u001b[0m\u001b[1;33m,\u001b[0m \u001b[0mscreen\u001b[0m\u001b[1;33m,\u001b[0m \u001b[0mstacktrace\u001b[0m\u001b[1;33m,\u001b[0m \u001b[0malert_text\u001b[0m\u001b[1;33m)\u001b[0m\u001b[1;33m\u001b[0m\u001b[1;33m\u001b[0m\u001b[0m\n\u001b[1;32m--> 242\u001b[1;33m         \u001b[1;32mraise\u001b[0m \u001b[0mexception_class\u001b[0m\u001b[1;33m(\u001b[0m\u001b[0mmessage\u001b[0m\u001b[1;33m,\u001b[0m \u001b[0mscreen\u001b[0m\u001b[1;33m,\u001b[0m \u001b[0mstacktrace\u001b[0m\u001b[1;33m)\u001b[0m\u001b[1;33m\u001b[0m\u001b[1;33m\u001b[0m\u001b[0m\n\u001b[0m\u001b[0;32m    243\u001b[0m \u001b[1;33m\u001b[0m\u001b[0m\n\u001b[0;32m    244\u001b[0m     \u001b[1;32mdef\u001b[0m \u001b[0m_value_or_default\u001b[0m\u001b[1;33m(\u001b[0m\u001b[0mself\u001b[0m\u001b[1;33m,\u001b[0m \u001b[0mobj\u001b[0m\u001b[1;33m,\u001b[0m \u001b[0mkey\u001b[0m\u001b[1;33m,\u001b[0m \u001b[0mdefault\u001b[0m\u001b[1;33m)\u001b[0m\u001b[1;33m:\u001b[0m\u001b[1;33m\u001b[0m\u001b[1;33m\u001b[0m\u001b[0m\n",
      "\u001b[1;31mStaleElementReferenceException\u001b[0m: Message: stale element reference: element is not attached to the page document\n  (Session info: chrome=92.0.4515.131)\n"
     ]
    }
   ],
   "source": [
    "search_location.send_keys('noida')"
   ]
  },
  {
   "cell_type": "code",
   "execution_count": null,
   "id": "e73d4702",
   "metadata": {},
   "outputs": [],
   "source": [
    "search_btn=driver.find_element_by_xpath(\"//button[@data-test='search-bar-submit']\")\n",
    "search_btn.click()"
   ]
  },
  {
   "cell_type": "code",
   "execution_count": 70,
   "id": "82a04551",
   "metadata": {},
   "outputs": [
    {
     "data": {
      "text/plain": [
       "[<selenium.webdriver.remote.webelement.WebElement (session=\"e116eb6cc55a3187509ed1dc2a248806\", element=\"45b0e268-8861-4a4b-97d7-909fbdf259a1\")>,\n",
       " <selenium.webdriver.remote.webelement.WebElement (session=\"e116eb6cc55a3187509ed1dc2a248806\", element=\"9533629c-2386-4f5f-bfbc-068efc418ac8\")>,\n",
       " <selenium.webdriver.remote.webelement.WebElement (session=\"e116eb6cc55a3187509ed1dc2a248806\", element=\"6687f5ba-1bca-4b2b-9aed-248ab89ede8e\")>,\n",
       " <selenium.webdriver.remote.webelement.WebElement (session=\"e116eb6cc55a3187509ed1dc2a248806\", element=\"7e3fd448-ef25-42d1-9cd4-b3802e6cabf8\")>,\n",
       " <selenium.webdriver.remote.webelement.WebElement (session=\"e116eb6cc55a3187509ed1dc2a248806\", element=\"7d3efb9c-97de-415f-b331-86d17ac5bf9b\")>,\n",
       " <selenium.webdriver.remote.webelement.WebElement (session=\"e116eb6cc55a3187509ed1dc2a248806\", element=\"b1455cbb-9ccd-403a-86e8-ca36d3f59d3f\")>,\n",
       " <selenium.webdriver.remote.webelement.WebElement (session=\"e116eb6cc55a3187509ed1dc2a248806\", element=\"6c209e1a-9880-40b1-aeb3-ae5915c7466d\")>,\n",
       " <selenium.webdriver.remote.webelement.WebElement (session=\"e116eb6cc55a3187509ed1dc2a248806\", element=\"45029284-8d10-45e1-b04d-bae8d3c353be\")>,\n",
       " <selenium.webdriver.remote.webelement.WebElement (session=\"e116eb6cc55a3187509ed1dc2a248806\", element=\"0dab49ac-ac82-4677-bb3c-52c610a1f17d\")>,\n",
       " <selenium.webdriver.remote.webelement.WebElement (session=\"e116eb6cc55a3187509ed1dc2a248806\", element=\"e0d6698d-3a01-4acc-ad34-7dd58526f57d\")>,\n",
       " <selenium.webdriver.remote.webelement.WebElement (session=\"e116eb6cc55a3187509ed1dc2a248806\", element=\"4547e931-fc4f-4837-98ed-85b9a8a7d9c0\")>,\n",
       " <selenium.webdriver.remote.webelement.WebElement (session=\"e116eb6cc55a3187509ed1dc2a248806\", element=\"b577a646-3d69-4215-8038-c7b6d55c88ff\")>,\n",
       " <selenium.webdriver.remote.webelement.WebElement (session=\"e116eb6cc55a3187509ed1dc2a248806\", element=\"270d9adf-60d8-459c-9c7d-598c64f466ae\")>,\n",
       " <selenium.webdriver.remote.webelement.WebElement (session=\"e116eb6cc55a3187509ed1dc2a248806\", element=\"31465d8b-01b5-4eac-b32f-87781dc51be5\")>,\n",
       " <selenium.webdriver.remote.webelement.WebElement (session=\"e116eb6cc55a3187509ed1dc2a248806\", element=\"3331d79a-529f-440f-8d70-01934354993d\")>,\n",
       " <selenium.webdriver.remote.webelement.WebElement (session=\"e116eb6cc55a3187509ed1dc2a248806\", element=\"4c5777b9-d260-44e6-bf99-53398a1b3a92\")>,\n",
       " <selenium.webdriver.remote.webelement.WebElement (session=\"e116eb6cc55a3187509ed1dc2a248806\", element=\"7834ec12-7a1b-408b-bf92-30235bc41d30\")>]"
      ]
     },
     "execution_count": 70,
     "metadata": {},
     "output_type": "execute_result"
    }
   ],
   "source": [
    "company_name=driver.find_elements_by_xpath(\"//a[@class=' css-l2wjgv e1n63ojh0 jobLink']\")\n",
    "company_name\n",
    "nod=driver.find_elements_by_xpath(\"//div[@class='d-flex align-items-end pl-std css-mi55ob']\")\n",
    "nod\n",
    "rating_comp=driver.find_elements_by_xpath(\"//span[@class='css-19pjha7 e1cjmv6j1']\")\n",
    "rating_comp"
   ]
  },
  {
   "cell_type": "code",
   "execution_count": 71,
   "id": "9a0a107a",
   "metadata": {},
   "outputs": [],
   "source": [
    "name_company=[]\n",
    "nod1=[]\n",
    "comp_rating=[]\n",
    "for i in company_name:\n",
    "    name_company.append(i.text)\n",
    "for i in nod:\n",
    "    nod1.append(i.text)\n",
    "for i in rating_comp:\n",
    "    comp_rating.append(i.text)"
   ]
  },
  {
   "cell_type": "code",
   "execution_count": 72,
   "id": "f7f893bb",
   "metadata": {},
   "outputs": [
    {
     "data": {
      "text/html": [
       "<div>\n",
       "<style scoped>\n",
       "    .dataframe tbody tr th:only-of-type {\n",
       "        vertical-align: middle;\n",
       "    }\n",
       "\n",
       "    .dataframe tbody tr th {\n",
       "        vertical-align: top;\n",
       "    }\n",
       "\n",
       "    .dataframe thead th {\n",
       "        text-align: right;\n",
       "    }\n",
       "</style>\n",
       "<table border=\"1\" class=\"dataframe\">\n",
       "  <thead>\n",
       "    <tr style=\"text-align: right;\">\n",
       "      <th></th>\n",
       "      <th>company_name</th>\n",
       "      <th>no_of_days_ago_job_posted</th>\n",
       "      <th>rating_comp</th>\n",
       "    </tr>\n",
       "  </thead>\n",
       "  <tbody>\n",
       "    <tr>\n",
       "      <th>0</th>\n",
       "      <td>Liberin Technologies Private Limited</td>\n",
       "      <td>17d</td>\n",
       "      <td>3.8</td>\n",
       "    </tr>\n",
       "    <tr>\n",
       "      <th>1</th>\n",
       "      <td>Data Trained Education</td>\n",
       "      <td>7d</td>\n",
       "      <td>3.8</td>\n",
       "    </tr>\n",
       "    <tr>\n",
       "      <th>2</th>\n",
       "      <td>Pixel Vision</td>\n",
       "      <td>28d</td>\n",
       "      <td>5.0</td>\n",
       "    </tr>\n",
       "    <tr>\n",
       "      <th>3</th>\n",
       "      <td>Emerging India Analytics</td>\n",
       "      <td>8d</td>\n",
       "      <td>4.1</td>\n",
       "    </tr>\n",
       "    <tr>\n",
       "      <th>4</th>\n",
       "      <td>CRMNEXT</td>\n",
       "      <td>2d</td>\n",
       "      <td>3.4</td>\n",
       "    </tr>\n",
       "    <tr>\n",
       "      <th>5</th>\n",
       "      <td>Salasar New Age Technologies</td>\n",
       "      <td>30d+</td>\n",
       "      <td>4.1</td>\n",
       "    </tr>\n",
       "    <tr>\n",
       "      <th>6</th>\n",
       "      <td>Crowe</td>\n",
       "      <td>30d+</td>\n",
       "      <td>3.9</td>\n",
       "    </tr>\n",
       "    <tr>\n",
       "      <th>7</th>\n",
       "      <td>Techlive</td>\n",
       "      <td>30d+</td>\n",
       "      <td>4.6</td>\n",
       "    </tr>\n",
       "    <tr>\n",
       "      <th>8</th>\n",
       "      <td>Biz2Credit Inc</td>\n",
       "      <td>30d+</td>\n",
       "      <td>3.8</td>\n",
       "    </tr>\n",
       "    <tr>\n",
       "      <th>9</th>\n",
       "      <td>Newgen Software</td>\n",
       "      <td>28d</td>\n",
       "      <td>4.4</td>\n",
       "    </tr>\n",
       "  </tbody>\n",
       "</table>\n",
       "</div>"
      ],
      "text/plain": [
       "                           company_name no_of_days_ago_job_posted rating_comp\n",
       "0  Liberin Technologies Private Limited                       17d         3.8\n",
       "1                Data Trained Education                        7d         3.8\n",
       "2                          Pixel Vision                       28d         5.0\n",
       "3              Emerging India Analytics                        8d         4.1\n",
       "4                               CRMNEXT                        2d         3.4\n",
       "5          Salasar New Age Technologies                      30d+         4.1\n",
       "6                                 Crowe                      30d+         3.9\n",
       "7                              Techlive                      30d+         4.6\n",
       "8                        Biz2Credit Inc                      30d+         3.8\n",
       "9                       Newgen Software                       28d         4.4"
      ]
     },
     "execution_count": 72,
     "metadata": {},
     "output_type": "execute_result"
    }
   ],
   "source": [
    "jobnoida=pd.DataFrame({ 'company_name' : name_company[:10],\n",
    "                            'no_of_days_ago_job_posted':nod1[:10],\n",
    "                            'rating_comp':comp_rating[:10] })\n",
    "jobnoida"
   ]
  },
  {
   "cell_type": "code",
   "execution_count": 73,
   "id": "1a1d6e20",
   "metadata": {},
   "outputs": [],
   "source": [
    "#Q5: Write a python program to scrape the salary data for Data Scientist designation \n",
    "#in Noida location."
   ]
  },
  {
   "cell_type": "code",
   "execution_count": 281,
   "id": "e722dd64",
   "metadata": {},
   "outputs": [],
   "source": [
    "import requests\n",
    "import pandas as pd\n",
    "from bs4 import BeautifulSoup\n",
    "import selenium\n",
    "from selenium import webdriver\n",
    "driver=webdriver.Chrome('C:/Users/LENOVO/Downloads/chromedriver_win32/chromedriver')\n",
    "url='https://www.glassdoor.co.in/Salaries/index.htm'\n",
    "driver.get(url)"
   ]
  },
  {
   "cell_type": "code",
   "execution_count": 282,
   "id": "d25a6c36",
   "metadata": {},
   "outputs": [
    {
     "data": {
      "text/plain": [
       "<selenium.webdriver.remote.webelement.WebElement (session=\"bdc70eb79ccb7d18f32903dda2b14501\", element=\"ee7d9c03-6e62-4a44-a2c8-c693f346b14f\")>"
      ]
     },
     "execution_count": 282,
     "metadata": {},
     "output_type": "execute_result"
    }
   ],
   "source": [
    "search_design=driver.find_element_by_id(\"KeywordSearch\")\n",
    "search_design"
   ]
  },
  {
   "cell_type": "code",
   "execution_count": 283,
   "id": "808edef6",
   "metadata": {},
   "outputs": [],
   "source": [
    "search_design.send_keys('Data Scientist')"
   ]
  },
  {
   "cell_type": "code",
   "execution_count": 284,
   "id": "b0c5822c",
   "metadata": {},
   "outputs": [
    {
     "data": {
      "text/plain": [
       "<selenium.webdriver.remote.webelement.WebElement (session=\"bdc70eb79ccb7d18f32903dda2b14501\", element=\"c9295d6d-ff7b-4abf-aeb8-7b50b89a734d\")>"
      ]
     },
     "execution_count": 284,
     "metadata": {},
     "output_type": "execute_result"
    }
   ],
   "source": [
    "search_location=driver.find_element_by_id(\"LocationSearch\")\n",
    "search_location"
   ]
  },
  {
   "cell_type": "code",
   "execution_count": 285,
   "id": "71d03adc",
   "metadata": {},
   "outputs": [],
   "source": [
    "search_location.send_keys('noida')"
   ]
  },
  {
   "cell_type": "code",
   "execution_count": 286,
   "id": "6a5217c0",
   "metadata": {},
   "outputs": [],
   "source": [
    "search_btn=driver.find_element_by_xpath(\"//button[@class='gd-btn-mkt']\")\n",
    "search_btn.click()"
   ]
  },
  {
   "cell_type": "code",
   "execution_count": 287,
   "id": "278364e7",
   "metadata": {},
   "outputs": [
    {
     "data": {
      "text/plain": [
       "[<selenium.webdriver.remote.webelement.WebElement (session=\"bdc70eb79ccb7d18f32903dda2b14501\", element=\"498c2508-7558-4816-a524-a826c5067b29\")>,\n",
       " <selenium.webdriver.remote.webelement.WebElement (session=\"bdc70eb79ccb7d18f32903dda2b14501\", element=\"027ac69f-77f4-42ff-a7c3-010ecaaf8f68\")>,\n",
       " <selenium.webdriver.remote.webelement.WebElement (session=\"bdc70eb79ccb7d18f32903dda2b14501\", element=\"bf6d272b-200f-4224-ac13-81468e0665e1\")>,\n",
       " <selenium.webdriver.remote.webelement.WebElement (session=\"bdc70eb79ccb7d18f32903dda2b14501\", element=\"59a61a5d-5116-4efc-9888-2928c750e221\")>,\n",
       " <selenium.webdriver.remote.webelement.WebElement (session=\"bdc70eb79ccb7d18f32903dda2b14501\", element=\"51dd40ee-7f63-42b9-8f36-1aa0541f22f2\")>,\n",
       " <selenium.webdriver.remote.webelement.WebElement (session=\"bdc70eb79ccb7d18f32903dda2b14501\", element=\"84ff042c-aecb-462f-9552-250db06d7656\")>,\n",
       " <selenium.webdriver.remote.webelement.WebElement (session=\"bdc70eb79ccb7d18f32903dda2b14501\", element=\"3e1877dc-b9ec-4e35-b475-ec193df525ac\")>,\n",
       " <selenium.webdriver.remote.webelement.WebElement (session=\"bdc70eb79ccb7d18f32903dda2b14501\", element=\"5b636237-25a3-4dab-b8a1-f7f29d9bb535\")>,\n",
       " <selenium.webdriver.remote.webelement.WebElement (session=\"bdc70eb79ccb7d18f32903dda2b14501\", element=\"4e173565-1506-43a0-8da2-d048f7564df6\")>,\n",
       " <selenium.webdriver.remote.webelement.WebElement (session=\"bdc70eb79ccb7d18f32903dda2b14501\", element=\"ed986eac-a159-409a-9278-41d1e4c4d7b9\")>,\n",
       " <selenium.webdriver.remote.webelement.WebElement (session=\"bdc70eb79ccb7d18f32903dda2b14501\", element=\"9b639e24-a1ce-4cff-988d-f77ba0bae159\")>,\n",
       " <selenium.webdriver.remote.webelement.WebElement (session=\"bdc70eb79ccb7d18f32903dda2b14501\", element=\"715314ed-332c-47a7-b85d-ddafa517dccf\")>,\n",
       " <selenium.webdriver.remote.webelement.WebElement (session=\"bdc70eb79ccb7d18f32903dda2b14501\", element=\"f47ef445-e641-47af-9b20-93aa6ab1f945\")>,\n",
       " <selenium.webdriver.remote.webelement.WebElement (session=\"bdc70eb79ccb7d18f32903dda2b14501\", element=\"d1e254da-1015-457b-850c-73bb96efd2b0\")>,\n",
       " <selenium.webdriver.remote.webelement.WebElement (session=\"bdc70eb79ccb7d18f32903dda2b14501\", element=\"a18a4f38-f46e-4d44-bede-138502a68d4a\")>,\n",
       " <selenium.webdriver.remote.webelement.WebElement (session=\"bdc70eb79ccb7d18f32903dda2b14501\", element=\"c631fe86-566c-4549-a1ff-5525e5058370\")>,\n",
       " <selenium.webdriver.remote.webelement.WebElement (session=\"bdc70eb79ccb7d18f32903dda2b14501\", element=\"03bf3969-7454-4cb4-955d-2861111921a7\")>,\n",
       " <selenium.webdriver.remote.webelement.WebElement (session=\"bdc70eb79ccb7d18f32903dda2b14501\", element=\"2a83c8e8-8703-4915-9a6a-53d247fa54c0\")>,\n",
       " <selenium.webdriver.remote.webelement.WebElement (session=\"bdc70eb79ccb7d18f32903dda2b14501\", element=\"b8f5bfe6-1d83-46fb-b34a-e709705eb9dd\")>,\n",
       " <selenium.webdriver.remote.webelement.WebElement (session=\"bdc70eb79ccb7d18f32903dda2b14501\", element=\"5752ad85-97aa-4d90-9aea-cc5310716933\")>]"
      ]
     },
     "execution_count": 287,
     "metadata": {},
     "output_type": "execute_result"
    }
   ],
   "source": [
    "company_name=driver.find_elements_by_xpath(\"//a[@class='css-f3vw95 e1aj7ssy3']\")\n",
    "company_name"
   ]
  },
  {
   "cell_type": "code",
   "execution_count": 288,
   "id": "e0356af5",
   "metadata": {},
   "outputs": [
    {
     "data": {
      "text/plain": [
       "['Tata Consultancy Services',\n",
       " 'IBM',\n",
       " 'Accenture',\n",
       " 'Delhivery',\n",
       " 'Ericsson-Worldwide',\n",
       " 'UnitedHealth Group',\n",
       " 'Optum',\n",
       " 'Valiance Solutions',\n",
       " 'EXL Service',\n",
       " 'Optum Global Solutions',\n",
       " 'ZS Associates',\n",
       " 'Innovaccer',\n",
       " 'OYO',\n",
       " 'Nagarro',\n",
       " 'Cognizant Technology Solutions',\n",
       " 'CARS24.com',\n",
       " 'dunnhumby',\n",
       " 'Vidooly Media Tech',\n",
       " 'Amazon',\n",
       " 'Tech Mahindra']"
      ]
     },
     "execution_count": 288,
     "metadata": {},
     "output_type": "execute_result"
    }
   ],
   "source": [
    "name_company=[]\n",
    "for i in company_name:\n",
    "    name_company.append(i.text)\n",
    "name_company"
   ]
  },
  {
   "cell_type": "code",
   "execution_count": 306,
   "id": "469402c0",
   "metadata": {},
   "outputs": [
    {
     "name": "stdout",
     "output_type": "stream",
     "text": [
      "₹5L\n"
     ]
    }
   ],
   "source": [
    "salary_range=driver.find_elements_by_xpath(\"//p[@class='m-0 css-1vkj9it']\")\n",
    "print(salary_range[0].text)"
   ]
  },
  {
   "cell_type": "code",
   "execution_count": 310,
   "id": "d45448a9",
   "metadata": {},
   "outputs": [
    {
     "name": "stdout",
     "output_type": "stream",
     "text": [
      "['₹3L', '₹13L', '₹6L', '₹27L', '₹6L', '₹22L', '₹5L', '₹1Cr', '₹4L', '₹16L', '₹8L', '₹15L', '₹8L', '₹20L', '₹5L', '₹15L', '₹6L', '₹15L', '₹4L', '₹22L', '₹2L', '₹18L', '₹6L', '₹17L', '₹10L', '₹21L', '₹4L', '₹16L', '₹8L', '₹13L', '₹9L', '₹15L', '₹8L', '₹20L', '₹12T', '₹63T', '₹10L', '₹21L', '₹4L', '₹17L', 'Gurgaon', '16d', 'Gurgaon', '$2L - $6L', '14d', 'Noida', '$5L - $8L', '3d', 'New Delhi', '0d', 'New Delhi', '0d', 'New Delhi']\n",
      "['₹13L', '₹6L', '₹27L', '₹6L', '₹22L', '₹5L', '₹1Cr', '₹4L', '₹16L', '₹8L', '₹15L', '₹8L', '₹20L', '₹5L', '₹15L', '₹6L', '₹15L', '₹4L', '₹22L', '₹2L', '₹18L', '₹6L', '₹17L', '₹10L', '₹21L', '₹4L', '₹16L', '₹8L', '₹13L', '₹9L', '₹15L', '₹8L', '₹20L', '₹12T', '₹63T', '₹10L', '₹21L', '₹4L', '₹17L', 'Gurgaon', '16d', 'Gurgaon', '$2L - $6L', '14d', 'Noida', '$5L - $8L', '3d', 'New Delhi', '0d', 'New Delhi', '0d', 'New Delhi', '0d']\n"
     ]
    }
   ],
   "source": [
    "range_salary=[]\n",
    "minimum=[]\n",
    "maximum=[]\n",
    "#for i in salary_range:\n",
    "    #range_salary.append\n",
    "  #  print(i.text)\n",
    "i=19\n",
    "#print(range_salary)\n",
    "while i<len(salary_range)-1:\n",
    "    minsal=salary_range[i].text\n",
    "    maxsal=salary_range[i+1].text\n",
    "    if len(minsal)!=0:\n",
    "        minimum.append(minsal)\n",
    "    if len(maxsal)!=0:    \n",
    "        maximum.append(maxsal)\n",
    "    i=i+1\n",
    "print(minimum)\n",
    "print(maximum)"
   ]
  },
  {
   "cell_type": "code",
   "execution_count": 311,
   "id": "91c3c108",
   "metadata": {},
   "outputs": [
    {
     "data": {
      "text/plain": [
       "[<selenium.webdriver.remote.webelement.WebElement (session=\"bdc70eb79ccb7d18f32903dda2b14501\", element=\"98978df0-0867-4fbb-9b94-d1200b86f55d\")>,\n",
       " <selenium.webdriver.remote.webelement.WebElement (session=\"bdc70eb79ccb7d18f32903dda2b14501\", element=\"845891d5-963d-473b-90b7-d682e4ba6500\")>,\n",
       " <selenium.webdriver.remote.webelement.WebElement (session=\"bdc70eb79ccb7d18f32903dda2b14501\", element=\"09397c18-1e91-4ef7-99f0-3c06187bc08e\")>,\n",
       " <selenium.webdriver.remote.webelement.WebElement (session=\"bdc70eb79ccb7d18f32903dda2b14501\", element=\"cfda6db6-7742-4a9b-a696-11dd918cd896\")>,\n",
       " <selenium.webdriver.remote.webelement.WebElement (session=\"bdc70eb79ccb7d18f32903dda2b14501\", element=\"9e9947f9-b372-4c77-bb2b-5928a3151a3e\")>,\n",
       " <selenium.webdriver.remote.webelement.WebElement (session=\"bdc70eb79ccb7d18f32903dda2b14501\", element=\"c6ef9170-4bb5-4584-ac80-e66c007db6f9\")>,\n",
       " <selenium.webdriver.remote.webelement.WebElement (session=\"bdc70eb79ccb7d18f32903dda2b14501\", element=\"327d8c4a-ab80-4722-9dd0-c0cd7c766761\")>,\n",
       " <selenium.webdriver.remote.webelement.WebElement (session=\"bdc70eb79ccb7d18f32903dda2b14501\", element=\"0f2d70d4-1588-48c2-837a-315c0daef972\")>,\n",
       " <selenium.webdriver.remote.webelement.WebElement (session=\"bdc70eb79ccb7d18f32903dda2b14501\", element=\"d09691ba-b2fa-49ec-a7f3-ffa15268a525\")>,\n",
       " <selenium.webdriver.remote.webelement.WebElement (session=\"bdc70eb79ccb7d18f32903dda2b14501\", element=\"b6beaaeb-4f76-4824-ada5-2249a6429e55\")>,\n",
       " <selenium.webdriver.remote.webelement.WebElement (session=\"bdc70eb79ccb7d18f32903dda2b14501\", element=\"fcc40295-d22e-42a9-ab5f-ace27c375cdc\")>,\n",
       " <selenium.webdriver.remote.webelement.WebElement (session=\"bdc70eb79ccb7d18f32903dda2b14501\", element=\"2c6ae0bd-a40e-4866-94f3-512d9a67690e\")>,\n",
       " <selenium.webdriver.remote.webelement.WebElement (session=\"bdc70eb79ccb7d18f32903dda2b14501\", element=\"6c0488bd-5052-4ad1-b70c-a90fb2d37b66\")>,\n",
       " <selenium.webdriver.remote.webelement.WebElement (session=\"bdc70eb79ccb7d18f32903dda2b14501\", element=\"466fd8eb-fa64-4960-afa6-22a02de8a70c\")>,\n",
       " <selenium.webdriver.remote.webelement.WebElement (session=\"bdc70eb79ccb7d18f32903dda2b14501\", element=\"c41d7530-4eb9-4c0e-838a-05d8f9d35b88\")>,\n",
       " <selenium.webdriver.remote.webelement.WebElement (session=\"bdc70eb79ccb7d18f32903dda2b14501\", element=\"0319f8e7-cfea-409b-97b9-e349322fd5db\")>,\n",
       " <selenium.webdriver.remote.webelement.WebElement (session=\"bdc70eb79ccb7d18f32903dda2b14501\", element=\"4bb3f740-c0f1-4222-898d-3993bc2c2a0b\")>,\n",
       " <selenium.webdriver.remote.webelement.WebElement (session=\"bdc70eb79ccb7d18f32903dda2b14501\", element=\"ad1de616-be3f-4584-af9f-e6cc7962eaed\")>,\n",
       " <selenium.webdriver.remote.webelement.WebElement (session=\"bdc70eb79ccb7d18f32903dda2b14501\", element=\"7de2a2c3-4d3d-45ff-add4-fbee02bd47d9\")>,\n",
       " <selenium.webdriver.remote.webelement.WebElement (session=\"bdc70eb79ccb7d18f32903dda2b14501\", element=\"422e8696-f6bf-4c55-97b8-1842dc638e67\")>]"
      ]
     },
     "execution_count": 311,
     "metadata": {},
     "output_type": "execute_result"
    }
   ],
   "source": [
    "ratings=driver.find_elements_by_xpath(\"//span[@class='m-0 css-kyx745']\")\n",
    "ratings"
   ]
  },
  {
   "cell_type": "code",
   "execution_count": 312,
   "id": "b8387e18",
   "metadata": {},
   "outputs": [
    {
     "data": {
      "text/plain": [
       "['3.9',\n",
       " '3.9',\n",
       " '4.1',\n",
       " '3.9',\n",
       " '4',\n",
       " '3.7',\n",
       " '3.7',\n",
       " '4.2',\n",
       " '3.6',\n",
       " '3.9',\n",
       " '4',\n",
       " '3.8',\n",
       " '3.3',\n",
       " '4',\n",
       " '3.8',\n",
       " '4.1',\n",
       " '4.1',\n",
       " '3.7',\n",
       " '3.8',\n",
       " '3.6']"
      ]
     },
     "execution_count": 312,
     "metadata": {},
     "output_type": "execute_result"
    }
   ],
   "source": [
    "ratings_n=[]\n",
    "for i in ratings:\n",
    "    ratings_n.append(i.text)\n",
    "ratings_n"
   ]
  },
  {
   "cell_type": "code",
   "execution_count": 313,
   "id": "882b51a2",
   "metadata": {},
   "outputs": [
    {
     "data": {
      "text/plain": [
       "[<selenium.webdriver.remote.webelement.WebElement (session=\"bdc70eb79ccb7d18f32903dda2b14501\", element=\"8e58cd8a-5666-4c37-ad14-e0b03f38a877\")>,\n",
       " <selenium.webdriver.remote.webelement.WebElement (session=\"bdc70eb79ccb7d18f32903dda2b14501\", element=\"c2905525-5473-4081-84b8-7e3bd2f044f6\")>,\n",
       " <selenium.webdriver.remote.webelement.WebElement (session=\"bdc70eb79ccb7d18f32903dda2b14501\", element=\"4e03f6bf-730d-4769-ae8b-8a9e2e27eaa4\")>,\n",
       " <selenium.webdriver.remote.webelement.WebElement (session=\"bdc70eb79ccb7d18f32903dda2b14501\", element=\"3aa46c06-5ea4-4350-bec7-1f45b9b12dc8\")>,\n",
       " <selenium.webdriver.remote.webelement.WebElement (session=\"bdc70eb79ccb7d18f32903dda2b14501\", element=\"e7f3a65b-d4ce-4b32-b539-92b23b994831\")>,\n",
       " <selenium.webdriver.remote.webelement.WebElement (session=\"bdc70eb79ccb7d18f32903dda2b14501\", element=\"20d937b8-b2b8-433b-ad43-93f8a23bb8a6\")>,\n",
       " <selenium.webdriver.remote.webelement.WebElement (session=\"bdc70eb79ccb7d18f32903dda2b14501\", element=\"0be289f3-2b18-49d0-a31e-c06b702cda3b\")>,\n",
       " <selenium.webdriver.remote.webelement.WebElement (session=\"bdc70eb79ccb7d18f32903dda2b14501\", element=\"9bdbac0b-2299-4681-85ef-4fc0a16889e6\")>,\n",
       " <selenium.webdriver.remote.webelement.WebElement (session=\"bdc70eb79ccb7d18f32903dda2b14501\", element=\"4c0a2fce-8f5e-4fce-ba2b-d6b49e8960a8\")>,\n",
       " <selenium.webdriver.remote.webelement.WebElement (session=\"bdc70eb79ccb7d18f32903dda2b14501\", element=\"f80b4344-75ce-4500-a46c-513f42b29f08\")>,\n",
       " <selenium.webdriver.remote.webelement.WebElement (session=\"bdc70eb79ccb7d18f32903dda2b14501\", element=\"9a7518de-9516-4198-b947-d7d2141f9307\")>,\n",
       " <selenium.webdriver.remote.webelement.WebElement (session=\"bdc70eb79ccb7d18f32903dda2b14501\", element=\"27214308-2936-4d02-ac31-7971390a93e4\")>,\n",
       " <selenium.webdriver.remote.webelement.WebElement (session=\"bdc70eb79ccb7d18f32903dda2b14501\", element=\"9dde7de7-90b5-46ea-bd3e-eacf5afa14cf\")>,\n",
       " <selenium.webdriver.remote.webelement.WebElement (session=\"bdc70eb79ccb7d18f32903dda2b14501\", element=\"12873ac5-6735-4aeb-b4c7-b6439342a76b\")>,\n",
       " <selenium.webdriver.remote.webelement.WebElement (session=\"bdc70eb79ccb7d18f32903dda2b14501\", element=\"59698bd5-0193-4500-846d-865bbd86dd01\")>,\n",
       " <selenium.webdriver.remote.webelement.WebElement (session=\"bdc70eb79ccb7d18f32903dda2b14501\", element=\"f756ab7f-e6ea-4f97-bf64-151e3a839f8f\")>,\n",
       " <selenium.webdriver.remote.webelement.WebElement (session=\"bdc70eb79ccb7d18f32903dda2b14501\", element=\"d24ce1ab-9005-46e7-a062-056199397a6e\")>,\n",
       " <selenium.webdriver.remote.webelement.WebElement (session=\"bdc70eb79ccb7d18f32903dda2b14501\", element=\"cc152c70-c5c8-47f1-b1d1-3a8e7850f1b3\")>,\n",
       " <selenium.webdriver.remote.webelement.WebElement (session=\"bdc70eb79ccb7d18f32903dda2b14501\", element=\"ead23f15-c8cb-4a86-abba-c9ac669ae5b3\")>,\n",
       " <selenium.webdriver.remote.webelement.WebElement (session=\"bdc70eb79ccb7d18f32903dda2b14501\", element=\"833fb6e1-a15f-4fd0-bc0e-b4dfe55aea4e\")>,\n",
       " <selenium.webdriver.remote.webelement.WebElement (session=\"bdc70eb79ccb7d18f32903dda2b14501\", element=\"7e87be62-370a-4d86-919f-16fcf426a84a\")>,\n",
       " <selenium.webdriver.remote.webelement.WebElement (session=\"bdc70eb79ccb7d18f32903dda2b14501\", element=\"7a358787-7dcc-45cf-bcc2-b8cc7b6f9f88\")>,\n",
       " <selenium.webdriver.remote.webelement.WebElement (session=\"bdc70eb79ccb7d18f32903dda2b14501\", element=\"a3366786-3478-4452-8f0e-63963cb92faa\")>,\n",
       " <selenium.webdriver.remote.webelement.WebElement (session=\"bdc70eb79ccb7d18f32903dda2b14501\", element=\"b0f438a8-9aae-401f-9c3e-0b2fc7433c62\")>,\n",
       " <selenium.webdriver.remote.webelement.WebElement (session=\"bdc70eb79ccb7d18f32903dda2b14501\", element=\"795f2bb4-bc8a-424b-b337-5d31ebaf9b1c\")>,\n",
       " <selenium.webdriver.remote.webelement.WebElement (session=\"bdc70eb79ccb7d18f32903dda2b14501\", element=\"7b462890-61f1-439f-ac28-fed4ce6801f4\")>,\n",
       " <selenium.webdriver.remote.webelement.WebElement (session=\"bdc70eb79ccb7d18f32903dda2b14501\", element=\"65ff4e7c-35af-46a6-9ae2-aae8e56dab50\")>,\n",
       " <selenium.webdriver.remote.webelement.WebElement (session=\"bdc70eb79ccb7d18f32903dda2b14501\", element=\"f18bb325-1252-4e9a-bfee-db920c5eceac\")>,\n",
       " <selenium.webdriver.remote.webelement.WebElement (session=\"bdc70eb79ccb7d18f32903dda2b14501\", element=\"d596d64f-b932-4697-ba34-4d95214fbd15\")>,\n",
       " <selenium.webdriver.remote.webelement.WebElement (session=\"bdc70eb79ccb7d18f32903dda2b14501\", element=\"34966920-8ec7-40cf-a716-2efd4c6c79d9\")>,\n",
       " <selenium.webdriver.remote.webelement.WebElement (session=\"bdc70eb79ccb7d18f32903dda2b14501\", element=\"29f14633-91d3-4061-8b85-fde778bb5cb9\")>,\n",
       " <selenium.webdriver.remote.webelement.WebElement (session=\"bdc70eb79ccb7d18f32903dda2b14501\", element=\"331b5938-92f3-4eb5-836b-1d92ecec6701\")>,\n",
       " <selenium.webdriver.remote.webelement.WebElement (session=\"bdc70eb79ccb7d18f32903dda2b14501\", element=\"113c969f-3189-4389-aa7c-d6e6b0ee20c5\")>,\n",
       " <selenium.webdriver.remote.webelement.WebElement (session=\"bdc70eb79ccb7d18f32903dda2b14501\", element=\"843f39aa-8b53-44ac-b339-ed2fea11c686\")>,\n",
       " <selenium.webdriver.remote.webelement.WebElement (session=\"bdc70eb79ccb7d18f32903dda2b14501\", element=\"a11a80a7-30be-4330-ab1d-e9ffd08706f0\")>,\n",
       " <selenium.webdriver.remote.webelement.WebElement (session=\"bdc70eb79ccb7d18f32903dda2b14501\", element=\"03f1c9e2-1c97-4f2f-b7a3-afb9dea2999b\")>,\n",
       " <selenium.webdriver.remote.webelement.WebElement (session=\"bdc70eb79ccb7d18f32903dda2b14501\", element=\"aa0578b3-0722-41b0-8576-d2229be26640\")>,\n",
       " <selenium.webdriver.remote.webelement.WebElement (session=\"bdc70eb79ccb7d18f32903dda2b14501\", element=\"96b06742-89d3-46f0-8014-d202508ef828\")>,\n",
       " <selenium.webdriver.remote.webelement.WebElement (session=\"bdc70eb79ccb7d18f32903dda2b14501\", element=\"21d831df-cecd-47c7-8827-7ebf9567f5a1\")>,\n",
       " <selenium.webdriver.remote.webelement.WebElement (session=\"bdc70eb79ccb7d18f32903dda2b14501\", element=\"8a4db8e6-70b2-4f48-b0a8-c6ad32e0333d\")>,\n",
       " <selenium.webdriver.remote.webelement.WebElement (session=\"bdc70eb79ccb7d18f32903dda2b14501\", element=\"27da1535-589b-495d-a68b-68ce22794236\")>,\n",
       " <selenium.webdriver.remote.webelement.WebElement (session=\"bdc70eb79ccb7d18f32903dda2b14501\", element=\"c483e97f-b2f0-48ea-b165-cac4b93fbb92\")>,\n",
       " <selenium.webdriver.remote.webelement.WebElement (session=\"bdc70eb79ccb7d18f32903dda2b14501\", element=\"4e8d5cb5-0490-4b18-bb13-b5052bf570c6\")>,\n",
       " <selenium.webdriver.remote.webelement.WebElement (session=\"bdc70eb79ccb7d18f32903dda2b14501\", element=\"1c5e9c62-6a7a-4b57-9de1-99ce0fb41390\")>]"
      ]
     },
     "execution_count": 313,
     "metadata": {},
     "output_type": "execute_result"
    }
   ],
   "source": [
    "avg_salary=driver.find_elements_by_xpath(\"//h3[@class='m-0 css-g261rn']\")\n",
    "avg_salary"
   ]
  },
  {
   "cell_type": "code",
   "execution_count": 314,
   "id": "627a3aef",
   "metadata": {},
   "outputs": [
    {
     "name": "stdout",
     "output_type": "stream",
     "text": [
      "['₹6,12,205', '₹9,00,000', '₹11,63,336', '₹12,18,244', '₹7,39,238', '₹12,80,000', '₹13,20,960', '₹8,63,750', '₹11,10,000', '₹13,28,697', '₹11,42,356', '₹12,09,040', '₹14,15,338', '₹10,22,074', '₹10,09,021', '₹10,00,000', '₹10,55,478', '₹34,157', '₹20,00,000', '₹10,54,402']\n"
     ]
    }
   ],
   "source": [
    "salary_avg=[]\n",
    "avg=[]\n",
    "for i in avg_salary:\n",
    "    salary_avg.append(i.text)\n",
    "i=0\n",
    "while i<len(salary_avg):\n",
    "  if '₹' in salary_avg[i]:\n",
    "    avg.append(salary_avg[i])\n",
    "  i=i+1  \n",
    "print(avg)"
   ]
  },
  {
   "cell_type": "code",
   "execution_count": 315,
   "id": "e66da649",
   "metadata": {},
   "outputs": [
    {
     "data": {
      "text/html": [
       "<div>\n",
       "<style scoped>\n",
       "    .dataframe tbody tr th:only-of-type {\n",
       "        vertical-align: middle;\n",
       "    }\n",
       "\n",
       "    .dataframe tbody tr th {\n",
       "        vertical-align: top;\n",
       "    }\n",
       "\n",
       "    .dataframe thead th {\n",
       "        text-align: right;\n",
       "    }\n",
       "</style>\n",
       "<table border=\"1\" class=\"dataframe\">\n",
       "  <thead>\n",
       "    <tr style=\"text-align: right;\">\n",
       "      <th></th>\n",
       "      <th>company_name</th>\n",
       "      <th>minimum_sal</th>\n",
       "      <th>maximum_sal</th>\n",
       "      <th>avg_sal</th>\n",
       "      <th>ratings</th>\n",
       "    </tr>\n",
       "  </thead>\n",
       "  <tbody>\n",
       "    <tr>\n",
       "      <th>0</th>\n",
       "      <td>Tata Consultancy Services</td>\n",
       "      <td>₹3L</td>\n",
       "      <td>₹13L</td>\n",
       "      <td>₹6,12,205</td>\n",
       "      <td>3.9</td>\n",
       "    </tr>\n",
       "    <tr>\n",
       "      <th>1</th>\n",
       "      <td>IBM</td>\n",
       "      <td>₹13L</td>\n",
       "      <td>₹6L</td>\n",
       "      <td>₹9,00,000</td>\n",
       "      <td>3.9</td>\n",
       "    </tr>\n",
       "    <tr>\n",
       "      <th>2</th>\n",
       "      <td>Accenture</td>\n",
       "      <td>₹6L</td>\n",
       "      <td>₹27L</td>\n",
       "      <td>₹11,63,336</td>\n",
       "      <td>4.1</td>\n",
       "    </tr>\n",
       "    <tr>\n",
       "      <th>3</th>\n",
       "      <td>Delhivery</td>\n",
       "      <td>₹27L</td>\n",
       "      <td>₹6L</td>\n",
       "      <td>₹12,18,244</td>\n",
       "      <td>3.9</td>\n",
       "    </tr>\n",
       "    <tr>\n",
       "      <th>4</th>\n",
       "      <td>Ericsson-Worldwide</td>\n",
       "      <td>₹6L</td>\n",
       "      <td>₹22L</td>\n",
       "      <td>₹7,39,238</td>\n",
       "      <td>4</td>\n",
       "    </tr>\n",
       "    <tr>\n",
       "      <th>5</th>\n",
       "      <td>UnitedHealth Group</td>\n",
       "      <td>₹22L</td>\n",
       "      <td>₹5L</td>\n",
       "      <td>₹12,80,000</td>\n",
       "      <td>3.7</td>\n",
       "    </tr>\n",
       "    <tr>\n",
       "      <th>6</th>\n",
       "      <td>Optum</td>\n",
       "      <td>₹5L</td>\n",
       "      <td>₹1Cr</td>\n",
       "      <td>₹13,20,960</td>\n",
       "      <td>3.7</td>\n",
       "    </tr>\n",
       "    <tr>\n",
       "      <th>7</th>\n",
       "      <td>Valiance Solutions</td>\n",
       "      <td>₹1Cr</td>\n",
       "      <td>₹4L</td>\n",
       "      <td>₹8,63,750</td>\n",
       "      <td>4.2</td>\n",
       "    </tr>\n",
       "    <tr>\n",
       "      <th>8</th>\n",
       "      <td>EXL Service</td>\n",
       "      <td>₹4L</td>\n",
       "      <td>₹16L</td>\n",
       "      <td>₹11,10,000</td>\n",
       "      <td>3.6</td>\n",
       "    </tr>\n",
       "    <tr>\n",
       "      <th>9</th>\n",
       "      <td>Optum Global Solutions</td>\n",
       "      <td>₹16L</td>\n",
       "      <td>₹8L</td>\n",
       "      <td>₹13,28,697</td>\n",
       "      <td>3.9</td>\n",
       "    </tr>\n",
       "  </tbody>\n",
       "</table>\n",
       "</div>"
      ],
      "text/plain": [
       "                company_name minimum_sal maximum_sal     avg_sal ratings\n",
       "0  Tata Consultancy Services         ₹3L        ₹13L   ₹6,12,205     3.9\n",
       "1                        IBM        ₹13L         ₹6L   ₹9,00,000     3.9\n",
       "2                  Accenture         ₹6L        ₹27L  ₹11,63,336     4.1\n",
       "3                  Delhivery        ₹27L         ₹6L  ₹12,18,244     3.9\n",
       "4         Ericsson-Worldwide         ₹6L        ₹22L   ₹7,39,238       4\n",
       "5         UnitedHealth Group        ₹22L         ₹5L  ₹12,80,000     3.7\n",
       "6                      Optum         ₹5L        ₹1Cr  ₹13,20,960     3.7\n",
       "7         Valiance Solutions        ₹1Cr         ₹4L   ₹8,63,750     4.2\n",
       "8                EXL Service         ₹4L        ₹16L  ₹11,10,000     3.6\n",
       "9     Optum Global Solutions        ₹16L         ₹8L  ₹13,28,697     3.9"
      ]
     },
     "execution_count": 315,
     "metadata": {},
     "output_type": "execute_result"
    }
   ],
   "source": [
    "salary_glassdor=pd.DataFrame({'company_name':name_company[:10],\n",
    "                             'minimum_sal':minimum[:10],\n",
    "                             'maximum_sal':maximum[:10],\n",
    "                             'avg_sal':avg[:10],\n",
    "                             'ratings':ratings_n[:10]})\n",
    "salary_glassdor"
   ]
  },
  {
   "cell_type": "code",
   "execution_count": 126,
   "id": "81fd02f8",
   "metadata": {},
   "outputs": [],
   "source": [
    "#Q6 : Scrape data of first 100 sunglasses listings on flipkart.com. You have to \n",
    "#scrape four attributes:\n",
    "#1. Brand\n",
    "#2. Product Description\n",
    "#3. Price\n",
    "#4. Discount %"
   ]
  },
  {
   "cell_type": "code",
   "execution_count": 127,
   "id": "9757d00d",
   "metadata": {},
   "outputs": [],
   "source": [
    "import requests\n",
    "import pandas as pd\n",
    "import numpy as np\n",
    "from bs4 import BeautifulSoup\n",
    "import selenium\n",
    "from selenium import webdriver\n",
    "driver=webdriver.Chrome('C:/Users/LENOVO/Downloads/chromedriver_win32/chromedriver')\n",
    "url='https://www.flipkart.com/'\n",
    "driver.get(url)"
   ]
  },
  {
   "cell_type": "code",
   "execution_count": 128,
   "id": "c3f4d055",
   "metadata": {},
   "outputs": [
    {
     "data": {
      "text/plain": [
       "<selenium.webdriver.remote.webelement.WebElement (session=\"f8240c67d2bc6af4cf81302d6c76ceb4\", element=\"e0bfdb42-3ea8-497f-b2e6-83c22cfa2164\")>"
      ]
     },
     "execution_count": 128,
     "metadata": {},
     "output_type": "execute_result"
    }
   ],
   "source": [
    "search_1=driver.find_element_by_xpath(\"//input[@class='_3704LK']\")\n",
    "search_1"
   ]
  },
  {
   "cell_type": "code",
   "execution_count": 129,
   "id": "489a745a",
   "metadata": {},
   "outputs": [],
   "source": [
    "search_1.send_keys('sunglasses')"
   ]
  },
  {
   "cell_type": "code",
   "execution_count": 130,
   "id": "f7d916dc",
   "metadata": {},
   "outputs": [
    {
     "data": {
      "text/plain": [
       "<selenium.webdriver.remote.webelement.WebElement (session=\"f8240c67d2bc6af4cf81302d6c76ceb4\", element=\"71462caf-0e76-4dc7-bc70-fe415700919b\")>"
      ]
     },
     "execution_count": 130,
     "metadata": {},
     "output_type": "execute_result"
    }
   ],
   "source": [
    "search_btn=driver.find_element_by_xpath(\"//button[@class='L0Z3Pu']\")\n",
    "search_btn"
   ]
  },
  {
   "cell_type": "code",
   "execution_count": 132,
   "id": "ac0a85f6",
   "metadata": {},
   "outputs": [],
   "source": [
    "search_btn.click()"
   ]
  },
  {
   "cell_type": "code",
   "execution_count": 133,
   "id": "f9fb5bb8",
   "metadata": {},
   "outputs": [
    {
     "data": {
      "text/plain": [
       "[<selenium.webdriver.remote.webelement.WebElement (session=\"f8240c67d2bc6af4cf81302d6c76ceb4\", element=\"f2b8c80f-c0a5-4c70-9257-e23ac48769a2\")>,\n",
       " <selenium.webdriver.remote.webelement.WebElement (session=\"f8240c67d2bc6af4cf81302d6c76ceb4\", element=\"6cbaaea9-fe8f-41cd-8d03-90fb65810b65\")>,\n",
       " <selenium.webdriver.remote.webelement.WebElement (session=\"f8240c67d2bc6af4cf81302d6c76ceb4\", element=\"b4a8a505-296a-4388-af7a-4749793f2edc\")>,\n",
       " <selenium.webdriver.remote.webelement.WebElement (session=\"f8240c67d2bc6af4cf81302d6c76ceb4\", element=\"f1c9f348-0424-43b5-92a7-13153e611c10\")>,\n",
       " <selenium.webdriver.remote.webelement.WebElement (session=\"f8240c67d2bc6af4cf81302d6c76ceb4\", element=\"30531ea2-178a-4d2e-a075-ddeeba93b8c5\")>,\n",
       " <selenium.webdriver.remote.webelement.WebElement (session=\"f8240c67d2bc6af4cf81302d6c76ceb4\", element=\"a67d9c13-eda2-4555-afd2-e6b9a45fa894\")>,\n",
       " <selenium.webdriver.remote.webelement.WebElement (session=\"f8240c67d2bc6af4cf81302d6c76ceb4\", element=\"c0350082-de6b-4be3-ab0b-eb2fc7ef0273\")>,\n",
       " <selenium.webdriver.remote.webelement.WebElement (session=\"f8240c67d2bc6af4cf81302d6c76ceb4\", element=\"6ce2746e-6372-4f87-8b30-2eb0f9b2947f\")>,\n",
       " <selenium.webdriver.remote.webelement.WebElement (session=\"f8240c67d2bc6af4cf81302d6c76ceb4\", element=\"0537ec2c-e1fd-47c8-b701-40c3bf4975b2\")>,\n",
       " <selenium.webdriver.remote.webelement.WebElement (session=\"f8240c67d2bc6af4cf81302d6c76ceb4\", element=\"3cecebad-0676-4163-9b46-a50a5739c517\")>,\n",
       " <selenium.webdriver.remote.webelement.WebElement (session=\"f8240c67d2bc6af4cf81302d6c76ceb4\", element=\"b7c36492-bf2c-4b62-a015-cc5e878553e5\")>,\n",
       " <selenium.webdriver.remote.webelement.WebElement (session=\"f8240c67d2bc6af4cf81302d6c76ceb4\", element=\"c44ae242-bb42-4d77-896d-01eea1e06e2b\")>,\n",
       " <selenium.webdriver.remote.webelement.WebElement (session=\"f8240c67d2bc6af4cf81302d6c76ceb4\", element=\"60c91655-9ba9-4da0-9743-0c535368612a\")>,\n",
       " <selenium.webdriver.remote.webelement.WebElement (session=\"f8240c67d2bc6af4cf81302d6c76ceb4\", element=\"8ce22304-a0cd-4cde-9b9a-6b37b30f0028\")>,\n",
       " <selenium.webdriver.remote.webelement.WebElement (session=\"f8240c67d2bc6af4cf81302d6c76ceb4\", element=\"20d812ca-5e72-4bb4-9e98-64b04174026d\")>,\n",
       " <selenium.webdriver.remote.webelement.WebElement (session=\"f8240c67d2bc6af4cf81302d6c76ceb4\", element=\"12ac3ab0-4a47-44d8-a046-5eff6476b9c9\")>,\n",
       " <selenium.webdriver.remote.webelement.WebElement (session=\"f8240c67d2bc6af4cf81302d6c76ceb4\", element=\"03db8192-d128-4344-839d-05d7a228c8f2\")>,\n",
       " <selenium.webdriver.remote.webelement.WebElement (session=\"f8240c67d2bc6af4cf81302d6c76ceb4\", element=\"9e105333-273e-48f1-ae0b-7da7354cc312\")>,\n",
       " <selenium.webdriver.remote.webelement.WebElement (session=\"f8240c67d2bc6af4cf81302d6c76ceb4\", element=\"37a98798-20e2-42a1-af9f-ce38df5ab070\")>,\n",
       " <selenium.webdriver.remote.webelement.WebElement (session=\"f8240c67d2bc6af4cf81302d6c76ceb4\", element=\"70929f12-c330-4a67-b78c-f1b0198b8b9c\")>,\n",
       " <selenium.webdriver.remote.webelement.WebElement (session=\"f8240c67d2bc6af4cf81302d6c76ceb4\", element=\"542c9ab1-ff39-4bb0-b5b6-bb48d56fd4e4\")>,\n",
       " <selenium.webdriver.remote.webelement.WebElement (session=\"f8240c67d2bc6af4cf81302d6c76ceb4\", element=\"98c18650-c1cd-4966-b846-891b5ea394c0\")>,\n",
       " <selenium.webdriver.remote.webelement.WebElement (session=\"f8240c67d2bc6af4cf81302d6c76ceb4\", element=\"be436c36-457d-44e9-9a3e-49d1225a950f\")>,\n",
       " <selenium.webdriver.remote.webelement.WebElement (session=\"f8240c67d2bc6af4cf81302d6c76ceb4\", element=\"2b2ac57f-bec0-4f15-9ace-8d6862d9ec89\")>,\n",
       " <selenium.webdriver.remote.webelement.WebElement (session=\"f8240c67d2bc6af4cf81302d6c76ceb4\", element=\"a7a9b245-1eb9-462e-8ec4-fa1dfd9d917b\")>,\n",
       " <selenium.webdriver.remote.webelement.WebElement (session=\"f8240c67d2bc6af4cf81302d6c76ceb4\", element=\"25808878-496d-4558-802a-fcfea677e17e\")>,\n",
       " <selenium.webdriver.remote.webelement.WebElement (session=\"f8240c67d2bc6af4cf81302d6c76ceb4\", element=\"21319a6e-fb3b-4b4b-8760-1adee8740054\")>,\n",
       " <selenium.webdriver.remote.webelement.WebElement (session=\"f8240c67d2bc6af4cf81302d6c76ceb4\", element=\"b035e7fc-5a5b-4f53-b825-39735f95b085\")>,\n",
       " <selenium.webdriver.remote.webelement.WebElement (session=\"f8240c67d2bc6af4cf81302d6c76ceb4\", element=\"73b99089-31fd-4674-bef8-a56e38f7557e\")>,\n",
       " <selenium.webdriver.remote.webelement.WebElement (session=\"f8240c67d2bc6af4cf81302d6c76ceb4\", element=\"87de2278-2a11-4a26-a061-178c6c2fc5d0\")>,\n",
       " <selenium.webdriver.remote.webelement.WebElement (session=\"f8240c67d2bc6af4cf81302d6c76ceb4\", element=\"ea8449c2-aa30-452e-ac76-38130386043b\")>,\n",
       " <selenium.webdriver.remote.webelement.WebElement (session=\"f8240c67d2bc6af4cf81302d6c76ceb4\", element=\"71f810a2-5bb7-4b7e-8418-439a1ec49ae2\")>,\n",
       " <selenium.webdriver.remote.webelement.WebElement (session=\"f8240c67d2bc6af4cf81302d6c76ceb4\", element=\"f84a1f1c-2369-49a7-a993-e4f980c42bc0\")>,\n",
       " <selenium.webdriver.remote.webelement.WebElement (session=\"f8240c67d2bc6af4cf81302d6c76ceb4\", element=\"788ad7b5-f369-4413-b498-38c4b62057f0\")>,\n",
       " <selenium.webdriver.remote.webelement.WebElement (session=\"f8240c67d2bc6af4cf81302d6c76ceb4\", element=\"43c5c6d1-e13d-423b-87d5-66512d5b06ce\")>,\n",
       " <selenium.webdriver.remote.webelement.WebElement (session=\"f8240c67d2bc6af4cf81302d6c76ceb4\", element=\"2f8eda84-00bc-4d8e-b92d-5d2a9e5c8938\")>,\n",
       " <selenium.webdriver.remote.webelement.WebElement (session=\"f8240c67d2bc6af4cf81302d6c76ceb4\", element=\"726187d2-ebf8-4a6a-9683-aa1c7d7e779f\")>,\n",
       " <selenium.webdriver.remote.webelement.WebElement (session=\"f8240c67d2bc6af4cf81302d6c76ceb4\", element=\"486720ff-0066-4b64-aae5-8f47bc157ac1\")>,\n",
       " <selenium.webdriver.remote.webelement.WebElement (session=\"f8240c67d2bc6af4cf81302d6c76ceb4\", element=\"92fb567c-b391-44b7-ad50-a414a354cb7f\")>,\n",
       " <selenium.webdriver.remote.webelement.WebElement (session=\"f8240c67d2bc6af4cf81302d6c76ceb4\", element=\"8a11a9e2-6408-4736-80e5-ee413e44dd83\")>]"
      ]
     },
     "execution_count": 133,
     "metadata": {},
     "output_type": "execute_result"
    }
   ],
   "source": [
    "brand=driver.find_elements_by_xpath(\"//div[@class='_2WkVRV']\")\n",
    "brand\n",
    "feat=driver.find_elements_by_xpath(\"//a[@class='IRpwTa']\")\n",
    "feat\n",
    "price=driver.find_elements_by_xpath(\"//div[@class='_30jeq3']\")\n",
    "price\n",
    "discount=driver.find_elements_by_xpath(\"//div[@class='_3Ay6Sb']\")\n",
    "discount"
   ]
  },
  {
   "cell_type": "code",
   "execution_count": 134,
   "id": "6a2603a8",
   "metadata": {},
   "outputs": [
    {
     "data": {
      "text/plain": [
       "['73% off',\n",
       " '29% off',\n",
       " '88% off',\n",
       " '35% off',\n",
       " '85% off',\n",
       " '88% off',\n",
       " '15% off',\n",
       " '29% off',\n",
       " '36% off',\n",
       " '81% off',\n",
       " '85% off',\n",
       " '69% off',\n",
       " '79% off',\n",
       " '81% off',\n",
       " '88% off',\n",
       " '81% off',\n",
       " '22% off',\n",
       " '16% off',\n",
       " '26% off',\n",
       " '29% off',\n",
       " '18% off',\n",
       " '86% off',\n",
       " '31% off',\n",
       " '62% off',\n",
       " '79% off',\n",
       " '77% off',\n",
       " '86% off',\n",
       " '64% off',\n",
       " '80% off',\n",
       " '83% off',\n",
       " '14% off',\n",
       " '77% off',\n",
       " '82% off',\n",
       " '81% off',\n",
       " '80% off',\n",
       " '62% off',\n",
       " '81% off',\n",
       " '87% off',\n",
       " '76% off',\n",
       " '73% off']"
      ]
     },
     "execution_count": 134,
     "metadata": {},
     "output_type": "execute_result"
    }
   ],
   "source": [
    "brand_n=[]\n",
    "feat_l=[]\n",
    "price_n=[]\n",
    "discount_n=[]\n",
    "for i in brand:\n",
    "    brand_n.append(i.text)\n",
    "for i in feat:\n",
    "    feat_l.append(i.text)\n",
    "for i in price:\n",
    "    price_n.append(i.text)\n",
    "for i in discount:\n",
    "    discount_n.append(i.text)\n",
    "    \n",
    "brand_n\n",
    "feat_l\n",
    "price_n\n",
    "discount_n"
   ]
  },
  {
   "cell_type": "code",
   "execution_count": 135,
   "id": "60a1fa1e",
   "metadata": {},
   "outputs": [],
   "source": [
    "page2=driver.find_element_by_xpath(\"//a[@class='_1LKTO3']\")"
   ]
  },
  {
   "cell_type": "code",
   "execution_count": 136,
   "id": "f751f79a",
   "metadata": {},
   "outputs": [],
   "source": [
    "page2.click()"
   ]
  },
  {
   "cell_type": "code",
   "execution_count": 137,
   "id": "d5fec1ba",
   "metadata": {},
   "outputs": [
    {
     "data": {
      "text/plain": [
       "['73% off',\n",
       " '29% off',\n",
       " '88% off',\n",
       " '35% off',\n",
       " '85% off',\n",
       " '88% off',\n",
       " '15% off',\n",
       " '29% off',\n",
       " '36% off',\n",
       " '81% off',\n",
       " '85% off',\n",
       " '69% off',\n",
       " '79% off',\n",
       " '81% off',\n",
       " '88% off',\n",
       " '81% off',\n",
       " '22% off',\n",
       " '16% off',\n",
       " '26% off',\n",
       " '29% off',\n",
       " '18% off',\n",
       " '86% off',\n",
       " '31% off',\n",
       " '62% off',\n",
       " '79% off',\n",
       " '77% off',\n",
       " '86% off',\n",
       " '64% off',\n",
       " '80% off',\n",
       " '83% off',\n",
       " '14% off',\n",
       " '77% off',\n",
       " '82% off',\n",
       " '81% off',\n",
       " '80% off',\n",
       " '62% off',\n",
       " '81% off',\n",
       " '87% off',\n",
       " '76% off',\n",
       " '73% off',\n",
       " '72% off',\n",
       " '64% off',\n",
       " '77% off',\n",
       " '69% off',\n",
       " '74% off',\n",
       " '75% off',\n",
       " '85% off',\n",
       " '79% off',\n",
       " '88% off',\n",
       " '78% off',\n",
       " '81% off',\n",
       " '8% off',\n",
       " '84% off',\n",
       " '78% off',\n",
       " '79% off',\n",
       " '14% off',\n",
       " '66% off',\n",
       " '78% off',\n",
       " '15% off',\n",
       " '83% off',\n",
       " '80% off',\n",
       " '74% off',\n",
       " '32% off',\n",
       " '21% off',\n",
       " '74% off',\n",
       " '15% off',\n",
       " '27% off',\n",
       " '68% off',\n",
       " '81% off',\n",
       " '62% off',\n",
       " '17% off',\n",
       " '81% off',\n",
       " '76% off',\n",
       " '74% off',\n",
       " '85% off',\n",
       " '80% off',\n",
       " '62% off',\n",
       " '20% off',\n",
       " '13% off',\n",
       " '86% off']"
      ]
     },
     "execution_count": 137,
     "metadata": {},
     "output_type": "execute_result"
    }
   ],
   "source": [
    "brand=driver.find_elements_by_xpath(\"//div[@class='_2WkVRV']\")\n",
    "feat=driver.find_elements_by_xpath(\"//a[@class='IRpwTa']\")\n",
    "price=driver.find_elements_by_xpath(\"//div[@class='_30jeq3']\")\n",
    "discount=driver.find_elements_by_xpath(\"//div[@class='_3Ay6Sb']\")\n",
    "\n",
    "for i in brand:\n",
    "    brand_n.append(i.text)\n",
    "for i in feat:\n",
    "    feat_l.append(i.text)\n",
    "for i in price:\n",
    "    price_n.append(i.text)\n",
    "for i in discount:\n",
    "    discount_n.append(i.text)\n",
    "    \n",
    "brand_n\n",
    "feat_l\n",
    "price_n\n",
    "discount_n"
   ]
  },
  {
   "cell_type": "code",
   "execution_count": 138,
   "id": "7a603830",
   "metadata": {},
   "outputs": [],
   "source": [
    "page2.click()"
   ]
  },
  {
   "cell_type": "code",
   "execution_count": 139,
   "id": "9093c467",
   "metadata": {},
   "outputs": [
    {
     "data": {
      "text/plain": [
       "['73% off',\n",
       " '29% off',\n",
       " '88% off',\n",
       " '35% off',\n",
       " '85% off',\n",
       " '88% off',\n",
       " '15% off',\n",
       " '29% off',\n",
       " '36% off',\n",
       " '81% off',\n",
       " '85% off',\n",
       " '69% off',\n",
       " '79% off',\n",
       " '81% off',\n",
       " '88% off',\n",
       " '81% off',\n",
       " '22% off',\n",
       " '16% off',\n",
       " '26% off',\n",
       " '29% off',\n",
       " '18% off',\n",
       " '86% off',\n",
       " '31% off',\n",
       " '62% off',\n",
       " '79% off',\n",
       " '77% off',\n",
       " '86% off',\n",
       " '64% off',\n",
       " '80% off',\n",
       " '83% off',\n",
       " '14% off',\n",
       " '77% off',\n",
       " '82% off',\n",
       " '81% off',\n",
       " '80% off',\n",
       " '62% off',\n",
       " '81% off',\n",
       " '87% off',\n",
       " '76% off',\n",
       " '73% off',\n",
       " '72% off',\n",
       " '64% off',\n",
       " '77% off',\n",
       " '69% off',\n",
       " '74% off',\n",
       " '75% off',\n",
       " '85% off',\n",
       " '79% off',\n",
       " '88% off',\n",
       " '78% off',\n",
       " '81% off',\n",
       " '8% off',\n",
       " '84% off',\n",
       " '78% off',\n",
       " '79% off',\n",
       " '14% off',\n",
       " '66% off',\n",
       " '78% off',\n",
       " '15% off',\n",
       " '83% off',\n",
       " '80% off',\n",
       " '74% off',\n",
       " '32% off',\n",
       " '21% off',\n",
       " '74% off',\n",
       " '15% off',\n",
       " '27% off',\n",
       " '68% off',\n",
       " '81% off',\n",
       " '62% off',\n",
       " '17% off',\n",
       " '81% off',\n",
       " '76% off',\n",
       " '74% off',\n",
       " '85% off',\n",
       " '80% off',\n",
       " '62% off',\n",
       " '20% off',\n",
       " '13% off',\n",
       " '86% off',\n",
       " '30% off',\n",
       " '87% off',\n",
       " '15% off',\n",
       " '80% off',\n",
       " '81% off',\n",
       " '78% off',\n",
       " '79% off',\n",
       " '80% off',\n",
       " '82% off',\n",
       " '66% off',\n",
       " '77% off',\n",
       " '78% off',\n",
       " '84% off',\n",
       " '84% off',\n",
       " '76% off',\n",
       " '81% off',\n",
       " '81% off',\n",
       " '29% off',\n",
       " '73% off',\n",
       " '82% off',\n",
       " '18% off',\n",
       " '76% off',\n",
       " '73% off',\n",
       " '52% off',\n",
       " '85% off',\n",
       " '72% off',\n",
       " '87% off',\n",
       " '73% off',\n",
       " '73% off',\n",
       " '10% off',\n",
       " '41% off',\n",
       " '30% off',\n",
       " '5% off',\n",
       " '77% off',\n",
       " '87% off',\n",
       " '83% off',\n",
       " '83% off',\n",
       " '30% off',\n",
       " '70% off',\n",
       " '77% off']"
      ]
     },
     "execution_count": 139,
     "metadata": {},
     "output_type": "execute_result"
    }
   ],
   "source": [
    "brand=driver.find_elements_by_xpath(\"//div[@class='_2WkVRV']\")\n",
    "feat=driver.find_elements_by_xpath(\"//a[@class='IRpwTa']\")\n",
    "price=driver.find_elements_by_xpath(\"//div[@class='_30jeq3']\")\n",
    "discount=driver.find_elements_by_xpath(\"//div[@class='_3Ay6Sb']\")\n",
    "\n",
    "for i in brand:\n",
    "    brand_n.append(i.text)\n",
    "for i in feat:\n",
    "    feat_l.append(i.text)\n",
    "for i in price:\n",
    "    price_n.append(i.text)\n",
    "for i in discount:\n",
    "    discount_n.append(i.text)\n",
    "    \n",
    "brand_n\n",
    "feat_l\n",
    "price_n\n",
    "discount_n"
   ]
  },
  {
   "cell_type": "code",
   "execution_count": 140,
   "id": "e8d482e8",
   "metadata": {},
   "outputs": [
    {
     "data": {
      "text/html": [
       "<div>\n",
       "<style scoped>\n",
       "    .dataframe tbody tr th:only-of-type {\n",
       "        vertical-align: middle;\n",
       "    }\n",
       "\n",
       "    .dataframe tbody tr th {\n",
       "        vertical-align: top;\n",
       "    }\n",
       "\n",
       "    .dataframe thead th {\n",
       "        text-align: right;\n",
       "    }\n",
       "</style>\n",
       "<table border=\"1\" class=\"dataframe\">\n",
       "  <thead>\n",
       "    <tr style=\"text-align: right;\">\n",
       "      <th></th>\n",
       "      <th>brand</th>\n",
       "      <th>feat</th>\n",
       "      <th>price</th>\n",
       "      <th>discount</th>\n",
       "    </tr>\n",
       "  </thead>\n",
       "  <tbody>\n",
       "    <tr>\n",
       "      <th>0</th>\n",
       "      <td>Wrogn</td>\n",
       "      <td>Mirrored Wayfarer Sunglasses (51)</td>\n",
       "      <td>₹663</td>\n",
       "      <td>73% off</td>\n",
       "    </tr>\n",
       "    <tr>\n",
       "      <th>1</th>\n",
       "      <td>VINCENT CHASE</td>\n",
       "      <td>UV Protection Round Sunglasses (54)</td>\n",
       "      <td>₹1,415</td>\n",
       "      <td>29% off</td>\n",
       "    </tr>\n",
       "    <tr>\n",
       "      <th>2</th>\n",
       "      <td>Elligator</td>\n",
       "      <td>UV Protection Rectangular Sunglasses (Free Size)</td>\n",
       "      <td>₹295</td>\n",
       "      <td>88% off</td>\n",
       "    </tr>\n",
       "    <tr>\n",
       "      <th>3</th>\n",
       "      <td>Fastrack</td>\n",
       "      <td>UV Protection Aviator Sunglasses (54)</td>\n",
       "      <td>₹513</td>\n",
       "      <td>35% off</td>\n",
       "    </tr>\n",
       "    <tr>\n",
       "      <th>4</th>\n",
       "      <td>PIRASO</td>\n",
       "      <td>Mirrored, UV Protection Wayfarer Sunglasses (F...</td>\n",
       "      <td>₹237</td>\n",
       "      <td>85% off</td>\n",
       "    </tr>\n",
       "    <tr>\n",
       "      <th>...</th>\n",
       "      <td>...</td>\n",
       "      <td>...</td>\n",
       "      <td>...</td>\n",
       "      <td>...</td>\n",
       "    </tr>\n",
       "    <tr>\n",
       "      <th>95</th>\n",
       "      <td>elegante</td>\n",
       "      <td>UV Protection, Polarized, Mirrored Round Sungl...</td>\n",
       "      <td>₹189</td>\n",
       "      <td>81% off</td>\n",
       "    </tr>\n",
       "    <tr>\n",
       "      <th>96</th>\n",
       "      <td>SUNBEE</td>\n",
       "      <td>UV Protection Wayfarer Sunglasses (56)</td>\n",
       "      <td>₹314</td>\n",
       "      <td>81% off</td>\n",
       "    </tr>\n",
       "    <tr>\n",
       "      <th>97</th>\n",
       "      <td>Fastrack</td>\n",
       "      <td>UV Protection Wayfarer Sunglasses (56)</td>\n",
       "      <td>₹633</td>\n",
       "      <td>29% off</td>\n",
       "    </tr>\n",
       "    <tr>\n",
       "      <th>98</th>\n",
       "      <td>Wrogn</td>\n",
       "      <td>UV Protection Aviator Sunglasses (57)</td>\n",
       "      <td>₹684</td>\n",
       "      <td>73% off</td>\n",
       "    </tr>\n",
       "    <tr>\n",
       "      <th>99</th>\n",
       "      <td>GANSTA</td>\n",
       "      <td>UV Protection Wayfarer Sunglasses (Free Size)</td>\n",
       "      <td>₹230</td>\n",
       "      <td>82% off</td>\n",
       "    </tr>\n",
       "  </tbody>\n",
       "</table>\n",
       "<p>100 rows × 4 columns</p>\n",
       "</div>"
      ],
      "text/plain": [
       "            brand                                               feat   price  \\\n",
       "0           Wrogn                  Mirrored Wayfarer Sunglasses (51)    ₹663   \n",
       "1   VINCENT CHASE                UV Protection Round Sunglasses (54)  ₹1,415   \n",
       "2       Elligator   UV Protection Rectangular Sunglasses (Free Size)    ₹295   \n",
       "3        Fastrack              UV Protection Aviator Sunglasses (54)    ₹513   \n",
       "4          PIRASO  Mirrored, UV Protection Wayfarer Sunglasses (F...    ₹237   \n",
       "..            ...                                                ...     ...   \n",
       "95       elegante  UV Protection, Polarized, Mirrored Round Sungl...    ₹189   \n",
       "96         SUNBEE             UV Protection Wayfarer Sunglasses (56)    ₹314   \n",
       "97       Fastrack             UV Protection Wayfarer Sunglasses (56)    ₹633   \n",
       "98          Wrogn              UV Protection Aviator Sunglasses (57)    ₹684   \n",
       "99         GANSTA      UV Protection Wayfarer Sunglasses (Free Size)    ₹230   \n",
       "\n",
       "   discount  \n",
       "0   73% off  \n",
       "1   29% off  \n",
       "2   88% off  \n",
       "3   35% off  \n",
       "4   85% off  \n",
       "..      ...  \n",
       "95  81% off  \n",
       "96  81% off  \n",
       "97  29% off  \n",
       "98  73% off  \n",
       "99  82% off  \n",
       "\n",
       "[100 rows x 4 columns]"
      ]
     },
     "execution_count": 140,
     "metadata": {},
     "output_type": "execute_result"
    }
   ],
   "source": [
    "flipkart=pd.DataFrame({'brand':brand_n[:100],\n",
    "                            'feat':feat_l[:100],\n",
    "                            'price':price_n[:100],\n",
    "                             'discount':discount_n[:100] })\n",
    "flipkart"
   ]
  },
  {
   "cell_type": "code",
   "execution_count": 141,
   "id": "09e011e2",
   "metadata": {},
   "outputs": [],
   "source": [
    "#Q7: Scrape 100 reviews data from flipkart.com for iphone11 phone. You have to \n",
    "#go the link:"
   ]
  },
  {
   "cell_type": "code",
   "execution_count": 235,
   "id": "3f33672e",
   "metadata": {},
   "outputs": [],
   "source": [
    "import requests\n",
    "import pandas as pd\n",
    "import numpy as np\n",
    "from bs4 import BeautifulSoup\n",
    "import selenium\n",
    "from selenium import webdriver\n",
    "driver=webdriver.Chrome('C:/Users/LENOVO/Downloads/chromedriver_win32/chromedriver')\n",
    "url='https://www.flipkart.com/apple-iphone-11-black-64-gb-includes%20earpods-power%20adapter/p/itm0f37c2240b217?pid=MOBFKCTSVZAXUHGR&lid=LSTMOBFKCTSVZAXUHGREPBFGI&marketplace'\n",
    "driver.get(url)\n",
    "btn=driver.find_elements_by_xpath(\"//*[@id='container']/div/div[3]/div[1]/div[2]/div[9]/div/div/div[5]/div/a\")\n",
    "btn[0].click()"
   ]
  },
  {
   "cell_type": "code",
   "execution_count": 236,
   "id": "119f5156",
   "metadata": {},
   "outputs": [
    {
     "data": {
      "text/plain": [
       "[<selenium.webdriver.remote.webelement.WebElement (session=\"6c889f6eeb85c91b0581d4d646a0dce4\", element=\"7eeedf97-4812-4d88-9ad6-2fe7d675ac3e\")>,\n",
       " <selenium.webdriver.remote.webelement.WebElement (session=\"6c889f6eeb85c91b0581d4d646a0dce4\", element=\"59b5147d-a311-449d-8940-98de6b590a1e\")>,\n",
       " <selenium.webdriver.remote.webelement.WebElement (session=\"6c889f6eeb85c91b0581d4d646a0dce4\", element=\"d6b88f99-06c1-4e9f-a61e-00e4b74ccc40\")>,\n",
       " <selenium.webdriver.remote.webelement.WebElement (session=\"6c889f6eeb85c91b0581d4d646a0dce4\", element=\"2c237605-f0fe-4223-b03a-22b0935c0dae\")>,\n",
       " <selenium.webdriver.remote.webelement.WebElement (session=\"6c889f6eeb85c91b0581d4d646a0dce4\", element=\"0b1c724f-73ef-43d3-8b23-2dc7a599532b\")>,\n",
       " <selenium.webdriver.remote.webelement.WebElement (session=\"6c889f6eeb85c91b0581d4d646a0dce4\", element=\"a3193024-31b5-48b1-afa4-301737241215\")>,\n",
       " <selenium.webdriver.remote.webelement.WebElement (session=\"6c889f6eeb85c91b0581d4d646a0dce4\", element=\"61bed411-cbe7-4972-8f41-ab3956ba7321\")>,\n",
       " <selenium.webdriver.remote.webelement.WebElement (session=\"6c889f6eeb85c91b0581d4d646a0dce4\", element=\"357e92a6-a601-4062-b781-6e580b652d93\")>,\n",
       " <selenium.webdriver.remote.webelement.WebElement (session=\"6c889f6eeb85c91b0581d4d646a0dce4\", element=\"8428a062-06d8-435a-9083-83e3265cd647\")>,\n",
       " <selenium.webdriver.remote.webelement.WebElement (session=\"6c889f6eeb85c91b0581d4d646a0dce4\", element=\"a9041afe-695c-4845-8ce2-e026334b03a9\")>]"
      ]
     },
     "execution_count": 236,
     "metadata": {},
     "output_type": "execute_result"
    }
   ],
   "source": [
    "rating=driver.find_elements_by_xpath(\"//div[@class='_3LWZlK _1BLPMq']\")\n",
    "review=driver.find_elements_by_xpath(\"//p[@class='_2-N8zT']\")\n",
    "full_review=driver.find_elements_by_xpath(\"//div[@class='t-ZTKy']\")\n",
    "rating\n",
    "review\n",
    "full_review"
   ]
  },
  {
   "cell_type": "code",
   "execution_count": 237,
   "id": "17b2eb96",
   "metadata": {},
   "outputs": [
    {
     "data": {
      "text/plain": [
       "['The Best Phone for the Money\\n\\nThe iPhone 11 offers superb cameras, a more durable design and excellent battery life for an affordable price.\\n\\nCompelling ultra-wide camera\\nNew Night mode is excellent\\nLong battery life',\n",
       " 'Really satisfied with the Product I received... It’s totally genuine and the packaging was also really good so if ur planning to buy just go for it.',\n",
       " 'Amazing phone with great cameras and better battery which gives you the best performance. I just love the camera .',\n",
       " 'This is my first iOS phone. I am very happy with this product. Very much satisfied with this. I love this phone.',\n",
       " 'Previously I was using one plus 3t it was a great phone\\nAnd then I decided to upgrade I am stuck between Samsung s10 plus or iPhone 11\\nI have seen the specs and everything were good except the display it’s somewhere between 720-1080 and it’s not even an amoled it’s an LCD display\\nBut I decided to go with iPhone because I have never used an IOS device I have Been an android user from the past 9 years I ordered IPhone 11 (128gb) product red\\nMy experience after using 3 weeks\\n1. The delivery ...\\nREAD MORE',\n",
       " 'Amazing Powerful and Durable Gadget.\\n\\nI’m am very happy with the camera picture quality, Amazing face id unlocked in dark room, Strong battery with perfect screen size as you can carry easily in pocket. This is my third iPhone.\\n\\nI shifted from android Samsung Note series to iPhone because of the strong build quality and peace of mind for next 3-4 years.\\n\\nDon’t think to much just go for it and I suggest you to go for minimum 128gb variant or more 256gb.\\n\\nI’ve attached my puppy pics and no fi...\\nREAD MORE',\n",
       " 'So far it’s been an AMAZING experience coming back to iOS after nearly a decade but it’s not as versatile as android though phone is sturdy dropped it accidentally a couple of times and nothing happened fortunately camera is awesome',\n",
       " 'i11 is worthy to buy, too much happy with the product. Thank u flipkart I received the item on time..loved it..',\n",
       " 'Great iPhone very snappy experience as apple kind. Upgraded from iPhone 7.\\nPros\\n-Camera top class\\n- Battery top performed\\n-Chipset no need to say as apple kind\\n-Security as you expect from apple\\n- Display super bright industry leading colour\\naccuracy and super responsive\\n-Build quality as expect from apple sturdy\\npremium durable beautiful stylish.\\n-Os most stable os in smartphone industry\\n\\nCons\\n-No 5G\\n-Display is not based on OLED technology\\n-Charger headphones and 1 apple stic...\\nREAD MORE',\n",
       " 'iphone 11 is a very good phone to buy only if you can compromise for the display. The display on this is device is pretty good but you can get other options with better displays in this price segment.\\nIf you can survive with an HD+ LCD panel with thicker bezels and a notch up top then this is a very good phone for you.\\nCameras are awesome, battery backup excellent, great performance and a decent premium look. Good job Apple !']"
      ]
     },
     "execution_count": 237,
     "metadata": {},
     "output_type": "execute_result"
    }
   ],
   "source": [
    "rating_n=[]\n",
    "review_n=[]\n",
    "full_review_n=[]\n",
    "for i in rating:\n",
    "    rating_n.append(i.text)\n",
    "for i in review:\n",
    "    review_n.append(i.text)\n",
    "for i in full_review:\n",
    "    full_review_n.append(i.text)\n",
    "\n",
    "rating_n\n",
    "review_n\n",
    "full_review_n"
   ]
  },
  {
   "cell_type": "code",
   "execution_count": 238,
   "id": "5422d915",
   "metadata": {},
   "outputs": [],
   "source": [
    "page=driver.find_element_by_xpath(\"//a[@class='ge-49M _2Kfbh8']\")\n",
    "page.click()"
   ]
  },
  {
   "cell_type": "code",
   "execution_count": 239,
   "id": "c5e84c9f",
   "metadata": {},
   "outputs": [
    {
     "data": {
      "text/plain": [
       "['The Best Phone for the Money\\n\\nThe iPhone 11 offers superb cameras, a more durable design and excellent battery life for an affordable price.\\n\\nCompelling ultra-wide camera\\nNew Night mode is excellent\\nLong battery life',\n",
       " 'Really satisfied with the Product I received... It’s totally genuine and the packaging was also really good so if ur planning to buy just go for it.',\n",
       " 'Amazing phone with great cameras and better battery which gives you the best performance. I just love the camera .',\n",
       " 'This is my first iOS phone. I am very happy with this product. Very much satisfied with this. I love this phone.',\n",
       " 'Previously I was using one plus 3t it was a great phone\\nAnd then I decided to upgrade I am stuck between Samsung s10 plus or iPhone 11\\nI have seen the specs and everything were good except the display it’s somewhere between 720-1080 and it’s not even an amoled it’s an LCD display\\nBut I decided to go with iPhone because I have never used an IOS device I have Been an android user from the past 9 years I ordered IPhone 11 (128gb) product red\\nMy experience after using 3 weeks\\n1. The delivery ...\\nREAD MORE',\n",
       " 'Amazing Powerful and Durable Gadget.\\n\\nI’m am very happy with the camera picture quality, Amazing face id unlocked in dark room, Strong battery with perfect screen size as you can carry easily in pocket. This is my third iPhone.\\n\\nI shifted from android Samsung Note series to iPhone because of the strong build quality and peace of mind for next 3-4 years.\\n\\nDon’t think to much just go for it and I suggest you to go for minimum 128gb variant or more 256gb.\\n\\nI’ve attached my puppy pics and no fi...\\nREAD MORE',\n",
       " 'So far it’s been an AMAZING experience coming back to iOS after nearly a decade but it’s not as versatile as android though phone is sturdy dropped it accidentally a couple of times and nothing happened fortunately camera is awesome',\n",
       " 'i11 is worthy to buy, too much happy with the product. Thank u flipkart I received the item on time..loved it..',\n",
       " 'Great iPhone very snappy experience as apple kind. Upgraded from iPhone 7.\\nPros\\n-Camera top class\\n- Battery top performed\\n-Chipset no need to say as apple kind\\n-Security as you expect from apple\\n- Display super bright industry leading colour\\naccuracy and super responsive\\n-Build quality as expect from apple sturdy\\npremium durable beautiful stylish.\\n-Os most stable os in smartphone industry\\n\\nCons\\n-No 5G\\n-Display is not based on OLED technology\\n-Charger headphones and 1 apple stic...\\nREAD MORE',\n",
       " 'iphone 11 is a very good phone to buy only if you can compromise for the display. The display on this is device is pretty good but you can get other options with better displays in this price segment.\\nIf you can survive with an HD+ LCD panel with thicker bezels and a notch up top then this is a very good phone for you.\\nCameras are awesome, battery backup excellent, great performance and a decent premium look. Good job Apple !',\n",
       " 'The Best Phone for the Money\\n\\nThe iPhone 11 offers superb cameras, a more durable design and excellent battery life for an affordable price.\\n\\nCompelling ultra-wide camera\\nNew Night mode is excellent\\nLong battery life',\n",
       " 'Really satisfied with the Product I received... It’s totally genuine and the packaging was also really good so if ur planning to buy just go for it.',\n",
       " 'Amazing phone with great cameras and better battery which gives you the best performance. I just love the camera .',\n",
       " 'This is my first iOS phone. I am very happy with this product. Very much satisfied with this. I love this phone.',\n",
       " 'Previously I was using one plus 3t it was a great phone\\nAnd then I decided to upgrade I am stuck between Samsung s10 plus or iPhone 11\\nI have seen the specs and everything were good except the display it’s somewhere between 720-1080 and it’s not even an amoled it’s an LCD display\\nBut I decided to go with iPhone because I have never used an IOS device I have Been an android user from the past 9 years I ordered IPhone 11 (128gb) product red\\nMy experience after using 3 weeks\\n1. The delivery ...\\nREAD MORE',\n",
       " 'Amazing Powerful and Durable Gadget.\\n\\nI’m am very happy with the camera picture quality, Amazing face id unlocked in dark room, Strong battery with perfect screen size as you can carry easily in pocket. This is my third iPhone.\\n\\nI shifted from android Samsung Note series to iPhone because of the strong build quality and peace of mind for next 3-4 years.\\n\\nDon’t think to much just go for it and I suggest you to go for minimum 128gb variant or more 256gb.\\n\\nI’ve attached my puppy pics and no fi...\\nREAD MORE',\n",
       " 'So far it’s been an AMAZING experience coming back to iOS after nearly a decade but it’s not as versatile as android though phone is sturdy dropped it accidentally a couple of times and nothing happened fortunately camera is awesome',\n",
       " 'i11 is worthy to buy, too much happy with the product. Thank u flipkart I received the item on time..loved it..',\n",
       " 'Great iPhone very snappy experience as apple kind. Upgraded from iPhone 7.\\nPros\\n-Camera top class\\n- Battery top performed\\n-Chipset no need to say as apple kind\\n-Security as you expect from apple\\n- Display super bright industry leading colour\\naccuracy and super responsive\\n-Build quality as expect from apple sturdy\\npremium durable beautiful stylish.\\n-Os most stable os in smartphone industry\\n\\nCons\\n-No 5G\\n-Display is not based on OLED technology\\n-Charger headphones and 1 apple stic...\\nREAD MORE',\n",
       " 'iphone 11 is a very good phone to buy only if you can compromise for the display. The display on this is device is pretty good but you can get other options with better displays in this price segment.\\nIf you can survive with an HD+ LCD panel with thicker bezels and a notch up top then this is a very good phone for you.\\nCameras are awesome, battery backup excellent, great performance and a decent premium look. Good job Apple !']"
      ]
     },
     "execution_count": 239,
     "metadata": {},
     "output_type": "execute_result"
    }
   ],
   "source": [
    "rating=driver.find_elements_by_xpath(\"//div[@class='_3LWZlK _1BLPMq']\")\n",
    "review=driver.find_elements_by_xpath(\"//p[@class='_2-N8zT']\")\n",
    "full_review=driver.find_elements_by_xpath(\"//div[@class='t-ZTKy']\")\n",
    "for i in rating:\n",
    "    rating_n.append(i.text)\n",
    "for i in review:\n",
    "    review_n.append(i.text)\n",
    "for i in full_review:\n",
    "    full_review_n.append(i.text)\n",
    "\n",
    "rating_n\n",
    "review_n\n",
    "full_review_n"
   ]
  },
  {
   "cell_type": "code",
   "execution_count": 240,
   "id": "0ed5c669",
   "metadata": {},
   "outputs": [],
   "source": [
    "page.click()"
   ]
  },
  {
   "cell_type": "code",
   "execution_count": 241,
   "id": "1b909f4e",
   "metadata": {},
   "outputs": [
    {
     "data": {
      "text/plain": [
       "['The Best Phone for the Money\\n\\nThe iPhone 11 offers superb cameras, a more durable design and excellent battery life for an affordable price.\\n\\nCompelling ultra-wide camera\\nNew Night mode is excellent\\nLong battery life',\n",
       " 'Really satisfied with the Product I received... It’s totally genuine and the packaging was also really good so if ur planning to buy just go for it.',\n",
       " 'Amazing phone with great cameras and better battery which gives you the best performance. I just love the camera .',\n",
       " 'This is my first iOS phone. I am very happy with this product. Very much satisfied with this. I love this phone.',\n",
       " 'Previously I was using one plus 3t it was a great phone\\nAnd then I decided to upgrade I am stuck between Samsung s10 plus or iPhone 11\\nI have seen the specs and everything were good except the display it’s somewhere between 720-1080 and it’s not even an amoled it’s an LCD display\\nBut I decided to go with iPhone because I have never used an IOS device I have Been an android user from the past 9 years I ordered IPhone 11 (128gb) product red\\nMy experience after using 3 weeks\\n1. The delivery ...\\nREAD MORE',\n",
       " 'Amazing Powerful and Durable Gadget.\\n\\nI’m am very happy with the camera picture quality, Amazing face id unlocked in dark room, Strong battery with perfect screen size as you can carry easily in pocket. This is my third iPhone.\\n\\nI shifted from android Samsung Note series to iPhone because of the strong build quality and peace of mind for next 3-4 years.\\n\\nDon’t think to much just go for it and I suggest you to go for minimum 128gb variant or more 256gb.\\n\\nI’ve attached my puppy pics and no fi...\\nREAD MORE',\n",
       " 'So far it’s been an AMAZING experience coming back to iOS after nearly a decade but it’s not as versatile as android though phone is sturdy dropped it accidentally a couple of times and nothing happened fortunately camera is awesome',\n",
       " 'i11 is worthy to buy, too much happy with the product. Thank u flipkart I received the item on time..loved it..',\n",
       " 'Great iPhone very snappy experience as apple kind. Upgraded from iPhone 7.\\nPros\\n-Camera top class\\n- Battery top performed\\n-Chipset no need to say as apple kind\\n-Security as you expect from apple\\n- Display super bright industry leading colour\\naccuracy and super responsive\\n-Build quality as expect from apple sturdy\\npremium durable beautiful stylish.\\n-Os most stable os in smartphone industry\\n\\nCons\\n-No 5G\\n-Display is not based on OLED technology\\n-Charger headphones and 1 apple stic...\\nREAD MORE',\n",
       " 'iphone 11 is a very good phone to buy only if you can compromise for the display. The display on this is device is pretty good but you can get other options with better displays in this price segment.\\nIf you can survive with an HD+ LCD panel with thicker bezels and a notch up top then this is a very good phone for you.\\nCameras are awesome, battery backup excellent, great performance and a decent premium look. Good job Apple !',\n",
       " 'The Best Phone for the Money\\n\\nThe iPhone 11 offers superb cameras, a more durable design and excellent battery life for an affordable price.\\n\\nCompelling ultra-wide camera\\nNew Night mode is excellent\\nLong battery life',\n",
       " 'Really satisfied with the Product I received... It’s totally genuine and the packaging was also really good so if ur planning to buy just go for it.',\n",
       " 'Amazing phone with great cameras and better battery which gives you the best performance. I just love the camera .',\n",
       " 'This is my first iOS phone. I am very happy with this product. Very much satisfied with this. I love this phone.',\n",
       " 'Previously I was using one plus 3t it was a great phone\\nAnd then I decided to upgrade I am stuck between Samsung s10 plus or iPhone 11\\nI have seen the specs and everything were good except the display it’s somewhere between 720-1080 and it’s not even an amoled it’s an LCD display\\nBut I decided to go with iPhone because I have never used an IOS device I have Been an android user from the past 9 years I ordered IPhone 11 (128gb) product red\\nMy experience after using 3 weeks\\n1. The delivery ...\\nREAD MORE',\n",
       " 'Amazing Powerful and Durable Gadget.\\n\\nI’m am very happy with the camera picture quality, Amazing face id unlocked in dark room, Strong battery with perfect screen size as you can carry easily in pocket. This is my third iPhone.\\n\\nI shifted from android Samsung Note series to iPhone because of the strong build quality and peace of mind for next 3-4 years.\\n\\nDon’t think to much just go for it and I suggest you to go for minimum 128gb variant or more 256gb.\\n\\nI’ve attached my puppy pics and no fi...\\nREAD MORE',\n",
       " 'So far it’s been an AMAZING experience coming back to iOS after nearly a decade but it’s not as versatile as android though phone is sturdy dropped it accidentally a couple of times and nothing happened fortunately camera is awesome',\n",
       " 'i11 is worthy to buy, too much happy with the product. Thank u flipkart I received the item on time..loved it..',\n",
       " 'Great iPhone very snappy experience as apple kind. Upgraded from iPhone 7.\\nPros\\n-Camera top class\\n- Battery top performed\\n-Chipset no need to say as apple kind\\n-Security as you expect from apple\\n- Display super bright industry leading colour\\naccuracy and super responsive\\n-Build quality as expect from apple sturdy\\npremium durable beautiful stylish.\\n-Os most stable os in smartphone industry\\n\\nCons\\n-No 5G\\n-Display is not based on OLED technology\\n-Charger headphones and 1 apple stic...\\nREAD MORE',\n",
       " 'iphone 11 is a very good phone to buy only if you can compromise for the display. The display on this is device is pretty good but you can get other options with better displays in this price segment.\\nIf you can survive with an HD+ LCD panel with thicker bezels and a notch up top then this is a very good phone for you.\\nCameras are awesome, battery backup excellent, great performance and a decent premium look. Good job Apple !',\n",
       " 'The Best Phone for the Money\\n\\nThe iPhone 11 offers superb cameras, a more durable design and excellent battery life for an affordable price.\\n\\nCompelling ultra-wide camera\\nNew Night mode is excellent\\nLong battery life',\n",
       " 'Really satisfied with the Product I received... It’s totally genuine and the packaging was also really good so if ur planning to buy just go for it.',\n",
       " 'Amazing phone with great cameras and better battery which gives you the best performance. I just love the camera .',\n",
       " 'This is my first iOS phone. I am very happy with this product. Very much satisfied with this. I love this phone.',\n",
       " 'Previously I was using one plus 3t it was a great phone\\nAnd then I decided to upgrade I am stuck between Samsung s10 plus or iPhone 11\\nI have seen the specs and everything were good except the display it’s somewhere between 720-1080 and it’s not even an amoled it’s an LCD display\\nBut I decided to go with iPhone because I have never used an IOS device I have Been an android user from the past 9 years I ordered IPhone 11 (128gb) product red\\nMy experience after using 3 weeks\\n1. The delivery ...\\nREAD MORE',\n",
       " 'Amazing Powerful and Durable Gadget.\\n\\nI’m am very happy with the camera picture quality, Amazing face id unlocked in dark room, Strong battery with perfect screen size as you can carry easily in pocket. This is my third iPhone.\\n\\nI shifted from android Samsung Note series to iPhone because of the strong build quality and peace of mind for next 3-4 years.\\n\\nDon’t think to much just go for it and I suggest you to go for minimum 128gb variant or more 256gb.\\n\\nI’ve attached my puppy pics and no fi...\\nREAD MORE',\n",
       " 'So far it’s been an AMAZING experience coming back to iOS after nearly a decade but it’s not as versatile as android though phone is sturdy dropped it accidentally a couple of times and nothing happened fortunately camera is awesome',\n",
       " 'i11 is worthy to buy, too much happy with the product. Thank u flipkart I received the item on time..loved it..',\n",
       " 'Great iPhone very snappy experience as apple kind. Upgraded from iPhone 7.\\nPros\\n-Camera top class\\n- Battery top performed\\n-Chipset no need to say as apple kind\\n-Security as you expect from apple\\n- Display super bright industry leading colour\\naccuracy and super responsive\\n-Build quality as expect from apple sturdy\\npremium durable beautiful stylish.\\n-Os most stable os in smartphone industry\\n\\nCons\\n-No 5G\\n-Display is not based on OLED technology\\n-Charger headphones and 1 apple stic...\\nREAD MORE',\n",
       " 'iphone 11 is a very good phone to buy only if you can compromise for the display. The display on this is device is pretty good but you can get other options with better displays in this price segment.\\nIf you can survive with an HD+ LCD panel with thicker bezels and a notch up top then this is a very good phone for you.\\nCameras are awesome, battery backup excellent, great performance and a decent premium look. Good job Apple !']"
      ]
     },
     "execution_count": 241,
     "metadata": {},
     "output_type": "execute_result"
    }
   ],
   "source": [
    "rating=driver.find_elements_by_xpath(\"//div[@class='_3LWZlK _1BLPMq']\")\n",
    "review=driver.find_elements_by_xpath(\"//p[@class='_2-N8zT']\")\n",
    "full_review=driver.find_elements_by_xpath(\"//div[@class='t-ZTKy']\")\n",
    "for i in rating:\n",
    "    rating_n.append(i.text)\n",
    "for i in review:\n",
    "    review_n.append(i.text)\n",
    "for i in full_review:\n",
    "    full_review_n.append(i.text)\n",
    "\n",
    "rating_n\n",
    "review_n\n",
    "full_review_n"
   ]
  },
  {
   "cell_type": "code",
   "execution_count": 242,
   "id": "c1060eb5",
   "metadata": {},
   "outputs": [],
   "source": [
    "page.click()"
   ]
  },
  {
   "cell_type": "code",
   "execution_count": 243,
   "id": "21d7c49d",
   "metadata": {},
   "outputs": [
    {
     "data": {
      "text/plain": [
       "['The Best Phone for the Money\\n\\nThe iPhone 11 offers superb cameras, a more durable design and excellent battery life for an affordable price.\\n\\nCompelling ultra-wide camera\\nNew Night mode is excellent\\nLong battery life',\n",
       " 'Really satisfied with the Product I received... It’s totally genuine and the packaging was also really good so if ur planning to buy just go for it.',\n",
       " 'Amazing phone with great cameras and better battery which gives you the best performance. I just love the camera .',\n",
       " 'This is my first iOS phone. I am very happy with this product. Very much satisfied with this. I love this phone.',\n",
       " 'Previously I was using one plus 3t it was a great phone\\nAnd then I decided to upgrade I am stuck between Samsung s10 plus or iPhone 11\\nI have seen the specs and everything were good except the display it’s somewhere between 720-1080 and it’s not even an amoled it’s an LCD display\\nBut I decided to go with iPhone because I have never used an IOS device I have Been an android user from the past 9 years I ordered IPhone 11 (128gb) product red\\nMy experience after using 3 weeks\\n1. The delivery ...\\nREAD MORE',\n",
       " 'Amazing Powerful and Durable Gadget.\\n\\nI’m am very happy with the camera picture quality, Amazing face id unlocked in dark room, Strong battery with perfect screen size as you can carry easily in pocket. This is my third iPhone.\\n\\nI shifted from android Samsung Note series to iPhone because of the strong build quality and peace of mind for next 3-4 years.\\n\\nDon’t think to much just go for it and I suggest you to go for minimum 128gb variant or more 256gb.\\n\\nI’ve attached my puppy pics and no fi...\\nREAD MORE',\n",
       " 'So far it’s been an AMAZING experience coming back to iOS after nearly a decade but it’s not as versatile as android though phone is sturdy dropped it accidentally a couple of times and nothing happened fortunately camera is awesome',\n",
       " 'i11 is worthy to buy, too much happy with the product. Thank u flipkart I received the item on time..loved it..',\n",
       " 'Great iPhone very snappy experience as apple kind. Upgraded from iPhone 7.\\nPros\\n-Camera top class\\n- Battery top performed\\n-Chipset no need to say as apple kind\\n-Security as you expect from apple\\n- Display super bright industry leading colour\\naccuracy and super responsive\\n-Build quality as expect from apple sturdy\\npremium durable beautiful stylish.\\n-Os most stable os in smartphone industry\\n\\nCons\\n-No 5G\\n-Display is not based on OLED technology\\n-Charger headphones and 1 apple stic...\\nREAD MORE',\n",
       " 'iphone 11 is a very good phone to buy only if you can compromise for the display. The display on this is device is pretty good but you can get other options with better displays in this price segment.\\nIf you can survive with an HD+ LCD panel with thicker bezels and a notch up top then this is a very good phone for you.\\nCameras are awesome, battery backup excellent, great performance and a decent premium look. Good job Apple !',\n",
       " 'The Best Phone for the Money\\n\\nThe iPhone 11 offers superb cameras, a more durable design and excellent battery life for an affordable price.\\n\\nCompelling ultra-wide camera\\nNew Night mode is excellent\\nLong battery life',\n",
       " 'Really satisfied with the Product I received... It’s totally genuine and the packaging was also really good so if ur planning to buy just go for it.',\n",
       " 'Amazing phone with great cameras and better battery which gives you the best performance. I just love the camera .',\n",
       " 'This is my first iOS phone. I am very happy with this product. Very much satisfied with this. I love this phone.',\n",
       " 'Previously I was using one plus 3t it was a great phone\\nAnd then I decided to upgrade I am stuck between Samsung s10 plus or iPhone 11\\nI have seen the specs and everything were good except the display it’s somewhere between 720-1080 and it’s not even an amoled it’s an LCD display\\nBut I decided to go with iPhone because I have never used an IOS device I have Been an android user from the past 9 years I ordered IPhone 11 (128gb) product red\\nMy experience after using 3 weeks\\n1. The delivery ...\\nREAD MORE',\n",
       " 'Amazing Powerful and Durable Gadget.\\n\\nI’m am very happy with the camera picture quality, Amazing face id unlocked in dark room, Strong battery with perfect screen size as you can carry easily in pocket. This is my third iPhone.\\n\\nI shifted from android Samsung Note series to iPhone because of the strong build quality and peace of mind for next 3-4 years.\\n\\nDon’t think to much just go for it and I suggest you to go for minimum 128gb variant or more 256gb.\\n\\nI’ve attached my puppy pics and no fi...\\nREAD MORE',\n",
       " 'So far it’s been an AMAZING experience coming back to iOS after nearly a decade but it’s not as versatile as android though phone is sturdy dropped it accidentally a couple of times and nothing happened fortunately camera is awesome',\n",
       " 'i11 is worthy to buy, too much happy with the product. Thank u flipkart I received the item on time..loved it..',\n",
       " 'Great iPhone very snappy experience as apple kind. Upgraded from iPhone 7.\\nPros\\n-Camera top class\\n- Battery top performed\\n-Chipset no need to say as apple kind\\n-Security as you expect from apple\\n- Display super bright industry leading colour\\naccuracy and super responsive\\n-Build quality as expect from apple sturdy\\npremium durable beautiful stylish.\\n-Os most stable os in smartphone industry\\n\\nCons\\n-No 5G\\n-Display is not based on OLED technology\\n-Charger headphones and 1 apple stic...\\nREAD MORE',\n",
       " 'iphone 11 is a very good phone to buy only if you can compromise for the display. The display on this is device is pretty good but you can get other options with better displays in this price segment.\\nIf you can survive with an HD+ LCD panel with thicker bezels and a notch up top then this is a very good phone for you.\\nCameras are awesome, battery backup excellent, great performance and a decent premium look. Good job Apple !',\n",
       " 'The Best Phone for the Money\\n\\nThe iPhone 11 offers superb cameras, a more durable design and excellent battery life for an affordable price.\\n\\nCompelling ultra-wide camera\\nNew Night mode is excellent\\nLong battery life',\n",
       " 'Really satisfied with the Product I received... It’s totally genuine and the packaging was also really good so if ur planning to buy just go for it.',\n",
       " 'Amazing phone with great cameras and better battery which gives you the best performance. I just love the camera .',\n",
       " 'This is my first iOS phone. I am very happy with this product. Very much satisfied with this. I love this phone.',\n",
       " 'Previously I was using one plus 3t it was a great phone\\nAnd then I decided to upgrade I am stuck between Samsung s10 plus or iPhone 11\\nI have seen the specs and everything were good except the display it’s somewhere between 720-1080 and it’s not even an amoled it’s an LCD display\\nBut I decided to go with iPhone because I have never used an IOS device I have Been an android user from the past 9 years I ordered IPhone 11 (128gb) product red\\nMy experience after using 3 weeks\\n1. The delivery ...\\nREAD MORE',\n",
       " 'Amazing Powerful and Durable Gadget.\\n\\nI’m am very happy with the camera picture quality, Amazing face id unlocked in dark room, Strong battery with perfect screen size as you can carry easily in pocket. This is my third iPhone.\\n\\nI shifted from android Samsung Note series to iPhone because of the strong build quality and peace of mind for next 3-4 years.\\n\\nDon’t think to much just go for it and I suggest you to go for minimum 128gb variant or more 256gb.\\n\\nI’ve attached my puppy pics and no fi...\\nREAD MORE',\n",
       " 'So far it’s been an AMAZING experience coming back to iOS after nearly a decade but it’s not as versatile as android though phone is sturdy dropped it accidentally a couple of times and nothing happened fortunately camera is awesome',\n",
       " 'i11 is worthy to buy, too much happy with the product. Thank u flipkart I received the item on time..loved it..',\n",
       " 'Great iPhone very snappy experience as apple kind. Upgraded from iPhone 7.\\nPros\\n-Camera top class\\n- Battery top performed\\n-Chipset no need to say as apple kind\\n-Security as you expect from apple\\n- Display super bright industry leading colour\\naccuracy and super responsive\\n-Build quality as expect from apple sturdy\\npremium durable beautiful stylish.\\n-Os most stable os in smartphone industry\\n\\nCons\\n-No 5G\\n-Display is not based on OLED technology\\n-Charger headphones and 1 apple stic...\\nREAD MORE',\n",
       " 'iphone 11 is a very good phone to buy only if you can compromise for the display. The display on this is device is pretty good but you can get other options with better displays in this price segment.\\nIf you can survive with an HD+ LCD panel with thicker bezels and a notch up top then this is a very good phone for you.\\nCameras are awesome, battery backup excellent, great performance and a decent premium look. Good job Apple !',\n",
       " 'The Best Phone for the Money\\n\\nThe iPhone 11 offers superb cameras, a more durable design and excellent battery life for an affordable price.\\n\\nCompelling ultra-wide camera\\nNew Night mode is excellent\\nLong battery life',\n",
       " 'Really satisfied with the Product I received... It’s totally genuine and the packaging was also really good so if ur planning to buy just go for it.',\n",
       " 'Amazing phone with great cameras and better battery which gives you the best performance. I just love the camera .',\n",
       " 'This is my first iOS phone. I am very happy with this product. Very much satisfied with this. I love this phone.',\n",
       " 'Previously I was using one plus 3t it was a great phone\\nAnd then I decided to upgrade I am stuck between Samsung s10 plus or iPhone 11\\nI have seen the specs and everything were good except the display it’s somewhere between 720-1080 and it’s not even an amoled it’s an LCD display\\nBut I decided to go with iPhone because I have never used an IOS device I have Been an android user from the past 9 years I ordered IPhone 11 (128gb) product red\\nMy experience after using 3 weeks\\n1. The delivery ...\\nREAD MORE',\n",
       " 'Amazing Powerful and Durable Gadget.\\n\\nI’m am very happy with the camera picture quality, Amazing face id unlocked in dark room, Strong battery with perfect screen size as you can carry easily in pocket. This is my third iPhone.\\n\\nI shifted from android Samsung Note series to iPhone because of the strong build quality and peace of mind for next 3-4 years.\\n\\nDon’t think to much just go for it and I suggest you to go for minimum 128gb variant or more 256gb.\\n\\nI’ve attached my puppy pics and no fi...\\nREAD MORE',\n",
       " 'So far it’s been an AMAZING experience coming back to iOS after nearly a decade but it’s not as versatile as android though phone is sturdy dropped it accidentally a couple of times and nothing happened fortunately camera is awesome',\n",
       " 'i11 is worthy to buy, too much happy with the product. Thank u flipkart I received the item on time..loved it..',\n",
       " 'Great iPhone very snappy experience as apple kind. Upgraded from iPhone 7.\\nPros\\n-Camera top class\\n- Battery top performed\\n-Chipset no need to say as apple kind\\n-Security as you expect from apple\\n- Display super bright industry leading colour\\naccuracy and super responsive\\n-Build quality as expect from apple sturdy\\npremium durable beautiful stylish.\\n-Os most stable os in smartphone industry\\n\\nCons\\n-No 5G\\n-Display is not based on OLED technology\\n-Charger headphones and 1 apple stic...\\nREAD MORE',\n",
       " 'iphone 11 is a very good phone to buy only if you can compromise for the display. The display on this is device is pretty good but you can get other options with better displays in this price segment.\\nIf you can survive with an HD+ LCD panel with thicker bezels and a notch up top then this is a very good phone for you.\\nCameras are awesome, battery backup excellent, great performance and a decent premium look. Good job Apple !']"
      ]
     },
     "execution_count": 243,
     "metadata": {},
     "output_type": "execute_result"
    }
   ],
   "source": [
    "rating=driver.find_elements_by_xpath(\"//div[@class='_3LWZlK _1BLPMq']\")\n",
    "review=driver.find_elements_by_xpath(\"//p[@class='_2-N8zT']\")\n",
    "full_review=driver.find_elements_by_xpath(\"//div[@class='t-ZTKy']\")\n",
    "for i in rating:\n",
    "    rating_n.append(i.text)\n",
    "for i in review:\n",
    "    review_n.append(i.text)\n",
    "for i in full_review:\n",
    "    full_review_n.append(i.text)\n",
    "\n",
    "rating_n\n",
    "review_n\n",
    "full_review_n"
   ]
  },
  {
   "cell_type": "code",
   "execution_count": 244,
   "id": "352880fa",
   "metadata": {},
   "outputs": [],
   "source": [
    "page.click()"
   ]
  },
  {
   "cell_type": "code",
   "execution_count": 245,
   "id": "c6917182",
   "metadata": {},
   "outputs": [
    {
     "data": {
      "text/plain": [
       "['The Best Phone for the Money\\n\\nThe iPhone 11 offers superb cameras, a more durable design and excellent battery life for an affordable price.\\n\\nCompelling ultra-wide camera\\nNew Night mode is excellent\\nLong battery life',\n",
       " 'Really satisfied with the Product I received... It’s totally genuine and the packaging was also really good so if ur planning to buy just go for it.',\n",
       " 'Amazing phone with great cameras and better battery which gives you the best performance. I just love the camera .',\n",
       " 'This is my first iOS phone. I am very happy with this product. Very much satisfied with this. I love this phone.',\n",
       " 'Previously I was using one plus 3t it was a great phone\\nAnd then I decided to upgrade I am stuck between Samsung s10 plus or iPhone 11\\nI have seen the specs and everything were good except the display it’s somewhere between 720-1080 and it’s not even an amoled it’s an LCD display\\nBut I decided to go with iPhone because I have never used an IOS device I have Been an android user from the past 9 years I ordered IPhone 11 (128gb) product red\\nMy experience after using 3 weeks\\n1. The delivery ...\\nREAD MORE',\n",
       " 'Amazing Powerful and Durable Gadget.\\n\\nI’m am very happy with the camera picture quality, Amazing face id unlocked in dark room, Strong battery with perfect screen size as you can carry easily in pocket. This is my third iPhone.\\n\\nI shifted from android Samsung Note series to iPhone because of the strong build quality and peace of mind for next 3-4 years.\\n\\nDon’t think to much just go for it and I suggest you to go for minimum 128gb variant or more 256gb.\\n\\nI’ve attached my puppy pics and no fi...\\nREAD MORE',\n",
       " 'So far it’s been an AMAZING experience coming back to iOS after nearly a decade but it’s not as versatile as android though phone is sturdy dropped it accidentally a couple of times and nothing happened fortunately camera is awesome',\n",
       " 'i11 is worthy to buy, too much happy with the product. Thank u flipkart I received the item on time..loved it..',\n",
       " 'Great iPhone very snappy experience as apple kind. Upgraded from iPhone 7.\\nPros\\n-Camera top class\\n- Battery top performed\\n-Chipset no need to say as apple kind\\n-Security as you expect from apple\\n- Display super bright industry leading colour\\naccuracy and super responsive\\n-Build quality as expect from apple sturdy\\npremium durable beautiful stylish.\\n-Os most stable os in smartphone industry\\n\\nCons\\n-No 5G\\n-Display is not based on OLED technology\\n-Charger headphones and 1 apple stic...\\nREAD MORE',\n",
       " 'iphone 11 is a very good phone to buy only if you can compromise for the display. The display on this is device is pretty good but you can get other options with better displays in this price segment.\\nIf you can survive with an HD+ LCD panel with thicker bezels and a notch up top then this is a very good phone for you.\\nCameras are awesome, battery backup excellent, great performance and a decent premium look. Good job Apple !',\n",
       " 'The Best Phone for the Money\\n\\nThe iPhone 11 offers superb cameras, a more durable design and excellent battery life for an affordable price.\\n\\nCompelling ultra-wide camera\\nNew Night mode is excellent\\nLong battery life',\n",
       " 'Really satisfied with the Product I received... It’s totally genuine and the packaging was also really good so if ur planning to buy just go for it.',\n",
       " 'Amazing phone with great cameras and better battery which gives you the best performance. I just love the camera .',\n",
       " 'This is my first iOS phone. I am very happy with this product. Very much satisfied with this. I love this phone.',\n",
       " 'Previously I was using one plus 3t it was a great phone\\nAnd then I decided to upgrade I am stuck between Samsung s10 plus or iPhone 11\\nI have seen the specs and everything were good except the display it’s somewhere between 720-1080 and it’s not even an amoled it’s an LCD display\\nBut I decided to go with iPhone because I have never used an IOS device I have Been an android user from the past 9 years I ordered IPhone 11 (128gb) product red\\nMy experience after using 3 weeks\\n1. The delivery ...\\nREAD MORE',\n",
       " 'Amazing Powerful and Durable Gadget.\\n\\nI’m am very happy with the camera picture quality, Amazing face id unlocked in dark room, Strong battery with perfect screen size as you can carry easily in pocket. This is my third iPhone.\\n\\nI shifted from android Samsung Note series to iPhone because of the strong build quality and peace of mind for next 3-4 years.\\n\\nDon’t think to much just go for it and I suggest you to go for minimum 128gb variant or more 256gb.\\n\\nI’ve attached my puppy pics and no fi...\\nREAD MORE',\n",
       " 'So far it’s been an AMAZING experience coming back to iOS after nearly a decade but it’s not as versatile as android though phone is sturdy dropped it accidentally a couple of times and nothing happened fortunately camera is awesome',\n",
       " 'i11 is worthy to buy, too much happy with the product. Thank u flipkart I received the item on time..loved it..',\n",
       " 'Great iPhone very snappy experience as apple kind. Upgraded from iPhone 7.\\nPros\\n-Camera top class\\n- Battery top performed\\n-Chipset no need to say as apple kind\\n-Security as you expect from apple\\n- Display super bright industry leading colour\\naccuracy and super responsive\\n-Build quality as expect from apple sturdy\\npremium durable beautiful stylish.\\n-Os most stable os in smartphone industry\\n\\nCons\\n-No 5G\\n-Display is not based on OLED technology\\n-Charger headphones and 1 apple stic...\\nREAD MORE',\n",
       " 'iphone 11 is a very good phone to buy only if you can compromise for the display. The display on this is device is pretty good but you can get other options with better displays in this price segment.\\nIf you can survive with an HD+ LCD panel with thicker bezels and a notch up top then this is a very good phone for you.\\nCameras are awesome, battery backup excellent, great performance and a decent premium look. Good job Apple !',\n",
       " 'The Best Phone for the Money\\n\\nThe iPhone 11 offers superb cameras, a more durable design and excellent battery life for an affordable price.\\n\\nCompelling ultra-wide camera\\nNew Night mode is excellent\\nLong battery life',\n",
       " 'Really satisfied with the Product I received... It’s totally genuine and the packaging was also really good so if ur planning to buy just go for it.',\n",
       " 'Amazing phone with great cameras and better battery which gives you the best performance. I just love the camera .',\n",
       " 'This is my first iOS phone. I am very happy with this product. Very much satisfied with this. I love this phone.',\n",
       " 'Previously I was using one plus 3t it was a great phone\\nAnd then I decided to upgrade I am stuck between Samsung s10 plus or iPhone 11\\nI have seen the specs and everything were good except the display it’s somewhere between 720-1080 and it’s not even an amoled it’s an LCD display\\nBut I decided to go with iPhone because I have never used an IOS device I have Been an android user from the past 9 years I ordered IPhone 11 (128gb) product red\\nMy experience after using 3 weeks\\n1. The delivery ...\\nREAD MORE',\n",
       " 'Amazing Powerful and Durable Gadget.\\n\\nI’m am very happy with the camera picture quality, Amazing face id unlocked in dark room, Strong battery with perfect screen size as you can carry easily in pocket. This is my third iPhone.\\n\\nI shifted from android Samsung Note series to iPhone because of the strong build quality and peace of mind for next 3-4 years.\\n\\nDon’t think to much just go for it and I suggest you to go for minimum 128gb variant or more 256gb.\\n\\nI’ve attached my puppy pics and no fi...\\nREAD MORE',\n",
       " 'So far it’s been an AMAZING experience coming back to iOS after nearly a decade but it’s not as versatile as android though phone is sturdy dropped it accidentally a couple of times and nothing happened fortunately camera is awesome',\n",
       " 'i11 is worthy to buy, too much happy with the product. Thank u flipkart I received the item on time..loved it..',\n",
       " 'Great iPhone very snappy experience as apple kind. Upgraded from iPhone 7.\\nPros\\n-Camera top class\\n- Battery top performed\\n-Chipset no need to say as apple kind\\n-Security as you expect from apple\\n- Display super bright industry leading colour\\naccuracy and super responsive\\n-Build quality as expect from apple sturdy\\npremium durable beautiful stylish.\\n-Os most stable os in smartphone industry\\n\\nCons\\n-No 5G\\n-Display is not based on OLED technology\\n-Charger headphones and 1 apple stic...\\nREAD MORE',\n",
       " 'iphone 11 is a very good phone to buy only if you can compromise for the display. The display on this is device is pretty good but you can get other options with better displays in this price segment.\\nIf you can survive with an HD+ LCD panel with thicker bezels and a notch up top then this is a very good phone for you.\\nCameras are awesome, battery backup excellent, great performance and a decent premium look. Good job Apple !',\n",
       " 'The Best Phone for the Money\\n\\nThe iPhone 11 offers superb cameras, a more durable design and excellent battery life for an affordable price.\\n\\nCompelling ultra-wide camera\\nNew Night mode is excellent\\nLong battery life',\n",
       " 'Really satisfied with the Product I received... It’s totally genuine and the packaging was also really good so if ur planning to buy just go for it.',\n",
       " 'Amazing phone with great cameras and better battery which gives you the best performance. I just love the camera .',\n",
       " 'This is my first iOS phone. I am very happy with this product. Very much satisfied with this. I love this phone.',\n",
       " 'Previously I was using one plus 3t it was a great phone\\nAnd then I decided to upgrade I am stuck between Samsung s10 plus or iPhone 11\\nI have seen the specs and everything were good except the display it’s somewhere between 720-1080 and it’s not even an amoled it’s an LCD display\\nBut I decided to go with iPhone because I have never used an IOS device I have Been an android user from the past 9 years I ordered IPhone 11 (128gb) product red\\nMy experience after using 3 weeks\\n1. The delivery ...\\nREAD MORE',\n",
       " 'Amazing Powerful and Durable Gadget.\\n\\nI’m am very happy with the camera picture quality, Amazing face id unlocked in dark room, Strong battery with perfect screen size as you can carry easily in pocket. This is my third iPhone.\\n\\nI shifted from android Samsung Note series to iPhone because of the strong build quality and peace of mind for next 3-4 years.\\n\\nDon’t think to much just go for it and I suggest you to go for minimum 128gb variant or more 256gb.\\n\\nI’ve attached my puppy pics and no fi...\\nREAD MORE',\n",
       " 'So far it’s been an AMAZING experience coming back to iOS after nearly a decade but it’s not as versatile as android though phone is sturdy dropped it accidentally a couple of times and nothing happened fortunately camera is awesome',\n",
       " 'i11 is worthy to buy, too much happy with the product. Thank u flipkart I received the item on time..loved it..',\n",
       " 'Great iPhone very snappy experience as apple kind. Upgraded from iPhone 7.\\nPros\\n-Camera top class\\n- Battery top performed\\n-Chipset no need to say as apple kind\\n-Security as you expect from apple\\n- Display super bright industry leading colour\\naccuracy and super responsive\\n-Build quality as expect from apple sturdy\\npremium durable beautiful stylish.\\n-Os most stable os in smartphone industry\\n\\nCons\\n-No 5G\\n-Display is not based on OLED technology\\n-Charger headphones and 1 apple stic...\\nREAD MORE',\n",
       " 'iphone 11 is a very good phone to buy only if you can compromise for the display. The display on this is device is pretty good but you can get other options with better displays in this price segment.\\nIf you can survive with an HD+ LCD panel with thicker bezels and a notch up top then this is a very good phone for you.\\nCameras are awesome, battery backup excellent, great performance and a decent premium look. Good job Apple !',\n",
       " 'The Best Phone for the Money\\n\\nThe iPhone 11 offers superb cameras, a more durable design and excellent battery life for an affordable price.\\n\\nCompelling ultra-wide camera\\nNew Night mode is excellent\\nLong battery life',\n",
       " 'Really satisfied with the Product I received... It’s totally genuine and the packaging was also really good so if ur planning to buy just go for it.',\n",
       " 'Amazing phone with great cameras and better battery which gives you the best performance. I just love the camera .',\n",
       " 'This is my first iOS phone. I am very happy with this product. Very much satisfied with this. I love this phone.',\n",
       " 'Previously I was using one plus 3t it was a great phone\\nAnd then I decided to upgrade I am stuck between Samsung s10 plus or iPhone 11\\nI have seen the specs and everything were good except the display it’s somewhere between 720-1080 and it’s not even an amoled it’s an LCD display\\nBut I decided to go with iPhone because I have never used an IOS device I have Been an android user from the past 9 years I ordered IPhone 11 (128gb) product red\\nMy experience after using 3 weeks\\n1. The delivery ...\\nREAD MORE',\n",
       " 'Amazing Powerful and Durable Gadget.\\n\\nI’m am very happy with the camera picture quality, Amazing face id unlocked in dark room, Strong battery with perfect screen size as you can carry easily in pocket. This is my third iPhone.\\n\\nI shifted from android Samsung Note series to iPhone because of the strong build quality and peace of mind for next 3-4 years.\\n\\nDon’t think to much just go for it and I suggest you to go for minimum 128gb variant or more 256gb.\\n\\nI’ve attached my puppy pics and no fi...\\nREAD MORE',\n",
       " 'So far it’s been an AMAZING experience coming back to iOS after nearly a decade but it’s not as versatile as android though phone is sturdy dropped it accidentally a couple of times and nothing happened fortunately camera is awesome',\n",
       " 'i11 is worthy to buy, too much happy with the product. Thank u flipkart I received the item on time..loved it..',\n",
       " 'Great iPhone very snappy experience as apple kind. Upgraded from iPhone 7.\\nPros\\n-Camera top class\\n- Battery top performed\\n-Chipset no need to say as apple kind\\n-Security as you expect from apple\\n- Display super bright industry leading colour\\naccuracy and super responsive\\n-Build quality as expect from apple sturdy\\npremium durable beautiful stylish.\\n-Os most stable os in smartphone industry\\n\\nCons\\n-No 5G\\n-Display is not based on OLED technology\\n-Charger headphones and 1 apple stic...\\nREAD MORE',\n",
       " 'iphone 11 is a very good phone to buy only if you can compromise for the display. The display on this is device is pretty good but you can get other options with better displays in this price segment.\\nIf you can survive with an HD+ LCD panel with thicker bezels and a notch up top then this is a very good phone for you.\\nCameras are awesome, battery backup excellent, great performance and a decent premium look. Good job Apple !']"
      ]
     },
     "execution_count": 245,
     "metadata": {},
     "output_type": "execute_result"
    }
   ],
   "source": [
    "rating=driver.find_elements_by_xpath(\"//div[@class='_3LWZlK _1BLPMq']\")\n",
    "review=driver.find_elements_by_xpath(\"//p[@class='_2-N8zT']\")\n",
    "full_review=driver.find_elements_by_xpath(\"//div[@class='t-ZTKy']\")\n",
    "for i in rating:\n",
    "    rating_n.append(i.text)\n",
    "for i in review:\n",
    "    review_n.append(i.text)\n",
    "for i in full_review:\n",
    "    full_review_n.append(i.text)\n",
    "\n",
    "rating_n\n",
    "review_n\n",
    "full_review_n"
   ]
  },
  {
   "cell_type": "code",
   "execution_count": 246,
   "id": "041c96a0",
   "metadata": {},
   "outputs": [],
   "source": [
    "page.click()"
   ]
  },
  {
   "cell_type": "code",
   "execution_count": 247,
   "id": "c24cec90",
   "metadata": {},
   "outputs": [
    {
     "data": {
      "text/plain": [
       "['The Best Phone for the Money\\n\\nThe iPhone 11 offers superb cameras, a more durable design and excellent battery life for an affordable price.\\n\\nCompelling ultra-wide camera\\nNew Night mode is excellent\\nLong battery life',\n",
       " 'Really satisfied with the Product I received... It’s totally genuine and the packaging was also really good so if ur planning to buy just go for it.',\n",
       " 'Amazing phone with great cameras and better battery which gives you the best performance. I just love the camera .',\n",
       " 'This is my first iOS phone. I am very happy with this product. Very much satisfied with this. I love this phone.',\n",
       " 'Previously I was using one plus 3t it was a great phone\\nAnd then I decided to upgrade I am stuck between Samsung s10 plus or iPhone 11\\nI have seen the specs and everything were good except the display it’s somewhere between 720-1080 and it’s not even an amoled it’s an LCD display\\nBut I decided to go with iPhone because I have never used an IOS device I have Been an android user from the past 9 years I ordered IPhone 11 (128gb) product red\\nMy experience after using 3 weeks\\n1. The delivery ...\\nREAD MORE',\n",
       " 'Amazing Powerful and Durable Gadget.\\n\\nI’m am very happy with the camera picture quality, Amazing face id unlocked in dark room, Strong battery with perfect screen size as you can carry easily in pocket. This is my third iPhone.\\n\\nI shifted from android Samsung Note series to iPhone because of the strong build quality and peace of mind for next 3-4 years.\\n\\nDon’t think to much just go for it and I suggest you to go for minimum 128gb variant or more 256gb.\\n\\nI’ve attached my puppy pics and no fi...\\nREAD MORE',\n",
       " 'So far it’s been an AMAZING experience coming back to iOS after nearly a decade but it’s not as versatile as android though phone is sturdy dropped it accidentally a couple of times and nothing happened fortunately camera is awesome',\n",
       " 'i11 is worthy to buy, too much happy with the product. Thank u flipkart I received the item on time..loved it..',\n",
       " 'Great iPhone very snappy experience as apple kind. Upgraded from iPhone 7.\\nPros\\n-Camera top class\\n- Battery top performed\\n-Chipset no need to say as apple kind\\n-Security as you expect from apple\\n- Display super bright industry leading colour\\naccuracy and super responsive\\n-Build quality as expect from apple sturdy\\npremium durable beautiful stylish.\\n-Os most stable os in smartphone industry\\n\\nCons\\n-No 5G\\n-Display is not based on OLED technology\\n-Charger headphones and 1 apple stic...\\nREAD MORE',\n",
       " 'iphone 11 is a very good phone to buy only if you can compromise for the display. The display on this is device is pretty good but you can get other options with better displays in this price segment.\\nIf you can survive with an HD+ LCD panel with thicker bezels and a notch up top then this is a very good phone for you.\\nCameras are awesome, battery backup excellent, great performance and a decent premium look. Good job Apple !',\n",
       " 'The Best Phone for the Money\\n\\nThe iPhone 11 offers superb cameras, a more durable design and excellent battery life for an affordable price.\\n\\nCompelling ultra-wide camera\\nNew Night mode is excellent\\nLong battery life',\n",
       " 'Really satisfied with the Product I received... It’s totally genuine and the packaging was also really good so if ur planning to buy just go for it.',\n",
       " 'Amazing phone with great cameras and better battery which gives you the best performance. I just love the camera .',\n",
       " 'This is my first iOS phone. I am very happy with this product. Very much satisfied with this. I love this phone.',\n",
       " 'Previously I was using one plus 3t it was a great phone\\nAnd then I decided to upgrade I am stuck between Samsung s10 plus or iPhone 11\\nI have seen the specs and everything were good except the display it’s somewhere between 720-1080 and it’s not even an amoled it’s an LCD display\\nBut I decided to go with iPhone because I have never used an IOS device I have Been an android user from the past 9 years I ordered IPhone 11 (128gb) product red\\nMy experience after using 3 weeks\\n1. The delivery ...\\nREAD MORE',\n",
       " 'Amazing Powerful and Durable Gadget.\\n\\nI’m am very happy with the camera picture quality, Amazing face id unlocked in dark room, Strong battery with perfect screen size as you can carry easily in pocket. This is my third iPhone.\\n\\nI shifted from android Samsung Note series to iPhone because of the strong build quality and peace of mind for next 3-4 years.\\n\\nDon’t think to much just go for it and I suggest you to go for minimum 128gb variant or more 256gb.\\n\\nI’ve attached my puppy pics and no fi...\\nREAD MORE',\n",
       " 'So far it’s been an AMAZING experience coming back to iOS after nearly a decade but it’s not as versatile as android though phone is sturdy dropped it accidentally a couple of times and nothing happened fortunately camera is awesome',\n",
       " 'i11 is worthy to buy, too much happy with the product. Thank u flipkart I received the item on time..loved it..',\n",
       " 'Great iPhone very snappy experience as apple kind. Upgraded from iPhone 7.\\nPros\\n-Camera top class\\n- Battery top performed\\n-Chipset no need to say as apple kind\\n-Security as you expect from apple\\n- Display super bright industry leading colour\\naccuracy and super responsive\\n-Build quality as expect from apple sturdy\\npremium durable beautiful stylish.\\n-Os most stable os in smartphone industry\\n\\nCons\\n-No 5G\\n-Display is not based on OLED technology\\n-Charger headphones and 1 apple stic...\\nREAD MORE',\n",
       " 'iphone 11 is a very good phone to buy only if you can compromise for the display. The display on this is device is pretty good but you can get other options with better displays in this price segment.\\nIf you can survive with an HD+ LCD panel with thicker bezels and a notch up top then this is a very good phone for you.\\nCameras are awesome, battery backup excellent, great performance and a decent premium look. Good job Apple !',\n",
       " 'The Best Phone for the Money\\n\\nThe iPhone 11 offers superb cameras, a more durable design and excellent battery life for an affordable price.\\n\\nCompelling ultra-wide camera\\nNew Night mode is excellent\\nLong battery life',\n",
       " 'Really satisfied with the Product I received... It’s totally genuine and the packaging was also really good so if ur planning to buy just go for it.',\n",
       " 'Amazing phone with great cameras and better battery which gives you the best performance. I just love the camera .',\n",
       " 'This is my first iOS phone. I am very happy with this product. Very much satisfied with this. I love this phone.',\n",
       " 'Previously I was using one plus 3t it was a great phone\\nAnd then I decided to upgrade I am stuck between Samsung s10 plus or iPhone 11\\nI have seen the specs and everything were good except the display it’s somewhere between 720-1080 and it’s not even an amoled it’s an LCD display\\nBut I decided to go with iPhone because I have never used an IOS device I have Been an android user from the past 9 years I ordered IPhone 11 (128gb) product red\\nMy experience after using 3 weeks\\n1. The delivery ...\\nREAD MORE',\n",
       " 'Amazing Powerful and Durable Gadget.\\n\\nI’m am very happy with the camera picture quality, Amazing face id unlocked in dark room, Strong battery with perfect screen size as you can carry easily in pocket. This is my third iPhone.\\n\\nI shifted from android Samsung Note series to iPhone because of the strong build quality and peace of mind for next 3-4 years.\\n\\nDon’t think to much just go for it and I suggest you to go for minimum 128gb variant or more 256gb.\\n\\nI’ve attached my puppy pics and no fi...\\nREAD MORE',\n",
       " 'So far it’s been an AMAZING experience coming back to iOS after nearly a decade but it’s not as versatile as android though phone is sturdy dropped it accidentally a couple of times and nothing happened fortunately camera is awesome',\n",
       " 'i11 is worthy to buy, too much happy with the product. Thank u flipkart I received the item on time..loved it..',\n",
       " 'Great iPhone very snappy experience as apple kind. Upgraded from iPhone 7.\\nPros\\n-Camera top class\\n- Battery top performed\\n-Chipset no need to say as apple kind\\n-Security as you expect from apple\\n- Display super bright industry leading colour\\naccuracy and super responsive\\n-Build quality as expect from apple sturdy\\npremium durable beautiful stylish.\\n-Os most stable os in smartphone industry\\n\\nCons\\n-No 5G\\n-Display is not based on OLED technology\\n-Charger headphones and 1 apple stic...\\nREAD MORE',\n",
       " 'iphone 11 is a very good phone to buy only if you can compromise for the display. The display on this is device is pretty good but you can get other options with better displays in this price segment.\\nIf you can survive with an HD+ LCD panel with thicker bezels and a notch up top then this is a very good phone for you.\\nCameras are awesome, battery backup excellent, great performance and a decent premium look. Good job Apple !',\n",
       " 'The Best Phone for the Money\\n\\nThe iPhone 11 offers superb cameras, a more durable design and excellent battery life for an affordable price.\\n\\nCompelling ultra-wide camera\\nNew Night mode is excellent\\nLong battery life',\n",
       " 'Really satisfied with the Product I received... It’s totally genuine and the packaging was also really good so if ur planning to buy just go for it.',\n",
       " 'Amazing phone with great cameras and better battery which gives you the best performance. I just love the camera .',\n",
       " 'This is my first iOS phone. I am very happy with this product. Very much satisfied with this. I love this phone.',\n",
       " 'Previously I was using one plus 3t it was a great phone\\nAnd then I decided to upgrade I am stuck between Samsung s10 plus or iPhone 11\\nI have seen the specs and everything were good except the display it’s somewhere between 720-1080 and it’s not even an amoled it’s an LCD display\\nBut I decided to go with iPhone because I have never used an IOS device I have Been an android user from the past 9 years I ordered IPhone 11 (128gb) product red\\nMy experience after using 3 weeks\\n1. The delivery ...\\nREAD MORE',\n",
       " 'Amazing Powerful and Durable Gadget.\\n\\nI’m am very happy with the camera picture quality, Amazing face id unlocked in dark room, Strong battery with perfect screen size as you can carry easily in pocket. This is my third iPhone.\\n\\nI shifted from android Samsung Note series to iPhone because of the strong build quality and peace of mind for next 3-4 years.\\n\\nDon’t think to much just go for it and I suggest you to go for minimum 128gb variant or more 256gb.\\n\\nI’ve attached my puppy pics and no fi...\\nREAD MORE',\n",
       " 'So far it’s been an AMAZING experience coming back to iOS after nearly a decade but it’s not as versatile as android though phone is sturdy dropped it accidentally a couple of times and nothing happened fortunately camera is awesome',\n",
       " 'i11 is worthy to buy, too much happy with the product. Thank u flipkart I received the item on time..loved it..',\n",
       " 'Great iPhone very snappy experience as apple kind. Upgraded from iPhone 7.\\nPros\\n-Camera top class\\n- Battery top performed\\n-Chipset no need to say as apple kind\\n-Security as you expect from apple\\n- Display super bright industry leading colour\\naccuracy and super responsive\\n-Build quality as expect from apple sturdy\\npremium durable beautiful stylish.\\n-Os most stable os in smartphone industry\\n\\nCons\\n-No 5G\\n-Display is not based on OLED technology\\n-Charger headphones and 1 apple stic...\\nREAD MORE',\n",
       " 'iphone 11 is a very good phone to buy only if you can compromise for the display. The display on this is device is pretty good but you can get other options with better displays in this price segment.\\nIf you can survive with an HD+ LCD panel with thicker bezels and a notch up top then this is a very good phone for you.\\nCameras are awesome, battery backup excellent, great performance and a decent premium look. Good job Apple !',\n",
       " 'The Best Phone for the Money\\n\\nThe iPhone 11 offers superb cameras, a more durable design and excellent battery life for an affordable price.\\n\\nCompelling ultra-wide camera\\nNew Night mode is excellent\\nLong battery life',\n",
       " 'Really satisfied with the Product I received... It’s totally genuine and the packaging was also really good so if ur planning to buy just go for it.',\n",
       " 'Amazing phone with great cameras and better battery which gives you the best performance. I just love the camera .',\n",
       " 'This is my first iOS phone. I am very happy with this product. Very much satisfied with this. I love this phone.',\n",
       " 'Previously I was using one plus 3t it was a great phone\\nAnd then I decided to upgrade I am stuck between Samsung s10 plus or iPhone 11\\nI have seen the specs and everything were good except the display it’s somewhere between 720-1080 and it’s not even an amoled it’s an LCD display\\nBut I decided to go with iPhone because I have never used an IOS device I have Been an android user from the past 9 years I ordered IPhone 11 (128gb) product red\\nMy experience after using 3 weeks\\n1. The delivery ...\\nREAD MORE',\n",
       " 'Amazing Powerful and Durable Gadget.\\n\\nI’m am very happy with the camera picture quality, Amazing face id unlocked in dark room, Strong battery with perfect screen size as you can carry easily in pocket. This is my third iPhone.\\n\\nI shifted from android Samsung Note series to iPhone because of the strong build quality and peace of mind for next 3-4 years.\\n\\nDon’t think to much just go for it and I suggest you to go for minimum 128gb variant or more 256gb.\\n\\nI’ve attached my puppy pics and no fi...\\nREAD MORE',\n",
       " 'So far it’s been an AMAZING experience coming back to iOS after nearly a decade but it’s not as versatile as android though phone is sturdy dropped it accidentally a couple of times and nothing happened fortunately camera is awesome',\n",
       " 'i11 is worthy to buy, too much happy with the product. Thank u flipkart I received the item on time..loved it..',\n",
       " 'Great iPhone very snappy experience as apple kind. Upgraded from iPhone 7.\\nPros\\n-Camera top class\\n- Battery top performed\\n-Chipset no need to say as apple kind\\n-Security as you expect from apple\\n- Display super bright industry leading colour\\naccuracy and super responsive\\n-Build quality as expect from apple sturdy\\npremium durable beautiful stylish.\\n-Os most stable os in smartphone industry\\n\\nCons\\n-No 5G\\n-Display is not based on OLED technology\\n-Charger headphones and 1 apple stic...\\nREAD MORE',\n",
       " 'iphone 11 is a very good phone to buy only if you can compromise for the display. The display on this is device is pretty good but you can get other options with better displays in this price segment.\\nIf you can survive with an HD+ LCD panel with thicker bezels and a notch up top then this is a very good phone for you.\\nCameras are awesome, battery backup excellent, great performance and a decent premium look. Good job Apple !',\n",
       " 'The Best Phone for the Money\\n\\nThe iPhone 11 offers superb cameras, a more durable design and excellent battery life for an affordable price.\\n\\nCompelling ultra-wide camera\\nNew Night mode is excellent\\nLong battery life',\n",
       " 'Really satisfied with the Product I received... It’s totally genuine and the packaging was also really good so if ur planning to buy just go for it.',\n",
       " 'Amazing phone with great cameras and better battery which gives you the best performance. I just love the camera .',\n",
       " 'This is my first iOS phone. I am very happy with this product. Very much satisfied with this. I love this phone.',\n",
       " 'Previously I was using one plus 3t it was a great phone\\nAnd then I decided to upgrade I am stuck between Samsung s10 plus or iPhone 11\\nI have seen the specs and everything were good except the display it’s somewhere between 720-1080 and it’s not even an amoled it’s an LCD display\\nBut I decided to go with iPhone because I have never used an IOS device I have Been an android user from the past 9 years I ordered IPhone 11 (128gb) product red\\nMy experience after using 3 weeks\\n1. The delivery ...\\nREAD MORE',\n",
       " 'Amazing Powerful and Durable Gadget.\\n\\nI’m am very happy with the camera picture quality, Amazing face id unlocked in dark room, Strong battery with perfect screen size as you can carry easily in pocket. This is my third iPhone.\\n\\nI shifted from android Samsung Note series to iPhone because of the strong build quality and peace of mind for next 3-4 years.\\n\\nDon’t think to much just go for it and I suggest you to go for minimum 128gb variant or more 256gb.\\n\\nI’ve attached my puppy pics and no fi...\\nREAD MORE',\n",
       " 'So far it’s been an AMAZING experience coming back to iOS after nearly a decade but it’s not as versatile as android though phone is sturdy dropped it accidentally a couple of times and nothing happened fortunately camera is awesome',\n",
       " 'i11 is worthy to buy, too much happy with the product. Thank u flipkart I received the item on time..loved it..',\n",
       " 'Great iPhone very snappy experience as apple kind. Upgraded from iPhone 7.\\nPros\\n-Camera top class\\n- Battery top performed\\n-Chipset no need to say as apple kind\\n-Security as you expect from apple\\n- Display super bright industry leading colour\\naccuracy and super responsive\\n-Build quality as expect from apple sturdy\\npremium durable beautiful stylish.\\n-Os most stable os in smartphone industry\\n\\nCons\\n-No 5G\\n-Display is not based on OLED technology\\n-Charger headphones and 1 apple stic...\\nREAD MORE',\n",
       " 'iphone 11 is a very good phone to buy only if you can compromise for the display. The display on this is device is pretty good but you can get other options with better displays in this price segment.\\nIf you can survive with an HD+ LCD panel with thicker bezels and a notch up top then this is a very good phone for you.\\nCameras are awesome, battery backup excellent, great performance and a decent premium look. Good job Apple !']"
      ]
     },
     "execution_count": 247,
     "metadata": {},
     "output_type": "execute_result"
    }
   ],
   "source": [
    "rating=driver.find_elements_by_xpath(\"//div[@class='_3LWZlK _1BLPMq']\")\n",
    "review=driver.find_elements_by_xpath(\"//p[@class='_2-N8zT']\")\n",
    "full_review=driver.find_elements_by_xpath(\"//div[@class='t-ZTKy']\")\n",
    "for i in rating:\n",
    "    rating_n.append(i.text)\n",
    "for i in review:\n",
    "    review_n.append(i.text)\n",
    "for i in full_review:\n",
    "    full_review_n.append(i.text)\n",
    "\n",
    "rating_n\n",
    "review_n\n",
    "full_review_n"
   ]
  },
  {
   "cell_type": "code",
   "execution_count": 248,
   "id": "e37313ef",
   "metadata": {},
   "outputs": [],
   "source": [
    "page.click()"
   ]
  },
  {
   "cell_type": "code",
   "execution_count": 249,
   "id": "a74b8aff",
   "metadata": {},
   "outputs": [
    {
     "data": {
      "text/plain": [
       "['The Best Phone for the Money\\n\\nThe iPhone 11 offers superb cameras, a more durable design and excellent battery life for an affordable price.\\n\\nCompelling ultra-wide camera\\nNew Night mode is excellent\\nLong battery life',\n",
       " 'Really satisfied with the Product I received... It’s totally genuine and the packaging was also really good so if ur planning to buy just go for it.',\n",
       " 'Amazing phone with great cameras and better battery which gives you the best performance. I just love the camera .',\n",
       " 'This is my first iOS phone. I am very happy with this product. Very much satisfied with this. I love this phone.',\n",
       " 'Previously I was using one plus 3t it was a great phone\\nAnd then I decided to upgrade I am stuck between Samsung s10 plus or iPhone 11\\nI have seen the specs and everything were good except the display it’s somewhere between 720-1080 and it’s not even an amoled it’s an LCD display\\nBut I decided to go with iPhone because I have never used an IOS device I have Been an android user from the past 9 years I ordered IPhone 11 (128gb) product red\\nMy experience after using 3 weeks\\n1. The delivery ...\\nREAD MORE',\n",
       " 'Amazing Powerful and Durable Gadget.\\n\\nI’m am very happy with the camera picture quality, Amazing face id unlocked in dark room, Strong battery with perfect screen size as you can carry easily in pocket. This is my third iPhone.\\n\\nI shifted from android Samsung Note series to iPhone because of the strong build quality and peace of mind for next 3-4 years.\\n\\nDon’t think to much just go for it and I suggest you to go for minimum 128gb variant or more 256gb.\\n\\nI’ve attached my puppy pics and no fi...\\nREAD MORE',\n",
       " 'So far it’s been an AMAZING experience coming back to iOS after nearly a decade but it’s not as versatile as android though phone is sturdy dropped it accidentally a couple of times and nothing happened fortunately camera is awesome',\n",
       " 'i11 is worthy to buy, too much happy with the product. Thank u flipkart I received the item on time..loved it..',\n",
       " 'Great iPhone very snappy experience as apple kind. Upgraded from iPhone 7.\\nPros\\n-Camera top class\\n- Battery top performed\\n-Chipset no need to say as apple kind\\n-Security as you expect from apple\\n- Display super bright industry leading colour\\naccuracy and super responsive\\n-Build quality as expect from apple sturdy\\npremium durable beautiful stylish.\\n-Os most stable os in smartphone industry\\n\\nCons\\n-No 5G\\n-Display is not based on OLED technology\\n-Charger headphones and 1 apple stic...\\nREAD MORE',\n",
       " 'iphone 11 is a very good phone to buy only if you can compromise for the display. The display on this is device is pretty good but you can get other options with better displays in this price segment.\\nIf you can survive with an HD+ LCD panel with thicker bezels and a notch up top then this is a very good phone for you.\\nCameras are awesome, battery backup excellent, great performance and a decent premium look. Good job Apple !',\n",
       " 'The Best Phone for the Money\\n\\nThe iPhone 11 offers superb cameras, a more durable design and excellent battery life for an affordable price.\\n\\nCompelling ultra-wide camera\\nNew Night mode is excellent\\nLong battery life',\n",
       " 'Really satisfied with the Product I received... It’s totally genuine and the packaging was also really good so if ur planning to buy just go for it.',\n",
       " 'Amazing phone with great cameras and better battery which gives you the best performance. I just love the camera .',\n",
       " 'This is my first iOS phone. I am very happy with this product. Very much satisfied with this. I love this phone.',\n",
       " 'Previously I was using one plus 3t it was a great phone\\nAnd then I decided to upgrade I am stuck between Samsung s10 plus or iPhone 11\\nI have seen the specs and everything were good except the display it’s somewhere between 720-1080 and it’s not even an amoled it’s an LCD display\\nBut I decided to go with iPhone because I have never used an IOS device I have Been an android user from the past 9 years I ordered IPhone 11 (128gb) product red\\nMy experience after using 3 weeks\\n1. The delivery ...\\nREAD MORE',\n",
       " 'Amazing Powerful and Durable Gadget.\\n\\nI’m am very happy with the camera picture quality, Amazing face id unlocked in dark room, Strong battery with perfect screen size as you can carry easily in pocket. This is my third iPhone.\\n\\nI shifted from android Samsung Note series to iPhone because of the strong build quality and peace of mind for next 3-4 years.\\n\\nDon’t think to much just go for it and I suggest you to go for minimum 128gb variant or more 256gb.\\n\\nI’ve attached my puppy pics and no fi...\\nREAD MORE',\n",
       " 'So far it’s been an AMAZING experience coming back to iOS after nearly a decade but it’s not as versatile as android though phone is sturdy dropped it accidentally a couple of times and nothing happened fortunately camera is awesome',\n",
       " 'i11 is worthy to buy, too much happy with the product. Thank u flipkart I received the item on time..loved it..',\n",
       " 'Great iPhone very snappy experience as apple kind. Upgraded from iPhone 7.\\nPros\\n-Camera top class\\n- Battery top performed\\n-Chipset no need to say as apple kind\\n-Security as you expect from apple\\n- Display super bright industry leading colour\\naccuracy and super responsive\\n-Build quality as expect from apple sturdy\\npremium durable beautiful stylish.\\n-Os most stable os in smartphone industry\\n\\nCons\\n-No 5G\\n-Display is not based on OLED technology\\n-Charger headphones and 1 apple stic...\\nREAD MORE',\n",
       " 'iphone 11 is a very good phone to buy only if you can compromise for the display. The display on this is device is pretty good but you can get other options with better displays in this price segment.\\nIf you can survive with an HD+ LCD panel with thicker bezels and a notch up top then this is a very good phone for you.\\nCameras are awesome, battery backup excellent, great performance and a decent premium look. Good job Apple !',\n",
       " 'The Best Phone for the Money\\n\\nThe iPhone 11 offers superb cameras, a more durable design and excellent battery life for an affordable price.\\n\\nCompelling ultra-wide camera\\nNew Night mode is excellent\\nLong battery life',\n",
       " 'Really satisfied with the Product I received... It’s totally genuine and the packaging was also really good so if ur planning to buy just go for it.',\n",
       " 'Amazing phone with great cameras and better battery which gives you the best performance. I just love the camera .',\n",
       " 'This is my first iOS phone. I am very happy with this product. Very much satisfied with this. I love this phone.',\n",
       " 'Previously I was using one plus 3t it was a great phone\\nAnd then I decided to upgrade I am stuck between Samsung s10 plus or iPhone 11\\nI have seen the specs and everything were good except the display it’s somewhere between 720-1080 and it’s not even an amoled it’s an LCD display\\nBut I decided to go with iPhone because I have never used an IOS device I have Been an android user from the past 9 years I ordered IPhone 11 (128gb) product red\\nMy experience after using 3 weeks\\n1. The delivery ...\\nREAD MORE',\n",
       " 'Amazing Powerful and Durable Gadget.\\n\\nI’m am very happy with the camera picture quality, Amazing face id unlocked in dark room, Strong battery with perfect screen size as you can carry easily in pocket. This is my third iPhone.\\n\\nI shifted from android Samsung Note series to iPhone because of the strong build quality and peace of mind for next 3-4 years.\\n\\nDon’t think to much just go for it and I suggest you to go for minimum 128gb variant or more 256gb.\\n\\nI’ve attached my puppy pics and no fi...\\nREAD MORE',\n",
       " 'So far it’s been an AMAZING experience coming back to iOS after nearly a decade but it’s not as versatile as android though phone is sturdy dropped it accidentally a couple of times and nothing happened fortunately camera is awesome',\n",
       " 'i11 is worthy to buy, too much happy with the product. Thank u flipkart I received the item on time..loved it..',\n",
       " 'Great iPhone very snappy experience as apple kind. Upgraded from iPhone 7.\\nPros\\n-Camera top class\\n- Battery top performed\\n-Chipset no need to say as apple kind\\n-Security as you expect from apple\\n- Display super bright industry leading colour\\naccuracy and super responsive\\n-Build quality as expect from apple sturdy\\npremium durable beautiful stylish.\\n-Os most stable os in smartphone industry\\n\\nCons\\n-No 5G\\n-Display is not based on OLED technology\\n-Charger headphones and 1 apple stic...\\nREAD MORE',\n",
       " 'iphone 11 is a very good phone to buy only if you can compromise for the display. The display on this is device is pretty good but you can get other options with better displays in this price segment.\\nIf you can survive with an HD+ LCD panel with thicker bezels and a notch up top then this is a very good phone for you.\\nCameras are awesome, battery backup excellent, great performance and a decent premium look. Good job Apple !',\n",
       " 'The Best Phone for the Money\\n\\nThe iPhone 11 offers superb cameras, a more durable design and excellent battery life for an affordable price.\\n\\nCompelling ultra-wide camera\\nNew Night mode is excellent\\nLong battery life',\n",
       " 'Really satisfied with the Product I received... It’s totally genuine and the packaging was also really good so if ur planning to buy just go for it.',\n",
       " 'Amazing phone with great cameras and better battery which gives you the best performance. I just love the camera .',\n",
       " 'This is my first iOS phone. I am very happy with this product. Very much satisfied with this. I love this phone.',\n",
       " 'Previously I was using one plus 3t it was a great phone\\nAnd then I decided to upgrade I am stuck between Samsung s10 plus or iPhone 11\\nI have seen the specs and everything were good except the display it’s somewhere between 720-1080 and it’s not even an amoled it’s an LCD display\\nBut I decided to go with iPhone because I have never used an IOS device I have Been an android user from the past 9 years I ordered IPhone 11 (128gb) product red\\nMy experience after using 3 weeks\\n1. The delivery ...\\nREAD MORE',\n",
       " 'Amazing Powerful and Durable Gadget.\\n\\nI’m am very happy with the camera picture quality, Amazing face id unlocked in dark room, Strong battery with perfect screen size as you can carry easily in pocket. This is my third iPhone.\\n\\nI shifted from android Samsung Note series to iPhone because of the strong build quality and peace of mind for next 3-4 years.\\n\\nDon’t think to much just go for it and I suggest you to go for minimum 128gb variant or more 256gb.\\n\\nI’ve attached my puppy pics and no fi...\\nREAD MORE',\n",
       " 'So far it’s been an AMAZING experience coming back to iOS after nearly a decade but it’s not as versatile as android though phone is sturdy dropped it accidentally a couple of times and nothing happened fortunately camera is awesome',\n",
       " 'i11 is worthy to buy, too much happy with the product. Thank u flipkart I received the item on time..loved it..',\n",
       " 'Great iPhone very snappy experience as apple kind. Upgraded from iPhone 7.\\nPros\\n-Camera top class\\n- Battery top performed\\n-Chipset no need to say as apple kind\\n-Security as you expect from apple\\n- Display super bright industry leading colour\\naccuracy and super responsive\\n-Build quality as expect from apple sturdy\\npremium durable beautiful stylish.\\n-Os most stable os in smartphone industry\\n\\nCons\\n-No 5G\\n-Display is not based on OLED technology\\n-Charger headphones and 1 apple stic...\\nREAD MORE',\n",
       " 'iphone 11 is a very good phone to buy only if you can compromise for the display. The display on this is device is pretty good but you can get other options with better displays in this price segment.\\nIf you can survive with an HD+ LCD panel with thicker bezels and a notch up top then this is a very good phone for you.\\nCameras are awesome, battery backup excellent, great performance and a decent premium look. Good job Apple !',\n",
       " 'The Best Phone for the Money\\n\\nThe iPhone 11 offers superb cameras, a more durable design and excellent battery life for an affordable price.\\n\\nCompelling ultra-wide camera\\nNew Night mode is excellent\\nLong battery life',\n",
       " 'Really satisfied with the Product I received... It’s totally genuine and the packaging was also really good so if ur planning to buy just go for it.',\n",
       " 'Amazing phone with great cameras and better battery which gives you the best performance. I just love the camera .',\n",
       " 'This is my first iOS phone. I am very happy with this product. Very much satisfied with this. I love this phone.',\n",
       " 'Previously I was using one plus 3t it was a great phone\\nAnd then I decided to upgrade I am stuck between Samsung s10 plus or iPhone 11\\nI have seen the specs and everything were good except the display it’s somewhere between 720-1080 and it’s not even an amoled it’s an LCD display\\nBut I decided to go with iPhone because I have never used an IOS device I have Been an android user from the past 9 years I ordered IPhone 11 (128gb) product red\\nMy experience after using 3 weeks\\n1. The delivery ...\\nREAD MORE',\n",
       " 'Amazing Powerful and Durable Gadget.\\n\\nI’m am very happy with the camera picture quality, Amazing face id unlocked in dark room, Strong battery with perfect screen size as you can carry easily in pocket. This is my third iPhone.\\n\\nI shifted from android Samsung Note series to iPhone because of the strong build quality and peace of mind for next 3-4 years.\\n\\nDon’t think to much just go for it and I suggest you to go for minimum 128gb variant or more 256gb.\\n\\nI’ve attached my puppy pics and no fi...\\nREAD MORE',\n",
       " 'So far it’s been an AMAZING experience coming back to iOS after nearly a decade but it’s not as versatile as android though phone is sturdy dropped it accidentally a couple of times and nothing happened fortunately camera is awesome',\n",
       " 'i11 is worthy to buy, too much happy with the product. Thank u flipkart I received the item on time..loved it..',\n",
       " 'Great iPhone very snappy experience as apple kind. Upgraded from iPhone 7.\\nPros\\n-Camera top class\\n- Battery top performed\\n-Chipset no need to say as apple kind\\n-Security as you expect from apple\\n- Display super bright industry leading colour\\naccuracy and super responsive\\n-Build quality as expect from apple sturdy\\npremium durable beautiful stylish.\\n-Os most stable os in smartphone industry\\n\\nCons\\n-No 5G\\n-Display is not based on OLED technology\\n-Charger headphones and 1 apple stic...\\nREAD MORE',\n",
       " 'iphone 11 is a very good phone to buy only if you can compromise for the display. The display on this is device is pretty good but you can get other options with better displays in this price segment.\\nIf you can survive with an HD+ LCD panel with thicker bezels and a notch up top then this is a very good phone for you.\\nCameras are awesome, battery backup excellent, great performance and a decent premium look. Good job Apple !',\n",
       " 'The Best Phone for the Money\\n\\nThe iPhone 11 offers superb cameras, a more durable design and excellent battery life for an affordable price.\\n\\nCompelling ultra-wide camera\\nNew Night mode is excellent\\nLong battery life',\n",
       " 'Really satisfied with the Product I received... It’s totally genuine and the packaging was also really good so if ur planning to buy just go for it.',\n",
       " 'Amazing phone with great cameras and better battery which gives you the best performance. I just love the camera .',\n",
       " 'This is my first iOS phone. I am very happy with this product. Very much satisfied with this. I love this phone.',\n",
       " 'Previously I was using one plus 3t it was a great phone\\nAnd then I decided to upgrade I am stuck between Samsung s10 plus or iPhone 11\\nI have seen the specs and everything were good except the display it’s somewhere between 720-1080 and it’s not even an amoled it’s an LCD display\\nBut I decided to go with iPhone because I have never used an IOS device I have Been an android user from the past 9 years I ordered IPhone 11 (128gb) product red\\nMy experience after using 3 weeks\\n1. The delivery ...\\nREAD MORE',\n",
       " 'Amazing Powerful and Durable Gadget.\\n\\nI’m am very happy with the camera picture quality, Amazing face id unlocked in dark room, Strong battery with perfect screen size as you can carry easily in pocket. This is my third iPhone.\\n\\nI shifted from android Samsung Note series to iPhone because of the strong build quality and peace of mind for next 3-4 years.\\n\\nDon’t think to much just go for it and I suggest you to go for minimum 128gb variant or more 256gb.\\n\\nI’ve attached my puppy pics and no fi...\\nREAD MORE',\n",
       " 'So far it’s been an AMAZING experience coming back to iOS after nearly a decade but it’s not as versatile as android though phone is sturdy dropped it accidentally a couple of times and nothing happened fortunately camera is awesome',\n",
       " 'i11 is worthy to buy, too much happy with the product. Thank u flipkart I received the item on time..loved it..',\n",
       " 'Great iPhone very snappy experience as apple kind. Upgraded from iPhone 7.\\nPros\\n-Camera top class\\n- Battery top performed\\n-Chipset no need to say as apple kind\\n-Security as you expect from apple\\n- Display super bright industry leading colour\\naccuracy and super responsive\\n-Build quality as expect from apple sturdy\\npremium durable beautiful stylish.\\n-Os most stable os in smartphone industry\\n\\nCons\\n-No 5G\\n-Display is not based on OLED technology\\n-Charger headphones and 1 apple stic...\\nREAD MORE',\n",
       " 'iphone 11 is a very good phone to buy only if you can compromise for the display. The display on this is device is pretty good but you can get other options with better displays in this price segment.\\nIf you can survive with an HD+ LCD panel with thicker bezels and a notch up top then this is a very good phone for you.\\nCameras are awesome, battery backup excellent, great performance and a decent premium look. Good job Apple !',\n",
       " 'The Best Phone for the Money\\n\\nThe iPhone 11 offers superb cameras, a more durable design and excellent battery life for an affordable price.\\n\\nCompelling ultra-wide camera\\nNew Night mode is excellent\\nLong battery life',\n",
       " 'Really satisfied with the Product I received... It’s totally genuine and the packaging was also really good so if ur planning to buy just go for it.',\n",
       " 'Amazing phone with great cameras and better battery which gives you the best performance. I just love the camera .',\n",
       " 'This is my first iOS phone. I am very happy with this product. Very much satisfied with this. I love this phone.',\n",
       " 'Previously I was using one plus 3t it was a great phone\\nAnd then I decided to upgrade I am stuck between Samsung s10 plus or iPhone 11\\nI have seen the specs and everything were good except the display it’s somewhere between 720-1080 and it’s not even an amoled it’s an LCD display\\nBut I decided to go with iPhone because I have never used an IOS device I have Been an android user from the past 9 years I ordered IPhone 11 (128gb) product red\\nMy experience after using 3 weeks\\n1. The delivery ...\\nREAD MORE',\n",
       " 'Amazing Powerful and Durable Gadget.\\n\\nI’m am very happy with the camera picture quality, Amazing face id unlocked in dark room, Strong battery with perfect screen size as you can carry easily in pocket. This is my third iPhone.\\n\\nI shifted from android Samsung Note series to iPhone because of the strong build quality and peace of mind for next 3-4 years.\\n\\nDon’t think to much just go for it and I suggest you to go for minimum 128gb variant or more 256gb.\\n\\nI’ve attached my puppy pics and no fi...\\nREAD MORE',\n",
       " 'So far it’s been an AMAZING experience coming back to iOS after nearly a decade but it’s not as versatile as android though phone is sturdy dropped it accidentally a couple of times and nothing happened fortunately camera is awesome',\n",
       " 'i11 is worthy to buy, too much happy with the product. Thank u flipkart I received the item on time..loved it..',\n",
       " 'Great iPhone very snappy experience as apple kind. Upgraded from iPhone 7.\\nPros\\n-Camera top class\\n- Battery top performed\\n-Chipset no need to say as apple kind\\n-Security as you expect from apple\\n- Display super bright industry leading colour\\naccuracy and super responsive\\n-Build quality as expect from apple sturdy\\npremium durable beautiful stylish.\\n-Os most stable os in smartphone industry\\n\\nCons\\n-No 5G\\n-Display is not based on OLED technology\\n-Charger headphones and 1 apple stic...\\nREAD MORE',\n",
       " 'iphone 11 is a very good phone to buy only if you can compromise for the display. The display on this is device is pretty good but you can get other options with better displays in this price segment.\\nIf you can survive with an HD+ LCD panel with thicker bezels and a notch up top then this is a very good phone for you.\\nCameras are awesome, battery backup excellent, great performance and a decent premium look. Good job Apple !']"
      ]
     },
     "execution_count": 249,
     "metadata": {},
     "output_type": "execute_result"
    }
   ],
   "source": [
    "rating=driver.find_elements_by_xpath(\"//div[@class='_3LWZlK _1BLPMq']\")\n",
    "review=driver.find_elements_by_xpath(\"//p[@class='_2-N8zT']\")\n",
    "full_review=driver.find_elements_by_xpath(\"//div[@class='t-ZTKy']\")\n",
    "for i in rating:\n",
    "    rating_n.append(i.text)\n",
    "for i in review:\n",
    "    review_n.append(i.text)\n",
    "for i in full_review:\n",
    "    full_review_n.append(i.text)\n",
    "\n",
    "rating_n\n",
    "review_n\n",
    "full_review_n"
   ]
  },
  {
   "cell_type": "code",
   "execution_count": 250,
   "id": "c4eb0a91",
   "metadata": {},
   "outputs": [],
   "source": [
    "page.click()"
   ]
  },
  {
   "cell_type": "code",
   "execution_count": 251,
   "id": "5166874c",
   "metadata": {},
   "outputs": [
    {
     "data": {
      "text/plain": [
       "['The Best Phone for the Money\\n\\nThe iPhone 11 offers superb cameras, a more durable design and excellent battery life for an affordable price.\\n\\nCompelling ultra-wide camera\\nNew Night mode is excellent\\nLong battery life',\n",
       " 'Really satisfied with the Product I received... It’s totally genuine and the packaging was also really good so if ur planning to buy just go for it.',\n",
       " 'Amazing phone with great cameras and better battery which gives you the best performance. I just love the camera .',\n",
       " 'This is my first iOS phone. I am very happy with this product. Very much satisfied with this. I love this phone.',\n",
       " 'Previously I was using one plus 3t it was a great phone\\nAnd then I decided to upgrade I am stuck between Samsung s10 plus or iPhone 11\\nI have seen the specs and everything were good except the display it’s somewhere between 720-1080 and it’s not even an amoled it’s an LCD display\\nBut I decided to go with iPhone because I have never used an IOS device I have Been an android user from the past 9 years I ordered IPhone 11 (128gb) product red\\nMy experience after using 3 weeks\\n1. The delivery ...\\nREAD MORE',\n",
       " 'Amazing Powerful and Durable Gadget.\\n\\nI’m am very happy with the camera picture quality, Amazing face id unlocked in dark room, Strong battery with perfect screen size as you can carry easily in pocket. This is my third iPhone.\\n\\nI shifted from android Samsung Note series to iPhone because of the strong build quality and peace of mind for next 3-4 years.\\n\\nDon’t think to much just go for it and I suggest you to go for minimum 128gb variant or more 256gb.\\n\\nI’ve attached my puppy pics and no fi...\\nREAD MORE',\n",
       " 'So far it’s been an AMAZING experience coming back to iOS after nearly a decade but it’s not as versatile as android though phone is sturdy dropped it accidentally a couple of times and nothing happened fortunately camera is awesome',\n",
       " 'i11 is worthy to buy, too much happy with the product. Thank u flipkart I received the item on time..loved it..',\n",
       " 'Great iPhone very snappy experience as apple kind. Upgraded from iPhone 7.\\nPros\\n-Camera top class\\n- Battery top performed\\n-Chipset no need to say as apple kind\\n-Security as you expect from apple\\n- Display super bright industry leading colour\\naccuracy and super responsive\\n-Build quality as expect from apple sturdy\\npremium durable beautiful stylish.\\n-Os most stable os in smartphone industry\\n\\nCons\\n-No 5G\\n-Display is not based on OLED technology\\n-Charger headphones and 1 apple stic...\\nREAD MORE',\n",
       " 'iphone 11 is a very good phone to buy only if you can compromise for the display. The display on this is device is pretty good but you can get other options with better displays in this price segment.\\nIf you can survive with an HD+ LCD panel with thicker bezels and a notch up top then this is a very good phone for you.\\nCameras are awesome, battery backup excellent, great performance and a decent premium look. Good job Apple !',\n",
       " 'The Best Phone for the Money\\n\\nThe iPhone 11 offers superb cameras, a more durable design and excellent battery life for an affordable price.\\n\\nCompelling ultra-wide camera\\nNew Night mode is excellent\\nLong battery life',\n",
       " 'Really satisfied with the Product I received... It’s totally genuine and the packaging was also really good so if ur planning to buy just go for it.',\n",
       " 'Amazing phone with great cameras and better battery which gives you the best performance. I just love the camera .',\n",
       " 'This is my first iOS phone. I am very happy with this product. Very much satisfied with this. I love this phone.',\n",
       " 'Previously I was using one plus 3t it was a great phone\\nAnd then I decided to upgrade I am stuck between Samsung s10 plus or iPhone 11\\nI have seen the specs and everything were good except the display it’s somewhere between 720-1080 and it’s not even an amoled it’s an LCD display\\nBut I decided to go with iPhone because I have never used an IOS device I have Been an android user from the past 9 years I ordered IPhone 11 (128gb) product red\\nMy experience after using 3 weeks\\n1. The delivery ...\\nREAD MORE',\n",
       " 'Amazing Powerful and Durable Gadget.\\n\\nI’m am very happy with the camera picture quality, Amazing face id unlocked in dark room, Strong battery with perfect screen size as you can carry easily in pocket. This is my third iPhone.\\n\\nI shifted from android Samsung Note series to iPhone because of the strong build quality and peace of mind for next 3-4 years.\\n\\nDon’t think to much just go for it and I suggest you to go for minimum 128gb variant or more 256gb.\\n\\nI’ve attached my puppy pics and no fi...\\nREAD MORE',\n",
       " 'So far it’s been an AMAZING experience coming back to iOS after nearly a decade but it’s not as versatile as android though phone is sturdy dropped it accidentally a couple of times and nothing happened fortunately camera is awesome',\n",
       " 'i11 is worthy to buy, too much happy with the product. Thank u flipkart I received the item on time..loved it..',\n",
       " 'Great iPhone very snappy experience as apple kind. Upgraded from iPhone 7.\\nPros\\n-Camera top class\\n- Battery top performed\\n-Chipset no need to say as apple kind\\n-Security as you expect from apple\\n- Display super bright industry leading colour\\naccuracy and super responsive\\n-Build quality as expect from apple sturdy\\npremium durable beautiful stylish.\\n-Os most stable os in smartphone industry\\n\\nCons\\n-No 5G\\n-Display is not based on OLED technology\\n-Charger headphones and 1 apple stic...\\nREAD MORE',\n",
       " 'iphone 11 is a very good phone to buy only if you can compromise for the display. The display on this is device is pretty good but you can get other options with better displays in this price segment.\\nIf you can survive with an HD+ LCD panel with thicker bezels and a notch up top then this is a very good phone for you.\\nCameras are awesome, battery backup excellent, great performance and a decent premium look. Good job Apple !',\n",
       " 'The Best Phone for the Money\\n\\nThe iPhone 11 offers superb cameras, a more durable design and excellent battery life for an affordable price.\\n\\nCompelling ultra-wide camera\\nNew Night mode is excellent\\nLong battery life',\n",
       " 'Really satisfied with the Product I received... It’s totally genuine and the packaging was also really good so if ur planning to buy just go for it.',\n",
       " 'Amazing phone with great cameras and better battery which gives you the best performance. I just love the camera .',\n",
       " 'This is my first iOS phone. I am very happy with this product. Very much satisfied with this. I love this phone.',\n",
       " 'Previously I was using one plus 3t it was a great phone\\nAnd then I decided to upgrade I am stuck between Samsung s10 plus or iPhone 11\\nI have seen the specs and everything were good except the display it’s somewhere between 720-1080 and it’s not even an amoled it’s an LCD display\\nBut I decided to go with iPhone because I have never used an IOS device I have Been an android user from the past 9 years I ordered IPhone 11 (128gb) product red\\nMy experience after using 3 weeks\\n1. The delivery ...\\nREAD MORE',\n",
       " 'Amazing Powerful and Durable Gadget.\\n\\nI’m am very happy with the camera picture quality, Amazing face id unlocked in dark room, Strong battery with perfect screen size as you can carry easily in pocket. This is my third iPhone.\\n\\nI shifted from android Samsung Note series to iPhone because of the strong build quality and peace of mind for next 3-4 years.\\n\\nDon’t think to much just go for it and I suggest you to go for minimum 128gb variant or more 256gb.\\n\\nI’ve attached my puppy pics and no fi...\\nREAD MORE',\n",
       " 'So far it’s been an AMAZING experience coming back to iOS after nearly a decade but it’s not as versatile as android though phone is sturdy dropped it accidentally a couple of times and nothing happened fortunately camera is awesome',\n",
       " 'i11 is worthy to buy, too much happy with the product. Thank u flipkart I received the item on time..loved it..',\n",
       " 'Great iPhone very snappy experience as apple kind. Upgraded from iPhone 7.\\nPros\\n-Camera top class\\n- Battery top performed\\n-Chipset no need to say as apple kind\\n-Security as you expect from apple\\n- Display super bright industry leading colour\\naccuracy and super responsive\\n-Build quality as expect from apple sturdy\\npremium durable beautiful stylish.\\n-Os most stable os in smartphone industry\\n\\nCons\\n-No 5G\\n-Display is not based on OLED technology\\n-Charger headphones and 1 apple stic...\\nREAD MORE',\n",
       " 'iphone 11 is a very good phone to buy only if you can compromise for the display. The display on this is device is pretty good but you can get other options with better displays in this price segment.\\nIf you can survive with an HD+ LCD panel with thicker bezels and a notch up top then this is a very good phone for you.\\nCameras are awesome, battery backup excellent, great performance and a decent premium look. Good job Apple !',\n",
       " 'The Best Phone for the Money\\n\\nThe iPhone 11 offers superb cameras, a more durable design and excellent battery life for an affordable price.\\n\\nCompelling ultra-wide camera\\nNew Night mode is excellent\\nLong battery life',\n",
       " 'Really satisfied with the Product I received... It’s totally genuine and the packaging was also really good so if ur planning to buy just go for it.',\n",
       " 'Amazing phone with great cameras and better battery which gives you the best performance. I just love the camera .',\n",
       " 'This is my first iOS phone. I am very happy with this product. Very much satisfied with this. I love this phone.',\n",
       " 'Previously I was using one plus 3t it was a great phone\\nAnd then I decided to upgrade I am stuck between Samsung s10 plus or iPhone 11\\nI have seen the specs and everything were good except the display it’s somewhere between 720-1080 and it’s not even an amoled it’s an LCD display\\nBut I decided to go with iPhone because I have never used an IOS device I have Been an android user from the past 9 years I ordered IPhone 11 (128gb) product red\\nMy experience after using 3 weeks\\n1. The delivery ...\\nREAD MORE',\n",
       " 'Amazing Powerful and Durable Gadget.\\n\\nI’m am very happy with the camera picture quality, Amazing face id unlocked in dark room, Strong battery with perfect screen size as you can carry easily in pocket. This is my third iPhone.\\n\\nI shifted from android Samsung Note series to iPhone because of the strong build quality and peace of mind for next 3-4 years.\\n\\nDon’t think to much just go for it and I suggest you to go for minimum 128gb variant or more 256gb.\\n\\nI’ve attached my puppy pics and no fi...\\nREAD MORE',\n",
       " 'So far it’s been an AMAZING experience coming back to iOS after nearly a decade but it’s not as versatile as android though phone is sturdy dropped it accidentally a couple of times and nothing happened fortunately camera is awesome',\n",
       " 'i11 is worthy to buy, too much happy with the product. Thank u flipkart I received the item on time..loved it..',\n",
       " 'Great iPhone very snappy experience as apple kind. Upgraded from iPhone 7.\\nPros\\n-Camera top class\\n- Battery top performed\\n-Chipset no need to say as apple kind\\n-Security as you expect from apple\\n- Display super bright industry leading colour\\naccuracy and super responsive\\n-Build quality as expect from apple sturdy\\npremium durable beautiful stylish.\\n-Os most stable os in smartphone industry\\n\\nCons\\n-No 5G\\n-Display is not based on OLED technology\\n-Charger headphones and 1 apple stic...\\nREAD MORE',\n",
       " 'iphone 11 is a very good phone to buy only if you can compromise for the display. The display on this is device is pretty good but you can get other options with better displays in this price segment.\\nIf you can survive with an HD+ LCD panel with thicker bezels and a notch up top then this is a very good phone for you.\\nCameras are awesome, battery backup excellent, great performance and a decent premium look. Good job Apple !',\n",
       " 'The Best Phone for the Money\\n\\nThe iPhone 11 offers superb cameras, a more durable design and excellent battery life for an affordable price.\\n\\nCompelling ultra-wide camera\\nNew Night mode is excellent\\nLong battery life',\n",
       " 'Really satisfied with the Product I received... It’s totally genuine and the packaging was also really good so if ur planning to buy just go for it.',\n",
       " 'Amazing phone with great cameras and better battery which gives you the best performance. I just love the camera .',\n",
       " 'This is my first iOS phone. I am very happy with this product. Very much satisfied with this. I love this phone.',\n",
       " 'Previously I was using one plus 3t it was a great phone\\nAnd then I decided to upgrade I am stuck between Samsung s10 plus or iPhone 11\\nI have seen the specs and everything were good except the display it’s somewhere between 720-1080 and it’s not even an amoled it’s an LCD display\\nBut I decided to go with iPhone because I have never used an IOS device I have Been an android user from the past 9 years I ordered IPhone 11 (128gb) product red\\nMy experience after using 3 weeks\\n1. The delivery ...\\nREAD MORE',\n",
       " 'Amazing Powerful and Durable Gadget.\\n\\nI’m am very happy with the camera picture quality, Amazing face id unlocked in dark room, Strong battery with perfect screen size as you can carry easily in pocket. This is my third iPhone.\\n\\nI shifted from android Samsung Note series to iPhone because of the strong build quality and peace of mind for next 3-4 years.\\n\\nDon’t think to much just go for it and I suggest you to go for minimum 128gb variant or more 256gb.\\n\\nI’ve attached my puppy pics and no fi...\\nREAD MORE',\n",
       " 'So far it’s been an AMAZING experience coming back to iOS after nearly a decade but it’s not as versatile as android though phone is sturdy dropped it accidentally a couple of times and nothing happened fortunately camera is awesome',\n",
       " 'i11 is worthy to buy, too much happy with the product. Thank u flipkart I received the item on time..loved it..',\n",
       " 'Great iPhone very snappy experience as apple kind. Upgraded from iPhone 7.\\nPros\\n-Camera top class\\n- Battery top performed\\n-Chipset no need to say as apple kind\\n-Security as you expect from apple\\n- Display super bright industry leading colour\\naccuracy and super responsive\\n-Build quality as expect from apple sturdy\\npremium durable beautiful stylish.\\n-Os most stable os in smartphone industry\\n\\nCons\\n-No 5G\\n-Display is not based on OLED technology\\n-Charger headphones and 1 apple stic...\\nREAD MORE',\n",
       " 'iphone 11 is a very good phone to buy only if you can compromise for the display. The display on this is device is pretty good but you can get other options with better displays in this price segment.\\nIf you can survive with an HD+ LCD panel with thicker bezels and a notch up top then this is a very good phone for you.\\nCameras are awesome, battery backup excellent, great performance and a decent premium look. Good job Apple !',\n",
       " 'The Best Phone for the Money\\n\\nThe iPhone 11 offers superb cameras, a more durable design and excellent battery life for an affordable price.\\n\\nCompelling ultra-wide camera\\nNew Night mode is excellent\\nLong battery life',\n",
       " 'Really satisfied with the Product I received... It’s totally genuine and the packaging was also really good so if ur planning to buy just go for it.',\n",
       " 'Amazing phone with great cameras and better battery which gives you the best performance. I just love the camera .',\n",
       " 'This is my first iOS phone. I am very happy with this product. Very much satisfied with this. I love this phone.',\n",
       " 'Previously I was using one plus 3t it was a great phone\\nAnd then I decided to upgrade I am stuck between Samsung s10 plus or iPhone 11\\nI have seen the specs and everything were good except the display it’s somewhere between 720-1080 and it’s not even an amoled it’s an LCD display\\nBut I decided to go with iPhone because I have never used an IOS device I have Been an android user from the past 9 years I ordered IPhone 11 (128gb) product red\\nMy experience after using 3 weeks\\n1. The delivery ...\\nREAD MORE',\n",
       " 'Amazing Powerful and Durable Gadget.\\n\\nI’m am very happy with the camera picture quality, Amazing face id unlocked in dark room, Strong battery with perfect screen size as you can carry easily in pocket. This is my third iPhone.\\n\\nI shifted from android Samsung Note series to iPhone because of the strong build quality and peace of mind for next 3-4 years.\\n\\nDon’t think to much just go for it and I suggest you to go for minimum 128gb variant or more 256gb.\\n\\nI’ve attached my puppy pics and no fi...\\nREAD MORE',\n",
       " 'So far it’s been an AMAZING experience coming back to iOS after nearly a decade but it’s not as versatile as android though phone is sturdy dropped it accidentally a couple of times and nothing happened fortunately camera is awesome',\n",
       " 'i11 is worthy to buy, too much happy with the product. Thank u flipkart I received the item on time..loved it..',\n",
       " 'Great iPhone very snappy experience as apple kind. Upgraded from iPhone 7.\\nPros\\n-Camera top class\\n- Battery top performed\\n-Chipset no need to say as apple kind\\n-Security as you expect from apple\\n- Display super bright industry leading colour\\naccuracy and super responsive\\n-Build quality as expect from apple sturdy\\npremium durable beautiful stylish.\\n-Os most stable os in smartphone industry\\n\\nCons\\n-No 5G\\n-Display is not based on OLED technology\\n-Charger headphones and 1 apple stic...\\nREAD MORE',\n",
       " 'iphone 11 is a very good phone to buy only if you can compromise for the display. The display on this is device is pretty good but you can get other options with better displays in this price segment.\\nIf you can survive with an HD+ LCD panel with thicker bezels and a notch up top then this is a very good phone for you.\\nCameras are awesome, battery backup excellent, great performance and a decent premium look. Good job Apple !',\n",
       " 'The Best Phone for the Money\\n\\nThe iPhone 11 offers superb cameras, a more durable design and excellent battery life for an affordable price.\\n\\nCompelling ultra-wide camera\\nNew Night mode is excellent\\nLong battery life',\n",
       " 'Really satisfied with the Product I received... It’s totally genuine and the packaging was also really good so if ur planning to buy just go for it.',\n",
       " 'Amazing phone with great cameras and better battery which gives you the best performance. I just love the camera .',\n",
       " 'This is my first iOS phone. I am very happy with this product. Very much satisfied with this. I love this phone.',\n",
       " 'Previously I was using one plus 3t it was a great phone\\nAnd then I decided to upgrade I am stuck between Samsung s10 plus or iPhone 11\\nI have seen the specs and everything were good except the display it’s somewhere between 720-1080 and it’s not even an amoled it’s an LCD display\\nBut I decided to go with iPhone because I have never used an IOS device I have Been an android user from the past 9 years I ordered IPhone 11 (128gb) product red\\nMy experience after using 3 weeks\\n1. The delivery ...\\nREAD MORE',\n",
       " 'Amazing Powerful and Durable Gadget.\\n\\nI’m am very happy with the camera picture quality, Amazing face id unlocked in dark room, Strong battery with perfect screen size as you can carry easily in pocket. This is my third iPhone.\\n\\nI shifted from android Samsung Note series to iPhone because of the strong build quality and peace of mind for next 3-4 years.\\n\\nDon’t think to much just go for it and I suggest you to go for minimum 128gb variant or more 256gb.\\n\\nI’ve attached my puppy pics and no fi...\\nREAD MORE',\n",
       " 'So far it’s been an AMAZING experience coming back to iOS after nearly a decade but it’s not as versatile as android though phone is sturdy dropped it accidentally a couple of times and nothing happened fortunately camera is awesome',\n",
       " 'i11 is worthy to buy, too much happy with the product. Thank u flipkart I received the item on time..loved it..',\n",
       " 'Great iPhone very snappy experience as apple kind. Upgraded from iPhone 7.\\nPros\\n-Camera top class\\n- Battery top performed\\n-Chipset no need to say as apple kind\\n-Security as you expect from apple\\n- Display super bright industry leading colour\\naccuracy and super responsive\\n-Build quality as expect from apple sturdy\\npremium durable beautiful stylish.\\n-Os most stable os in smartphone industry\\n\\nCons\\n-No 5G\\n-Display is not based on OLED technology\\n-Charger headphones and 1 apple stic...\\nREAD MORE',\n",
       " 'iphone 11 is a very good phone to buy only if you can compromise for the display. The display on this is device is pretty good but you can get other options with better displays in this price segment.\\nIf you can survive with an HD+ LCD panel with thicker bezels and a notch up top then this is a very good phone for you.\\nCameras are awesome, battery backup excellent, great performance and a decent premium look. Good job Apple !',\n",
       " 'The Best Phone for the Money\\n\\nThe iPhone 11 offers superb cameras, a more durable design and excellent battery life for an affordable price.\\n\\nCompelling ultra-wide camera\\nNew Night mode is excellent\\nLong battery life',\n",
       " 'Really satisfied with the Product I received... It’s totally genuine and the packaging was also really good so if ur planning to buy just go for it.',\n",
       " 'Amazing phone with great cameras and better battery which gives you the best performance. I just love the camera .',\n",
       " 'This is my first iOS phone. I am very happy with this product. Very much satisfied with this. I love this phone.',\n",
       " 'Previously I was using one plus 3t it was a great phone\\nAnd then I decided to upgrade I am stuck between Samsung s10 plus or iPhone 11\\nI have seen the specs and everything were good except the display it’s somewhere between 720-1080 and it’s not even an amoled it’s an LCD display\\nBut I decided to go with iPhone because I have never used an IOS device I have Been an android user from the past 9 years I ordered IPhone 11 (128gb) product red\\nMy experience after using 3 weeks\\n1. The delivery ...\\nREAD MORE',\n",
       " 'Amazing Powerful and Durable Gadget.\\n\\nI’m am very happy with the camera picture quality, Amazing face id unlocked in dark room, Strong battery with perfect screen size as you can carry easily in pocket. This is my third iPhone.\\n\\nI shifted from android Samsung Note series to iPhone because of the strong build quality and peace of mind for next 3-4 years.\\n\\nDon’t think to much just go for it and I suggest you to go for minimum 128gb variant or more 256gb.\\n\\nI’ve attached my puppy pics and no fi...\\nREAD MORE',\n",
       " 'So far it’s been an AMAZING experience coming back to iOS after nearly a decade but it’s not as versatile as android though phone is sturdy dropped it accidentally a couple of times and nothing happened fortunately camera is awesome',\n",
       " 'i11 is worthy to buy, too much happy with the product. Thank u flipkart I received the item on time..loved it..',\n",
       " 'Great iPhone very snappy experience as apple kind. Upgraded from iPhone 7.\\nPros\\n-Camera top class\\n- Battery top performed\\n-Chipset no need to say as apple kind\\n-Security as you expect from apple\\n- Display super bright industry leading colour\\naccuracy and super responsive\\n-Build quality as expect from apple sturdy\\npremium durable beautiful stylish.\\n-Os most stable os in smartphone industry\\n\\nCons\\n-No 5G\\n-Display is not based on OLED technology\\n-Charger headphones and 1 apple stic...\\nREAD MORE',\n",
       " 'iphone 11 is a very good phone to buy only if you can compromise for the display. The display on this is device is pretty good but you can get other options with better displays in this price segment.\\nIf you can survive with an HD+ LCD panel with thicker bezels and a notch up top then this is a very good phone for you.\\nCameras are awesome, battery backup excellent, great performance and a decent premium look. Good job Apple !']"
      ]
     },
     "execution_count": 251,
     "metadata": {},
     "output_type": "execute_result"
    }
   ],
   "source": [
    "rating=driver.find_elements_by_xpath(\"//div[@class='_3LWZlK _1BLPMq']\")\n",
    "review=driver.find_elements_by_xpath(\"//p[@class='_2-N8zT']\")\n",
    "full_review=driver.find_elements_by_xpath(\"//div[@class='t-ZTKy']\")\n",
    "for i in rating:\n",
    "    rating_n.append(i.text)\n",
    "for i in review:\n",
    "    review_n.append(i.text)\n",
    "for i in full_review:\n",
    "    full_review_n.append(i.text)\n",
    "\n",
    "rating_n\n",
    "review_n\n",
    "full_review_n"
   ]
  },
  {
   "cell_type": "code",
   "execution_count": 252,
   "id": "e2506449",
   "metadata": {},
   "outputs": [],
   "source": [
    "page.click()"
   ]
  },
  {
   "cell_type": "code",
   "execution_count": 253,
   "id": "c157bc4e",
   "metadata": {},
   "outputs": [
    {
     "data": {
      "text/plain": [
       "[<selenium.webdriver.remote.webelement.WebElement (session=\"6c889f6eeb85c91b0581d4d646a0dce4\", element=\"7eeedf97-4812-4d88-9ad6-2fe7d675ac3e\")>,\n",
       " <selenium.webdriver.remote.webelement.WebElement (session=\"6c889f6eeb85c91b0581d4d646a0dce4\", element=\"59b5147d-a311-449d-8940-98de6b590a1e\")>,\n",
       " <selenium.webdriver.remote.webelement.WebElement (session=\"6c889f6eeb85c91b0581d4d646a0dce4\", element=\"d6b88f99-06c1-4e9f-a61e-00e4b74ccc40\")>,\n",
       " <selenium.webdriver.remote.webelement.WebElement (session=\"6c889f6eeb85c91b0581d4d646a0dce4\", element=\"2c237605-f0fe-4223-b03a-22b0935c0dae\")>,\n",
       " <selenium.webdriver.remote.webelement.WebElement (session=\"6c889f6eeb85c91b0581d4d646a0dce4\", element=\"0b1c724f-73ef-43d3-8b23-2dc7a599532b\")>,\n",
       " <selenium.webdriver.remote.webelement.WebElement (session=\"6c889f6eeb85c91b0581d4d646a0dce4\", element=\"a3193024-31b5-48b1-afa4-301737241215\")>,\n",
       " <selenium.webdriver.remote.webelement.WebElement (session=\"6c889f6eeb85c91b0581d4d646a0dce4\", element=\"61bed411-cbe7-4972-8f41-ab3956ba7321\")>,\n",
       " <selenium.webdriver.remote.webelement.WebElement (session=\"6c889f6eeb85c91b0581d4d646a0dce4\", element=\"357e92a6-a601-4062-b781-6e580b652d93\")>,\n",
       " <selenium.webdriver.remote.webelement.WebElement (session=\"6c889f6eeb85c91b0581d4d646a0dce4\", element=\"8428a062-06d8-435a-9083-83e3265cd647\")>,\n",
       " <selenium.webdriver.remote.webelement.WebElement (session=\"6c889f6eeb85c91b0581d4d646a0dce4\", element=\"a9041afe-695c-4845-8ce2-e026334b03a9\")>]"
      ]
     },
     "execution_count": 253,
     "metadata": {},
     "output_type": "execute_result"
    }
   ],
   "source": [
    "rating=driver.find_elements_by_xpath(\"//div[@class='_3LWZlK _1BLPMq']\")\n",
    "review=driver.find_elements_by_xpath(\"//p[@class='_2-N8zT']\")\n",
    "full_review=driver.find_elements_by_xpath(\"//div[@class='t-ZTKy']\")\n",
    "rating\n",
    "review\n",
    "full_review"
   ]
  },
  {
   "cell_type": "code",
   "execution_count": 254,
   "id": "4e577a24",
   "metadata": {},
   "outputs": [
    {
     "data": {
      "text/plain": [
       "['The Best Phone for the Money\\n\\nThe iPhone 11 offers superb cameras, a more durable design and excellent battery life for an affordable price.\\n\\nCompelling ultra-wide camera\\nNew Night mode is excellent\\nLong battery life',\n",
       " 'Really satisfied with the Product I received... It’s totally genuine and the packaging was also really good so if ur planning to buy just go for it.',\n",
       " 'Amazing phone with great cameras and better battery which gives you the best performance. I just love the camera .',\n",
       " 'This is my first iOS phone. I am very happy with this product. Very much satisfied with this. I love this phone.',\n",
       " 'Previously I was using one plus 3t it was a great phone\\nAnd then I decided to upgrade I am stuck between Samsung s10 plus or iPhone 11\\nI have seen the specs and everything were good except the display it’s somewhere between 720-1080 and it’s not even an amoled it’s an LCD display\\nBut I decided to go with iPhone because I have never used an IOS device I have Been an android user from the past 9 years I ordered IPhone 11 (128gb) product red\\nMy experience after using 3 weeks\\n1. The delivery ...\\nREAD MORE',\n",
       " 'Amazing Powerful and Durable Gadget.\\n\\nI’m am very happy with the camera picture quality, Amazing face id unlocked in dark room, Strong battery with perfect screen size as you can carry easily in pocket. This is my third iPhone.\\n\\nI shifted from android Samsung Note series to iPhone because of the strong build quality and peace of mind for next 3-4 years.\\n\\nDon’t think to much just go for it and I suggest you to go for minimum 128gb variant or more 256gb.\\n\\nI’ve attached my puppy pics and no fi...\\nREAD MORE',\n",
       " 'So far it’s been an AMAZING experience coming back to iOS after nearly a decade but it’s not as versatile as android though phone is sturdy dropped it accidentally a couple of times and nothing happened fortunately camera is awesome',\n",
       " 'i11 is worthy to buy, too much happy with the product. Thank u flipkart I received the item on time..loved it..',\n",
       " 'Great iPhone very snappy experience as apple kind. Upgraded from iPhone 7.\\nPros\\n-Camera top class\\n- Battery top performed\\n-Chipset no need to say as apple kind\\n-Security as you expect from apple\\n- Display super bright industry leading colour\\naccuracy and super responsive\\n-Build quality as expect from apple sturdy\\npremium durable beautiful stylish.\\n-Os most stable os in smartphone industry\\n\\nCons\\n-No 5G\\n-Display is not based on OLED technology\\n-Charger headphones and 1 apple stic...\\nREAD MORE',\n",
       " 'iphone 11 is a very good phone to buy only if you can compromise for the display. The display on this is device is pretty good but you can get other options with better displays in this price segment.\\nIf you can survive with an HD+ LCD panel with thicker bezels and a notch up top then this is a very good phone for you.\\nCameras are awesome, battery backup excellent, great performance and a decent premium look. Good job Apple !',\n",
       " 'The Best Phone for the Money\\n\\nThe iPhone 11 offers superb cameras, a more durable design and excellent battery life for an affordable price.\\n\\nCompelling ultra-wide camera\\nNew Night mode is excellent\\nLong battery life',\n",
       " 'Really satisfied with the Product I received... It’s totally genuine and the packaging was also really good so if ur planning to buy just go for it.',\n",
       " 'Amazing phone with great cameras and better battery which gives you the best performance. I just love the camera .',\n",
       " 'This is my first iOS phone. I am very happy with this product. Very much satisfied with this. I love this phone.',\n",
       " 'Previously I was using one plus 3t it was a great phone\\nAnd then I decided to upgrade I am stuck between Samsung s10 plus or iPhone 11\\nI have seen the specs and everything were good except the display it’s somewhere between 720-1080 and it’s not even an amoled it’s an LCD display\\nBut I decided to go with iPhone because I have never used an IOS device I have Been an android user from the past 9 years I ordered IPhone 11 (128gb) product red\\nMy experience after using 3 weeks\\n1. The delivery ...\\nREAD MORE',\n",
       " 'Amazing Powerful and Durable Gadget.\\n\\nI’m am very happy with the camera picture quality, Amazing face id unlocked in dark room, Strong battery with perfect screen size as you can carry easily in pocket. This is my third iPhone.\\n\\nI shifted from android Samsung Note series to iPhone because of the strong build quality and peace of mind for next 3-4 years.\\n\\nDon’t think to much just go for it and I suggest you to go for minimum 128gb variant or more 256gb.\\n\\nI’ve attached my puppy pics and no fi...\\nREAD MORE',\n",
       " 'So far it’s been an AMAZING experience coming back to iOS after nearly a decade but it’s not as versatile as android though phone is sturdy dropped it accidentally a couple of times and nothing happened fortunately camera is awesome',\n",
       " 'i11 is worthy to buy, too much happy with the product. Thank u flipkart I received the item on time..loved it..',\n",
       " 'Great iPhone very snappy experience as apple kind. Upgraded from iPhone 7.\\nPros\\n-Camera top class\\n- Battery top performed\\n-Chipset no need to say as apple kind\\n-Security as you expect from apple\\n- Display super bright industry leading colour\\naccuracy and super responsive\\n-Build quality as expect from apple sturdy\\npremium durable beautiful stylish.\\n-Os most stable os in smartphone industry\\n\\nCons\\n-No 5G\\n-Display is not based on OLED technology\\n-Charger headphones and 1 apple stic...\\nREAD MORE',\n",
       " 'iphone 11 is a very good phone to buy only if you can compromise for the display. The display on this is device is pretty good but you can get other options with better displays in this price segment.\\nIf you can survive with an HD+ LCD panel with thicker bezels and a notch up top then this is a very good phone for you.\\nCameras are awesome, battery backup excellent, great performance and a decent premium look. Good job Apple !',\n",
       " 'The Best Phone for the Money\\n\\nThe iPhone 11 offers superb cameras, a more durable design and excellent battery life for an affordable price.\\n\\nCompelling ultra-wide camera\\nNew Night mode is excellent\\nLong battery life',\n",
       " 'Really satisfied with the Product I received... It’s totally genuine and the packaging was also really good so if ur planning to buy just go for it.',\n",
       " 'Amazing phone with great cameras and better battery which gives you the best performance. I just love the camera .',\n",
       " 'This is my first iOS phone. I am very happy with this product. Very much satisfied with this. I love this phone.',\n",
       " 'Previously I was using one plus 3t it was a great phone\\nAnd then I decided to upgrade I am stuck between Samsung s10 plus or iPhone 11\\nI have seen the specs and everything were good except the display it’s somewhere between 720-1080 and it’s not even an amoled it’s an LCD display\\nBut I decided to go with iPhone because I have never used an IOS device I have Been an android user from the past 9 years I ordered IPhone 11 (128gb) product red\\nMy experience after using 3 weeks\\n1. The delivery ...\\nREAD MORE',\n",
       " 'Amazing Powerful and Durable Gadget.\\n\\nI’m am very happy with the camera picture quality, Amazing face id unlocked in dark room, Strong battery with perfect screen size as you can carry easily in pocket. This is my third iPhone.\\n\\nI shifted from android Samsung Note series to iPhone because of the strong build quality and peace of mind for next 3-4 years.\\n\\nDon’t think to much just go for it and I suggest you to go for minimum 128gb variant or more 256gb.\\n\\nI’ve attached my puppy pics and no fi...\\nREAD MORE',\n",
       " 'So far it’s been an AMAZING experience coming back to iOS after nearly a decade but it’s not as versatile as android though phone is sturdy dropped it accidentally a couple of times and nothing happened fortunately camera is awesome',\n",
       " 'i11 is worthy to buy, too much happy with the product. Thank u flipkart I received the item on time..loved it..',\n",
       " 'Great iPhone very snappy experience as apple kind. Upgraded from iPhone 7.\\nPros\\n-Camera top class\\n- Battery top performed\\n-Chipset no need to say as apple kind\\n-Security as you expect from apple\\n- Display super bright industry leading colour\\naccuracy and super responsive\\n-Build quality as expect from apple sturdy\\npremium durable beautiful stylish.\\n-Os most stable os in smartphone industry\\n\\nCons\\n-No 5G\\n-Display is not based on OLED technology\\n-Charger headphones and 1 apple stic...\\nREAD MORE',\n",
       " 'iphone 11 is a very good phone to buy only if you can compromise for the display. The display on this is device is pretty good but you can get other options with better displays in this price segment.\\nIf you can survive with an HD+ LCD panel with thicker bezels and a notch up top then this is a very good phone for you.\\nCameras are awesome, battery backup excellent, great performance and a decent premium look. Good job Apple !',\n",
       " 'The Best Phone for the Money\\n\\nThe iPhone 11 offers superb cameras, a more durable design and excellent battery life for an affordable price.\\n\\nCompelling ultra-wide camera\\nNew Night mode is excellent\\nLong battery life',\n",
       " 'Really satisfied with the Product I received... It’s totally genuine and the packaging was also really good so if ur planning to buy just go for it.',\n",
       " 'Amazing phone with great cameras and better battery which gives you the best performance. I just love the camera .',\n",
       " 'This is my first iOS phone. I am very happy with this product. Very much satisfied with this. I love this phone.',\n",
       " 'Previously I was using one plus 3t it was a great phone\\nAnd then I decided to upgrade I am stuck between Samsung s10 plus or iPhone 11\\nI have seen the specs and everything were good except the display it’s somewhere between 720-1080 and it’s not even an amoled it’s an LCD display\\nBut I decided to go with iPhone because I have never used an IOS device I have Been an android user from the past 9 years I ordered IPhone 11 (128gb) product red\\nMy experience after using 3 weeks\\n1. The delivery ...\\nREAD MORE',\n",
       " 'Amazing Powerful and Durable Gadget.\\n\\nI’m am very happy with the camera picture quality, Amazing face id unlocked in dark room, Strong battery with perfect screen size as you can carry easily in pocket. This is my third iPhone.\\n\\nI shifted from android Samsung Note series to iPhone because of the strong build quality and peace of mind for next 3-4 years.\\n\\nDon’t think to much just go for it and I suggest you to go for minimum 128gb variant or more 256gb.\\n\\nI’ve attached my puppy pics and no fi...\\nREAD MORE',\n",
       " 'So far it’s been an AMAZING experience coming back to iOS after nearly a decade but it’s not as versatile as android though phone is sturdy dropped it accidentally a couple of times and nothing happened fortunately camera is awesome',\n",
       " 'i11 is worthy to buy, too much happy with the product. Thank u flipkart I received the item on time..loved it..',\n",
       " 'Great iPhone very snappy experience as apple kind. Upgraded from iPhone 7.\\nPros\\n-Camera top class\\n- Battery top performed\\n-Chipset no need to say as apple kind\\n-Security as you expect from apple\\n- Display super bright industry leading colour\\naccuracy and super responsive\\n-Build quality as expect from apple sturdy\\npremium durable beautiful stylish.\\n-Os most stable os in smartphone industry\\n\\nCons\\n-No 5G\\n-Display is not based on OLED technology\\n-Charger headphones and 1 apple stic...\\nREAD MORE',\n",
       " 'iphone 11 is a very good phone to buy only if you can compromise for the display. The display on this is device is pretty good but you can get other options with better displays in this price segment.\\nIf you can survive with an HD+ LCD panel with thicker bezels and a notch up top then this is a very good phone for you.\\nCameras are awesome, battery backup excellent, great performance and a decent premium look. Good job Apple !',\n",
       " 'The Best Phone for the Money\\n\\nThe iPhone 11 offers superb cameras, a more durable design and excellent battery life for an affordable price.\\n\\nCompelling ultra-wide camera\\nNew Night mode is excellent\\nLong battery life',\n",
       " 'Really satisfied with the Product I received... It’s totally genuine and the packaging was also really good so if ur planning to buy just go for it.',\n",
       " 'Amazing phone with great cameras and better battery which gives you the best performance. I just love the camera .',\n",
       " 'This is my first iOS phone. I am very happy with this product. Very much satisfied with this. I love this phone.',\n",
       " 'Previously I was using one plus 3t it was a great phone\\nAnd then I decided to upgrade I am stuck between Samsung s10 plus or iPhone 11\\nI have seen the specs and everything were good except the display it’s somewhere between 720-1080 and it’s not even an amoled it’s an LCD display\\nBut I decided to go with iPhone because I have never used an IOS device I have Been an android user from the past 9 years I ordered IPhone 11 (128gb) product red\\nMy experience after using 3 weeks\\n1. The delivery ...\\nREAD MORE',\n",
       " 'Amazing Powerful and Durable Gadget.\\n\\nI’m am very happy with the camera picture quality, Amazing face id unlocked in dark room, Strong battery with perfect screen size as you can carry easily in pocket. This is my third iPhone.\\n\\nI shifted from android Samsung Note series to iPhone because of the strong build quality and peace of mind for next 3-4 years.\\n\\nDon’t think to much just go for it and I suggest you to go for minimum 128gb variant or more 256gb.\\n\\nI’ve attached my puppy pics and no fi...\\nREAD MORE',\n",
       " 'So far it’s been an AMAZING experience coming back to iOS after nearly a decade but it’s not as versatile as android though phone is sturdy dropped it accidentally a couple of times and nothing happened fortunately camera is awesome',\n",
       " 'i11 is worthy to buy, too much happy with the product. Thank u flipkart I received the item on time..loved it..',\n",
       " 'Great iPhone very snappy experience as apple kind. Upgraded from iPhone 7.\\nPros\\n-Camera top class\\n- Battery top performed\\n-Chipset no need to say as apple kind\\n-Security as you expect from apple\\n- Display super bright industry leading colour\\naccuracy and super responsive\\n-Build quality as expect from apple sturdy\\npremium durable beautiful stylish.\\n-Os most stable os in smartphone industry\\n\\nCons\\n-No 5G\\n-Display is not based on OLED technology\\n-Charger headphones and 1 apple stic...\\nREAD MORE',\n",
       " 'iphone 11 is a very good phone to buy only if you can compromise for the display. The display on this is device is pretty good but you can get other options with better displays in this price segment.\\nIf you can survive with an HD+ LCD panel with thicker bezels and a notch up top then this is a very good phone for you.\\nCameras are awesome, battery backup excellent, great performance and a decent premium look. Good job Apple !',\n",
       " 'The Best Phone for the Money\\n\\nThe iPhone 11 offers superb cameras, a more durable design and excellent battery life for an affordable price.\\n\\nCompelling ultra-wide camera\\nNew Night mode is excellent\\nLong battery life',\n",
       " 'Really satisfied with the Product I received... It’s totally genuine and the packaging was also really good so if ur planning to buy just go for it.',\n",
       " 'Amazing phone with great cameras and better battery which gives you the best performance. I just love the camera .',\n",
       " 'This is my first iOS phone. I am very happy with this product. Very much satisfied with this. I love this phone.',\n",
       " 'Previously I was using one plus 3t it was a great phone\\nAnd then I decided to upgrade I am stuck between Samsung s10 plus or iPhone 11\\nI have seen the specs and everything were good except the display it’s somewhere between 720-1080 and it’s not even an amoled it’s an LCD display\\nBut I decided to go with iPhone because I have never used an IOS device I have Been an android user from the past 9 years I ordered IPhone 11 (128gb) product red\\nMy experience after using 3 weeks\\n1. The delivery ...\\nREAD MORE',\n",
       " 'Amazing Powerful and Durable Gadget.\\n\\nI’m am very happy with the camera picture quality, Amazing face id unlocked in dark room, Strong battery with perfect screen size as you can carry easily in pocket. This is my third iPhone.\\n\\nI shifted from android Samsung Note series to iPhone because of the strong build quality and peace of mind for next 3-4 years.\\n\\nDon’t think to much just go for it and I suggest you to go for minimum 128gb variant or more 256gb.\\n\\nI’ve attached my puppy pics and no fi...\\nREAD MORE',\n",
       " 'So far it’s been an AMAZING experience coming back to iOS after nearly a decade but it’s not as versatile as android though phone is sturdy dropped it accidentally a couple of times and nothing happened fortunately camera is awesome',\n",
       " 'i11 is worthy to buy, too much happy with the product. Thank u flipkart I received the item on time..loved it..',\n",
       " 'Great iPhone very snappy experience as apple kind. Upgraded from iPhone 7.\\nPros\\n-Camera top class\\n- Battery top performed\\n-Chipset no need to say as apple kind\\n-Security as you expect from apple\\n- Display super bright industry leading colour\\naccuracy and super responsive\\n-Build quality as expect from apple sturdy\\npremium durable beautiful stylish.\\n-Os most stable os in smartphone industry\\n\\nCons\\n-No 5G\\n-Display is not based on OLED technology\\n-Charger headphones and 1 apple stic...\\nREAD MORE',\n",
       " 'iphone 11 is a very good phone to buy only if you can compromise for the display. The display on this is device is pretty good but you can get other options with better displays in this price segment.\\nIf you can survive with an HD+ LCD panel with thicker bezels and a notch up top then this is a very good phone for you.\\nCameras are awesome, battery backup excellent, great performance and a decent premium look. Good job Apple !',\n",
       " 'The Best Phone for the Money\\n\\nThe iPhone 11 offers superb cameras, a more durable design and excellent battery life for an affordable price.\\n\\nCompelling ultra-wide camera\\nNew Night mode is excellent\\nLong battery life',\n",
       " 'Really satisfied with the Product I received... It’s totally genuine and the packaging was also really good so if ur planning to buy just go for it.',\n",
       " 'Amazing phone with great cameras and better battery which gives you the best performance. I just love the camera .',\n",
       " 'This is my first iOS phone. I am very happy with this product. Very much satisfied with this. I love this phone.',\n",
       " 'Previously I was using one plus 3t it was a great phone\\nAnd then I decided to upgrade I am stuck between Samsung s10 plus or iPhone 11\\nI have seen the specs and everything were good except the display it’s somewhere between 720-1080 and it’s not even an amoled it’s an LCD display\\nBut I decided to go with iPhone because I have never used an IOS device I have Been an android user from the past 9 years I ordered IPhone 11 (128gb) product red\\nMy experience after using 3 weeks\\n1. The delivery ...\\nREAD MORE',\n",
       " 'Amazing Powerful and Durable Gadget.\\n\\nI’m am very happy with the camera picture quality, Amazing face id unlocked in dark room, Strong battery with perfect screen size as you can carry easily in pocket. This is my third iPhone.\\n\\nI shifted from android Samsung Note series to iPhone because of the strong build quality and peace of mind for next 3-4 years.\\n\\nDon’t think to much just go for it and I suggest you to go for minimum 128gb variant or more 256gb.\\n\\nI’ve attached my puppy pics and no fi...\\nREAD MORE',\n",
       " 'So far it’s been an AMAZING experience coming back to iOS after nearly a decade but it’s not as versatile as android though phone is sturdy dropped it accidentally a couple of times and nothing happened fortunately camera is awesome',\n",
       " 'i11 is worthy to buy, too much happy with the product. Thank u flipkart I received the item on time..loved it..',\n",
       " 'Great iPhone very snappy experience as apple kind. Upgraded from iPhone 7.\\nPros\\n-Camera top class\\n- Battery top performed\\n-Chipset no need to say as apple kind\\n-Security as you expect from apple\\n- Display super bright industry leading colour\\naccuracy and super responsive\\n-Build quality as expect from apple sturdy\\npremium durable beautiful stylish.\\n-Os most stable os in smartphone industry\\n\\nCons\\n-No 5G\\n-Display is not based on OLED technology\\n-Charger headphones and 1 apple stic...\\nREAD MORE',\n",
       " 'iphone 11 is a very good phone to buy only if you can compromise for the display. The display on this is device is pretty good but you can get other options with better displays in this price segment.\\nIf you can survive with an HD+ LCD panel with thicker bezels and a notch up top then this is a very good phone for you.\\nCameras are awesome, battery backup excellent, great performance and a decent premium look. Good job Apple !',\n",
       " 'The Best Phone for the Money\\n\\nThe iPhone 11 offers superb cameras, a more durable design and excellent battery life for an affordable price.\\n\\nCompelling ultra-wide camera\\nNew Night mode is excellent\\nLong battery life',\n",
       " 'Really satisfied with the Product I received... It’s totally genuine and the packaging was also really good so if ur planning to buy just go for it.',\n",
       " 'Amazing phone with great cameras and better battery which gives you the best performance. I just love the camera .',\n",
       " 'This is my first iOS phone. I am very happy with this product. Very much satisfied with this. I love this phone.',\n",
       " 'Previously I was using one plus 3t it was a great phone\\nAnd then I decided to upgrade I am stuck between Samsung s10 plus or iPhone 11\\nI have seen the specs and everything were good except the display it’s somewhere between 720-1080 and it’s not even an amoled it’s an LCD display\\nBut I decided to go with iPhone because I have never used an IOS device I have Been an android user from the past 9 years I ordered IPhone 11 (128gb) product red\\nMy experience after using 3 weeks\\n1. The delivery ...\\nREAD MORE',\n",
       " 'Amazing Powerful and Durable Gadget.\\n\\nI’m am very happy with the camera picture quality, Amazing face id unlocked in dark room, Strong battery with perfect screen size as you can carry easily in pocket. This is my third iPhone.\\n\\nI shifted from android Samsung Note series to iPhone because of the strong build quality and peace of mind for next 3-4 years.\\n\\nDon’t think to much just go for it and I suggest you to go for minimum 128gb variant or more 256gb.\\n\\nI’ve attached my puppy pics and no fi...\\nREAD MORE',\n",
       " 'So far it’s been an AMAZING experience coming back to iOS after nearly a decade but it’s not as versatile as android though phone is sturdy dropped it accidentally a couple of times and nothing happened fortunately camera is awesome',\n",
       " 'i11 is worthy to buy, too much happy with the product. Thank u flipkart I received the item on time..loved it..',\n",
       " 'Great iPhone very snappy experience as apple kind. Upgraded from iPhone 7.\\nPros\\n-Camera top class\\n- Battery top performed\\n-Chipset no need to say as apple kind\\n-Security as you expect from apple\\n- Display super bright industry leading colour\\naccuracy and super responsive\\n-Build quality as expect from apple sturdy\\npremium durable beautiful stylish.\\n-Os most stable os in smartphone industry\\n\\nCons\\n-No 5G\\n-Display is not based on OLED technology\\n-Charger headphones and 1 apple stic...\\nREAD MORE',\n",
       " 'iphone 11 is a very good phone to buy only if you can compromise for the display. The display on this is device is pretty good but you can get other options with better displays in this price segment.\\nIf you can survive with an HD+ LCD panel with thicker bezels and a notch up top then this is a very good phone for you.\\nCameras are awesome, battery backup excellent, great performance and a decent premium look. Good job Apple !',\n",
       " 'The Best Phone for the Money\\n\\nThe iPhone 11 offers superb cameras, a more durable design and excellent battery life for an affordable price.\\n\\nCompelling ultra-wide camera\\nNew Night mode is excellent\\nLong battery life',\n",
       " 'Really satisfied with the Product I received... It’s totally genuine and the packaging was also really good so if ur planning to buy just go for it.',\n",
       " 'Amazing phone with great cameras and better battery which gives you the best performance. I just love the camera .',\n",
       " 'This is my first iOS phone. I am very happy with this product. Very much satisfied with this. I love this phone.',\n",
       " 'Previously I was using one plus 3t it was a great phone\\nAnd then I decided to upgrade I am stuck between Samsung s10 plus or iPhone 11\\nI have seen the specs and everything were good except the display it’s somewhere between 720-1080 and it’s not even an amoled it’s an LCD display\\nBut I decided to go with iPhone because I have never used an IOS device I have Been an android user from the past 9 years I ordered IPhone 11 (128gb) product red\\nMy experience after using 3 weeks\\n1. The delivery ...\\nREAD MORE',\n",
       " 'Amazing Powerful and Durable Gadget.\\n\\nI’m am very happy with the camera picture quality, Amazing face id unlocked in dark room, Strong battery with perfect screen size as you can carry easily in pocket. This is my third iPhone.\\n\\nI shifted from android Samsung Note series to iPhone because of the strong build quality and peace of mind for next 3-4 years.\\n\\nDon’t think to much just go for it and I suggest you to go for minimum 128gb variant or more 256gb.\\n\\nI’ve attached my puppy pics and no fi...\\nREAD MORE',\n",
       " 'So far it’s been an AMAZING experience coming back to iOS after nearly a decade but it’s not as versatile as android though phone is sturdy dropped it accidentally a couple of times and nothing happened fortunately camera is awesome',\n",
       " 'i11 is worthy to buy, too much happy with the product. Thank u flipkart I received the item on time..loved it..',\n",
       " 'Great iPhone very snappy experience as apple kind. Upgraded from iPhone 7.\\nPros\\n-Camera top class\\n- Battery top performed\\n-Chipset no need to say as apple kind\\n-Security as you expect from apple\\n- Display super bright industry leading colour\\naccuracy and super responsive\\n-Build quality as expect from apple sturdy\\npremium durable beautiful stylish.\\n-Os most stable os in smartphone industry\\n\\nCons\\n-No 5G\\n-Display is not based on OLED technology\\n-Charger headphones and 1 apple stic...\\nREAD MORE',\n",
       " 'iphone 11 is a very good phone to buy only if you can compromise for the display. The display on this is device is pretty good but you can get other options with better displays in this price segment.\\nIf you can survive with an HD+ LCD panel with thicker bezels and a notch up top then this is a very good phone for you.\\nCameras are awesome, battery backup excellent, great performance and a decent premium look. Good job Apple !']"
      ]
     },
     "execution_count": 254,
     "metadata": {},
     "output_type": "execute_result"
    }
   ],
   "source": [
    "for i in rating:\n",
    "    rating_n.append(i.text)\n",
    "for i in review:\n",
    "    review_n.append(i.text)\n",
    "for i in full_review:\n",
    "    full_review_n.append(i.text)\n",
    "\n",
    "rating_n\n",
    "review_n\n",
    "full_review_n"
   ]
  },
  {
   "cell_type": "code",
   "execution_count": 256,
   "id": "5d92cc8d",
   "metadata": {},
   "outputs": [],
   "source": [
    "page.click()"
   ]
  },
  {
   "cell_type": "code",
   "execution_count": 257,
   "id": "4db806ba",
   "metadata": {},
   "outputs": [
    {
     "data": {
      "text/plain": [
       "[<selenium.webdriver.remote.webelement.WebElement (session=\"6c889f6eeb85c91b0581d4d646a0dce4\", element=\"7eeedf97-4812-4d88-9ad6-2fe7d675ac3e\")>,\n",
       " <selenium.webdriver.remote.webelement.WebElement (session=\"6c889f6eeb85c91b0581d4d646a0dce4\", element=\"59b5147d-a311-449d-8940-98de6b590a1e\")>,\n",
       " <selenium.webdriver.remote.webelement.WebElement (session=\"6c889f6eeb85c91b0581d4d646a0dce4\", element=\"d6b88f99-06c1-4e9f-a61e-00e4b74ccc40\")>,\n",
       " <selenium.webdriver.remote.webelement.WebElement (session=\"6c889f6eeb85c91b0581d4d646a0dce4\", element=\"2c237605-f0fe-4223-b03a-22b0935c0dae\")>,\n",
       " <selenium.webdriver.remote.webelement.WebElement (session=\"6c889f6eeb85c91b0581d4d646a0dce4\", element=\"0b1c724f-73ef-43d3-8b23-2dc7a599532b\")>,\n",
       " <selenium.webdriver.remote.webelement.WebElement (session=\"6c889f6eeb85c91b0581d4d646a0dce4\", element=\"a3193024-31b5-48b1-afa4-301737241215\")>,\n",
       " <selenium.webdriver.remote.webelement.WebElement (session=\"6c889f6eeb85c91b0581d4d646a0dce4\", element=\"61bed411-cbe7-4972-8f41-ab3956ba7321\")>,\n",
       " <selenium.webdriver.remote.webelement.WebElement (session=\"6c889f6eeb85c91b0581d4d646a0dce4\", element=\"357e92a6-a601-4062-b781-6e580b652d93\")>,\n",
       " <selenium.webdriver.remote.webelement.WebElement (session=\"6c889f6eeb85c91b0581d4d646a0dce4\", element=\"8428a062-06d8-435a-9083-83e3265cd647\")>,\n",
       " <selenium.webdriver.remote.webelement.WebElement (session=\"6c889f6eeb85c91b0581d4d646a0dce4\", element=\"a9041afe-695c-4845-8ce2-e026334b03a9\")>]"
      ]
     },
     "execution_count": 257,
     "metadata": {},
     "output_type": "execute_result"
    }
   ],
   "source": [
    "rating=driver.find_elements_by_xpath(\"//div[@class='_3LWZlK _1BLPMq']\")\n",
    "review=driver.find_elements_by_xpath(\"//p[@class='_2-N8zT']\")\n",
    "full_review=driver.find_elements_by_xpath(\"//div[@class='t-ZTKy']\")\n",
    "rating\n",
    "review\n",
    "full_review"
   ]
  },
  {
   "cell_type": "code",
   "execution_count": 258,
   "id": "045f224a",
   "metadata": {},
   "outputs": [
    {
     "data": {
      "text/plain": [
       "['The Best Phone for the Money\\n\\nThe iPhone 11 offers superb cameras, a more durable design and excellent battery life for an affordable price.\\n\\nCompelling ultra-wide camera\\nNew Night mode is excellent\\nLong battery life',\n",
       " 'Really satisfied with the Product I received... It’s totally genuine and the packaging was also really good so if ur planning to buy just go for it.',\n",
       " 'Amazing phone with great cameras and better battery which gives you the best performance. I just love the camera .',\n",
       " 'This is my first iOS phone. I am very happy with this product. Very much satisfied with this. I love this phone.',\n",
       " 'Previously I was using one plus 3t it was a great phone\\nAnd then I decided to upgrade I am stuck between Samsung s10 plus or iPhone 11\\nI have seen the specs and everything were good except the display it’s somewhere between 720-1080 and it’s not even an amoled it’s an LCD display\\nBut I decided to go with iPhone because I have never used an IOS device I have Been an android user from the past 9 years I ordered IPhone 11 (128gb) product red\\nMy experience after using 3 weeks\\n1. The delivery ...\\nREAD MORE',\n",
       " 'Amazing Powerful and Durable Gadget.\\n\\nI’m am very happy with the camera picture quality, Amazing face id unlocked in dark room, Strong battery with perfect screen size as you can carry easily in pocket. This is my third iPhone.\\n\\nI shifted from android Samsung Note series to iPhone because of the strong build quality and peace of mind for next 3-4 years.\\n\\nDon’t think to much just go for it and I suggest you to go for minimum 128gb variant or more 256gb.\\n\\nI’ve attached my puppy pics and no fi...\\nREAD MORE',\n",
       " 'So far it’s been an AMAZING experience coming back to iOS after nearly a decade but it’s not as versatile as android though phone is sturdy dropped it accidentally a couple of times and nothing happened fortunately camera is awesome',\n",
       " 'i11 is worthy to buy, too much happy with the product. Thank u flipkart I received the item on time..loved it..',\n",
       " 'Great iPhone very snappy experience as apple kind. Upgraded from iPhone 7.\\nPros\\n-Camera top class\\n- Battery top performed\\n-Chipset no need to say as apple kind\\n-Security as you expect from apple\\n- Display super bright industry leading colour\\naccuracy and super responsive\\n-Build quality as expect from apple sturdy\\npremium durable beautiful stylish.\\n-Os most stable os in smartphone industry\\n\\nCons\\n-No 5G\\n-Display is not based on OLED technology\\n-Charger headphones and 1 apple stic...\\nREAD MORE',\n",
       " 'iphone 11 is a very good phone to buy only if you can compromise for the display. The display on this is device is pretty good but you can get other options with better displays in this price segment.\\nIf you can survive with an HD+ LCD panel with thicker bezels and a notch up top then this is a very good phone for you.\\nCameras are awesome, battery backup excellent, great performance and a decent premium look. Good job Apple !',\n",
       " 'The Best Phone for the Money\\n\\nThe iPhone 11 offers superb cameras, a more durable design and excellent battery life for an affordable price.\\n\\nCompelling ultra-wide camera\\nNew Night mode is excellent\\nLong battery life',\n",
       " 'Really satisfied with the Product I received... It’s totally genuine and the packaging was also really good so if ur planning to buy just go for it.',\n",
       " 'Amazing phone with great cameras and better battery which gives you the best performance. I just love the camera .',\n",
       " 'This is my first iOS phone. I am very happy with this product. Very much satisfied with this. I love this phone.',\n",
       " 'Previously I was using one plus 3t it was a great phone\\nAnd then I decided to upgrade I am stuck between Samsung s10 plus or iPhone 11\\nI have seen the specs and everything were good except the display it’s somewhere between 720-1080 and it’s not even an amoled it’s an LCD display\\nBut I decided to go with iPhone because I have never used an IOS device I have Been an android user from the past 9 years I ordered IPhone 11 (128gb) product red\\nMy experience after using 3 weeks\\n1. The delivery ...\\nREAD MORE',\n",
       " 'Amazing Powerful and Durable Gadget.\\n\\nI’m am very happy with the camera picture quality, Amazing face id unlocked in dark room, Strong battery with perfect screen size as you can carry easily in pocket. This is my third iPhone.\\n\\nI shifted from android Samsung Note series to iPhone because of the strong build quality and peace of mind for next 3-4 years.\\n\\nDon’t think to much just go for it and I suggest you to go for minimum 128gb variant or more 256gb.\\n\\nI’ve attached my puppy pics and no fi...\\nREAD MORE',\n",
       " 'So far it’s been an AMAZING experience coming back to iOS after nearly a decade but it’s not as versatile as android though phone is sturdy dropped it accidentally a couple of times and nothing happened fortunately camera is awesome',\n",
       " 'i11 is worthy to buy, too much happy with the product. Thank u flipkart I received the item on time..loved it..',\n",
       " 'Great iPhone very snappy experience as apple kind. Upgraded from iPhone 7.\\nPros\\n-Camera top class\\n- Battery top performed\\n-Chipset no need to say as apple kind\\n-Security as you expect from apple\\n- Display super bright industry leading colour\\naccuracy and super responsive\\n-Build quality as expect from apple sturdy\\npremium durable beautiful stylish.\\n-Os most stable os in smartphone industry\\n\\nCons\\n-No 5G\\n-Display is not based on OLED technology\\n-Charger headphones and 1 apple stic...\\nREAD MORE',\n",
       " 'iphone 11 is a very good phone to buy only if you can compromise for the display. The display on this is device is pretty good but you can get other options with better displays in this price segment.\\nIf you can survive with an HD+ LCD panel with thicker bezels and a notch up top then this is a very good phone for you.\\nCameras are awesome, battery backup excellent, great performance and a decent premium look. Good job Apple !',\n",
       " 'The Best Phone for the Money\\n\\nThe iPhone 11 offers superb cameras, a more durable design and excellent battery life for an affordable price.\\n\\nCompelling ultra-wide camera\\nNew Night mode is excellent\\nLong battery life',\n",
       " 'Really satisfied with the Product I received... It’s totally genuine and the packaging was also really good so if ur planning to buy just go for it.',\n",
       " 'Amazing phone with great cameras and better battery which gives you the best performance. I just love the camera .',\n",
       " 'This is my first iOS phone. I am very happy with this product. Very much satisfied with this. I love this phone.',\n",
       " 'Previously I was using one plus 3t it was a great phone\\nAnd then I decided to upgrade I am stuck between Samsung s10 plus or iPhone 11\\nI have seen the specs and everything were good except the display it’s somewhere between 720-1080 and it’s not even an amoled it’s an LCD display\\nBut I decided to go with iPhone because I have never used an IOS device I have Been an android user from the past 9 years I ordered IPhone 11 (128gb) product red\\nMy experience after using 3 weeks\\n1. The delivery ...\\nREAD MORE',\n",
       " 'Amazing Powerful and Durable Gadget.\\n\\nI’m am very happy with the camera picture quality, Amazing face id unlocked in dark room, Strong battery with perfect screen size as you can carry easily in pocket. This is my third iPhone.\\n\\nI shifted from android Samsung Note series to iPhone because of the strong build quality and peace of mind for next 3-4 years.\\n\\nDon’t think to much just go for it and I suggest you to go for minimum 128gb variant or more 256gb.\\n\\nI’ve attached my puppy pics and no fi...\\nREAD MORE',\n",
       " 'So far it’s been an AMAZING experience coming back to iOS after nearly a decade but it’s not as versatile as android though phone is sturdy dropped it accidentally a couple of times and nothing happened fortunately camera is awesome',\n",
       " 'i11 is worthy to buy, too much happy with the product. Thank u flipkart I received the item on time..loved it..',\n",
       " 'Great iPhone very snappy experience as apple kind. Upgraded from iPhone 7.\\nPros\\n-Camera top class\\n- Battery top performed\\n-Chipset no need to say as apple kind\\n-Security as you expect from apple\\n- Display super bright industry leading colour\\naccuracy and super responsive\\n-Build quality as expect from apple sturdy\\npremium durable beautiful stylish.\\n-Os most stable os in smartphone industry\\n\\nCons\\n-No 5G\\n-Display is not based on OLED technology\\n-Charger headphones and 1 apple stic...\\nREAD MORE',\n",
       " 'iphone 11 is a very good phone to buy only if you can compromise for the display. The display on this is device is pretty good but you can get other options with better displays in this price segment.\\nIf you can survive with an HD+ LCD panel with thicker bezels and a notch up top then this is a very good phone for you.\\nCameras are awesome, battery backup excellent, great performance and a decent premium look. Good job Apple !',\n",
       " 'The Best Phone for the Money\\n\\nThe iPhone 11 offers superb cameras, a more durable design and excellent battery life for an affordable price.\\n\\nCompelling ultra-wide camera\\nNew Night mode is excellent\\nLong battery life',\n",
       " 'Really satisfied with the Product I received... It’s totally genuine and the packaging was also really good so if ur planning to buy just go for it.',\n",
       " 'Amazing phone with great cameras and better battery which gives you the best performance. I just love the camera .',\n",
       " 'This is my first iOS phone. I am very happy with this product. Very much satisfied with this. I love this phone.',\n",
       " 'Previously I was using one plus 3t it was a great phone\\nAnd then I decided to upgrade I am stuck between Samsung s10 plus or iPhone 11\\nI have seen the specs and everything were good except the display it’s somewhere between 720-1080 and it’s not even an amoled it’s an LCD display\\nBut I decided to go with iPhone because I have never used an IOS device I have Been an android user from the past 9 years I ordered IPhone 11 (128gb) product red\\nMy experience after using 3 weeks\\n1. The delivery ...\\nREAD MORE',\n",
       " 'Amazing Powerful and Durable Gadget.\\n\\nI’m am very happy with the camera picture quality, Amazing face id unlocked in dark room, Strong battery with perfect screen size as you can carry easily in pocket. This is my third iPhone.\\n\\nI shifted from android Samsung Note series to iPhone because of the strong build quality and peace of mind for next 3-4 years.\\n\\nDon’t think to much just go for it and I suggest you to go for minimum 128gb variant or more 256gb.\\n\\nI’ve attached my puppy pics and no fi...\\nREAD MORE',\n",
       " 'So far it’s been an AMAZING experience coming back to iOS after nearly a decade but it’s not as versatile as android though phone is sturdy dropped it accidentally a couple of times and nothing happened fortunately camera is awesome',\n",
       " 'i11 is worthy to buy, too much happy with the product. Thank u flipkart I received the item on time..loved it..',\n",
       " 'Great iPhone very snappy experience as apple kind. Upgraded from iPhone 7.\\nPros\\n-Camera top class\\n- Battery top performed\\n-Chipset no need to say as apple kind\\n-Security as you expect from apple\\n- Display super bright industry leading colour\\naccuracy and super responsive\\n-Build quality as expect from apple sturdy\\npremium durable beautiful stylish.\\n-Os most stable os in smartphone industry\\n\\nCons\\n-No 5G\\n-Display is not based on OLED technology\\n-Charger headphones and 1 apple stic...\\nREAD MORE',\n",
       " 'iphone 11 is a very good phone to buy only if you can compromise for the display. The display on this is device is pretty good but you can get other options with better displays in this price segment.\\nIf you can survive with an HD+ LCD panel with thicker bezels and a notch up top then this is a very good phone for you.\\nCameras are awesome, battery backup excellent, great performance and a decent premium look. Good job Apple !',\n",
       " 'The Best Phone for the Money\\n\\nThe iPhone 11 offers superb cameras, a more durable design and excellent battery life for an affordable price.\\n\\nCompelling ultra-wide camera\\nNew Night mode is excellent\\nLong battery life',\n",
       " 'Really satisfied with the Product I received... It’s totally genuine and the packaging was also really good so if ur planning to buy just go for it.',\n",
       " 'Amazing phone with great cameras and better battery which gives you the best performance. I just love the camera .',\n",
       " 'This is my first iOS phone. I am very happy with this product. Very much satisfied with this. I love this phone.',\n",
       " 'Previously I was using one plus 3t it was a great phone\\nAnd then I decided to upgrade I am stuck between Samsung s10 plus or iPhone 11\\nI have seen the specs and everything were good except the display it’s somewhere between 720-1080 and it’s not even an amoled it’s an LCD display\\nBut I decided to go with iPhone because I have never used an IOS device I have Been an android user from the past 9 years I ordered IPhone 11 (128gb) product red\\nMy experience after using 3 weeks\\n1. The delivery ...\\nREAD MORE',\n",
       " 'Amazing Powerful and Durable Gadget.\\n\\nI’m am very happy with the camera picture quality, Amazing face id unlocked in dark room, Strong battery with perfect screen size as you can carry easily in pocket. This is my third iPhone.\\n\\nI shifted from android Samsung Note series to iPhone because of the strong build quality and peace of mind for next 3-4 years.\\n\\nDon’t think to much just go for it and I suggest you to go for minimum 128gb variant or more 256gb.\\n\\nI’ve attached my puppy pics and no fi...\\nREAD MORE',\n",
       " 'So far it’s been an AMAZING experience coming back to iOS after nearly a decade but it’s not as versatile as android though phone is sturdy dropped it accidentally a couple of times and nothing happened fortunately camera is awesome',\n",
       " 'i11 is worthy to buy, too much happy with the product. Thank u flipkart I received the item on time..loved it..',\n",
       " 'Great iPhone very snappy experience as apple kind. Upgraded from iPhone 7.\\nPros\\n-Camera top class\\n- Battery top performed\\n-Chipset no need to say as apple kind\\n-Security as you expect from apple\\n- Display super bright industry leading colour\\naccuracy and super responsive\\n-Build quality as expect from apple sturdy\\npremium durable beautiful stylish.\\n-Os most stable os in smartphone industry\\n\\nCons\\n-No 5G\\n-Display is not based on OLED technology\\n-Charger headphones and 1 apple stic...\\nREAD MORE',\n",
       " 'iphone 11 is a very good phone to buy only if you can compromise for the display. The display on this is device is pretty good but you can get other options with better displays in this price segment.\\nIf you can survive with an HD+ LCD panel with thicker bezels and a notch up top then this is a very good phone for you.\\nCameras are awesome, battery backup excellent, great performance and a decent premium look. Good job Apple !',\n",
       " 'The Best Phone for the Money\\n\\nThe iPhone 11 offers superb cameras, a more durable design and excellent battery life for an affordable price.\\n\\nCompelling ultra-wide camera\\nNew Night mode is excellent\\nLong battery life',\n",
       " 'Really satisfied with the Product I received... It’s totally genuine and the packaging was also really good so if ur planning to buy just go for it.',\n",
       " 'Amazing phone with great cameras and better battery which gives you the best performance. I just love the camera .',\n",
       " 'This is my first iOS phone. I am very happy with this product. Very much satisfied with this. I love this phone.',\n",
       " 'Previously I was using one plus 3t it was a great phone\\nAnd then I decided to upgrade I am stuck between Samsung s10 plus or iPhone 11\\nI have seen the specs and everything were good except the display it’s somewhere between 720-1080 and it’s not even an amoled it’s an LCD display\\nBut I decided to go with iPhone because I have never used an IOS device I have Been an android user from the past 9 years I ordered IPhone 11 (128gb) product red\\nMy experience after using 3 weeks\\n1. The delivery ...\\nREAD MORE',\n",
       " 'Amazing Powerful and Durable Gadget.\\n\\nI’m am very happy with the camera picture quality, Amazing face id unlocked in dark room, Strong battery with perfect screen size as you can carry easily in pocket. This is my third iPhone.\\n\\nI shifted from android Samsung Note series to iPhone because of the strong build quality and peace of mind for next 3-4 years.\\n\\nDon’t think to much just go for it and I suggest you to go for minimum 128gb variant or more 256gb.\\n\\nI’ve attached my puppy pics and no fi...\\nREAD MORE',\n",
       " 'So far it’s been an AMAZING experience coming back to iOS after nearly a decade but it’s not as versatile as android though phone is sturdy dropped it accidentally a couple of times and nothing happened fortunately camera is awesome',\n",
       " 'i11 is worthy to buy, too much happy with the product. Thank u flipkart I received the item on time..loved it..',\n",
       " 'Great iPhone very snappy experience as apple kind. Upgraded from iPhone 7.\\nPros\\n-Camera top class\\n- Battery top performed\\n-Chipset no need to say as apple kind\\n-Security as you expect from apple\\n- Display super bright industry leading colour\\naccuracy and super responsive\\n-Build quality as expect from apple sturdy\\npremium durable beautiful stylish.\\n-Os most stable os in smartphone industry\\n\\nCons\\n-No 5G\\n-Display is not based on OLED technology\\n-Charger headphones and 1 apple stic...\\nREAD MORE',\n",
       " 'iphone 11 is a very good phone to buy only if you can compromise for the display. The display on this is device is pretty good but you can get other options with better displays in this price segment.\\nIf you can survive with an HD+ LCD panel with thicker bezels and a notch up top then this is a very good phone for you.\\nCameras are awesome, battery backup excellent, great performance and a decent premium look. Good job Apple !',\n",
       " 'The Best Phone for the Money\\n\\nThe iPhone 11 offers superb cameras, a more durable design and excellent battery life for an affordable price.\\n\\nCompelling ultra-wide camera\\nNew Night mode is excellent\\nLong battery life',\n",
       " 'Really satisfied with the Product I received... It’s totally genuine and the packaging was also really good so if ur planning to buy just go for it.',\n",
       " 'Amazing phone with great cameras and better battery which gives you the best performance. I just love the camera .',\n",
       " 'This is my first iOS phone. I am very happy with this product. Very much satisfied with this. I love this phone.',\n",
       " 'Previously I was using one plus 3t it was a great phone\\nAnd then I decided to upgrade I am stuck between Samsung s10 plus or iPhone 11\\nI have seen the specs and everything were good except the display it’s somewhere between 720-1080 and it’s not even an amoled it’s an LCD display\\nBut I decided to go with iPhone because I have never used an IOS device I have Been an android user from the past 9 years I ordered IPhone 11 (128gb) product red\\nMy experience after using 3 weeks\\n1. The delivery ...\\nREAD MORE',\n",
       " 'Amazing Powerful and Durable Gadget.\\n\\nI’m am very happy with the camera picture quality, Amazing face id unlocked in dark room, Strong battery with perfect screen size as you can carry easily in pocket. This is my third iPhone.\\n\\nI shifted from android Samsung Note series to iPhone because of the strong build quality and peace of mind for next 3-4 years.\\n\\nDon’t think to much just go for it and I suggest you to go for minimum 128gb variant or more 256gb.\\n\\nI’ve attached my puppy pics and no fi...\\nREAD MORE',\n",
       " 'So far it’s been an AMAZING experience coming back to iOS after nearly a decade but it’s not as versatile as android though phone is sturdy dropped it accidentally a couple of times and nothing happened fortunately camera is awesome',\n",
       " 'i11 is worthy to buy, too much happy with the product. Thank u flipkart I received the item on time..loved it..',\n",
       " 'Great iPhone very snappy experience as apple kind. Upgraded from iPhone 7.\\nPros\\n-Camera top class\\n- Battery top performed\\n-Chipset no need to say as apple kind\\n-Security as you expect from apple\\n- Display super bright industry leading colour\\naccuracy and super responsive\\n-Build quality as expect from apple sturdy\\npremium durable beautiful stylish.\\n-Os most stable os in smartphone industry\\n\\nCons\\n-No 5G\\n-Display is not based on OLED technology\\n-Charger headphones and 1 apple stic...\\nREAD MORE',\n",
       " 'iphone 11 is a very good phone to buy only if you can compromise for the display. The display on this is device is pretty good but you can get other options with better displays in this price segment.\\nIf you can survive with an HD+ LCD panel with thicker bezels and a notch up top then this is a very good phone for you.\\nCameras are awesome, battery backup excellent, great performance and a decent premium look. Good job Apple !',\n",
       " 'The Best Phone for the Money\\n\\nThe iPhone 11 offers superb cameras, a more durable design and excellent battery life for an affordable price.\\n\\nCompelling ultra-wide camera\\nNew Night mode is excellent\\nLong battery life',\n",
       " 'Really satisfied with the Product I received... It’s totally genuine and the packaging was also really good so if ur planning to buy just go for it.',\n",
       " 'Amazing phone with great cameras and better battery which gives you the best performance. I just love the camera .',\n",
       " 'This is my first iOS phone. I am very happy with this product. Very much satisfied with this. I love this phone.',\n",
       " 'Previously I was using one plus 3t it was a great phone\\nAnd then I decided to upgrade I am stuck between Samsung s10 plus or iPhone 11\\nI have seen the specs and everything were good except the display it’s somewhere between 720-1080 and it’s not even an amoled it’s an LCD display\\nBut I decided to go with iPhone because I have never used an IOS device I have Been an android user from the past 9 years I ordered IPhone 11 (128gb) product red\\nMy experience after using 3 weeks\\n1. The delivery ...\\nREAD MORE',\n",
       " 'Amazing Powerful and Durable Gadget.\\n\\nI’m am very happy with the camera picture quality, Amazing face id unlocked in dark room, Strong battery with perfect screen size as you can carry easily in pocket. This is my third iPhone.\\n\\nI shifted from android Samsung Note series to iPhone because of the strong build quality and peace of mind for next 3-4 years.\\n\\nDon’t think to much just go for it and I suggest you to go for minimum 128gb variant or more 256gb.\\n\\nI’ve attached my puppy pics and no fi...\\nREAD MORE',\n",
       " 'So far it’s been an AMAZING experience coming back to iOS after nearly a decade but it’s not as versatile as android though phone is sturdy dropped it accidentally a couple of times and nothing happened fortunately camera is awesome',\n",
       " 'i11 is worthy to buy, too much happy with the product. Thank u flipkart I received the item on time..loved it..',\n",
       " 'Great iPhone very snappy experience as apple kind. Upgraded from iPhone 7.\\nPros\\n-Camera top class\\n- Battery top performed\\n-Chipset no need to say as apple kind\\n-Security as you expect from apple\\n- Display super bright industry leading colour\\naccuracy and super responsive\\n-Build quality as expect from apple sturdy\\npremium durable beautiful stylish.\\n-Os most stable os in smartphone industry\\n\\nCons\\n-No 5G\\n-Display is not based on OLED technology\\n-Charger headphones and 1 apple stic...\\nREAD MORE',\n",
       " 'iphone 11 is a very good phone to buy only if you can compromise for the display. The display on this is device is pretty good but you can get other options with better displays in this price segment.\\nIf you can survive with an HD+ LCD panel with thicker bezels and a notch up top then this is a very good phone for you.\\nCameras are awesome, battery backup excellent, great performance and a decent premium look. Good job Apple !',\n",
       " 'The Best Phone for the Money\\n\\nThe iPhone 11 offers superb cameras, a more durable design and excellent battery life for an affordable price.\\n\\nCompelling ultra-wide camera\\nNew Night mode is excellent\\nLong battery life',\n",
       " 'Really satisfied with the Product I received... It’s totally genuine and the packaging was also really good so if ur planning to buy just go for it.',\n",
       " 'Amazing phone with great cameras and better battery which gives you the best performance. I just love the camera .',\n",
       " 'This is my first iOS phone. I am very happy with this product. Very much satisfied with this. I love this phone.',\n",
       " 'Previously I was using one plus 3t it was a great phone\\nAnd then I decided to upgrade I am stuck between Samsung s10 plus or iPhone 11\\nI have seen the specs and everything were good except the display it’s somewhere between 720-1080 and it’s not even an amoled it’s an LCD display\\nBut I decided to go with iPhone because I have never used an IOS device I have Been an android user from the past 9 years I ordered IPhone 11 (128gb) product red\\nMy experience after using 3 weeks\\n1. The delivery ...\\nREAD MORE',\n",
       " 'Amazing Powerful and Durable Gadget.\\n\\nI’m am very happy with the camera picture quality, Amazing face id unlocked in dark room, Strong battery with perfect screen size as you can carry easily in pocket. This is my third iPhone.\\n\\nI shifted from android Samsung Note series to iPhone because of the strong build quality and peace of mind for next 3-4 years.\\n\\nDon’t think to much just go for it and I suggest you to go for minimum 128gb variant or more 256gb.\\n\\nI’ve attached my puppy pics and no fi...\\nREAD MORE',\n",
       " 'So far it’s been an AMAZING experience coming back to iOS after nearly a decade but it’s not as versatile as android though phone is sturdy dropped it accidentally a couple of times and nothing happened fortunately camera is awesome',\n",
       " 'i11 is worthy to buy, too much happy with the product. Thank u flipkart I received the item on time..loved it..',\n",
       " 'Great iPhone very snappy experience as apple kind. Upgraded from iPhone 7.\\nPros\\n-Camera top class\\n- Battery top performed\\n-Chipset no need to say as apple kind\\n-Security as you expect from apple\\n- Display super bright industry leading colour\\naccuracy and super responsive\\n-Build quality as expect from apple sturdy\\npremium durable beautiful stylish.\\n-Os most stable os in smartphone industry\\n\\nCons\\n-No 5G\\n-Display is not based on OLED technology\\n-Charger headphones and 1 apple stic...\\nREAD MORE',\n",
       " 'iphone 11 is a very good phone to buy only if you can compromise for the display. The display on this is device is pretty good but you can get other options with better displays in this price segment.\\nIf you can survive with an HD+ LCD panel with thicker bezels and a notch up top then this is a very good phone for you.\\nCameras are awesome, battery backup excellent, great performance and a decent premium look. Good job Apple !',\n",
       " 'The Best Phone for the Money\\n\\nThe iPhone 11 offers superb cameras, a more durable design and excellent battery life for an affordable price.\\n\\nCompelling ultra-wide camera\\nNew Night mode is excellent\\nLong battery life',\n",
       " 'Really satisfied with the Product I received... It’s totally genuine and the packaging was also really good so if ur planning to buy just go for it.',\n",
       " 'Amazing phone with great cameras and better battery which gives you the best performance. I just love the camera .',\n",
       " 'This is my first iOS phone. I am very happy with this product. Very much satisfied with this. I love this phone.',\n",
       " 'Previously I was using one plus 3t it was a great phone\\nAnd then I decided to upgrade I am stuck between Samsung s10 plus or iPhone 11\\nI have seen the specs and everything were good except the display it’s somewhere between 720-1080 and it’s not even an amoled it’s an LCD display\\nBut I decided to go with iPhone because I have never used an IOS device I have Been an android user from the past 9 years I ordered IPhone 11 (128gb) product red\\nMy experience after using 3 weeks\\n1. The delivery ...\\nREAD MORE',\n",
       " 'Amazing Powerful and Durable Gadget.\\n\\nI’m am very happy with the camera picture quality, Amazing face id unlocked in dark room, Strong battery with perfect screen size as you can carry easily in pocket. This is my third iPhone.\\n\\nI shifted from android Samsung Note series to iPhone because of the strong build quality and peace of mind for next 3-4 years.\\n\\nDon’t think to much just go for it and I suggest you to go for minimum 128gb variant or more 256gb.\\n\\nI’ve attached my puppy pics and no fi...\\nREAD MORE',\n",
       " 'So far it’s been an AMAZING experience coming back to iOS after nearly a decade but it’s not as versatile as android though phone is sturdy dropped it accidentally a couple of times and nothing happened fortunately camera is awesome',\n",
       " 'i11 is worthy to buy, too much happy with the product. Thank u flipkart I received the item on time..loved it..',\n",
       " 'Great iPhone very snappy experience as apple kind. Upgraded from iPhone 7.\\nPros\\n-Camera top class\\n- Battery top performed\\n-Chipset no need to say as apple kind\\n-Security as you expect from apple\\n- Display super bright industry leading colour\\naccuracy and super responsive\\n-Build quality as expect from apple sturdy\\npremium durable beautiful stylish.\\n-Os most stable os in smartphone industry\\n\\nCons\\n-No 5G\\n-Display is not based on OLED technology\\n-Charger headphones and 1 apple stic...\\nREAD MORE',\n",
       " 'iphone 11 is a very good phone to buy only if you can compromise for the display. The display on this is device is pretty good but you can get other options with better displays in this price segment.\\nIf you can survive with an HD+ LCD panel with thicker bezels and a notch up top then this is a very good phone for you.\\nCameras are awesome, battery backup excellent, great performance and a decent premium look. Good job Apple !']"
      ]
     },
     "execution_count": 258,
     "metadata": {},
     "output_type": "execute_result"
    }
   ],
   "source": [
    "for i in rating:\n",
    "    rating_n.append(i.text)\n",
    "for i in review:\n",
    "    review_n.append(i.text)\n",
    "for i in full_review:\n",
    "    full_review_n.append(i.text)\n",
    "\n",
    "rating_n\n",
    "review_n\n",
    "full_review_n"
   ]
  },
  {
   "cell_type": "code",
   "execution_count": 259,
   "id": "895db6a2",
   "metadata": {},
   "outputs": [
    {
     "data": {
      "text/html": [
       "<div>\n",
       "<style scoped>\n",
       "    .dataframe tbody tr th:only-of-type {\n",
       "        vertical-align: middle;\n",
       "    }\n",
       "\n",
       "    .dataframe tbody tr th {\n",
       "        vertical-align: top;\n",
       "    }\n",
       "\n",
       "    .dataframe thead th {\n",
       "        text-align: right;\n",
       "    }\n",
       "</style>\n",
       "<table border=\"1\" class=\"dataframe\">\n",
       "  <thead>\n",
       "    <tr style=\"text-align: right;\">\n",
       "      <th></th>\n",
       "      <th>rating</th>\n",
       "      <th>review</th>\n",
       "      <th>full_review</th>\n",
       "    </tr>\n",
       "  </thead>\n",
       "  <tbody>\n",
       "    <tr>\n",
       "      <th>0</th>\n",
       "      <td>5</td>\n",
       "      <td>Brilliant</td>\n",
       "      <td>The Best Phone for the Money\\n\\nThe iPhone 11 ...</td>\n",
       "    </tr>\n",
       "    <tr>\n",
       "      <th>1</th>\n",
       "      <td>5</td>\n",
       "      <td>Simply awesome</td>\n",
       "      <td>Really satisfied with the Product I received.....</td>\n",
       "    </tr>\n",
       "    <tr>\n",
       "      <th>2</th>\n",
       "      <td>5</td>\n",
       "      <td>Perfect product!</td>\n",
       "      <td>Amazing phone with great cameras and better ba...</td>\n",
       "    </tr>\n",
       "    <tr>\n",
       "      <th>3</th>\n",
       "      <td>5</td>\n",
       "      <td>Fabulous!</td>\n",
       "      <td>This is my first iOS phone. I am very happy wi...</td>\n",
       "    </tr>\n",
       "    <tr>\n",
       "      <th>4</th>\n",
       "      <td>5</td>\n",
       "      <td>Worth every penny</td>\n",
       "      <td>Previously I was using one plus 3t it was a gr...</td>\n",
       "    </tr>\n",
       "    <tr>\n",
       "      <th>...</th>\n",
       "      <td>...</td>\n",
       "      <td>...</td>\n",
       "      <td>...</td>\n",
       "    </tr>\n",
       "    <tr>\n",
       "      <th>95</th>\n",
       "      <td>5</td>\n",
       "      <td>Great product</td>\n",
       "      <td>Amazing Powerful and Durable Gadget.\\n\\nI’m am...</td>\n",
       "    </tr>\n",
       "    <tr>\n",
       "      <th>96</th>\n",
       "      <td>4</td>\n",
       "      <td>Good choice</td>\n",
       "      <td>So far it’s been an AMAZING experience coming ...</td>\n",
       "    </tr>\n",
       "    <tr>\n",
       "      <th>97</th>\n",
       "      <td>5</td>\n",
       "      <td>Worth every penny</td>\n",
       "      <td>i11 is worthy to buy, too much happy with the ...</td>\n",
       "    </tr>\n",
       "    <tr>\n",
       "      <th>98</th>\n",
       "      <td>5</td>\n",
       "      <td>Best in the market!</td>\n",
       "      <td>Great iPhone very snappy experience as apple k...</td>\n",
       "    </tr>\n",
       "    <tr>\n",
       "      <th>99</th>\n",
       "      <td>5</td>\n",
       "      <td>Highly recommended</td>\n",
       "      <td>iphone 11 is a very good phone to buy only if ...</td>\n",
       "    </tr>\n",
       "  </tbody>\n",
       "</table>\n",
       "<p>100 rows × 3 columns</p>\n",
       "</div>"
      ],
      "text/plain": [
       "   rating               review  \\\n",
       "0       5            Brilliant   \n",
       "1       5       Simply awesome   \n",
       "2       5     Perfect product!   \n",
       "3       5            Fabulous!   \n",
       "4       5    Worth every penny   \n",
       "..    ...                  ...   \n",
       "95      5        Great product   \n",
       "96      4          Good choice   \n",
       "97      5    Worth every penny   \n",
       "98      5  Best in the market!   \n",
       "99      5   Highly recommended   \n",
       "\n",
       "                                          full_review  \n",
       "0   The Best Phone for the Money\\n\\nThe iPhone 11 ...  \n",
       "1   Really satisfied with the Product I received.....  \n",
       "2   Amazing phone with great cameras and better ba...  \n",
       "3   This is my first iOS phone. I am very happy wi...  \n",
       "4   Previously I was using one plus 3t it was a gr...  \n",
       "..                                                ...  \n",
       "95  Amazing Powerful and Durable Gadget.\\n\\nI’m am...  \n",
       "96  So far it’s been an AMAZING experience coming ...  \n",
       "97  i11 is worthy to buy, too much happy with the ...  \n",
       "98  Great iPhone very snappy experience as apple k...  \n",
       "99  iphone 11 is a very good phone to buy only if ...  \n",
       "\n",
       "[100 rows x 3 columns]"
      ]
     },
     "execution_count": 259,
     "metadata": {},
     "output_type": "execute_result"
    }
   ],
   "source": [
    "flipkart_iphone=pd.DataFrame({'rating':rating_n[:100],\n",
    "                            'review':review_n[:100],\n",
    "                            'full_review':full_review_n[:100],\n",
    "                              })\n",
    "flipkart_iphone"
   ]
  },
  {
   "cell_type": "code",
   "execution_count": 1,
   "id": "0eee0e17",
   "metadata": {},
   "outputs": [],
   "source": [
    "#Q8: Scrape data for first 100 sneakers you find when you visit flipkart.com and \n",
    "#search for “sneakers” in the search field.\n",
    "#You have to scrape 4 attributes of each sneaker :\n",
    "#1. Brand\n",
    "#2. Product Description\n",
    "#3. Price\n",
    "#4. discount %\n",
    "#As shown in the below image, you have to scrape the tick marked attributes"
   ]
  },
  {
   "cell_type": "code",
   "execution_count": 2,
   "id": "260ef0e2",
   "metadata": {},
   "outputs": [],
   "source": [
    "import requests\n",
    "import pandas as pd\n",
    "import numpy as np\n",
    "from bs4 import BeautifulSoup\n",
    "import selenium\n",
    "from selenium import webdriver\n",
    "driver=webdriver.Chrome('C:/Users/LENOVO/Downloads/chromedriver_win32/chromedriver')\n",
    "url='https://www.myntra.com/shoes'\n",
    "driver.get(url)"
   ]
  },
  {
   "cell_type": "code",
   "execution_count": 3,
   "id": "409f8360",
   "metadata": {},
   "outputs": [
    {
     "data": {
      "text/plain": [
       "<selenium.webdriver.remote.webelement.WebElement (session=\"bc74d12b44f5f617d4d6241643d6a8ec\", element=\"e976af3a-a254-41b9-84fa-719f555ea1c9\")>"
      ]
     },
     "execution_count": 3,
     "metadata": {},
     "output_type": "execute_result"
    }
   ],
   "source": [
    "search=driver.find_element_by_xpath(\"//input[@class='desktop-searchBar']\")\n",
    "search"
   ]
  },
  {
   "cell_type": "code",
   "execution_count": 4,
   "id": "08c3ee95",
   "metadata": {},
   "outputs": [],
   "source": [
    "search.send_keys('sneakers')"
   ]
  },
  {
   "cell_type": "code",
   "execution_count": 5,
   "id": "228251b4",
   "metadata": {},
   "outputs": [
    {
     "data": {
      "text/plain": [
       "<selenium.webdriver.remote.webelement.WebElement (session=\"bc74d12b44f5f617d4d6241643d6a8ec\", element=\"65cfdb5b-306d-42ca-a9f1-ea436ea2d714\")>"
      ]
     },
     "execution_count": 5,
     "metadata": {},
     "output_type": "execute_result"
    }
   ],
   "source": [
    "search_btn=driver.find_element_by_xpath(\"//a[@class='desktop-submit']\")\n",
    "search_btn"
   ]
  },
  {
   "cell_type": "code",
   "execution_count": 6,
   "id": "d47310ec",
   "metadata": {},
   "outputs": [],
   "source": [
    "search_btn.click()"
   ]
  },
  {
   "cell_type": "code",
   "execution_count": 7,
   "id": "5dffeeac",
   "metadata": {},
   "outputs": [
    {
     "data": {
      "text/plain": [
       "[<selenium.webdriver.remote.webelement.WebElement (session=\"bc74d12b44f5f617d4d6241643d6a8ec\", element=\"8eb6f435-fdc2-4da4-82e1-aba4c2e98069\")>,\n",
       " <selenium.webdriver.remote.webelement.WebElement (session=\"bc74d12b44f5f617d4d6241643d6a8ec\", element=\"9014bc44-42ff-410a-b5cc-7549e1ce1d3d\")>,\n",
       " <selenium.webdriver.remote.webelement.WebElement (session=\"bc74d12b44f5f617d4d6241643d6a8ec\", element=\"2591f7fa-3c73-4d55-b4b5-31ac1fe91a5d\")>,\n",
       " <selenium.webdriver.remote.webelement.WebElement (session=\"bc74d12b44f5f617d4d6241643d6a8ec\", element=\"ce2b08a3-41f5-4543-ae14-4027354fb7f3\")>,\n",
       " <selenium.webdriver.remote.webelement.WebElement (session=\"bc74d12b44f5f617d4d6241643d6a8ec\", element=\"d69389c7-99b9-44b0-90f7-fbdd486a1579\")>,\n",
       " <selenium.webdriver.remote.webelement.WebElement (session=\"bc74d12b44f5f617d4d6241643d6a8ec\", element=\"7f2ffc6a-1fef-4c6a-bc6d-3bc7df55a6aa\")>,\n",
       " <selenium.webdriver.remote.webelement.WebElement (session=\"bc74d12b44f5f617d4d6241643d6a8ec\", element=\"94781833-4859-4aed-80cd-c3d51b47306c\")>,\n",
       " <selenium.webdriver.remote.webelement.WebElement (session=\"bc74d12b44f5f617d4d6241643d6a8ec\", element=\"78dd31e1-0737-45e5-86c9-ba1cf3fb43d4\")>,\n",
       " <selenium.webdriver.remote.webelement.WebElement (session=\"bc74d12b44f5f617d4d6241643d6a8ec\", element=\"d30cce47-7249-4002-ad39-0bd367fe6ceb\")>,\n",
       " <selenium.webdriver.remote.webelement.WebElement (session=\"bc74d12b44f5f617d4d6241643d6a8ec\", element=\"6e2313f4-71e3-41b1-ae78-989f521f7527\")>,\n",
       " <selenium.webdriver.remote.webelement.WebElement (session=\"bc74d12b44f5f617d4d6241643d6a8ec\", element=\"038f91ee-7178-4ed4-a0db-3329dfe72b68\")>,\n",
       " <selenium.webdriver.remote.webelement.WebElement (session=\"bc74d12b44f5f617d4d6241643d6a8ec\", element=\"8cbddf14-4736-404e-8474-bac0cd6ae8b6\")>,\n",
       " <selenium.webdriver.remote.webelement.WebElement (session=\"bc74d12b44f5f617d4d6241643d6a8ec\", element=\"d9eccf53-f849-4c3a-909c-45af43b160f8\")>,\n",
       " <selenium.webdriver.remote.webelement.WebElement (session=\"bc74d12b44f5f617d4d6241643d6a8ec\", element=\"4f424f14-d94b-41d0-b528-ef62e1f89174\")>,\n",
       " <selenium.webdriver.remote.webelement.WebElement (session=\"bc74d12b44f5f617d4d6241643d6a8ec\", element=\"eeb80f1b-c9a4-41c9-b14a-6789bc1c8381\")>,\n",
       " <selenium.webdriver.remote.webelement.WebElement (session=\"bc74d12b44f5f617d4d6241643d6a8ec\", element=\"ed686160-00eb-4f00-b0e2-6016125f5100\")>,\n",
       " <selenium.webdriver.remote.webelement.WebElement (session=\"bc74d12b44f5f617d4d6241643d6a8ec\", element=\"8c60b535-61df-46e9-a4be-4b60343edd16\")>,\n",
       " <selenium.webdriver.remote.webelement.WebElement (session=\"bc74d12b44f5f617d4d6241643d6a8ec\", element=\"b8d16b79-39cc-4bd5-b6e9-8d72c62327c0\")>,\n",
       " <selenium.webdriver.remote.webelement.WebElement (session=\"bc74d12b44f5f617d4d6241643d6a8ec\", element=\"83b1c853-dc08-4438-bf05-2bdd006ae59e\")>,\n",
       " <selenium.webdriver.remote.webelement.WebElement (session=\"bc74d12b44f5f617d4d6241643d6a8ec\", element=\"af255e23-4c70-4785-920d-80b251ff66fb\")>,\n",
       " <selenium.webdriver.remote.webelement.WebElement (session=\"bc74d12b44f5f617d4d6241643d6a8ec\", element=\"8d8837b3-5883-430b-96f2-19884209f84c\")>,\n",
       " <selenium.webdriver.remote.webelement.WebElement (session=\"bc74d12b44f5f617d4d6241643d6a8ec\", element=\"c2511ea9-62a6-4be6-8c39-7e8922241d89\")>,\n",
       " <selenium.webdriver.remote.webelement.WebElement (session=\"bc74d12b44f5f617d4d6241643d6a8ec\", element=\"26cf698b-758a-4f65-9f89-a21c6be6e513\")>,\n",
       " <selenium.webdriver.remote.webelement.WebElement (session=\"bc74d12b44f5f617d4d6241643d6a8ec\", element=\"600c7cf1-6ae4-4c10-b957-1e87bc7f3fa6\")>,\n",
       " <selenium.webdriver.remote.webelement.WebElement (session=\"bc74d12b44f5f617d4d6241643d6a8ec\", element=\"fcdb0027-9319-4e7f-bf54-67aa83ae0bde\")>,\n",
       " <selenium.webdriver.remote.webelement.WebElement (session=\"bc74d12b44f5f617d4d6241643d6a8ec\", element=\"3acbee55-4511-4e06-8ca9-60b04540de54\")>,\n",
       " <selenium.webdriver.remote.webelement.WebElement (session=\"bc74d12b44f5f617d4d6241643d6a8ec\", element=\"425b65df-4c16-485b-8ca2-a90b0d68a994\")>,\n",
       " <selenium.webdriver.remote.webelement.WebElement (session=\"bc74d12b44f5f617d4d6241643d6a8ec\", element=\"143d2572-a699-4e01-926a-0af123a58695\")>,\n",
       " <selenium.webdriver.remote.webelement.WebElement (session=\"bc74d12b44f5f617d4d6241643d6a8ec\", element=\"efeb9ed7-a77c-44ef-a79c-104b03e3925b\")>,\n",
       " <selenium.webdriver.remote.webelement.WebElement (session=\"bc74d12b44f5f617d4d6241643d6a8ec\", element=\"c7c3326c-38c9-4822-b822-d54935564d1a\")>,\n",
       " <selenium.webdriver.remote.webelement.WebElement (session=\"bc74d12b44f5f617d4d6241643d6a8ec\", element=\"c2dc8f8c-f10f-4e2b-a8d2-31f754edd900\")>,\n",
       " <selenium.webdriver.remote.webelement.WebElement (session=\"bc74d12b44f5f617d4d6241643d6a8ec\", element=\"82ce4b03-45df-4334-95a1-f29644ae0bb7\")>,\n",
       " <selenium.webdriver.remote.webelement.WebElement (session=\"bc74d12b44f5f617d4d6241643d6a8ec\", element=\"14b5f860-82d2-41fe-92a9-9f6360768fbc\")>,\n",
       " <selenium.webdriver.remote.webelement.WebElement (session=\"bc74d12b44f5f617d4d6241643d6a8ec\", element=\"400bf990-50c4-4c0e-840c-d28c90789976\")>,\n",
       " <selenium.webdriver.remote.webelement.WebElement (session=\"bc74d12b44f5f617d4d6241643d6a8ec\", element=\"7fed4381-7f30-4fac-9f48-981d11b8b285\")>,\n",
       " <selenium.webdriver.remote.webelement.WebElement (session=\"bc74d12b44f5f617d4d6241643d6a8ec\", element=\"b39272fd-d282-48c9-a429-15402b6b9b92\")>,\n",
       " <selenium.webdriver.remote.webelement.WebElement (session=\"bc74d12b44f5f617d4d6241643d6a8ec\", element=\"56fc082d-f2d2-4470-8844-50486802d35e\")>,\n",
       " <selenium.webdriver.remote.webelement.WebElement (session=\"bc74d12b44f5f617d4d6241643d6a8ec\", element=\"f6b18aaf-604a-4694-99b5-c66a4a42f8dc\")>,\n",
       " <selenium.webdriver.remote.webelement.WebElement (session=\"bc74d12b44f5f617d4d6241643d6a8ec\", element=\"d2861800-5670-4ce7-8155-394ddf46c985\")>,\n",
       " <selenium.webdriver.remote.webelement.WebElement (session=\"bc74d12b44f5f617d4d6241643d6a8ec\", element=\"14f48962-ded2-4e44-96cf-b764f0a084c5\")>,\n",
       " <selenium.webdriver.remote.webelement.WebElement (session=\"bc74d12b44f5f617d4d6241643d6a8ec\", element=\"cbdb76da-76d6-4797-85e4-69641f2374c2\")>,\n",
       " <selenium.webdriver.remote.webelement.WebElement (session=\"bc74d12b44f5f617d4d6241643d6a8ec\", element=\"0b50a24c-98da-4beb-b82b-24fe6601ee3e\")>,\n",
       " <selenium.webdriver.remote.webelement.WebElement (session=\"bc74d12b44f5f617d4d6241643d6a8ec\", element=\"34ef2106-8406-4a36-a54e-7010e3ee6375\")>,\n",
       " <selenium.webdriver.remote.webelement.WebElement (session=\"bc74d12b44f5f617d4d6241643d6a8ec\", element=\"4c582a0c-bdbe-44c8-a63b-723a3d99bd38\")>,\n",
       " <selenium.webdriver.remote.webelement.WebElement (session=\"bc74d12b44f5f617d4d6241643d6a8ec\", element=\"15122c4a-d922-4469-800c-a4da0fe2b80f\")>]"
      ]
     },
     "execution_count": 7,
     "metadata": {},
     "output_type": "execute_result"
    }
   ],
   "source": [
    "brand=driver.find_elements_by_xpath(\"//h3[@class='product-brand']\")\n",
    "product=brand=driver.find_elements_by_xpath(\"//h4[@class='product-product']\")\n",
    "price=brand=driver.find_elements_by_xpath(\"//span[@class='product-discountedPrice']\")\n",
    "discount=brand=driver.find_elements_by_xpath(\"//span[@class='product-discountPercentage']\")\n",
    "brand\n",
    "product\n",
    "price\n",
    "discount"
   ]
  },
  {
   "cell_type": "code",
   "execution_count": 8,
   "id": "c5f583b3",
   "metadata": {},
   "outputs": [
    {
     "data": {
      "text/plain": [
       "[<selenium.webdriver.remote.webelement.WebElement (session=\"bc74d12b44f5f617d4d6241643d6a8ec\", element=\"8eb6f435-fdc2-4da4-82e1-aba4c2e98069\")>,\n",
       " <selenium.webdriver.remote.webelement.WebElement (session=\"bc74d12b44f5f617d4d6241643d6a8ec\", element=\"9014bc44-42ff-410a-b5cc-7549e1ce1d3d\")>,\n",
       " <selenium.webdriver.remote.webelement.WebElement (session=\"bc74d12b44f5f617d4d6241643d6a8ec\", element=\"2591f7fa-3c73-4d55-b4b5-31ac1fe91a5d\")>,\n",
       " <selenium.webdriver.remote.webelement.WebElement (session=\"bc74d12b44f5f617d4d6241643d6a8ec\", element=\"ce2b08a3-41f5-4543-ae14-4027354fb7f3\")>,\n",
       " <selenium.webdriver.remote.webelement.WebElement (session=\"bc74d12b44f5f617d4d6241643d6a8ec\", element=\"d69389c7-99b9-44b0-90f7-fbdd486a1579\")>,\n",
       " <selenium.webdriver.remote.webelement.WebElement (session=\"bc74d12b44f5f617d4d6241643d6a8ec\", element=\"7f2ffc6a-1fef-4c6a-bc6d-3bc7df55a6aa\")>,\n",
       " <selenium.webdriver.remote.webelement.WebElement (session=\"bc74d12b44f5f617d4d6241643d6a8ec\", element=\"94781833-4859-4aed-80cd-c3d51b47306c\")>,\n",
       " <selenium.webdriver.remote.webelement.WebElement (session=\"bc74d12b44f5f617d4d6241643d6a8ec\", element=\"78dd31e1-0737-45e5-86c9-ba1cf3fb43d4\")>,\n",
       " <selenium.webdriver.remote.webelement.WebElement (session=\"bc74d12b44f5f617d4d6241643d6a8ec\", element=\"d30cce47-7249-4002-ad39-0bd367fe6ceb\")>,\n",
       " <selenium.webdriver.remote.webelement.WebElement (session=\"bc74d12b44f5f617d4d6241643d6a8ec\", element=\"6e2313f4-71e3-41b1-ae78-989f521f7527\")>,\n",
       " <selenium.webdriver.remote.webelement.WebElement (session=\"bc74d12b44f5f617d4d6241643d6a8ec\", element=\"038f91ee-7178-4ed4-a0db-3329dfe72b68\")>,\n",
       " <selenium.webdriver.remote.webelement.WebElement (session=\"bc74d12b44f5f617d4d6241643d6a8ec\", element=\"8cbddf14-4736-404e-8474-bac0cd6ae8b6\")>,\n",
       " <selenium.webdriver.remote.webelement.WebElement (session=\"bc74d12b44f5f617d4d6241643d6a8ec\", element=\"d9eccf53-f849-4c3a-909c-45af43b160f8\")>,\n",
       " <selenium.webdriver.remote.webelement.WebElement (session=\"bc74d12b44f5f617d4d6241643d6a8ec\", element=\"4f424f14-d94b-41d0-b528-ef62e1f89174\")>,\n",
       " <selenium.webdriver.remote.webelement.WebElement (session=\"bc74d12b44f5f617d4d6241643d6a8ec\", element=\"eeb80f1b-c9a4-41c9-b14a-6789bc1c8381\")>,\n",
       " <selenium.webdriver.remote.webelement.WebElement (session=\"bc74d12b44f5f617d4d6241643d6a8ec\", element=\"ed686160-00eb-4f00-b0e2-6016125f5100\")>,\n",
       " <selenium.webdriver.remote.webelement.WebElement (session=\"bc74d12b44f5f617d4d6241643d6a8ec\", element=\"8c60b535-61df-46e9-a4be-4b60343edd16\")>,\n",
       " <selenium.webdriver.remote.webelement.WebElement (session=\"bc74d12b44f5f617d4d6241643d6a8ec\", element=\"b8d16b79-39cc-4bd5-b6e9-8d72c62327c0\")>,\n",
       " <selenium.webdriver.remote.webelement.WebElement (session=\"bc74d12b44f5f617d4d6241643d6a8ec\", element=\"83b1c853-dc08-4438-bf05-2bdd006ae59e\")>,\n",
       " <selenium.webdriver.remote.webelement.WebElement (session=\"bc74d12b44f5f617d4d6241643d6a8ec\", element=\"af255e23-4c70-4785-920d-80b251ff66fb\")>,\n",
       " <selenium.webdriver.remote.webelement.WebElement (session=\"bc74d12b44f5f617d4d6241643d6a8ec\", element=\"8d8837b3-5883-430b-96f2-19884209f84c\")>,\n",
       " <selenium.webdriver.remote.webelement.WebElement (session=\"bc74d12b44f5f617d4d6241643d6a8ec\", element=\"c2511ea9-62a6-4be6-8c39-7e8922241d89\")>,\n",
       " <selenium.webdriver.remote.webelement.WebElement (session=\"bc74d12b44f5f617d4d6241643d6a8ec\", element=\"26cf698b-758a-4f65-9f89-a21c6be6e513\")>,\n",
       " <selenium.webdriver.remote.webelement.WebElement (session=\"bc74d12b44f5f617d4d6241643d6a8ec\", element=\"600c7cf1-6ae4-4c10-b957-1e87bc7f3fa6\")>,\n",
       " <selenium.webdriver.remote.webelement.WebElement (session=\"bc74d12b44f5f617d4d6241643d6a8ec\", element=\"fcdb0027-9319-4e7f-bf54-67aa83ae0bde\")>,\n",
       " <selenium.webdriver.remote.webelement.WebElement (session=\"bc74d12b44f5f617d4d6241643d6a8ec\", element=\"3acbee55-4511-4e06-8ca9-60b04540de54\")>,\n",
       " <selenium.webdriver.remote.webelement.WebElement (session=\"bc74d12b44f5f617d4d6241643d6a8ec\", element=\"425b65df-4c16-485b-8ca2-a90b0d68a994\")>,\n",
       " <selenium.webdriver.remote.webelement.WebElement (session=\"bc74d12b44f5f617d4d6241643d6a8ec\", element=\"143d2572-a699-4e01-926a-0af123a58695\")>,\n",
       " <selenium.webdriver.remote.webelement.WebElement (session=\"bc74d12b44f5f617d4d6241643d6a8ec\", element=\"efeb9ed7-a77c-44ef-a79c-104b03e3925b\")>,\n",
       " <selenium.webdriver.remote.webelement.WebElement (session=\"bc74d12b44f5f617d4d6241643d6a8ec\", element=\"c7c3326c-38c9-4822-b822-d54935564d1a\")>,\n",
       " <selenium.webdriver.remote.webelement.WebElement (session=\"bc74d12b44f5f617d4d6241643d6a8ec\", element=\"c2dc8f8c-f10f-4e2b-a8d2-31f754edd900\")>,\n",
       " <selenium.webdriver.remote.webelement.WebElement (session=\"bc74d12b44f5f617d4d6241643d6a8ec\", element=\"82ce4b03-45df-4334-95a1-f29644ae0bb7\")>,\n",
       " <selenium.webdriver.remote.webelement.WebElement (session=\"bc74d12b44f5f617d4d6241643d6a8ec\", element=\"14b5f860-82d2-41fe-92a9-9f6360768fbc\")>,\n",
       " <selenium.webdriver.remote.webelement.WebElement (session=\"bc74d12b44f5f617d4d6241643d6a8ec\", element=\"400bf990-50c4-4c0e-840c-d28c90789976\")>,\n",
       " <selenium.webdriver.remote.webelement.WebElement (session=\"bc74d12b44f5f617d4d6241643d6a8ec\", element=\"7fed4381-7f30-4fac-9f48-981d11b8b285\")>,\n",
       " <selenium.webdriver.remote.webelement.WebElement (session=\"bc74d12b44f5f617d4d6241643d6a8ec\", element=\"b39272fd-d282-48c9-a429-15402b6b9b92\")>,\n",
       " <selenium.webdriver.remote.webelement.WebElement (session=\"bc74d12b44f5f617d4d6241643d6a8ec\", element=\"56fc082d-f2d2-4470-8844-50486802d35e\")>,\n",
       " <selenium.webdriver.remote.webelement.WebElement (session=\"bc74d12b44f5f617d4d6241643d6a8ec\", element=\"f6b18aaf-604a-4694-99b5-c66a4a42f8dc\")>,\n",
       " <selenium.webdriver.remote.webelement.WebElement (session=\"bc74d12b44f5f617d4d6241643d6a8ec\", element=\"d2861800-5670-4ce7-8155-394ddf46c985\")>,\n",
       " <selenium.webdriver.remote.webelement.WebElement (session=\"bc74d12b44f5f617d4d6241643d6a8ec\", element=\"14f48962-ded2-4e44-96cf-b764f0a084c5\")>,\n",
       " <selenium.webdriver.remote.webelement.WebElement (session=\"bc74d12b44f5f617d4d6241643d6a8ec\", element=\"cbdb76da-76d6-4797-85e4-69641f2374c2\")>,\n",
       " <selenium.webdriver.remote.webelement.WebElement (session=\"bc74d12b44f5f617d4d6241643d6a8ec\", element=\"0b50a24c-98da-4beb-b82b-24fe6601ee3e\")>,\n",
       " <selenium.webdriver.remote.webelement.WebElement (session=\"bc74d12b44f5f617d4d6241643d6a8ec\", element=\"34ef2106-8406-4a36-a54e-7010e3ee6375\")>,\n",
       " <selenium.webdriver.remote.webelement.WebElement (session=\"bc74d12b44f5f617d4d6241643d6a8ec\", element=\"4c582a0c-bdbe-44c8-a63b-723a3d99bd38\")>,\n",
       " <selenium.webdriver.remote.webelement.WebElement (session=\"bc74d12b44f5f617d4d6241643d6a8ec\", element=\"15122c4a-d922-4469-800c-a4da0fe2b80f\")>]"
      ]
     },
     "execution_count": 8,
     "metadata": {},
     "output_type": "execute_result"
    }
   ],
   "source": [
    "brand_n=[]\n",
    "product_n=[]\n",
    "price_n=[]\n",
    "discount_n=[]\n",
    "for i in brand:\n",
    "    brand_n.append(i.text)\n",
    "for i in product:\n",
    "    product_n.append(i.text)\n",
    "for i in price:\n",
    "    price_n.append(i.text)\n",
    "for i in discount:\n",
    "    discount_n.append(i.text)\n",
    "brand\n",
    "product\n",
    "price\n",
    "discount"
   ]
  },
  {
   "cell_type": "code",
   "execution_count": 9,
   "id": "4c8424ea",
   "metadata": {},
   "outputs": [],
   "source": [
    "page=driver.find_element_by_xpath(\"//li[@class='pagination-active']\")"
   ]
  },
  {
   "cell_type": "code",
   "execution_count": 10,
   "id": "34798036",
   "metadata": {},
   "outputs": [],
   "source": [
    "page.click()"
   ]
  },
  {
   "cell_type": "code",
   "execution_count": 11,
   "id": "b7a758cc",
   "metadata": {},
   "outputs": [
    {
     "data": {
      "text/plain": [
       "[<selenium.webdriver.remote.webelement.WebElement (session=\"bc74d12b44f5f617d4d6241643d6a8ec\", element=\"7f2ffc6a-1fef-4c6a-bc6d-3bc7df55a6aa\")>,\n",
       " <selenium.webdriver.remote.webelement.WebElement (session=\"bc74d12b44f5f617d4d6241643d6a8ec\", element=\"8eb6f435-fdc2-4da4-82e1-aba4c2e98069\")>,\n",
       " <selenium.webdriver.remote.webelement.WebElement (session=\"bc74d12b44f5f617d4d6241643d6a8ec\", element=\"be456957-2cf6-49c7-893e-7429d0c100bf\")>,\n",
       " <selenium.webdriver.remote.webelement.WebElement (session=\"bc74d12b44f5f617d4d6241643d6a8ec\", element=\"cc1f02db-bd8c-48a1-a8d0-9405a81153d8\")>,\n",
       " <selenium.webdriver.remote.webelement.WebElement (session=\"bc74d12b44f5f617d4d6241643d6a8ec\", element=\"9014bc44-42ff-410a-b5cc-7549e1ce1d3d\")>,\n",
       " <selenium.webdriver.remote.webelement.WebElement (session=\"bc74d12b44f5f617d4d6241643d6a8ec\", element=\"2591f7fa-3c73-4d55-b4b5-31ac1fe91a5d\")>,\n",
       " <selenium.webdriver.remote.webelement.WebElement (session=\"bc74d12b44f5f617d4d6241643d6a8ec\", element=\"ce2b08a3-41f5-4543-ae14-4027354fb7f3\")>,\n",
       " <selenium.webdriver.remote.webelement.WebElement (session=\"bc74d12b44f5f617d4d6241643d6a8ec\", element=\"085a62c1-07f5-4a42-803b-20476abd39c1\")>,\n",
       " <selenium.webdriver.remote.webelement.WebElement (session=\"bc74d12b44f5f617d4d6241643d6a8ec\", element=\"d69389c7-99b9-44b0-90f7-fbdd486a1579\")>,\n",
       " <selenium.webdriver.remote.webelement.WebElement (session=\"bc74d12b44f5f617d4d6241643d6a8ec\", element=\"94781833-4859-4aed-80cd-c3d51b47306c\")>,\n",
       " <selenium.webdriver.remote.webelement.WebElement (session=\"bc74d12b44f5f617d4d6241643d6a8ec\", element=\"78dd31e1-0737-45e5-86c9-ba1cf3fb43d4\")>,\n",
       " <selenium.webdriver.remote.webelement.WebElement (session=\"bc74d12b44f5f617d4d6241643d6a8ec\", element=\"d30cce47-7249-4002-ad39-0bd367fe6ceb\")>,\n",
       " <selenium.webdriver.remote.webelement.WebElement (session=\"bc74d12b44f5f617d4d6241643d6a8ec\", element=\"6e2313f4-71e3-41b1-ae78-989f521f7527\")>,\n",
       " <selenium.webdriver.remote.webelement.WebElement (session=\"bc74d12b44f5f617d4d6241643d6a8ec\", element=\"038f91ee-7178-4ed4-a0db-3329dfe72b68\")>,\n",
       " <selenium.webdriver.remote.webelement.WebElement (session=\"bc74d12b44f5f617d4d6241643d6a8ec\", element=\"8cbddf14-4736-404e-8474-bac0cd6ae8b6\")>,\n",
       " <selenium.webdriver.remote.webelement.WebElement (session=\"bc74d12b44f5f617d4d6241643d6a8ec\", element=\"fdd7bad0-ad53-468e-9268-e02a27ea81ad\")>,\n",
       " <selenium.webdriver.remote.webelement.WebElement (session=\"bc74d12b44f5f617d4d6241643d6a8ec\", element=\"4f424f14-d94b-41d0-b528-ef62e1f89174\")>,\n",
       " <selenium.webdriver.remote.webelement.WebElement (session=\"bc74d12b44f5f617d4d6241643d6a8ec\", element=\"4b37075c-a48c-4f91-9f5f-00f3354b828c\")>,\n",
       " <selenium.webdriver.remote.webelement.WebElement (session=\"bc74d12b44f5f617d4d6241643d6a8ec\", element=\"eeb80f1b-c9a4-41c9-b14a-6789bc1c8381\")>,\n",
       " <selenium.webdriver.remote.webelement.WebElement (session=\"bc74d12b44f5f617d4d6241643d6a8ec\", element=\"78603c6a-bdc0-4a6e-b4df-6a97ac6c3fc4\")>,\n",
       " <selenium.webdriver.remote.webelement.WebElement (session=\"bc74d12b44f5f617d4d6241643d6a8ec\", element=\"ed686160-00eb-4f00-b0e2-6016125f5100\")>,\n",
       " <selenium.webdriver.remote.webelement.WebElement (session=\"bc74d12b44f5f617d4d6241643d6a8ec\", element=\"8c60b535-61df-46e9-a4be-4b60343edd16\")>,\n",
       " <selenium.webdriver.remote.webelement.WebElement (session=\"bc74d12b44f5f617d4d6241643d6a8ec\", element=\"b8d16b79-39cc-4bd5-b6e9-8d72c62327c0\")>,\n",
       " <selenium.webdriver.remote.webelement.WebElement (session=\"bc74d12b44f5f617d4d6241643d6a8ec\", element=\"004b8efc-5ea1-496d-be81-36d7df9a3f76\")>,\n",
       " <selenium.webdriver.remote.webelement.WebElement (session=\"bc74d12b44f5f617d4d6241643d6a8ec\", element=\"a47f779d-5464-48fd-8f0e-20aed2f2fe84\")>,\n",
       " <selenium.webdriver.remote.webelement.WebElement (session=\"bc74d12b44f5f617d4d6241643d6a8ec\", element=\"af255e23-4c70-4785-920d-80b251ff66fb\")>,\n",
       " <selenium.webdriver.remote.webelement.WebElement (session=\"bc74d12b44f5f617d4d6241643d6a8ec\", element=\"8d8837b3-5883-430b-96f2-19884209f84c\")>,\n",
       " <selenium.webdriver.remote.webelement.WebElement (session=\"bc74d12b44f5f617d4d6241643d6a8ec\", element=\"26cf698b-758a-4f65-9f89-a21c6be6e513\")>,\n",
       " <selenium.webdriver.remote.webelement.WebElement (session=\"bc74d12b44f5f617d4d6241643d6a8ec\", element=\"12c96f7d-deae-460b-85aa-435c3114a1e9\")>,\n",
       " <selenium.webdriver.remote.webelement.WebElement (session=\"bc74d12b44f5f617d4d6241643d6a8ec\", element=\"600c7cf1-6ae4-4c10-b957-1e87bc7f3fa6\")>,\n",
       " <selenium.webdriver.remote.webelement.WebElement (session=\"bc74d12b44f5f617d4d6241643d6a8ec\", element=\"fcdb0027-9319-4e7f-bf54-67aa83ae0bde\")>,\n",
       " <selenium.webdriver.remote.webelement.WebElement (session=\"bc74d12b44f5f617d4d6241643d6a8ec\", element=\"3acbee55-4511-4e06-8ca9-60b04540de54\")>,\n",
       " <selenium.webdriver.remote.webelement.WebElement (session=\"bc74d12b44f5f617d4d6241643d6a8ec\", element=\"143d2572-a699-4e01-926a-0af123a58695\")>,\n",
       " <selenium.webdriver.remote.webelement.WebElement (session=\"bc74d12b44f5f617d4d6241643d6a8ec\", element=\"c2511ea9-62a6-4be6-8c39-7e8922241d89\")>,\n",
       " <selenium.webdriver.remote.webelement.WebElement (session=\"bc74d12b44f5f617d4d6241643d6a8ec\", element=\"efeb9ed7-a77c-44ef-a79c-104b03e3925b\")>,\n",
       " <selenium.webdriver.remote.webelement.WebElement (session=\"bc74d12b44f5f617d4d6241643d6a8ec\", element=\"c2dc8f8c-f10f-4e2b-a8d2-31f754edd900\")>,\n",
       " <selenium.webdriver.remote.webelement.WebElement (session=\"bc74d12b44f5f617d4d6241643d6a8ec\", element=\"82ce4b03-45df-4334-95a1-f29644ae0bb7\")>,\n",
       " <selenium.webdriver.remote.webelement.WebElement (session=\"bc74d12b44f5f617d4d6241643d6a8ec\", element=\"14b5f860-82d2-41fe-92a9-9f6360768fbc\")>,\n",
       " <selenium.webdriver.remote.webelement.WebElement (session=\"bc74d12b44f5f617d4d6241643d6a8ec\", element=\"2f1dfafd-ba80-4c48-8af4-fdbaac060bc0\")>,\n",
       " <selenium.webdriver.remote.webelement.WebElement (session=\"bc74d12b44f5f617d4d6241643d6a8ec\", element=\"400bf990-50c4-4c0e-840c-d28c90789976\")>,\n",
       " <selenium.webdriver.remote.webelement.WebElement (session=\"bc74d12b44f5f617d4d6241643d6a8ec\", element=\"677331b4-bfb9-4544-9f97-1ea22cf6de33\")>,\n",
       " <selenium.webdriver.remote.webelement.WebElement (session=\"bc74d12b44f5f617d4d6241643d6a8ec\", element=\"b39272fd-d282-48c9-a429-15402b6b9b92\")>,\n",
       " <selenium.webdriver.remote.webelement.WebElement (session=\"bc74d12b44f5f617d4d6241643d6a8ec\", element=\"f6b18aaf-604a-4694-99b5-c66a4a42f8dc\")>,\n",
       " <selenium.webdriver.remote.webelement.WebElement (session=\"bc74d12b44f5f617d4d6241643d6a8ec\", element=\"56fc082d-f2d2-4470-8844-50486802d35e\")>,\n",
       " <selenium.webdriver.remote.webelement.WebElement (session=\"bc74d12b44f5f617d4d6241643d6a8ec\", element=\"6911abde-893e-4d10-95a6-c0c64aa98805\")>]"
      ]
     },
     "execution_count": 11,
     "metadata": {},
     "output_type": "execute_result"
    }
   ],
   "source": [
    "brand=driver.find_elements_by_xpath(\"//h3[@class='product-brand']\")\n",
    "product=brand=driver.find_elements_by_xpath(\"//h4[@class='product-product']\")\n",
    "price=brand=driver.find_elements_by_xpath(\"//span[@class='product-discountedPrice']\")\n",
    "discount=brand=driver.find_elements_by_xpath(\"//span[@class='product-discountPercentage']\")\n",
    "for i in brand:\n",
    "    brand_n.append(i.text)\n",
    "for i in product:\n",
    "    product_n.append(i.text)\n",
    "for i in price:\n",
    "    price_n.append(i.text)\n",
    "for i in discount:\n",
    "    discount_n.append(i.text)\n",
    "brand\n",
    "product\n",
    "price\n",
    "discount"
   ]
  },
  {
   "cell_type": "code",
   "execution_count": 12,
   "id": "48acbf25",
   "metadata": {},
   "outputs": [],
   "source": [
    "page.click()"
   ]
  },
  {
   "cell_type": "code",
   "execution_count": 13,
   "id": "c5a27096",
   "metadata": {},
   "outputs": [
    {
     "data": {
      "text/plain": [
       "[<selenium.webdriver.remote.webelement.WebElement (session=\"bc74d12b44f5f617d4d6241643d6a8ec\", element=\"7f2ffc6a-1fef-4c6a-bc6d-3bc7df55a6aa\")>,\n",
       " <selenium.webdriver.remote.webelement.WebElement (session=\"bc74d12b44f5f617d4d6241643d6a8ec\", element=\"8eb6f435-fdc2-4da4-82e1-aba4c2e98069\")>,\n",
       " <selenium.webdriver.remote.webelement.WebElement (session=\"bc74d12b44f5f617d4d6241643d6a8ec\", element=\"be456957-2cf6-49c7-893e-7429d0c100bf\")>,\n",
       " <selenium.webdriver.remote.webelement.WebElement (session=\"bc74d12b44f5f617d4d6241643d6a8ec\", element=\"cc1f02db-bd8c-48a1-a8d0-9405a81153d8\")>,\n",
       " <selenium.webdriver.remote.webelement.WebElement (session=\"bc74d12b44f5f617d4d6241643d6a8ec\", element=\"9014bc44-42ff-410a-b5cc-7549e1ce1d3d\")>,\n",
       " <selenium.webdriver.remote.webelement.WebElement (session=\"bc74d12b44f5f617d4d6241643d6a8ec\", element=\"2591f7fa-3c73-4d55-b4b5-31ac1fe91a5d\")>,\n",
       " <selenium.webdriver.remote.webelement.WebElement (session=\"bc74d12b44f5f617d4d6241643d6a8ec\", element=\"ce2b08a3-41f5-4543-ae14-4027354fb7f3\")>,\n",
       " <selenium.webdriver.remote.webelement.WebElement (session=\"bc74d12b44f5f617d4d6241643d6a8ec\", element=\"085a62c1-07f5-4a42-803b-20476abd39c1\")>,\n",
       " <selenium.webdriver.remote.webelement.WebElement (session=\"bc74d12b44f5f617d4d6241643d6a8ec\", element=\"d69389c7-99b9-44b0-90f7-fbdd486a1579\")>,\n",
       " <selenium.webdriver.remote.webelement.WebElement (session=\"bc74d12b44f5f617d4d6241643d6a8ec\", element=\"94781833-4859-4aed-80cd-c3d51b47306c\")>,\n",
       " <selenium.webdriver.remote.webelement.WebElement (session=\"bc74d12b44f5f617d4d6241643d6a8ec\", element=\"78dd31e1-0737-45e5-86c9-ba1cf3fb43d4\")>,\n",
       " <selenium.webdriver.remote.webelement.WebElement (session=\"bc74d12b44f5f617d4d6241643d6a8ec\", element=\"d30cce47-7249-4002-ad39-0bd367fe6ceb\")>,\n",
       " <selenium.webdriver.remote.webelement.WebElement (session=\"bc74d12b44f5f617d4d6241643d6a8ec\", element=\"6e2313f4-71e3-41b1-ae78-989f521f7527\")>,\n",
       " <selenium.webdriver.remote.webelement.WebElement (session=\"bc74d12b44f5f617d4d6241643d6a8ec\", element=\"038f91ee-7178-4ed4-a0db-3329dfe72b68\")>,\n",
       " <selenium.webdriver.remote.webelement.WebElement (session=\"bc74d12b44f5f617d4d6241643d6a8ec\", element=\"8cbddf14-4736-404e-8474-bac0cd6ae8b6\")>,\n",
       " <selenium.webdriver.remote.webelement.WebElement (session=\"bc74d12b44f5f617d4d6241643d6a8ec\", element=\"fdd7bad0-ad53-468e-9268-e02a27ea81ad\")>,\n",
       " <selenium.webdriver.remote.webelement.WebElement (session=\"bc74d12b44f5f617d4d6241643d6a8ec\", element=\"4f424f14-d94b-41d0-b528-ef62e1f89174\")>,\n",
       " <selenium.webdriver.remote.webelement.WebElement (session=\"bc74d12b44f5f617d4d6241643d6a8ec\", element=\"4b37075c-a48c-4f91-9f5f-00f3354b828c\")>,\n",
       " <selenium.webdriver.remote.webelement.WebElement (session=\"bc74d12b44f5f617d4d6241643d6a8ec\", element=\"eeb80f1b-c9a4-41c9-b14a-6789bc1c8381\")>,\n",
       " <selenium.webdriver.remote.webelement.WebElement (session=\"bc74d12b44f5f617d4d6241643d6a8ec\", element=\"78603c6a-bdc0-4a6e-b4df-6a97ac6c3fc4\")>,\n",
       " <selenium.webdriver.remote.webelement.WebElement (session=\"bc74d12b44f5f617d4d6241643d6a8ec\", element=\"ed686160-00eb-4f00-b0e2-6016125f5100\")>,\n",
       " <selenium.webdriver.remote.webelement.WebElement (session=\"bc74d12b44f5f617d4d6241643d6a8ec\", element=\"8c60b535-61df-46e9-a4be-4b60343edd16\")>,\n",
       " <selenium.webdriver.remote.webelement.WebElement (session=\"bc74d12b44f5f617d4d6241643d6a8ec\", element=\"b8d16b79-39cc-4bd5-b6e9-8d72c62327c0\")>,\n",
       " <selenium.webdriver.remote.webelement.WebElement (session=\"bc74d12b44f5f617d4d6241643d6a8ec\", element=\"004b8efc-5ea1-496d-be81-36d7df9a3f76\")>,\n",
       " <selenium.webdriver.remote.webelement.WebElement (session=\"bc74d12b44f5f617d4d6241643d6a8ec\", element=\"a47f779d-5464-48fd-8f0e-20aed2f2fe84\")>,\n",
       " <selenium.webdriver.remote.webelement.WebElement (session=\"bc74d12b44f5f617d4d6241643d6a8ec\", element=\"af255e23-4c70-4785-920d-80b251ff66fb\")>,\n",
       " <selenium.webdriver.remote.webelement.WebElement (session=\"bc74d12b44f5f617d4d6241643d6a8ec\", element=\"8d8837b3-5883-430b-96f2-19884209f84c\")>,\n",
       " <selenium.webdriver.remote.webelement.WebElement (session=\"bc74d12b44f5f617d4d6241643d6a8ec\", element=\"26cf698b-758a-4f65-9f89-a21c6be6e513\")>,\n",
       " <selenium.webdriver.remote.webelement.WebElement (session=\"bc74d12b44f5f617d4d6241643d6a8ec\", element=\"12c96f7d-deae-460b-85aa-435c3114a1e9\")>,\n",
       " <selenium.webdriver.remote.webelement.WebElement (session=\"bc74d12b44f5f617d4d6241643d6a8ec\", element=\"600c7cf1-6ae4-4c10-b957-1e87bc7f3fa6\")>,\n",
       " <selenium.webdriver.remote.webelement.WebElement (session=\"bc74d12b44f5f617d4d6241643d6a8ec\", element=\"fcdb0027-9319-4e7f-bf54-67aa83ae0bde\")>,\n",
       " <selenium.webdriver.remote.webelement.WebElement (session=\"bc74d12b44f5f617d4d6241643d6a8ec\", element=\"3acbee55-4511-4e06-8ca9-60b04540de54\")>,\n",
       " <selenium.webdriver.remote.webelement.WebElement (session=\"bc74d12b44f5f617d4d6241643d6a8ec\", element=\"143d2572-a699-4e01-926a-0af123a58695\")>,\n",
       " <selenium.webdriver.remote.webelement.WebElement (session=\"bc74d12b44f5f617d4d6241643d6a8ec\", element=\"c2511ea9-62a6-4be6-8c39-7e8922241d89\")>,\n",
       " <selenium.webdriver.remote.webelement.WebElement (session=\"bc74d12b44f5f617d4d6241643d6a8ec\", element=\"efeb9ed7-a77c-44ef-a79c-104b03e3925b\")>,\n",
       " <selenium.webdriver.remote.webelement.WebElement (session=\"bc74d12b44f5f617d4d6241643d6a8ec\", element=\"c2dc8f8c-f10f-4e2b-a8d2-31f754edd900\")>,\n",
       " <selenium.webdriver.remote.webelement.WebElement (session=\"bc74d12b44f5f617d4d6241643d6a8ec\", element=\"82ce4b03-45df-4334-95a1-f29644ae0bb7\")>,\n",
       " <selenium.webdriver.remote.webelement.WebElement (session=\"bc74d12b44f5f617d4d6241643d6a8ec\", element=\"14b5f860-82d2-41fe-92a9-9f6360768fbc\")>,\n",
       " <selenium.webdriver.remote.webelement.WebElement (session=\"bc74d12b44f5f617d4d6241643d6a8ec\", element=\"2f1dfafd-ba80-4c48-8af4-fdbaac060bc0\")>,\n",
       " <selenium.webdriver.remote.webelement.WebElement (session=\"bc74d12b44f5f617d4d6241643d6a8ec\", element=\"400bf990-50c4-4c0e-840c-d28c90789976\")>,\n",
       " <selenium.webdriver.remote.webelement.WebElement (session=\"bc74d12b44f5f617d4d6241643d6a8ec\", element=\"677331b4-bfb9-4544-9f97-1ea22cf6de33\")>,\n",
       " <selenium.webdriver.remote.webelement.WebElement (session=\"bc74d12b44f5f617d4d6241643d6a8ec\", element=\"b39272fd-d282-48c9-a429-15402b6b9b92\")>,\n",
       " <selenium.webdriver.remote.webelement.WebElement (session=\"bc74d12b44f5f617d4d6241643d6a8ec\", element=\"f6b18aaf-604a-4694-99b5-c66a4a42f8dc\")>,\n",
       " <selenium.webdriver.remote.webelement.WebElement (session=\"bc74d12b44f5f617d4d6241643d6a8ec\", element=\"56fc082d-f2d2-4470-8844-50486802d35e\")>,\n",
       " <selenium.webdriver.remote.webelement.WebElement (session=\"bc74d12b44f5f617d4d6241643d6a8ec\", element=\"6911abde-893e-4d10-95a6-c0c64aa98805\")>]"
      ]
     },
     "execution_count": 13,
     "metadata": {},
     "output_type": "execute_result"
    }
   ],
   "source": [
    "brand=driver.find_elements_by_xpath(\"//h3[@class='product-brand']\")\n",
    "product=brand=driver.find_elements_by_xpath(\"//h4[@class='product-product']\")\n",
    "price=brand=driver.find_elements_by_xpath(\"//span[@class='product-discountedPrice']\")\n",
    "discount=brand=driver.find_elements_by_xpath(\"//span[@class='product-discountPercentage']\")\n",
    "for i in brand:\n",
    "    brand_n.append(i.text)\n",
    "for i in product:\n",
    "    product_n.append(i.text)\n",
    "for i in price:\n",
    "    price_n.append(i.text)\n",
    "for i in discount:\n",
    "    discount_n.append(i.text)\n",
    "brand\n",
    "product\n",
    "price\n",
    "discount"
   ]
  },
  {
   "cell_type": "code",
   "execution_count": 14,
   "id": "b3462b11",
   "metadata": {},
   "outputs": [
    {
     "data": {
      "text/html": [
       "<div>\n",
       "<style scoped>\n",
       "    .dataframe tbody tr th:only-of-type {\n",
       "        vertical-align: middle;\n",
       "    }\n",
       "\n",
       "    .dataframe tbody tr th {\n",
       "        vertical-align: top;\n",
       "    }\n",
       "\n",
       "    .dataframe thead th {\n",
       "        text-align: right;\n",
       "    }\n",
       "</style>\n",
       "<table border=\"1\" class=\"dataframe\">\n",
       "  <thead>\n",
       "    <tr style=\"text-align: right;\">\n",
       "      <th></th>\n",
       "      <th>brand</th>\n",
       "      <th>product</th>\n",
       "      <th>price</th>\n",
       "      <th>discount</th>\n",
       "    </tr>\n",
       "  </thead>\n",
       "  <tbody>\n",
       "    <tr>\n",
       "      <th>0</th>\n",
       "      <td>(55% OFF)</td>\n",
       "      <td>Men Colourblocked Sneakers</td>\n",
       "      <td>Rs. 895</td>\n",
       "      <td>(55% OFF)</td>\n",
       "    </tr>\n",
       "    <tr>\n",
       "      <th>1</th>\n",
       "      <td>(Rs. 1291 OFF)</td>\n",
       "      <td>Men Sneakers</td>\n",
       "      <td>Rs. 699</td>\n",
       "      <td>(Rs. 1291 OFF)</td>\n",
       "    </tr>\n",
       "    <tr>\n",
       "      <th>2</th>\n",
       "      <td>(50% OFF)</td>\n",
       "      <td>Men Solid Sneakers</td>\n",
       "      <td>Rs. 2249</td>\n",
       "      <td>(50% OFF)</td>\n",
       "    </tr>\n",
       "    <tr>\n",
       "      <th>3</th>\n",
       "      <td>(65% OFF)</td>\n",
       "      <td>Cotton Canvas Trainers</td>\n",
       "      <td>Rs. 1504</td>\n",
       "      <td>(65% OFF)</td>\n",
       "    </tr>\n",
       "    <tr>\n",
       "      <th>4</th>\n",
       "      <td>(55% OFF)</td>\n",
       "      <td>Men Leather Sneakers</td>\n",
       "      <td>Rs. 895</td>\n",
       "      <td>(55% OFF)</td>\n",
       "    </tr>\n",
       "    <tr>\n",
       "      <th>...</th>\n",
       "      <td>...</td>\n",
       "      <td>...</td>\n",
       "      <td>...</td>\n",
       "      <td>...</td>\n",
       "    </tr>\n",
       "    <tr>\n",
       "      <th>95</th>\n",
       "      <td>(50% OFF)</td>\n",
       "      <td>Men WOODSPORT Sneakers</td>\n",
       "      <td>Rs. 2249</td>\n",
       "      <td>(50% OFF)</td>\n",
       "    </tr>\n",
       "    <tr>\n",
       "      <th>96</th>\n",
       "      <td>(65% OFF)</td>\n",
       "      <td>Women Colourblocked Sneakers</td>\n",
       "      <td>Rs. 1504</td>\n",
       "      <td>(65% OFF)</td>\n",
       "    </tr>\n",
       "    <tr>\n",
       "      <th>97</th>\n",
       "      <td>(30% OFF)</td>\n",
       "      <td>Men Solid Sneakers</td>\n",
       "      <td>Rs. 5036</td>\n",
       "      <td>(30% OFF)</td>\n",
       "    </tr>\n",
       "    <tr>\n",
       "      <th>98</th>\n",
       "      <td>(55% OFF)</td>\n",
       "      <td>Women Chunky Sneaker</td>\n",
       "      <td>Rs. 895</td>\n",
       "      <td>(55% OFF)</td>\n",
       "    </tr>\n",
       "    <tr>\n",
       "      <th>99</th>\n",
       "      <td>(60% OFF)</td>\n",
       "      <td>Men Woven Design Leather Sneakers</td>\n",
       "      <td>Rs. 1919</td>\n",
       "      <td>(60% OFF)</td>\n",
       "    </tr>\n",
       "  </tbody>\n",
       "</table>\n",
       "<p>100 rows × 4 columns</p>\n",
       "</div>"
      ],
      "text/plain": [
       "             brand                            product     price  \\\n",
       "0        (55% OFF)         Men Colourblocked Sneakers   Rs. 895   \n",
       "1   (Rs. 1291 OFF)                       Men Sneakers   Rs. 699   \n",
       "2        (50% OFF)                 Men Solid Sneakers  Rs. 2249   \n",
       "3        (65% OFF)             Cotton Canvas Trainers  Rs. 1504   \n",
       "4        (55% OFF)               Men Leather Sneakers   Rs. 895   \n",
       "..             ...                                ...       ...   \n",
       "95       (50% OFF)             Men WOODSPORT Sneakers  Rs. 2249   \n",
       "96       (65% OFF)       Women Colourblocked Sneakers  Rs. 1504   \n",
       "97       (30% OFF)                 Men Solid Sneakers  Rs. 5036   \n",
       "98       (55% OFF)               Women Chunky Sneaker   Rs. 895   \n",
       "99       (60% OFF)  Men Woven Design Leather Sneakers  Rs. 1919   \n",
       "\n",
       "          discount  \n",
       "0        (55% OFF)  \n",
       "1   (Rs. 1291 OFF)  \n",
       "2        (50% OFF)  \n",
       "3        (65% OFF)  \n",
       "4        (55% OFF)  \n",
       "..             ...  \n",
       "95       (50% OFF)  \n",
       "96       (65% OFF)  \n",
       "97       (30% OFF)  \n",
       "98       (55% OFF)  \n",
       "99       (60% OFF)  \n",
       "\n",
       "[100 rows x 4 columns]"
      ]
     },
     "execution_count": 14,
     "metadata": {},
     "output_type": "execute_result"
    }
   ],
   "source": [
    "flipkart_new=pd.DataFrame({'brand':brand_n[:100],\n",
    "                            'product':product_n[:100],\n",
    "                            'price':price_n[:100],\n",
    "                             'discount':discount_n[:100] })\n",
    "flipkart_new"
   ]
  },
  {
   "cell_type": "code",
   "execution_count": 15,
   "id": "f5308110",
   "metadata": {},
   "outputs": [],
   "source": [
    "#Q9: Go to the link - https://www.myntra.com/shoes\n",
    "#Set Price filter to “Rs. 6649 to Rs. 13099” , Color filter to “Black”, as shown in \n",
    "#the below image"
   ]
  },
  {
   "cell_type": "code",
   "execution_count": 16,
   "id": "2d1de347",
   "metadata": {},
   "outputs": [],
   "source": [
    "import requests\n",
    "import pandas as pd\n",
    "import numpy as np\n",
    "from bs4 import BeautifulSoup\n",
    "import selenium\n",
    "from selenium import webdriver\n",
    "driver=webdriver.Chrome('C:/Users/LENOVO/Downloads/chromedriver_win32/chromedriver')\n",
    "url='https://www.myntra.com/shoes'\n",
    "driver.get(url)"
   ]
  },
  {
   "cell_type": "code",
   "execution_count": 17,
   "id": "4cfcb446",
   "metadata": {},
   "outputs": [],
   "source": [
    "search_price=driver.find_element_by_xpath('/html/body/div[2]/div/div[1]/main/div[3]/div[1]/section/div/div[5]/ul/li[2]/label/div')\n",
    "search_price.click()"
   ]
  },
  {
   "cell_type": "code",
   "execution_count": 18,
   "id": "5e4d7fd2",
   "metadata": {},
   "outputs": [],
   "source": [
    "search_color=driver.find_element_by_xpath('/html/body/div[2]/div/div[1]/main/div[3]/div[1]/section/div/div[6]/ul/li[1]/label/div')\n",
    "search_color.click()"
   ]
  },
  {
   "cell_type": "code",
   "execution_count": 19,
   "id": "5e429265",
   "metadata": {},
   "outputs": [
    {
     "data": {
      "text/plain": [
       "[<selenium.webdriver.remote.webelement.WebElement (session=\"7eb7eddc7204575cd6024433e5cc2780\", element=\"a22ac871-03d1-4ff6-aa1d-90ce1ccd2c14\")>,\n",
       " <selenium.webdriver.remote.webelement.WebElement (session=\"7eb7eddc7204575cd6024433e5cc2780\", element=\"c02217d6-d150-4343-8cda-08549b2aaea2\")>,\n",
       " <selenium.webdriver.remote.webelement.WebElement (session=\"7eb7eddc7204575cd6024433e5cc2780\", element=\"c74fcb4e-40a5-4853-bd60-4b8996ef1ee5\")>,\n",
       " <selenium.webdriver.remote.webelement.WebElement (session=\"7eb7eddc7204575cd6024433e5cc2780\", element=\"d17fd4ad-2342-476a-a473-cab75db30779\")>,\n",
       " <selenium.webdriver.remote.webelement.WebElement (session=\"7eb7eddc7204575cd6024433e5cc2780\", element=\"2816df42-f1aa-4582-b3a9-3069f029da9b\")>,\n",
       " <selenium.webdriver.remote.webelement.WebElement (session=\"7eb7eddc7204575cd6024433e5cc2780\", element=\"d238bfb6-8830-48ed-859c-f9229e72fe3e\")>,\n",
       " <selenium.webdriver.remote.webelement.WebElement (session=\"7eb7eddc7204575cd6024433e5cc2780\", element=\"34ba6424-a0ad-449a-b358-6d93e39698fd\")>,\n",
       " <selenium.webdriver.remote.webelement.WebElement (session=\"7eb7eddc7204575cd6024433e5cc2780\", element=\"3f72dc3a-38e3-48d1-8f18-f3e39ddb2277\")>,\n",
       " <selenium.webdriver.remote.webelement.WebElement (session=\"7eb7eddc7204575cd6024433e5cc2780\", element=\"e45e5447-837c-425f-88f6-7bf0dae26221\")>,\n",
       " <selenium.webdriver.remote.webelement.WebElement (session=\"7eb7eddc7204575cd6024433e5cc2780\", element=\"e810baa0-a84b-449a-bc57-3759b1ecccfb\")>,\n",
       " <selenium.webdriver.remote.webelement.WebElement (session=\"7eb7eddc7204575cd6024433e5cc2780\", element=\"58af25d3-e79c-4a9c-8252-b05a378e1912\")>,\n",
       " <selenium.webdriver.remote.webelement.WebElement (session=\"7eb7eddc7204575cd6024433e5cc2780\", element=\"5e05efc3-e25f-4d5c-8862-35d8df1d3667\")>,\n",
       " <selenium.webdriver.remote.webelement.WebElement (session=\"7eb7eddc7204575cd6024433e5cc2780\", element=\"21fc82e6-ba39-4f1a-b1c3-768e74ad72c3\")>,\n",
       " <selenium.webdriver.remote.webelement.WebElement (session=\"7eb7eddc7204575cd6024433e5cc2780\", element=\"a78b159d-6010-47ff-9a6f-3ab02399ab3f\")>,\n",
       " <selenium.webdriver.remote.webelement.WebElement (session=\"7eb7eddc7204575cd6024433e5cc2780\", element=\"5a18c009-80c3-46a0-afea-aacd91e7090d\")>,\n",
       " <selenium.webdriver.remote.webelement.WebElement (session=\"7eb7eddc7204575cd6024433e5cc2780\", element=\"f436b69a-1fd8-4c73-96f5-d2113f3e7eb5\")>,\n",
       " <selenium.webdriver.remote.webelement.WebElement (session=\"7eb7eddc7204575cd6024433e5cc2780\", element=\"6fe393bf-8756-4ddb-b23e-ee79aff27c51\")>,\n",
       " <selenium.webdriver.remote.webelement.WebElement (session=\"7eb7eddc7204575cd6024433e5cc2780\", element=\"2176cb1b-a547-400a-ab3e-2d4ad69e1de2\")>,\n",
       " <selenium.webdriver.remote.webelement.WebElement (session=\"7eb7eddc7204575cd6024433e5cc2780\", element=\"19bfd68a-8ec1-4954-a409-1611341341c3\")>,\n",
       " <selenium.webdriver.remote.webelement.WebElement (session=\"7eb7eddc7204575cd6024433e5cc2780\", element=\"826aec46-99f4-4b78-bb01-65cb581d8158\")>,\n",
       " <selenium.webdriver.remote.webelement.WebElement (session=\"7eb7eddc7204575cd6024433e5cc2780\", element=\"c7e1d72d-e713-4aae-8485-99083277d3a0\")>,\n",
       " <selenium.webdriver.remote.webelement.WebElement (session=\"7eb7eddc7204575cd6024433e5cc2780\", element=\"7823295a-b907-44be-9021-fe37dcfd1f64\")>,\n",
       " <selenium.webdriver.remote.webelement.WebElement (session=\"7eb7eddc7204575cd6024433e5cc2780\", element=\"2e10b8ad-297f-44e5-9a5a-8033e2dafe1e\")>,\n",
       " <selenium.webdriver.remote.webelement.WebElement (session=\"7eb7eddc7204575cd6024433e5cc2780\", element=\"17fc21b6-4d34-4444-8c43-c6e12015ea6b\")>,\n",
       " <selenium.webdriver.remote.webelement.WebElement (session=\"7eb7eddc7204575cd6024433e5cc2780\", element=\"307bdf28-a676-4ee6-ba81-baeb30c50f4b\")>,\n",
       " <selenium.webdriver.remote.webelement.WebElement (session=\"7eb7eddc7204575cd6024433e5cc2780\", element=\"87034cb6-767e-4dfb-bfb4-9e2eb5123f2d\")>,\n",
       " <selenium.webdriver.remote.webelement.WebElement (session=\"7eb7eddc7204575cd6024433e5cc2780\", element=\"3fb95321-60ba-4d17-8f64-9363c7fcdbc2\")>,\n",
       " <selenium.webdriver.remote.webelement.WebElement (session=\"7eb7eddc7204575cd6024433e5cc2780\", element=\"2ec6bd34-6cf0-405e-9e89-a70510a1afeb\")>,\n",
       " <selenium.webdriver.remote.webelement.WebElement (session=\"7eb7eddc7204575cd6024433e5cc2780\", element=\"fbd6dd2e-15d7-46f9-aa32-422d95a21bb4\")>,\n",
       " <selenium.webdriver.remote.webelement.WebElement (session=\"7eb7eddc7204575cd6024433e5cc2780\", element=\"235f5886-351f-4800-b00b-2d49589d89a6\")>,\n",
       " <selenium.webdriver.remote.webelement.WebElement (session=\"7eb7eddc7204575cd6024433e5cc2780\", element=\"8c025a81-c6e9-4d91-a8a9-92d1dbb373c4\")>,\n",
       " <selenium.webdriver.remote.webelement.WebElement (session=\"7eb7eddc7204575cd6024433e5cc2780\", element=\"75280d1a-24c5-4510-ae4f-4e73a3466577\")>,\n",
       " <selenium.webdriver.remote.webelement.WebElement (session=\"7eb7eddc7204575cd6024433e5cc2780\", element=\"444498ca-41b0-4bf9-bbe1-cd1ffdf41d47\")>,\n",
       " <selenium.webdriver.remote.webelement.WebElement (session=\"7eb7eddc7204575cd6024433e5cc2780\", element=\"5846d4a4-66e9-44f1-8d87-2f4ea7672e74\")>,\n",
       " <selenium.webdriver.remote.webelement.WebElement (session=\"7eb7eddc7204575cd6024433e5cc2780\", element=\"9843f3f7-f826-45b2-b689-2061390c08a4\")>,\n",
       " <selenium.webdriver.remote.webelement.WebElement (session=\"7eb7eddc7204575cd6024433e5cc2780\", element=\"cf8cfa73-827a-4667-aafd-45f308a575cd\")>,\n",
       " <selenium.webdriver.remote.webelement.WebElement (session=\"7eb7eddc7204575cd6024433e5cc2780\", element=\"42c62e77-9709-482c-887b-b956789963f3\")>,\n",
       " <selenium.webdriver.remote.webelement.WebElement (session=\"7eb7eddc7204575cd6024433e5cc2780\", element=\"fadbf58e-295b-428c-8691-953268e2ae09\")>,\n",
       " <selenium.webdriver.remote.webelement.WebElement (session=\"7eb7eddc7204575cd6024433e5cc2780\", element=\"1fb5f41f-6c68-4ed0-8eef-11d2ccfa38c2\")>,\n",
       " <selenium.webdriver.remote.webelement.WebElement (session=\"7eb7eddc7204575cd6024433e5cc2780\", element=\"c08942f6-ba8b-4653-80ce-be23603b1360\")>,\n",
       " <selenium.webdriver.remote.webelement.WebElement (session=\"7eb7eddc7204575cd6024433e5cc2780\", element=\"ac76f1db-c522-48f6-b0a9-a1ae33ab4876\")>,\n",
       " <selenium.webdriver.remote.webelement.WebElement (session=\"7eb7eddc7204575cd6024433e5cc2780\", element=\"ebcfd067-dd90-4734-8f62-076efeb494c6\")>,\n",
       " <selenium.webdriver.remote.webelement.WebElement (session=\"7eb7eddc7204575cd6024433e5cc2780\", element=\"4f122055-b85f-498f-aceb-83b73f9232c2\")>,\n",
       " <selenium.webdriver.remote.webelement.WebElement (session=\"7eb7eddc7204575cd6024433e5cc2780\", element=\"60f95857-8684-471a-bcfa-008ce802d6cf\")>,\n",
       " <selenium.webdriver.remote.webelement.WebElement (session=\"7eb7eddc7204575cd6024433e5cc2780\", element=\"6aba2cad-48aa-4ad0-93b2-db84cb165a5b\")>,\n",
       " <selenium.webdriver.remote.webelement.WebElement (session=\"7eb7eddc7204575cd6024433e5cc2780\", element=\"537e92bc-9b9f-400d-8fac-23ecdbe9988c\")>,\n",
       " <selenium.webdriver.remote.webelement.WebElement (session=\"7eb7eddc7204575cd6024433e5cc2780\", element=\"3114091e-ebd7-4213-9f7d-aeae18411754\")>,\n",
       " <selenium.webdriver.remote.webelement.WebElement (session=\"7eb7eddc7204575cd6024433e5cc2780\", element=\"54f9c2f1-a163-4316-a65b-8e2e05c0a278\")>,\n",
       " <selenium.webdriver.remote.webelement.WebElement (session=\"7eb7eddc7204575cd6024433e5cc2780\", element=\"596a53f2-aa69-42c6-8989-f96eae7f4f36\")>,\n",
       " <selenium.webdriver.remote.webelement.WebElement (session=\"7eb7eddc7204575cd6024433e5cc2780\", element=\"e172390c-66b8-4df1-ba8a-3157a5c4610e\")>,\n",
       " <selenium.webdriver.remote.webelement.WebElement (session=\"7eb7eddc7204575cd6024433e5cc2780\", element=\"f1ceaaed-3d13-470a-a76a-8c9eff418042\")>,\n",
       " <selenium.webdriver.remote.webelement.WebElement (session=\"7eb7eddc7204575cd6024433e5cc2780\", element=\"339eac60-a2f3-4081-9071-d71ea3fb0b63\")>,\n",
       " <selenium.webdriver.remote.webelement.WebElement (session=\"7eb7eddc7204575cd6024433e5cc2780\", element=\"848a78bb-5b03-4aba-9050-e817c29f221e\")>,\n",
       " <selenium.webdriver.remote.webelement.WebElement (session=\"7eb7eddc7204575cd6024433e5cc2780\", element=\"991f2744-9bcd-4cc0-bca4-0b296de83530\")>,\n",
       " <selenium.webdriver.remote.webelement.WebElement (session=\"7eb7eddc7204575cd6024433e5cc2780\", element=\"614463fb-f5ba-4960-b844-c79d5538e0c5\")>,\n",
       " <selenium.webdriver.remote.webelement.WebElement (session=\"7eb7eddc7204575cd6024433e5cc2780\", element=\"6c8275f4-62d0-42ab-ab61-534ac8b17fa5\")>,\n",
       " <selenium.webdriver.remote.webelement.WebElement (session=\"7eb7eddc7204575cd6024433e5cc2780\", element=\"fbc72974-4750-47e5-94bc-15cc5736029d\")>,\n",
       " <selenium.webdriver.remote.webelement.WebElement (session=\"7eb7eddc7204575cd6024433e5cc2780\", element=\"6292d77b-4439-45f4-8395-75e3d6a82822\")>,\n",
       " <selenium.webdriver.remote.webelement.WebElement (session=\"7eb7eddc7204575cd6024433e5cc2780\", element=\"66020361-464d-4a50-8e13-7c507eebd7c9\")>,\n",
       " <selenium.webdriver.remote.webelement.WebElement (session=\"7eb7eddc7204575cd6024433e5cc2780\", element=\"bce48fac-0b43-4170-9662-0c69f976b440\")>,\n",
       " <selenium.webdriver.remote.webelement.WebElement (session=\"7eb7eddc7204575cd6024433e5cc2780\", element=\"898b49b2-6931-4ef1-b5f4-37f94c4af08a\")>,\n",
       " <selenium.webdriver.remote.webelement.WebElement (session=\"7eb7eddc7204575cd6024433e5cc2780\", element=\"c752b643-91fa-4837-82d3-9b29a7577155\")>,\n",
       " <selenium.webdriver.remote.webelement.WebElement (session=\"7eb7eddc7204575cd6024433e5cc2780\", element=\"64e7157e-29ca-4fd8-83d6-a3a3ac90e410\")>,\n",
       " <selenium.webdriver.remote.webelement.WebElement (session=\"7eb7eddc7204575cd6024433e5cc2780\", element=\"4ce240be-b803-480d-8af8-bd04d09545e5\")>,\n",
       " <selenium.webdriver.remote.webelement.WebElement (session=\"7eb7eddc7204575cd6024433e5cc2780\", element=\"c6cbd2c3-3b14-477e-99e1-2f9013cae3f1\")>,\n",
       " <selenium.webdriver.remote.webelement.WebElement (session=\"7eb7eddc7204575cd6024433e5cc2780\", element=\"109bae87-12f9-4760-b02e-9a33c45fda6f\")>,\n",
       " <selenium.webdriver.remote.webelement.WebElement (session=\"7eb7eddc7204575cd6024433e5cc2780\", element=\"3495a06c-f056-4c0d-b82c-1d90b62e84a0\")>,\n",
       " <selenium.webdriver.remote.webelement.WebElement (session=\"7eb7eddc7204575cd6024433e5cc2780\", element=\"d0150599-a69e-4cb5-9344-7742499aa004\")>,\n",
       " <selenium.webdriver.remote.webelement.WebElement (session=\"7eb7eddc7204575cd6024433e5cc2780\", element=\"8e4089b7-0718-46b4-9c38-ee66eb470082\")>,\n",
       " <selenium.webdriver.remote.webelement.WebElement (session=\"7eb7eddc7204575cd6024433e5cc2780\", element=\"8545dfc9-3c97-477d-9d90-f2ed19e8c2d3\")>,\n",
       " <selenium.webdriver.remote.webelement.WebElement (session=\"7eb7eddc7204575cd6024433e5cc2780\", element=\"4aa2656f-546c-4c3c-9d67-be4351d2f773\")>,\n",
       " <selenium.webdriver.remote.webelement.WebElement (session=\"7eb7eddc7204575cd6024433e5cc2780\", element=\"05fcfca6-b2f6-40e6-ae4d-48e6a240e2e9\")>,\n",
       " <selenium.webdriver.remote.webelement.WebElement (session=\"7eb7eddc7204575cd6024433e5cc2780\", element=\"4df4bfe5-f77f-4ca5-9077-7670ec955f88\")>,\n",
       " <selenium.webdriver.remote.webelement.WebElement (session=\"7eb7eddc7204575cd6024433e5cc2780\", element=\"d83d9fc7-3a7e-45c6-830f-b3178754fbd4\")>,\n",
       " <selenium.webdriver.remote.webelement.WebElement (session=\"7eb7eddc7204575cd6024433e5cc2780\", element=\"e5277516-88a5-41aa-a673-6dfddb145d21\")>,\n",
       " <selenium.webdriver.remote.webelement.WebElement (session=\"7eb7eddc7204575cd6024433e5cc2780\", element=\"ca1c003a-d97e-4327-a165-cc27cf2faa9e\")>,\n",
       " <selenium.webdriver.remote.webelement.WebElement (session=\"7eb7eddc7204575cd6024433e5cc2780\", element=\"ec5d9623-b358-4523-a555-c6744f693e26\")>,\n",
       " <selenium.webdriver.remote.webelement.WebElement (session=\"7eb7eddc7204575cd6024433e5cc2780\", element=\"93ebb8fc-9a35-40d8-9604-ed35057a2a01\")>,\n",
       " <selenium.webdriver.remote.webelement.WebElement (session=\"7eb7eddc7204575cd6024433e5cc2780\", element=\"e34637f5-af01-4f21-9297-307be0388129\")>,\n",
       " <selenium.webdriver.remote.webelement.WebElement (session=\"7eb7eddc7204575cd6024433e5cc2780\", element=\"5c09e532-aead-4426-bec1-48be2a2e6b59\")>,\n",
       " <selenium.webdriver.remote.webelement.WebElement (session=\"7eb7eddc7204575cd6024433e5cc2780\", element=\"fcd61913-be09-44ad-be2f-fe58756ec14e\")>,\n",
       " <selenium.webdriver.remote.webelement.WebElement (session=\"7eb7eddc7204575cd6024433e5cc2780\", element=\"e34b9c96-a5b4-48ee-9467-b8ee5bcfd478\")>,\n",
       " <selenium.webdriver.remote.webelement.WebElement (session=\"7eb7eddc7204575cd6024433e5cc2780\", element=\"9d2fb15d-3bc5-4a16-b89c-aeb18fb1a1da\")>,\n",
       " <selenium.webdriver.remote.webelement.WebElement (session=\"7eb7eddc7204575cd6024433e5cc2780\", element=\"4581b688-5fd1-4508-90c4-50d1599ea383\")>,\n",
       " <selenium.webdriver.remote.webelement.WebElement (session=\"7eb7eddc7204575cd6024433e5cc2780\", element=\"285f1d75-b741-4de4-990e-a1a1c065755b\")>,\n",
       " <selenium.webdriver.remote.webelement.WebElement (session=\"7eb7eddc7204575cd6024433e5cc2780\", element=\"0915cd48-6ca5-4ed4-9f1f-6e7552eb8cab\")>,\n",
       " <selenium.webdriver.remote.webelement.WebElement (session=\"7eb7eddc7204575cd6024433e5cc2780\", element=\"59b8a8dd-9623-4b51-b1f8-152cb6a29aab\")>,\n",
       " <selenium.webdriver.remote.webelement.WebElement (session=\"7eb7eddc7204575cd6024433e5cc2780\", element=\"d6499fbc-c01a-44e6-8bc0-e6fdc63e1f36\")>,\n",
       " <selenium.webdriver.remote.webelement.WebElement (session=\"7eb7eddc7204575cd6024433e5cc2780\", element=\"89514848-c08b-416d-8660-1667468f42ae\")>,\n",
       " <selenium.webdriver.remote.webelement.WebElement (session=\"7eb7eddc7204575cd6024433e5cc2780\", element=\"f68066bc-9f4d-4787-9ac8-c464d945849a\")>,\n",
       " <selenium.webdriver.remote.webelement.WebElement (session=\"7eb7eddc7204575cd6024433e5cc2780\", element=\"bd055a83-39a5-4a56-bf9a-44e16ae23b53\")>,\n",
       " <selenium.webdriver.remote.webelement.WebElement (session=\"7eb7eddc7204575cd6024433e5cc2780\", element=\"a165bb6b-b651-4341-a27c-c6e1fd8b1b5f\")>,\n",
       " <selenium.webdriver.remote.webelement.WebElement (session=\"7eb7eddc7204575cd6024433e5cc2780\", element=\"f4c1b691-e90e-4d06-86a6-6ed0075867d8\")>]"
      ]
     },
     "execution_count": 19,
     "metadata": {},
     "output_type": "execute_result"
    }
   ],
   "source": [
    "brand_m=driver.find_elements_by_xpath(\"//h3[@class='product-brand']\")\n",
    "brand_m\n",
    "short=driver.find_elements_by_xpath(\"//h4[@class='product-product']\")\n",
    "short\n",
    "price_m=driver.find_elements_by_xpath(\"//div[@class='product-price']//span[1]\")\n",
    "price_m"
   ]
  },
  {
   "cell_type": "code",
   "execution_count": 20,
   "id": "956560c0",
   "metadata": {},
   "outputs": [
    {
     "data": {
      "text/plain": [
       "['Rs. 1824Rs. 7299',\n",
       " 'Rs. 1824',\n",
       " 'Rs. 649Rs. 1299',\n",
       " 'Rs. 649',\n",
       " 'Rs. 2399Rs. 3999',\n",
       " 'Rs. 2399',\n",
       " 'Rs. 594Rs. 1699',\n",
       " 'Rs. 594',\n",
       " 'Rs. 1319Rs. 3299',\n",
       " 'Rs. 1319',\n",
       " 'Rs. 4995',\n",
       " 'Rs. 699Rs. 1990',\n",
       " 'Rs. 699',\n",
       " 'Rs. 899Rs. 2599',\n",
       " 'Rs. 899',\n",
       " 'Rs. 11999',\n",
       " 'Rs. 4995',\n",
       " 'Rs. 5495',\n",
       " 'Rs. 996Rs. 1049',\n",
       " 'Rs. 996',\n",
       " 'Rs. 1224Rs. 3499',\n",
       " 'Rs. 1224',\n",
       " 'Rs. 4676Rs. 7195',\n",
       " 'Rs. 4676',\n",
       " 'Rs. 6999',\n",
       " 'Rs. 2599Rs. 3999',\n",
       " 'Rs. 2599',\n",
       " 'Rs. 1879Rs. 3999',\n",
       " 'Rs. 1879',\n",
       " 'Rs. 1349Rs. 2999',\n",
       " 'Rs. 1349',\n",
       " 'Rs. 3749Rs. 4999',\n",
       " 'Rs. 3749',\n",
       " 'Rs. 1824Rs. 7299',\n",
       " 'Rs. 1824',\n",
       " 'Rs. 699Rs. 1999',\n",
       " 'Rs. 699',\n",
       " 'Rs. 924Rs. 3699',\n",
       " 'Rs. 924',\n",
       " 'Rs. 619Rs. 1999',\n",
       " 'Rs. 619',\n",
       " 'Rs. 1224Rs. 3499',\n",
       " 'Rs. 1224',\n",
       " 'Rs. 2089Rs. 3799',\n",
       " 'Rs. 2089',\n",
       " 'Rs. 1719Rs. 4299',\n",
       " 'Rs. 1719',\n",
       " 'Rs. 5036Rs. 7195',\n",
       " 'Rs. 5036',\n",
       " 'Rs. 1439Rs. 3599',\n",
       " 'Rs. 1439',\n",
       " 'Rs. 1594Rs. 2899',\n",
       " 'Rs. 1594',\n",
       " 'Rs. 1152Rs. 2095',\n",
       " 'Rs. 1152',\n",
       " 'Rs. 1504Rs. 4299',\n",
       " 'Rs. 1504',\n",
       " 'Rs. 1919Rs. 4799',\n",
       " 'Rs. 1919',\n",
       " 'Rs. 2474Rs. 4499',\n",
       " 'Rs. 2474',\n",
       " 'Rs. 1499Rs. 5999',\n",
       " 'Rs. 1499',\n",
       " 'Rs. 1574Rs. 3499',\n",
       " 'Rs. 1574',\n",
       " 'Rs. 1799Rs. 2999',\n",
       " 'Rs. 1799',\n",
       " 'Rs. 2449Rs. 3499',\n",
       " 'Rs. 2449',\n",
       " 'Rs. 699Rs. 1999',\n",
       " 'Rs. 699',\n",
       " 'Rs. 986Rs. 1049',\n",
       " 'Rs. 986',\n",
       " 'Rs. 999',\n",
       " 'Rs. 1949Rs. 2999',\n",
       " 'Rs. 1949',\n",
       " 'Rs. 1499Rs. 5999',\n",
       " 'Rs. 1499',\n",
       " 'Rs. 3899Rs. 6499',\n",
       " 'Rs. 3899',\n",
       " 'Rs. 1484Rs. 3299',\n",
       " 'Rs. 1484',\n",
       " 'Rs. 674Rs. 2595',\n",
       " 'Rs. 674',\n",
       " 'Rs. 2319Rs. 3999',\n",
       " 'Rs. 2319',\n",
       " 'Rs. 1749Rs. 3499',\n",
       " 'Rs. 1749',\n",
       " 'Rs. 699Rs. 999',\n",
       " 'Rs. 699',\n",
       " 'Rs. 6795',\n",
       " 'Rs. 1224Rs. 4899',\n",
       " 'Rs. 1224']"
      ]
     },
     "execution_count": 20,
     "metadata": {},
     "output_type": "execute_result"
    }
   ],
   "source": [
    "brand_n=[]\n",
    "desc_n=[]\n",
    "price_n=[]\n",
    "for i in brand_m:\n",
    "    brand_n.append(i.text)\n",
    "for i in short:\n",
    "    desc_n.append(i.text)\n",
    "for i in price_m:\n",
    "    price_n.append(i.text)\n",
    "    \n",
    "brand_n\n",
    "desc_n\n",
    "price_n"
   ]
  },
  {
   "cell_type": "code",
   "execution_count": 21,
   "id": "c4088982",
   "metadata": {},
   "outputs": [],
   "source": [
    "page=driver.find_element_by_xpath(\"//li[@class='pagination-active']\")\n",
    "page.click()"
   ]
  },
  {
   "cell_type": "code",
   "execution_count": 22,
   "id": "4ba45e49",
   "metadata": {},
   "outputs": [
    {
     "data": {
      "text/plain": [
       "['Rs. 1824Rs. 7299',\n",
       " 'Rs. 1824',\n",
       " 'Rs. 649Rs. 1299',\n",
       " 'Rs. 649',\n",
       " 'Rs. 2399Rs. 3999',\n",
       " 'Rs. 2399',\n",
       " 'Rs. 594Rs. 1699',\n",
       " 'Rs. 594',\n",
       " 'Rs. 1319Rs. 3299',\n",
       " 'Rs. 1319',\n",
       " 'Rs. 4995',\n",
       " 'Rs. 699Rs. 1990',\n",
       " 'Rs. 699',\n",
       " 'Rs. 899Rs. 2599',\n",
       " 'Rs. 899',\n",
       " 'Rs. 11999',\n",
       " 'Rs. 4995',\n",
       " 'Rs. 5495',\n",
       " 'Rs. 996Rs. 1049',\n",
       " 'Rs. 996',\n",
       " 'Rs. 1224Rs. 3499',\n",
       " 'Rs. 1224',\n",
       " 'Rs. 4676Rs. 7195',\n",
       " 'Rs. 4676',\n",
       " 'Rs. 6999',\n",
       " 'Rs. 2599Rs. 3999',\n",
       " 'Rs. 2599',\n",
       " 'Rs. 1879Rs. 3999',\n",
       " 'Rs. 1879',\n",
       " 'Rs. 1349Rs. 2999',\n",
       " 'Rs. 1349',\n",
       " 'Rs. 3749Rs. 4999',\n",
       " 'Rs. 3749',\n",
       " 'Rs. 1824Rs. 7299',\n",
       " 'Rs. 1824',\n",
       " 'Rs. 699Rs. 1999',\n",
       " 'Rs. 699',\n",
       " 'Rs. 924Rs. 3699',\n",
       " 'Rs. 924',\n",
       " 'Rs. 619Rs. 1999',\n",
       " 'Rs. 619',\n",
       " 'Rs. 1224Rs. 3499',\n",
       " 'Rs. 1224',\n",
       " 'Rs. 2089Rs. 3799',\n",
       " 'Rs. 2089',\n",
       " 'Rs. 1719Rs. 4299',\n",
       " 'Rs. 1719',\n",
       " 'Rs. 5036Rs. 7195',\n",
       " 'Rs. 5036',\n",
       " 'Rs. 1439Rs. 3599',\n",
       " 'Rs. 1439',\n",
       " 'Rs. 1594Rs. 2899',\n",
       " 'Rs. 1594',\n",
       " 'Rs. 1152Rs. 2095',\n",
       " 'Rs. 1152',\n",
       " 'Rs. 1504Rs. 4299',\n",
       " 'Rs. 1504',\n",
       " 'Rs. 1919Rs. 4799',\n",
       " 'Rs. 1919',\n",
       " 'Rs. 2474Rs. 4499',\n",
       " 'Rs. 2474',\n",
       " 'Rs. 1499Rs. 5999',\n",
       " 'Rs. 1499',\n",
       " 'Rs. 1574Rs. 3499',\n",
       " 'Rs. 1574',\n",
       " 'Rs. 1799Rs. 2999',\n",
       " 'Rs. 1799',\n",
       " 'Rs. 2449Rs. 3499',\n",
       " 'Rs. 2449',\n",
       " 'Rs. 699Rs. 1999',\n",
       " 'Rs. 699',\n",
       " 'Rs. 986Rs. 1049',\n",
       " 'Rs. 986',\n",
       " 'Rs. 999',\n",
       " 'Rs. 1949Rs. 2999',\n",
       " 'Rs. 1949',\n",
       " 'Rs. 1499Rs. 5999',\n",
       " 'Rs. 1499',\n",
       " 'Rs. 3899Rs. 6499',\n",
       " 'Rs. 3899',\n",
       " 'Rs. 1484Rs. 3299',\n",
       " 'Rs. 1484',\n",
       " 'Rs. 674Rs. 2595',\n",
       " 'Rs. 674',\n",
       " 'Rs. 2319Rs. 3999',\n",
       " 'Rs. 2319',\n",
       " 'Rs. 1749Rs. 3499',\n",
       " 'Rs. 1749',\n",
       " 'Rs. 699Rs. 999',\n",
       " 'Rs. 699',\n",
       " 'Rs. 6795',\n",
       " 'Rs. 1224Rs. 4899',\n",
       " 'Rs. 1224',\n",
       " 'Rs. 1824Rs. 7299',\n",
       " 'Rs. 1824',\n",
       " 'Rs. 649Rs. 1299',\n",
       " 'Rs. 649',\n",
       " 'Rs. 2399Rs. 3999',\n",
       " 'Rs. 2399',\n",
       " 'Rs. 594Rs. 1699',\n",
       " 'Rs. 594',\n",
       " 'Rs. 1319Rs. 3299',\n",
       " 'Rs. 1319',\n",
       " 'Rs. 4995',\n",
       " 'Rs. 699Rs. 1990',\n",
       " 'Rs. 699',\n",
       " 'Rs. 899Rs. 2599',\n",
       " 'Rs. 899',\n",
       " 'Rs. 11999',\n",
       " 'Rs. 4995',\n",
       " 'Rs. 5495',\n",
       " 'Rs. 996Rs. 1049',\n",
       " 'Rs. 996',\n",
       " 'Rs. 1224Rs. 3499',\n",
       " 'Rs. 1224',\n",
       " 'Rs. 4676Rs. 7195',\n",
       " 'Rs. 4676',\n",
       " 'Rs. 6999',\n",
       " 'Rs. 2599Rs. 3999',\n",
       " 'Rs. 2599',\n",
       " 'Rs. 1879Rs. 3999',\n",
       " 'Rs. 1879',\n",
       " 'Rs. 1349Rs. 2999',\n",
       " 'Rs. 1349',\n",
       " 'Rs. 3749Rs. 4999',\n",
       " 'Rs. 3749',\n",
       " 'Rs. 1824Rs. 7299',\n",
       " 'Rs. 1824',\n",
       " 'Rs. 699Rs. 1999',\n",
       " 'Rs. 699',\n",
       " 'Rs. 924Rs. 3699',\n",
       " 'Rs. 924',\n",
       " 'Rs. 619Rs. 1999',\n",
       " 'Rs. 619',\n",
       " 'Rs. 1224Rs. 3499',\n",
       " 'Rs. 1224',\n",
       " 'Rs. 2089Rs. 3799',\n",
       " 'Rs. 2089',\n",
       " 'Rs. 1719Rs. 4299',\n",
       " 'Rs. 1719',\n",
       " 'Rs. 5036Rs. 7195',\n",
       " 'Rs. 5036',\n",
       " 'Rs. 1439Rs. 3599',\n",
       " 'Rs. 1439',\n",
       " 'Rs. 1594Rs. 2899',\n",
       " 'Rs. 1594',\n",
       " 'Rs. 1152Rs. 2095',\n",
       " 'Rs. 1152',\n",
       " 'Rs. 1504Rs. 4299',\n",
       " 'Rs. 1504',\n",
       " 'Rs. 1919Rs. 4799',\n",
       " 'Rs. 1919',\n",
       " 'Rs. 2474Rs. 4499',\n",
       " 'Rs. 2474',\n",
       " 'Rs. 1499Rs. 5999',\n",
       " 'Rs. 1499',\n",
       " 'Rs. 1574Rs. 3499',\n",
       " 'Rs. 1574',\n",
       " 'Rs. 1799Rs. 2999',\n",
       " 'Rs. 1799',\n",
       " 'Rs. 2449Rs. 3499',\n",
       " 'Rs. 2449',\n",
       " 'Rs. 699Rs. 1999',\n",
       " 'Rs. 699',\n",
       " 'Rs. 986Rs. 1049',\n",
       " 'Rs. 986',\n",
       " 'Rs. 999',\n",
       " 'Rs. 1949Rs. 2999',\n",
       " 'Rs. 1949',\n",
       " 'Rs. 1499Rs. 5999',\n",
       " 'Rs. 1499',\n",
       " 'Rs. 3899Rs. 6499',\n",
       " 'Rs. 3899',\n",
       " 'Rs. 1484Rs. 3299',\n",
       " 'Rs. 1484',\n",
       " 'Rs. 674Rs. 2595',\n",
       " 'Rs. 674',\n",
       " 'Rs. 2319Rs. 3999',\n",
       " 'Rs. 2319',\n",
       " 'Rs. 1749Rs. 3499',\n",
       " 'Rs. 1749',\n",
       " 'Rs. 699Rs. 999',\n",
       " 'Rs. 699',\n",
       " 'Rs. 6795',\n",
       " 'Rs. 1224Rs. 4899',\n",
       " 'Rs. 1224']"
      ]
     },
     "execution_count": 22,
     "metadata": {},
     "output_type": "execute_result"
    }
   ],
   "source": [
    "brand_m=driver.find_elements_by_xpath(\"//h3[@class='product-brand']\")\n",
    "short=driver.find_elements_by_xpath(\"//h4[@class='product-product']\")\n",
    "price_m=driver.find_elements_by_xpath(\"//div[@class='product-price']//span[1]\")\n",
    "for i in brand_m:\n",
    "    brand_n.append(i.text)\n",
    "for i in short:\n",
    "    desc_n.append(i.text)\n",
    "for i in price_m:\n",
    "    price_n.append(i.text)\n",
    "    \n",
    "brand_n\n",
    "desc_n\n",
    "price_n"
   ]
  },
  {
   "cell_type": "code",
   "execution_count": 23,
   "id": "94271b45",
   "metadata": {},
   "outputs": [],
   "source": [
    "page.click()"
   ]
  },
  {
   "cell_type": "code",
   "execution_count": 24,
   "id": "ba817ab6",
   "metadata": {},
   "outputs": [
    {
     "data": {
      "text/plain": [
       "['Rs. 1824Rs. 7299',\n",
       " 'Rs. 1824',\n",
       " 'Rs. 649Rs. 1299',\n",
       " 'Rs. 649',\n",
       " 'Rs. 2399Rs. 3999',\n",
       " 'Rs. 2399',\n",
       " 'Rs. 594Rs. 1699',\n",
       " 'Rs. 594',\n",
       " 'Rs. 1319Rs. 3299',\n",
       " 'Rs. 1319',\n",
       " 'Rs. 4995',\n",
       " 'Rs. 699Rs. 1990',\n",
       " 'Rs. 699',\n",
       " 'Rs. 899Rs. 2599',\n",
       " 'Rs. 899',\n",
       " 'Rs. 11999',\n",
       " 'Rs. 4995',\n",
       " 'Rs. 5495',\n",
       " 'Rs. 996Rs. 1049',\n",
       " 'Rs. 996',\n",
       " 'Rs. 1224Rs. 3499',\n",
       " 'Rs. 1224',\n",
       " 'Rs. 4676Rs. 7195',\n",
       " 'Rs. 4676',\n",
       " 'Rs. 6999',\n",
       " 'Rs. 2599Rs. 3999',\n",
       " 'Rs. 2599',\n",
       " 'Rs. 1879Rs. 3999',\n",
       " 'Rs. 1879',\n",
       " 'Rs. 1349Rs. 2999',\n",
       " 'Rs. 1349',\n",
       " 'Rs. 3749Rs. 4999',\n",
       " 'Rs. 3749',\n",
       " 'Rs. 1824Rs. 7299',\n",
       " 'Rs. 1824',\n",
       " 'Rs. 699Rs. 1999',\n",
       " 'Rs. 699',\n",
       " 'Rs. 924Rs. 3699',\n",
       " 'Rs. 924',\n",
       " 'Rs. 619Rs. 1999',\n",
       " 'Rs. 619',\n",
       " 'Rs. 1224Rs. 3499',\n",
       " 'Rs. 1224',\n",
       " 'Rs. 2089Rs. 3799',\n",
       " 'Rs. 2089',\n",
       " 'Rs. 1719Rs. 4299',\n",
       " 'Rs. 1719',\n",
       " 'Rs. 5036Rs. 7195',\n",
       " 'Rs. 5036',\n",
       " 'Rs. 1439Rs. 3599',\n",
       " 'Rs. 1439',\n",
       " 'Rs. 1594Rs. 2899',\n",
       " 'Rs. 1594',\n",
       " 'Rs. 1152Rs. 2095',\n",
       " 'Rs. 1152',\n",
       " 'Rs. 1504Rs. 4299',\n",
       " 'Rs. 1504',\n",
       " 'Rs. 1919Rs. 4799',\n",
       " 'Rs. 1919',\n",
       " 'Rs. 2474Rs. 4499',\n",
       " 'Rs. 2474',\n",
       " 'Rs. 1499Rs. 5999',\n",
       " 'Rs. 1499',\n",
       " 'Rs. 1574Rs. 3499',\n",
       " 'Rs. 1574',\n",
       " 'Rs. 1799Rs. 2999',\n",
       " 'Rs. 1799',\n",
       " 'Rs. 2449Rs. 3499',\n",
       " 'Rs. 2449',\n",
       " 'Rs. 699Rs. 1999',\n",
       " 'Rs. 699',\n",
       " 'Rs. 986Rs. 1049',\n",
       " 'Rs. 986',\n",
       " 'Rs. 999',\n",
       " 'Rs. 1949Rs. 2999',\n",
       " 'Rs. 1949',\n",
       " 'Rs. 1499Rs. 5999',\n",
       " 'Rs. 1499',\n",
       " 'Rs. 3899Rs. 6499',\n",
       " 'Rs. 3899',\n",
       " 'Rs. 1484Rs. 3299',\n",
       " 'Rs. 1484',\n",
       " 'Rs. 674Rs. 2595',\n",
       " 'Rs. 674',\n",
       " 'Rs. 2319Rs. 3999',\n",
       " 'Rs. 2319',\n",
       " 'Rs. 1749Rs. 3499',\n",
       " 'Rs. 1749',\n",
       " 'Rs. 699Rs. 999',\n",
       " 'Rs. 699',\n",
       " 'Rs. 6795',\n",
       " 'Rs. 1224Rs. 4899',\n",
       " 'Rs. 1224',\n",
       " 'Rs. 1824Rs. 7299',\n",
       " 'Rs. 1824',\n",
       " 'Rs. 649Rs. 1299',\n",
       " 'Rs. 649',\n",
       " 'Rs. 2399Rs. 3999',\n",
       " 'Rs. 2399',\n",
       " 'Rs. 594Rs. 1699',\n",
       " 'Rs. 594',\n",
       " 'Rs. 1319Rs. 3299',\n",
       " 'Rs. 1319',\n",
       " 'Rs. 4995',\n",
       " 'Rs. 699Rs. 1990',\n",
       " 'Rs. 699',\n",
       " 'Rs. 899Rs. 2599',\n",
       " 'Rs. 899',\n",
       " 'Rs. 11999',\n",
       " 'Rs. 4995',\n",
       " 'Rs. 5495',\n",
       " 'Rs. 996Rs. 1049',\n",
       " 'Rs. 996',\n",
       " 'Rs. 1224Rs. 3499',\n",
       " 'Rs. 1224',\n",
       " 'Rs. 4676Rs. 7195',\n",
       " 'Rs. 4676',\n",
       " 'Rs. 6999',\n",
       " 'Rs. 2599Rs. 3999',\n",
       " 'Rs. 2599',\n",
       " 'Rs. 1879Rs. 3999',\n",
       " 'Rs. 1879',\n",
       " 'Rs. 1349Rs. 2999',\n",
       " 'Rs. 1349',\n",
       " 'Rs. 3749Rs. 4999',\n",
       " 'Rs. 3749',\n",
       " 'Rs. 1824Rs. 7299',\n",
       " 'Rs. 1824',\n",
       " 'Rs. 699Rs. 1999',\n",
       " 'Rs. 699',\n",
       " 'Rs. 924Rs. 3699',\n",
       " 'Rs. 924',\n",
       " 'Rs. 619Rs. 1999',\n",
       " 'Rs. 619',\n",
       " 'Rs. 1224Rs. 3499',\n",
       " 'Rs. 1224',\n",
       " 'Rs. 2089Rs. 3799',\n",
       " 'Rs. 2089',\n",
       " 'Rs. 1719Rs. 4299',\n",
       " 'Rs. 1719',\n",
       " 'Rs. 5036Rs. 7195',\n",
       " 'Rs. 5036',\n",
       " 'Rs. 1439Rs. 3599',\n",
       " 'Rs. 1439',\n",
       " 'Rs. 1594Rs. 2899',\n",
       " 'Rs. 1594',\n",
       " 'Rs. 1152Rs. 2095',\n",
       " 'Rs. 1152',\n",
       " 'Rs. 1504Rs. 4299',\n",
       " 'Rs. 1504',\n",
       " 'Rs. 1919Rs. 4799',\n",
       " 'Rs. 1919',\n",
       " 'Rs. 2474Rs. 4499',\n",
       " 'Rs. 2474',\n",
       " 'Rs. 1499Rs. 5999',\n",
       " 'Rs. 1499',\n",
       " 'Rs. 1574Rs. 3499',\n",
       " 'Rs. 1574',\n",
       " 'Rs. 1799Rs. 2999',\n",
       " 'Rs. 1799',\n",
       " 'Rs. 2449Rs. 3499',\n",
       " 'Rs. 2449',\n",
       " 'Rs. 699Rs. 1999',\n",
       " 'Rs. 699',\n",
       " 'Rs. 986Rs. 1049',\n",
       " 'Rs. 986',\n",
       " 'Rs. 999',\n",
       " 'Rs. 1949Rs. 2999',\n",
       " 'Rs. 1949',\n",
       " 'Rs. 1499Rs. 5999',\n",
       " 'Rs. 1499',\n",
       " 'Rs. 3899Rs. 6499',\n",
       " 'Rs. 3899',\n",
       " 'Rs. 1484Rs. 3299',\n",
       " 'Rs. 1484',\n",
       " 'Rs. 674Rs. 2595',\n",
       " 'Rs. 674',\n",
       " 'Rs. 2319Rs. 3999',\n",
       " 'Rs. 2319',\n",
       " 'Rs. 1749Rs. 3499',\n",
       " 'Rs. 1749',\n",
       " 'Rs. 699Rs. 999',\n",
       " 'Rs. 699',\n",
       " 'Rs. 6795',\n",
       " 'Rs. 1224Rs. 4899',\n",
       " 'Rs. 1224',\n",
       " 'Rs. 1824Rs. 7299',\n",
       " 'Rs. 1824',\n",
       " 'Rs. 649Rs. 1299',\n",
       " 'Rs. 649',\n",
       " 'Rs. 2399Rs. 3999',\n",
       " 'Rs. 2399',\n",
       " 'Rs. 594Rs. 1699',\n",
       " 'Rs. 594',\n",
       " 'Rs. 1319Rs. 3299',\n",
       " 'Rs. 1319',\n",
       " 'Rs. 4995',\n",
       " 'Rs. 699Rs. 1990',\n",
       " 'Rs. 699',\n",
       " 'Rs. 899Rs. 2599',\n",
       " 'Rs. 899',\n",
       " 'Rs. 11999',\n",
       " 'Rs. 4995',\n",
       " 'Rs. 5495',\n",
       " 'Rs. 996Rs. 1049',\n",
       " 'Rs. 996',\n",
       " 'Rs. 1224Rs. 3499',\n",
       " 'Rs. 1224',\n",
       " 'Rs. 4676Rs. 7195',\n",
       " 'Rs. 4676',\n",
       " 'Rs. 6999',\n",
       " 'Rs. 2599Rs. 3999',\n",
       " 'Rs. 2599',\n",
       " 'Rs. 1879Rs. 3999',\n",
       " 'Rs. 1879',\n",
       " 'Rs. 1349Rs. 2999',\n",
       " 'Rs. 1349',\n",
       " 'Rs. 3749Rs. 4999',\n",
       " 'Rs. 3749',\n",
       " 'Rs. 1824Rs. 7299',\n",
       " 'Rs. 1824',\n",
       " 'Rs. 699Rs. 1999',\n",
       " 'Rs. 699',\n",
       " 'Rs. 924Rs. 3699',\n",
       " 'Rs. 924',\n",
       " 'Rs. 619Rs. 1999',\n",
       " 'Rs. 619',\n",
       " 'Rs. 1224Rs. 3499',\n",
       " 'Rs. 1224',\n",
       " 'Rs. 2089Rs. 3799',\n",
       " 'Rs. 2089',\n",
       " 'Rs. 1719Rs. 4299',\n",
       " 'Rs. 1719',\n",
       " 'Rs. 5036Rs. 7195',\n",
       " 'Rs. 5036',\n",
       " 'Rs. 1439Rs. 3599',\n",
       " 'Rs. 1439',\n",
       " 'Rs. 1594Rs. 2899',\n",
       " 'Rs. 1594',\n",
       " 'Rs. 1152Rs. 2095',\n",
       " 'Rs. 1152',\n",
       " 'Rs. 1504Rs. 4299',\n",
       " 'Rs. 1504',\n",
       " 'Rs. 1919Rs. 4799',\n",
       " 'Rs. 1919',\n",
       " 'Rs. 2474Rs. 4499',\n",
       " 'Rs. 2474',\n",
       " 'Rs. 1499Rs. 5999',\n",
       " 'Rs. 1499',\n",
       " 'Rs. 1574Rs. 3499',\n",
       " 'Rs. 1574',\n",
       " 'Rs. 1799Rs. 2999',\n",
       " 'Rs. 1799',\n",
       " 'Rs. 2449Rs. 3499',\n",
       " 'Rs. 2449',\n",
       " 'Rs. 699Rs. 1999',\n",
       " 'Rs. 699',\n",
       " 'Rs. 986Rs. 1049',\n",
       " 'Rs. 986',\n",
       " 'Rs. 999',\n",
       " 'Rs. 1949Rs. 2999',\n",
       " 'Rs. 1949',\n",
       " 'Rs. 1499Rs. 5999',\n",
       " 'Rs. 1499',\n",
       " 'Rs. 3899Rs. 6499',\n",
       " 'Rs. 3899',\n",
       " 'Rs. 1484Rs. 3299',\n",
       " 'Rs. 1484',\n",
       " 'Rs. 674Rs. 2595',\n",
       " 'Rs. 674',\n",
       " 'Rs. 2319Rs. 3999',\n",
       " 'Rs. 2319',\n",
       " 'Rs. 1749Rs. 3499',\n",
       " 'Rs. 1749',\n",
       " 'Rs. 699Rs. 999',\n",
       " 'Rs. 699',\n",
       " 'Rs. 6795',\n",
       " 'Rs. 1224Rs. 4899',\n",
       " 'Rs. 1224']"
      ]
     },
     "execution_count": 24,
     "metadata": {},
     "output_type": "execute_result"
    }
   ],
   "source": [
    "brand_m=driver.find_elements_by_xpath(\"//h3[@class='product-brand']\")\n",
    "short=driver.find_elements_by_xpath(\"//h4[@class='product-product']\")\n",
    "price_m=driver.find_elements_by_xpath(\"//div[@class='product-price']//span[1]\")\n",
    "for i in brand_m:\n",
    "    brand_n.append(i.text)\n",
    "for i in short:\n",
    "    desc_n.append(i.text)\n",
    "for i in price_m:\n",
    "    price_n.append(i.text)\n",
    "    \n",
    "brand_n\n",
    "desc_n\n",
    "price_n"
   ]
  },
  {
   "cell_type": "code",
   "execution_count": 25,
   "id": "e2dff0dc",
   "metadata": {},
   "outputs": [
    {
     "data": {
      "text/html": [
       "<div>\n",
       "<style scoped>\n",
       "    .dataframe tbody tr th:only-of-type {\n",
       "        vertical-align: middle;\n",
       "    }\n",
       "\n",
       "    .dataframe tbody tr th {\n",
       "        vertical-align: top;\n",
       "    }\n",
       "\n",
       "    .dataframe thead th {\n",
       "        text-align: right;\n",
       "    }\n",
       "</style>\n",
       "<table border=\"1\" class=\"dataframe\">\n",
       "  <thead>\n",
       "    <tr style=\"text-align: right;\">\n",
       "      <th></th>\n",
       "      <th>brand_m</th>\n",
       "      <th>short</th>\n",
       "      <th>price_m</th>\n",
       "    </tr>\n",
       "  </thead>\n",
       "  <tbody>\n",
       "    <tr>\n",
       "      <th>0</th>\n",
       "      <td>Red Tape</td>\n",
       "      <td>Men Air + Walking Shoes</td>\n",
       "      <td>Rs. 1824Rs. 7299</td>\n",
       "    </tr>\n",
       "    <tr>\n",
       "      <th>1</th>\n",
       "      <td>H&amp;M</td>\n",
       "      <td>Men Espadrilles</td>\n",
       "      <td>Rs. 1824</td>\n",
       "    </tr>\n",
       "    <tr>\n",
       "      <th>2</th>\n",
       "      <td>one8 x PUMA</td>\n",
       "      <td>Men Dart IDP Sneakers</td>\n",
       "      <td>Rs. 649Rs. 1299</td>\n",
       "    </tr>\n",
       "    <tr>\n",
       "      <th>3</th>\n",
       "      <td>MENGLER</td>\n",
       "      <td>Men Walking Shoes</td>\n",
       "      <td>Rs. 649</td>\n",
       "    </tr>\n",
       "    <tr>\n",
       "      <th>4</th>\n",
       "      <td>HRX by Hrithik Roshan</td>\n",
       "      <td>Men Front Runner Shoe</td>\n",
       "      <td>Rs. 2399Rs. 3999</td>\n",
       "    </tr>\n",
       "    <tr>\n",
       "      <th>...</th>\n",
       "      <td>...</td>\n",
       "      <td>...</td>\n",
       "      <td>...</td>\n",
       "    </tr>\n",
       "    <tr>\n",
       "      <th>95</th>\n",
       "      <td>Skechers</td>\n",
       "      <td>Women RUMBLE ON Sandals</td>\n",
       "      <td>Rs. 649Rs. 1299</td>\n",
       "    </tr>\n",
       "    <tr>\n",
       "      <th>96</th>\n",
       "      <td>Puma</td>\n",
       "      <td>Sneakers</td>\n",
       "      <td>Rs. 649</td>\n",
       "    </tr>\n",
       "    <tr>\n",
       "      <th>97</th>\n",
       "      <td>ZAPATOZ</td>\n",
       "      <td>Women Heeled Boots</td>\n",
       "      <td>Rs. 2399Rs. 3999</td>\n",
       "    </tr>\n",
       "    <tr>\n",
       "      <th>98</th>\n",
       "      <td>Nike</td>\n",
       "      <td>Men Flex Run 2021 Running Shoe</td>\n",
       "      <td>Rs. 2399</td>\n",
       "    </tr>\n",
       "    <tr>\n",
       "      <th>99</th>\n",
       "      <td>Red Tape</td>\n",
       "      <td>Men Walking Shoes</td>\n",
       "      <td>Rs. 594Rs. 1699</td>\n",
       "    </tr>\n",
       "  </tbody>\n",
       "</table>\n",
       "<p>100 rows × 3 columns</p>\n",
       "</div>"
      ],
      "text/plain": [
       "                  brand_m                           short           price_m\n",
       "0                Red Tape         Men Air + Walking Shoes  Rs. 1824Rs. 7299\n",
       "1                     H&M                 Men Espadrilles          Rs. 1824\n",
       "2             one8 x PUMA           Men Dart IDP Sneakers   Rs. 649Rs. 1299\n",
       "3                 MENGLER               Men Walking Shoes           Rs. 649\n",
       "4   HRX by Hrithik Roshan           Men Front Runner Shoe  Rs. 2399Rs. 3999\n",
       "..                    ...                             ...               ...\n",
       "95               Skechers         Women RUMBLE ON Sandals   Rs. 649Rs. 1299\n",
       "96                   Puma                        Sneakers           Rs. 649\n",
       "97                ZAPATOZ              Women Heeled Boots  Rs. 2399Rs. 3999\n",
       "98                   Nike  Men Flex Run 2021 Running Shoe          Rs. 2399\n",
       "99               Red Tape               Men Walking Shoes   Rs. 594Rs. 1699\n",
       "\n",
       "[100 rows x 3 columns]"
      ]
     },
     "execution_count": 25,
     "metadata": {},
     "output_type": "execute_result"
    }
   ],
   "source": [
    "myntra=pd.DataFrame({'brand_m':brand_n[:100],\n",
    "                            'short':desc_n[:100],\n",
    "                            'price_m':price_n[:100],\n",
    "                              })\n",
    "myntra"
   ]
  },
  {
   "cell_type": "code",
   "execution_count": 26,
   "id": "a88a7f78",
   "metadata": {},
   "outputs": [],
   "source": [
    "#Q10: Go to webpage https://www.amazon.in/\n",
    "# Enter “Laptop” in the search field and then click the search icon.\n",
    "# Then set CPU Type filter to “Intel Core i7” and “Intel Core i9” as shown in the \n",
    "#below image:"
   ]
  },
  {
   "cell_type": "code",
   "execution_count": 77,
   "id": "0114e037",
   "metadata": {},
   "outputs": [],
   "source": [
    "import pandas as pd\n",
    "import numpy as np\n",
    "from bs4 import BeautifulSoup\n",
    "import selenium\n",
    "from selenium import webdriver\n",
    "from selenium.webdriver.support.ui import WebDriverWait\n",
    "from selenium.webdriver.support import expected_conditions as EC\n",
    "driver=webdriver.Chrome('C:/Users/LENOVO/Downloads/chromedriver_win32/chromedriver')\n",
    "url='https://www.amazon.in/'\n",
    "driver.get(url)"
   ]
  },
  {
   "cell_type": "code",
   "execution_count": 78,
   "id": "59b8147f",
   "metadata": {},
   "outputs": [
    {
     "data": {
      "text/plain": [
       "<selenium.webdriver.remote.webelement.WebElement (session=\"3d7e195653f8d944e450484283317366\", element=\"c0b44275-8890-4f89-8949-901435821346\")>"
      ]
     },
     "execution_count": 78,
     "metadata": {},
     "output_type": "execute_result"
    }
   ],
   "source": [
    "search_location=driver.find_element_by_id(\"twotabsearchtextbox\")\n",
    "search_location"
   ]
  },
  {
   "cell_type": "code",
   "execution_count": 79,
   "id": "285b5553",
   "metadata": {},
   "outputs": [],
   "source": [
    "search_location.send_keys('Laptop')"
   ]
  },
  {
   "cell_type": "code",
   "execution_count": 80,
   "id": "aabdc305",
   "metadata": {},
   "outputs": [
    {
     "data": {
      "text/plain": [
       "<selenium.webdriver.remote.webelement.WebElement (session=\"3d7e195653f8d944e450484283317366\", element=\"3c07c0ee-d8a3-4d77-8ff5-b10edcddc7e1\")>"
      ]
     },
     "execution_count": 80,
     "metadata": {},
     "output_type": "execute_result"
    }
   ],
   "source": [
    "search_btn=driver.find_element_by_xpath(\"//div[@class='nav-search-submit nav-sprite']\")\n",
    "search_btn"
   ]
  },
  {
   "cell_type": "code",
   "execution_count": 81,
   "id": "42710ae3",
   "metadata": {},
   "outputs": [],
   "source": [
    "search_btn.click()"
   ]
  },
  {
   "cell_type": "code",
   "execution_count": 82,
   "id": "d228049d",
   "metadata": {},
   "outputs": [],
   "source": [
    "filter_button=driver.find_elements_by_xpath(\"//span[@class='a-size-base a-color-base']\")\n",
    "for i in filter_button:\n",
    "    if i.text=='Intel Core i7':\n",
    "        i.click()\n",
    "        break"
   ]
  },
  {
   "cell_type": "code",
   "execution_count": 83,
   "id": "868677ae",
   "metadata": {},
   "outputs": [],
   "source": [
    "filter_button=driver.find_elements_by_xpath(\"//span[@class='a-size-base a-color-base']\")\n",
    "for i in filter_button:\n",
    "    if i.text=='Intel Core i9':\n",
    "        i.click()\n",
    "        break"
   ]
  },
  {
   "cell_type": "code",
   "execution_count": 84,
   "id": "658ffd0c",
   "metadata": {},
   "outputs": [
    {
     "data": {
      "text/plain": [
       "[<selenium.webdriver.remote.webelement.WebElement (session=\"3d7e195653f8d944e450484283317366\", element=\"71050371-e2b6-44b6-ae5e-c2576252f3b9\")>,\n",
       " <selenium.webdriver.remote.webelement.WebElement (session=\"3d7e195653f8d944e450484283317366\", element=\"4e0f179f-957a-4220-9f9e-7aff65c6438e\")>,\n",
       " <selenium.webdriver.remote.webelement.WebElement (session=\"3d7e195653f8d944e450484283317366\", element=\"66c3e967-1844-447a-bd47-03b09df55ea8\")>,\n",
       " <selenium.webdriver.remote.webelement.WebElement (session=\"3d7e195653f8d944e450484283317366\", element=\"b1a2c55c-e964-4c9c-aa2b-42a6fece3930\")>,\n",
       " <selenium.webdriver.remote.webelement.WebElement (session=\"3d7e195653f8d944e450484283317366\", element=\"c7b31f26-f5e0-47c8-909b-2158bd59ff28\")>,\n",
       " <selenium.webdriver.remote.webelement.WebElement (session=\"3d7e195653f8d944e450484283317366\", element=\"92601ba5-0945-4959-870c-664d7be13bde\")>,\n",
       " <selenium.webdriver.remote.webelement.WebElement (session=\"3d7e195653f8d944e450484283317366\", element=\"2a763e61-0035-4148-9b46-422313b99969\")>,\n",
       " <selenium.webdriver.remote.webelement.WebElement (session=\"3d7e195653f8d944e450484283317366\", element=\"2204fe8a-d181-440a-b72d-adeb4e74a0b8\")>,\n",
       " <selenium.webdriver.remote.webelement.WebElement (session=\"3d7e195653f8d944e450484283317366\", element=\"c3038cd6-5ac9-42b2-a3d7-b6fce635ad1c\")>,\n",
       " <selenium.webdriver.remote.webelement.WebElement (session=\"3d7e195653f8d944e450484283317366\", element=\"efd375b3-8f84-427b-b41a-6ef79d732eb3\")>,\n",
       " <selenium.webdriver.remote.webelement.WebElement (session=\"3d7e195653f8d944e450484283317366\", element=\"41464135-81f6-48bf-8c61-163cecdee8d5\")>,\n",
       " <selenium.webdriver.remote.webelement.WebElement (session=\"3d7e195653f8d944e450484283317366\", element=\"456cd890-5ca0-47f7-80bd-4f9f07e404cf\")>,\n",
       " <selenium.webdriver.remote.webelement.WebElement (session=\"3d7e195653f8d944e450484283317366\", element=\"dd3747b1-c177-49e4-a580-ff917a4d2d0f\")>,\n",
       " <selenium.webdriver.remote.webelement.WebElement (session=\"3d7e195653f8d944e450484283317366\", element=\"c72ba08d-a562-40a7-970a-dd5abf531ef2\")>,\n",
       " <selenium.webdriver.remote.webelement.WebElement (session=\"3d7e195653f8d944e450484283317366\", element=\"a8248d3a-7360-4b20-ac28-1052e9efbaef\")>,\n",
       " <selenium.webdriver.remote.webelement.WebElement (session=\"3d7e195653f8d944e450484283317366\", element=\"7384ff52-62de-4fd6-96e6-f402a8764965\")>,\n",
       " <selenium.webdriver.remote.webelement.WebElement (session=\"3d7e195653f8d944e450484283317366\", element=\"5aa47542-7728-4406-8445-87dab611861d\")>,\n",
       " <selenium.webdriver.remote.webelement.WebElement (session=\"3d7e195653f8d944e450484283317366\", element=\"069064a4-769d-4c6d-93ec-672663a89b6a\")>,\n",
       " <selenium.webdriver.remote.webelement.WebElement (session=\"3d7e195653f8d944e450484283317366\", element=\"bd1fc600-fa11-4208-8896-fbe14ba81ad9\")>,\n",
       " <selenium.webdriver.remote.webelement.WebElement (session=\"3d7e195653f8d944e450484283317366\", element=\"f75cd741-0315-4b3a-b18f-08d643e87a0c\")>,\n",
       " <selenium.webdriver.remote.webelement.WebElement (session=\"3d7e195653f8d944e450484283317366\", element=\"d0f488b3-849d-4d7a-8af3-7f8f98e1c365\")>,\n",
       " <selenium.webdriver.remote.webelement.WebElement (session=\"3d7e195653f8d944e450484283317366\", element=\"d2b83574-e763-4620-a3b5-20c795fbc97f\")>,\n",
       " <selenium.webdriver.remote.webelement.WebElement (session=\"3d7e195653f8d944e450484283317366\", element=\"b8134d5c-1709-4268-8d32-95ea1fd5cc40\")>,\n",
       " <selenium.webdriver.remote.webelement.WebElement (session=\"3d7e195653f8d944e450484283317366\", element=\"d26d275c-9194-401b-9bdd-2cd851a076f5\")>,\n",
       " <selenium.webdriver.remote.webelement.WebElement (session=\"3d7e195653f8d944e450484283317366\", element=\"66c8beed-0ff3-4581-8696-102f6eaeb685\")>,\n",
       " <selenium.webdriver.remote.webelement.WebElement (session=\"3d7e195653f8d944e450484283317366\", element=\"6fafec3c-d078-4527-80ff-1070cd0c23e9\")>,\n",
       " <selenium.webdriver.remote.webelement.WebElement (session=\"3d7e195653f8d944e450484283317366\", element=\"c4a641df-dde3-4138-8655-b2620ea6f5d4\")>,\n",
       " <selenium.webdriver.remote.webelement.WebElement (session=\"3d7e195653f8d944e450484283317366\", element=\"0181c1b3-d458-4c52-ab7d-544fe36b1c07\")>]"
      ]
     },
     "execution_count": 84,
     "metadata": {},
     "output_type": "execute_result"
    }
   ],
   "source": [
    "title=driver.find_elements_by_xpath(\"//h2[@class='a-size-mini a-spacing-none a-color-base s-line-clamp-2']\")\n",
    "title"
   ]
  },
  {
   "cell_type": "code",
   "execution_count": 85,
   "id": "02a7a77d",
   "metadata": {},
   "outputs": [
    {
     "data": {
      "text/plain": [
       "['ASUS TUF Dash F15 (2021), 15.6\" (39.62 cms) FHD 144Hz, Intel Core i7-11370H 11th Gen, RTX 3050 Ti 4GB Graphics, Gaming Laptop (16GB/1TB SSD/Office 2019/Windows 10/Eclipse Gray/2 kg), FX516PE-HN088TS',\n",
       " 'HP Envy 11th Gen Core i7 Processor 13.3-inch (33.78 cms) FHD Touchscreen Laptop (16GB/1TB SSD/Win 10/NVIDIA MX450 2GB/Natural Silver/1.3 kg), 13-ba1018TX',\n",
       " 'MSI GF65 Thin, Intel i7-10750H, 15.6\" FHD (39.6 cm) IPS-Level 144Hz Panel Laptop (16GB/512GB NVMe SSD/Windows 10 Home/Nvidia GTX1660 Ti 6GB GDDR6/Black/1.86Kg), 10SDR-1280IN',\n",
       " 'HP Pavilion (2021) Thin & Light 11th Gen Core i7 Laptop, 16 GB RAM, 1TB SSD, Iris Xe Graphics, 14\" (35.56cms) FHD Screen, Windows 10, MS Office, Backlit Keyboard (14-dv0058TU)',\n",
       " 'Mi Notebook Horizon Edition 14 Intel Core i7-10510U 10th Gen 14-inch (35.56 cms) Thin and Light Laptop(8GB/512GB SSD/Windows 10/Nvidia MX350 2GB Graphics/Grey/1.35Kg), XMA1904-AF+Webcam',\n",
       " 'ASUS TUF Gaming F15 (2020), 15.6-inch (39.62 cms) FHD 144Hz, Intel Core i7-10870H 10th Gen, NVIDIA GeForce GTX 1650 4GB Graphics, Gaming Laptop(8GB/512GB SSDWindows 10/Gray/2.3 Kg), FX566LH-HN255T',\n",
       " 'Life Digital Laptop 15.6-inch (39.62 cms) (Intel Core i7, 4GB RAM, 256GB SSD, Windows 10), ZED AIR CX7',\n",
       " 'HP Pavilion 13(2021) 11th Gen Intel Core i7 Laptop, 16GB RAM, 1TB SSD, 13.3-inch(33.8 cm) FHD Screen, Win 10, MS Office, Ceramic White, 1.24 Kg (13-bb0078TU)',\n",
       " 'ASUS TUF Dash F15 (2021), 15.6\" (39.62 cms) FHD 144Hz, Intel Core i7-11370H 11th Gen, RTX 3050 Ti 4GB Graphics, Gaming Laptop (16GB/1TB SSD/Office 2019/Windows 10/Eclipse Gray/2 kg), FX516PE-HN088TS',\n",
       " 'HP Envy 11th Gen Core i7 Processor 13.3-inch (33.78 cms) FHD Touchscreen Laptop (16GB/1TB SSD/Win 10/NVIDIA MX450 2GB/Natural Silver/1.3 kg), 13-ba1018TX',\n",
       " 'MSI GF75 Thin, Intel i7-10750H, 17.3\" (43.9 cm) FHD IPS-Level 144Hz Panel Laptop (8GB/512GB NVMe SSD/Windows 10 Home/Nvidia GTX1650 4GB GDDR6/Black/2.2Kg), 10SCXR-654IN',\n",
       " 'Lenovo IdeaPad Flex 5 11th Gen Intel Core i7 14\"(35.56cm) FHD IPS 2-in-1 Touchscreen Laptop(16GB/512GB SSD/Windows 10/MS Office/Lenovo Digital Pen/Fingerprint Reader/Graphite Grey/1.5Kg), 82HS0092IN',\n",
       " 'ASUS VivoBook S S14 Intel Core i7-1165G7 11th Gen, 14-inch FHD Thin and Light Laptop (8GB RAM/512GB SSD + 32GB Optane Memory/Windows 10/Office 2019/Iris X Graphics- Indie Black/1.4 Kg), S433EA-AM701TS',\n",
       " 'Lenovo Legion 5 10th Gen Intel Core i7-10750H 15.6\" (39.63cm) FHD IPS Gaming Laptop (16GB/512GB SSD/Windows 10/NVIDIA GTX 1650 4GB/120Hz Refresh Display/Phantom Black/2.3Kg), 82AU00PNIN',\n",
       " 'Lenovo Yoga 7 11th Gen Intel Core i7-1165G7 14\" (35.56cm) FHD IPS 2-in-1 Touchscreen Laptop (16GB/512GB SSD/Windows 10/MS Office/Lenovo Digital Pen/Fingerprint Reader/Slate Grey/1.43Kg), 82BH004HIN',\n",
       " 'Acer Swift 5 14\" (35.56cms) Full HD IPS Display with Touchscreen Ultra Thin and Light Notebook (Intel i7 - 11th Gen/16GB RAM/1TB SSD/Win10/Intel Iris Xe Graphics/1.05 Kg/Mist Green), SF514-55TA',\n",
       " '(Renewed) Lenovo Intel Core i7-4th Gen 14 Inch(35.56 cms) 1920 x 1080 HD Laptop (8GB RAM/1TB HDD/Windows 10 Pro/MS Office/ Intel HD graphics,Black,2.0kg) Lenovo ThinkPad T440p',\n",
       " 'ASUS VivoBook S S15 (2021), 15.6-inch (39.62 cms) FHD Intel Core i7-1165G7 11th Gen, Thin and Light Laptop (8GB/512GB SSD/Office 2019/Windows 10/2GB NVIDIA MX350 Graphics/Silver/1.8 kg) S532EQ-BQ702TS',\n",
       " '(Renewed) Dell Intel 4th Gen Core i7 14-Inch(35.56cms) Full HD (1920 X 1080) Laptop /16GB/512GB SSD/Windows 10 Pro/MS Office (Preinstalled)',\n",
       " '(Renewed) Microsoft Surface Intel 8th Gen Core i7 15-Inch (38.1 cms) 2560x1600 Laptop (16 GB/256 GB/Windows 10 Pro/NVIDIA GeForce GTX 1060 discrete GPU w/6GB GDDR5 graphics memory/Silver/1.50Kg), 1793',\n",
       " 'HP 14 Thin & Light 14\" (35.56cms) FHD Laptop (11th Gen Intel i7-1165G7/8GB/512GB SSD/Windows 10/MS Office 2019/Alexa Built-in/Pale Gold/1.47 kg), 14s-dr2007TU',\n",
       " '(Renewed) Lenovo Intel Core i7-4th Gen 14 Inch(35.56 cms) 1920 x 1080 HD Laptop (8GB RAM/500GB HDD/Windows 10 Pro/MS Office/ Intel HD graphics,Black,2.0kg) Lenovo ThinkPad T440p',\n",
       " '(Renewed) Lenovo Intel Core i7-4th Gen 14 Inch(35.56 cms) 1920 x 1080 HD Laptop (16GB RAM/128GB SSD & 2TB HDD/Windows 10 Pro/MS Office/ Intel HD graphics,Black,2.0kg) Lenovo ThinkPad T440p',\n",
       " '(Renewed) Lenovo T430 14-inch Laptop (Core i7/ 16GB RAM/500GB HDD/Windows 10 Pro/MS Office 2019, Intel Integrated Graphics, PAN INDIA WARRANTY) Black',\n",
       " '(Renewed) Lenovo T430 14-inch Laptop (Core i7/ 16GB RAM/256GB SSD/Windows 10 Pro/MS Office 2019, Intel Integrated Graphics, PAN INDIA WARRANTY) Black',\n",
       " '(Renewed) Lenovo Intel Core i7-4th Gen 14 Inch(35.56 cms) 1920 x 1080 HD Laptop (8GB RAM/128GB SSD & 1TB HDD/Windows 10 Pro/MS Office/ Intel HD graphics,Black,2.0kg) Lenovo ThinkPad T440p',\n",
       " '(Renewed) Lenovo Intel Core i7-4th Gen 14 Inch(35.56 cms) 1920 x 1080 HD Laptop (4GB RAM/500GB HDD/Windows 10 Pro/MS Office/ Intel HD graphics,Black,2.0kg) Lenovo ThinkPad T440p',\n",
       " '(Renewed) Lenovo Intel Core i7-4th Gen 14 Inch(35.56 cms) 1920 x 1080 HD Laptop (16GB RAM /1TB SSD/Windows 10 Pro/MS Office/ Intel HD graphics,Black,2.0kg) Lenovo ThinkPad T440p']"
      ]
     },
     "execution_count": 85,
     "metadata": {},
     "output_type": "execute_result"
    }
   ],
   "source": [
    "title_n=[]\n",
    "for i in title:\n",
    "    title_n.append(i.text)\n",
    "title_n"
   ]
  },
  {
   "cell_type": "code",
   "execution_count": 86,
   "id": "8fe04dc2",
   "metadata": {},
   "outputs": [
    {
     "data": {
      "text/plain": [
       "[<selenium.webdriver.remote.webelement.WebElement (session=\"3d7e195653f8d944e450484283317366\", element=\"c5025a92-35ab-4518-9fd0-247096871a36\")>,\n",
       " <selenium.webdriver.remote.webelement.WebElement (session=\"3d7e195653f8d944e450484283317366\", element=\"e5bb340a-5db6-471b-a459-93646ee9abdc\")>,\n",
       " <selenium.webdriver.remote.webelement.WebElement (session=\"3d7e195653f8d944e450484283317366\", element=\"16b29b8d-597f-4ac6-a93a-8739a4f57063\")>,\n",
       " <selenium.webdriver.remote.webelement.WebElement (session=\"3d7e195653f8d944e450484283317366\", element=\"37af8b9f-df27-41c7-9b75-2aaee162366f\")>,\n",
       " <selenium.webdriver.remote.webelement.WebElement (session=\"3d7e195653f8d944e450484283317366\", element=\"2e30aa41-940f-4e6e-947c-9c044f24cc17\")>,\n",
       " <selenium.webdriver.remote.webelement.WebElement (session=\"3d7e195653f8d944e450484283317366\", element=\"e7df6658-75c3-4090-97d0-8ef04b284328\")>,\n",
       " <selenium.webdriver.remote.webelement.WebElement (session=\"3d7e195653f8d944e450484283317366\", element=\"4d8ddd98-d46c-44a1-9ed9-85508a13f785\")>,\n",
       " <selenium.webdriver.remote.webelement.WebElement (session=\"3d7e195653f8d944e450484283317366\", element=\"7d7ab85c-4fcf-42c8-881e-1efccf341e6b\")>,\n",
       " <selenium.webdriver.remote.webelement.WebElement (session=\"3d7e195653f8d944e450484283317366\", element=\"da67a7e1-e9d4-4824-a73d-2a5c55d25185\")>,\n",
       " <selenium.webdriver.remote.webelement.WebElement (session=\"3d7e195653f8d944e450484283317366\", element=\"449e0256-2428-4feb-93f5-e454557f610d\")>,\n",
       " <selenium.webdriver.remote.webelement.WebElement (session=\"3d7e195653f8d944e450484283317366\", element=\"bc4a7be2-9226-44d9-9e4e-16ef3c4b9a49\")>,\n",
       " <selenium.webdriver.remote.webelement.WebElement (session=\"3d7e195653f8d944e450484283317366\", element=\"2a1286f9-5187-4e75-85f7-0572d256e10c\")>,\n",
       " <selenium.webdriver.remote.webelement.WebElement (session=\"3d7e195653f8d944e450484283317366\", element=\"d05d7ddb-d7ca-4d50-837e-f524e9982209\")>,\n",
       " <selenium.webdriver.remote.webelement.WebElement (session=\"3d7e195653f8d944e450484283317366\", element=\"1b966e84-3ed2-467a-b9d4-ecaa8b9a34e4\")>,\n",
       " <selenium.webdriver.remote.webelement.WebElement (session=\"3d7e195653f8d944e450484283317366\", element=\"339e84ee-7b69-47d8-9399-206c9838de92\")>,\n",
       " <selenium.webdriver.remote.webelement.WebElement (session=\"3d7e195653f8d944e450484283317366\", element=\"8b884b56-c5f2-4740-8de2-7dcffb73fb40\")>,\n",
       " <selenium.webdriver.remote.webelement.WebElement (session=\"3d7e195653f8d944e450484283317366\", element=\"3462eec0-2343-490a-a447-a754a897fa2a\")>,\n",
       " <selenium.webdriver.remote.webelement.WebElement (session=\"3d7e195653f8d944e450484283317366\", element=\"41fdc0da-a4a6-4801-940b-763326f3a862\")>,\n",
       " <selenium.webdriver.remote.webelement.WebElement (session=\"3d7e195653f8d944e450484283317366\", element=\"a1e7ef44-c02b-42b8-b000-2059392b4c01\")>,\n",
       " <selenium.webdriver.remote.webelement.WebElement (session=\"3d7e195653f8d944e450484283317366\", element=\"d6e4f2f7-7fa0-4f35-8bfa-e11980a90c53\")>,\n",
       " <selenium.webdriver.remote.webelement.WebElement (session=\"3d7e195653f8d944e450484283317366\", element=\"0d8cb6ed-a085-4e32-ac50-78a8615033fe\")>,\n",
       " <selenium.webdriver.remote.webelement.WebElement (session=\"3d7e195653f8d944e450484283317366\", element=\"d2a94df6-c84d-452c-81f8-a9748a39cdc8\")>,\n",
       " <selenium.webdriver.remote.webelement.WebElement (session=\"3d7e195653f8d944e450484283317366\", element=\"1e53f335-5311-42d4-95d9-f8d0178e970f\")>,\n",
       " <selenium.webdriver.remote.webelement.WebElement (session=\"3d7e195653f8d944e450484283317366\", element=\"477a7af8-7235-411c-9ab7-6a3494340035\")>,\n",
       " <selenium.webdriver.remote.webelement.WebElement (session=\"3d7e195653f8d944e450484283317366\", element=\"f070f169-0167-4f70-ab15-4b7d44f98594\")>,\n",
       " <selenium.webdriver.remote.webelement.WebElement (session=\"3d7e195653f8d944e450484283317366\", element=\"29ec752c-0de6-41b8-b808-de8b7886f141\")>,\n",
       " <selenium.webdriver.remote.webelement.WebElement (session=\"3d7e195653f8d944e450484283317366\", element=\"9401df56-7912-4fbf-bcfa-017b90354588\")>]"
      ]
     },
     "execution_count": 86,
     "metadata": {},
     "output_type": "execute_result"
    }
   ],
   "source": [
    "price=driver.find_elements_by_xpath(\"//span[@class='a-price-whole']\")\n",
    "price"
   ]
  },
  {
   "cell_type": "code",
   "execution_count": 87,
   "id": "abe62a84",
   "metadata": {},
   "outputs": [
    {
     "data": {
      "text/plain": [
       "['1,07,990',\n",
       " '1,09,990',\n",
       " '81,990',\n",
       " '84,990',\n",
       " '59,490',\n",
       " '71,990',\n",
       " '34,990',\n",
       " '95,586',\n",
       " '1,07,990',\n",
       " '1,09,990',\n",
       " '74,990',\n",
       " '90,485',\n",
       " '77,990',\n",
       " '82,990',\n",
       " '1,03,100',\n",
       " '94,999',\n",
       " '44,999',\n",
       " '83,595',\n",
       " '46,999',\n",
       " '1,60,000',\n",
       " '43,999',\n",
       " '51,999',\n",
       " '46,999',\n",
       " '51,999',\n",
       " '46,999',\n",
       " '40,999',\n",
       " '50,999']"
      ]
     },
     "execution_count": 87,
     "metadata": {},
     "output_type": "execute_result"
    }
   ],
   "source": [
    "price_n=[]\n",
    "for i in price:\n",
    "    price_n.append(i.text)\n",
    "price_n"
   ]
  },
  {
   "cell_type": "code",
   "execution_count": 88,
   "id": "7f1f86d6",
   "metadata": {},
   "outputs": [],
   "source": [
    "ratings=driver.find_elements_by_id(\"//li[@class='p_72/1318476031']\")"
   ]
  },
  {
   "cell_type": "code",
   "execution_count": 89,
   "id": "027432a9",
   "metadata": {},
   "outputs": [
    {
     "data": {
      "text/plain": [
       "[]"
      ]
     },
     "execution_count": 89,
     "metadata": {},
     "output_type": "execute_result"
    }
   ],
   "source": [
    "ratings_n=[]\n",
    "for i in ratings:\n",
    "    ratings_n.append(i.text)\n",
    "ratings_n"
   ]
  },
  {
   "cell_type": "code",
   "execution_count": 90,
   "id": "be8ca9b8",
   "metadata": {},
   "outputs": [
    {
     "data": {
      "text/html": [
       "<div>\n",
       "<style scoped>\n",
       "    .dataframe tbody tr th:only-of-type {\n",
       "        vertical-align: middle;\n",
       "    }\n",
       "\n",
       "    .dataframe tbody tr th {\n",
       "        vertical-align: top;\n",
       "    }\n",
       "\n",
       "    .dataframe thead th {\n",
       "        text-align: right;\n",
       "    }\n",
       "</style>\n",
       "<table border=\"1\" class=\"dataframe\">\n",
       "  <thead>\n",
       "    <tr style=\"text-align: right;\">\n",
       "      <th></th>\n",
       "      <th>title</th>\n",
       "      <th>price</th>\n",
       "    </tr>\n",
       "  </thead>\n",
       "  <tbody>\n",
       "    <tr>\n",
       "      <th>0</th>\n",
       "      <td>ASUS TUF Dash F15 (2021), 15.6\" (39.62 cms) FH...</td>\n",
       "      <td>1,07,990</td>\n",
       "    </tr>\n",
       "    <tr>\n",
       "      <th>1</th>\n",
       "      <td>HP Envy 11th Gen Core i7 Processor 13.3-inch (...</td>\n",
       "      <td>1,09,990</td>\n",
       "    </tr>\n",
       "    <tr>\n",
       "      <th>2</th>\n",
       "      <td>MSI GF65 Thin, Intel i7-10750H, 15.6\" FHD (39....</td>\n",
       "      <td>81,990</td>\n",
       "    </tr>\n",
       "    <tr>\n",
       "      <th>3</th>\n",
       "      <td>HP Pavilion (2021) Thin &amp; Light 11th Gen Core ...</td>\n",
       "      <td>84,990</td>\n",
       "    </tr>\n",
       "    <tr>\n",
       "      <th>4</th>\n",
       "      <td>Mi Notebook Horizon Edition 14 Intel Core i7-1...</td>\n",
       "      <td>59,490</td>\n",
       "    </tr>\n",
       "    <tr>\n",
       "      <th>5</th>\n",
       "      <td>ASUS TUF Gaming F15 (2020), 15.6-inch (39.62 c...</td>\n",
       "      <td>71,990</td>\n",
       "    </tr>\n",
       "    <tr>\n",
       "      <th>6</th>\n",
       "      <td>Life Digital Laptop 15.6-inch (39.62 cms) (Int...</td>\n",
       "      <td>34,990</td>\n",
       "    </tr>\n",
       "    <tr>\n",
       "      <th>7</th>\n",
       "      <td>HP Pavilion 13(2021) 11th Gen Intel Core i7 La...</td>\n",
       "      <td>95,586</td>\n",
       "    </tr>\n",
       "    <tr>\n",
       "      <th>8</th>\n",
       "      <td>ASUS TUF Dash F15 (2021), 15.6\" (39.62 cms) FH...</td>\n",
       "      <td>1,07,990</td>\n",
       "    </tr>\n",
       "    <tr>\n",
       "      <th>9</th>\n",
       "      <td>HP Envy 11th Gen Core i7 Processor 13.3-inch (...</td>\n",
       "      <td>1,09,990</td>\n",
       "    </tr>\n",
       "  </tbody>\n",
       "</table>\n",
       "</div>"
      ],
      "text/plain": [
       "                                               title     price\n",
       "0  ASUS TUF Dash F15 (2021), 15.6\" (39.62 cms) FH...  1,07,990\n",
       "1  HP Envy 11th Gen Core i7 Processor 13.3-inch (...  1,09,990\n",
       "2  MSI GF65 Thin, Intel i7-10750H, 15.6\" FHD (39....    81,990\n",
       "3  HP Pavilion (2021) Thin & Light 11th Gen Core ...    84,990\n",
       "4  Mi Notebook Horizon Edition 14 Intel Core i7-1...    59,490\n",
       "5  ASUS TUF Gaming F15 (2020), 15.6-inch (39.62 c...    71,990\n",
       "6  Life Digital Laptop 15.6-inch (39.62 cms) (Int...    34,990\n",
       "7  HP Pavilion 13(2021) 11th Gen Intel Core i7 La...    95,586\n",
       "8  ASUS TUF Dash F15 (2021), 15.6\" (39.62 cms) FH...  1,07,990\n",
       "9  HP Envy 11th Gen Core i7 Processor 13.3-inch (...  1,09,990"
      ]
     },
     "execution_count": 90,
     "metadata": {},
     "output_type": "execute_result"
    }
   ],
   "source": [
    "amazon=pd.DataFrame({'title':title_n[:10],\n",
    "                            'price':price_n[:10],\n",
    "                              })\n",
    "amazon"
   ]
  },
  {
   "cell_type": "code",
   "execution_count": null,
   "id": "9b96b416",
   "metadata": {},
   "outputs": [],
   "source": []
  }
 ],
 "metadata": {
  "kernelspec": {
   "display_name": "Python 3",
   "language": "python",
   "name": "python3"
  },
  "language_info": {
   "codemirror_mode": {
    "name": "ipython",
    "version": 3
   },
   "file_extension": ".py",
   "mimetype": "text/x-python",
   "name": "python",
   "nbconvert_exporter": "python",
   "pygments_lexer": "ipython3",
   "version": "3.8.8"
  }
 },
 "nbformat": 4,
 "nbformat_minor": 5
}
